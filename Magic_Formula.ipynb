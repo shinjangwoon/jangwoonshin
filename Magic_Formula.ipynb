{
  "nbformat": 4,
  "nbformat_minor": 0,
  "metadata": {
    "colab": {
      "name": "Magic_Formula.ipynb",
      "private_outputs": true,
      "provenance": [],
      "collapsed_sections": [],
      "authorship_tag": "ABX9TyOfJkl5WAg2q5A3M0CX7z2h",
      "include_colab_link": true
    },
    "kernelspec": {
      "name": "python3",
      "display_name": "Python 3"
    },
    "language_info": {
      "name": "python"
    },
    "accelerator": "GPU"
  },
  "cells": [
    {
      "cell_type": "markdown",
      "metadata": {
        "id": "view-in-github",
        "colab_type": "text"
      },
      "source": [
        "<a href=\"https://colab.research.google.com/github/shinjangwoon/jangwoonshin/blob/practice/Magic_Formula.ipynb\" target=\"_parent\"><img src=\"https://colab.research.google.com/assets/colab-badge.svg\" alt=\"Open In Colab\"/></a>"
      ]
    },
    {
      "cell_type": "code",
      "metadata": {
        "id": "eylnN4r7bQCi"
      },
      "source": [
        "from google.colab import drive\n",
        "drive.mount('/content/drive')"
      ],
      "execution_count": null,
      "outputs": []
    },
    {
      "cell_type": "code",
      "metadata": {
        "id": "N-mLj650bP-y"
      },
      "source": [
        "import pandas as pd\n",
        "\n",
        "csv_url = '/content/drive/MyDrive/Colab Notebooks/company.csv'\n",
        "\n",
        "company = pd.read_csv(csv_url)\n",
        "print(company.shape)\n",
        "company.head(10)"
      ],
      "execution_count": null,
      "outputs": []
    },
    {
      "cell_type": "code",
      "metadata": {
        "id": "Vnbl1Is2bP8N"
      },
      "source": [
        "type(company)"
      ],
      "execution_count": null,
      "outputs": []
    },
    {
      "cell_type": "code",
      "metadata": {
        "id": "MtWrcRj3bP5Z"
      },
      "source": [
        "type(company['종목코드'])"
      ],
      "execution_count": null,
      "outputs": []
    },
    {
      "cell_type": "code",
      "metadata": {
        "id": "rNeJ_5SbbP2w"
      },
      "source": [
        "company[['회사명', '종목코드']].head(10)"
      ],
      "execution_count": null,
      "outputs": []
    },
    {
      "cell_type": "code",
      "metadata": {
        "id": "HEHKaTzvbP0G"
      },
      "source": [
        "#company.loc[100:110]\n",
        "ids = [1, 5, 100, 2010]\n",
        "column_names = ['분류', '회사명', '종목코드']\n",
        "company.loc[ids][column_names]"
      ],
      "execution_count": null,
      "outputs": []
    },
    {
      "cell_type": "code",
      "metadata": {
        "id": "q3JiRuXubPxh"
      },
      "source": [
        "# refactoring\n",
        "company.loc[ids,column_names]"
      ],
      "execution_count": null,
      "outputs": []
    },
    {
      "cell_type": "code",
      "metadata": {
        "id": "vDhwxR_4YxcH"
      },
      "source": [
        "# true 값만 보이게 함\n",
        "kospi = company[company['분류'] == '코스피']\n",
        "kosdaq = company[company['분류'] == '코스닥']"
      ],
      "execution_count": null,
      "outputs": []
    },
    {
      "cell_type": "code",
      "metadata": {
        "id": "5Q--1t9vbPRX"
      },
      "source": [
        "ids = [1, 4, 7, 10]\n",
        "kospi.loc[ids, column_names]"
      ],
      "execution_count": null,
      "outputs": []
    },
    {
      "cell_type": "code",
      "metadata": {
        "id": "UPov73T5bPN_"
      },
      "source": [
        "company[company['회사명'] == '카카오'][column_names]"
      ],
      "execution_count": null,
      "outputs": []
    },
    {
      "cell_type": "code",
      "metadata": {
        "id": "aobbQ_DobPLQ"
      },
      "source": [
        "# 관심있는 회사 목록 list\n",
        "interested = ['한화', '삼성전자', '카카오']\n",
        "\n",
        "#list를 사용한 복수의 기업 DataFrame filtering(찾고자 하는 이름이 정확히 일치해야함)\n",
        "company[company['회사명'].isin(interested)]"
      ],
      "execution_count": null,
      "outputs": []
    },
    {
      "cell_type": "markdown",
      "metadata": {
        "id": "fqT1TM2GbPId"
      },
      "source": [
        "### Missing value == 결측치"
      ]
    },
    {
      "cell_type": "code",
      "metadata": {
        "id": "XaSMe6UubPF3"
      },
      "source": [
        "# 결측치 확인\n",
        "# NaN == Not a Number\n",
        "company[company['종목코드'].isnull()]"
      ],
      "execution_count": null,
      "outputs": []
    },
    {
      "cell_type": "code",
      "metadata": {
        "id": "FEdXQIjSbPDE"
      },
      "source": [
        "# notnull == null 값이 아닌 것들만 찾아줌\n",
        "company[company['종목코드'].notnull()]"
      ],
      "execution_count": null,
      "outputs": []
    },
    {
      "cell_type": "code",
      "metadata": {
        "id": "Oe6IQAnobPAf"
      },
      "source": [
        "# 결측치 값 삭제\n",
        "# NaN 값이였던 14번 항목이 날라간 것을 확인가능\n",
        "company['종목코드'].dropna()[:15]"
      ],
      "execution_count": null,
      "outputs": []
    },
    {
      "cell_type": "code",
      "metadata": {
        "id": "AGjEQ1z5bDIY"
      },
      "source": [
        "# 하나라도 NaN 값이면 날려버림\n",
        "#company.dropna(how='any')\n",
        "\n",
        "# 전부가 NaN 값이면 날려버림\n",
        "#company.dropna(how='all')\n",
        "\n",
        "#company.dropna(inplace=True)\n",
        "company = company.dropna()"
      ],
      "execution_count": null,
      "outputs": []
    },
    {
      "cell_type": "code",
      "metadata": {
        "id": "IZLnUCJbntGQ"
      },
      "source": [
        "#(REITs) Real Estate Investment Trust Corps.\n",
        "#(SPAC) Special Purpose Acquisition Corps."
      ],
      "execution_count": null,
      "outputs": []
    },
    {
      "cell_type": "code",
      "metadata": {
        "id": "P_YMo54hbDiJ"
      },
      "source": [
        "# 문자열 안에서 ' '이라는 문자가 들어있는 모든 것들을 찾아줌\n",
        "# NaN값을 없애고 실행해야 함\n",
        "#company[company['회사명'].str.contains('삼성')]\n",
        "\n",
        "\n",
        "\n",
        "# ~을 추가하면 반대로 문자가 들어있는 것을 제외하고 찾아줌\n",
        "#company[~company['회사명'].str.contains('삼성')]\n",
        "\n",
        "#company[company['회사명'].str.contains('스팩')]\n"
      ],
      "execution_count": null,
      "outputs": []
    },
    {
      "cell_type": "code",
      "metadata": {
        "id": "pVFP0ejCbEMA"
      },
      "source": [
        "# 여러 개의 단어를 없애고 싶을때  | == or\n",
        "company = company[~company['회사명'].str.contains('스팩|리츠')]\n"
      ],
      "execution_count": null,
      "outputs": []
    },
    {
      "cell_type": "code",
      "metadata": {
        "id": "eS61oL5vbEU3"
      },
      "source": [
        "company"
      ],
      "execution_count": null,
      "outputs": []
    },
    {
      "cell_type": "code",
      "metadata": {
        "id": "OKtxEbqZbEZG"
      },
      "source": [
        "'''\n",
        "업종 - 기타 금융업 \n",
        "코스닥에 상장\n",
        "2015-1-1 이후에 상장된 기업 정보만 필터링 - datetime 이나 pandas의 Timestamp 메소드 방법 사용\n",
        "read_csv의 parameter 중 parse_dates 사용 - pandas read csv parse dates\n",
        "to_datetime 함수 사용 - pandas to datetime\n",
        "\n",
        "timestamp 사용\n",
        "'''"
      ],
      "execution_count": null,
      "outputs": []
    },
    {
      "cell_type": "markdown",
      "metadata": {
        "id": "qq6eN4Px0SkQ"
      },
      "source": [
        "### 첫번째 방법"
      ]
    },
    {
      "cell_type": "code",
      "metadata": {
        "id": "i5QBUtQSzBJI"
      },
      "source": [
        "company = pd.read_csv(csv_url, parse_dates=['상장일'])\n",
        "company['상장일']"
      ],
      "execution_count": null,
      "outputs": []
    },
    {
      "cell_type": "code",
      "metadata": {
        "id": "AWCV7ZeUsL9R"
      },
      "source": [
        "financial_corps = company[company['업종'] == '기타 금융업']\n",
        "financial_corps_kosdaq = financial_corps[financial_corps['분류'] == '코스닥']\n"
      ],
      "execution_count": null,
      "outputs": []
    },
    {
      "cell_type": "code",
      "metadata": {
        "id": "z3eV7RlMsL6h"
      },
      "source": [
        "# python -> string\n",
        "# pandas -> object\n",
        "financial_corps_kosdaq[financial_corps_kosdaq['상장일']  > pd.Timestamp(2015, 1, 1)]"
      ],
      "execution_count": null,
      "outputs": []
    },
    {
      "cell_type": "markdown",
      "metadata": {
        "id": "HVHVfLK41DOl"
      },
      "source": [
        "# Magic Formula(마법 공식)"
      ]
    },
    {
      "cell_type": "markdown",
      "metadata": {
        "id": "64pK9jbl1DLq"
      },
      "source": [
        "## Basic setting"
      ]
    },
    {
      "cell_type": "code",
      "metadata": {
        "id": "qptWD-Jr1DJC"
      },
      "source": [
        "import pandas as pd\n",
        "from tqdm import tqdm\n",
        "from bs4 import BeautifulSoup\n",
        "#import urllib.request\n",
        "from urllib import request as rq"
      ],
      "execution_count": null,
      "outputs": []
    },
    {
      "cell_type": "code",
      "metadata": {
        "id": "hi_wvrbC8Gru"
      },
      "source": [
        "FS_URL = 'https://comp.fnguide.com/SVO2/ASP/SVD_Finance.asp?pGB=1&gicode=A%s&cID=&MenuYn=Y&ReportGB=&NewMenuID=103&stkGb=701'\n",
        "INDEX_URL = 'https://comp.fnguide.com/SVO2/ASP/SVD_Invest.asp?pGB=1&gicode=A%s&cID=&MenuYn=Y&ReportGB=&NewMenuID=105&stkGb=701'\n",
        "\n",
        "sample_code = '005930'"
      ],
      "execution_count": null,
      "outputs": []
    },
    {
      "cell_type": "markdown",
      "metadata": {
        "id": "cGKUQdOu8GnU"
      },
      "source": [
        "## Get EV/EBITDA\n",
        "### Earnings before Interest, Tax, Depreciation, Amortization"
      ]
    },
    {
      "cell_type": "code",
      "metadata": {
        "id": "LfGdDlbc8Gj8"
      },
      "source": [
        "index_html = rq.urlopen(INDEX_URL%sample_code).read()\n",
        "\n",
        "index_soup = BeautifulSoup(index_html, 'html.parser')\n"
      ],
      "execution_count": null,
      "outputs": []
    },
    {
      "cell_type": "code",
      "metadata": {
        "id": "7uv4LqcH8GhX"
      },
      "source": [
        "ev_cells = index_soup.find('tr', {'id':'p_grid1_14'}).find_all('td')\n",
        "ev = float(ev_cells[3].string.replace(',',''))"
      ],
      "execution_count": null,
      "outputs": []
    },
    {
      "cell_type": "markdown",
      "metadata": {
        "id": "XPuf_GOJ8Ge4"
      },
      "source": [
        "##Get Gross Profit"
      ]
    },
    {
      "cell_type": "code",
      "metadata": {
        "id": "5QJuW7fY8GcC"
      },
      "source": [
        "fs_html = rq.urlopen(FS_URL%sample_code).read()\n",
        "fs_soup = BeautifulSoup(fs_html, 'html.parser')"
      ],
      "execution_count": null,
      "outputs": []
    },
    {
      "cell_type": "code",
      "metadata": {
        "id": "PCzr-xwz8GZ8"
      },
      "source": [
        "gp_cells = fs_soup.find('div', {'id':'divSonikY'}).find_all('tr', {'class': \"rwf\"})\n",
        "gross_profit = float(gp_cells[2].find_all('td')[2].string.replace(',',''))\n",
        "gross_profit"
      ],
      "execution_count": null,
      "outputs": []
    },
    {
      "cell_type": "markdown",
      "metadata": {
        "id": "V3qhB3UjC4hS"
      },
      "source": [
        "##Get Asset"
      ]
    },
    {
      "cell_type": "code",
      "metadata": {
        "id": "H6lG2hGXC4d1"
      },
      "source": [
        "asset_cells = fs_soup.find('div', {'id' : 'divDaechaY'}).find_all('tr', {'class': \"rwf\"} )\n",
        "asset = float(asset_cells[0].find_all('td')[2].string.replace(',',''))"
      ],
      "execution_count": null,
      "outputs": []
    },
    {
      "cell_type": "markdown",
      "metadata": {
        "id": "gh_BQDugC4a8"
      },
      "source": [
        "##Get All Stock code"
      ]
    },
    {
      "cell_type": "code",
      "metadata": {
        "id": "1cw6glnHC4YW"
      },
      "source": [
        "csv_url = '/content/drive/MyDrive/Colab Notebooks/company.csv'\n",
        "\n",
        "company = pd.read_csv(csv_url)\n",
        "code_list = company['종목코드']\n",
        "sample_code_list = code_list[1000:1050]\n",
        "sample_code_list\n"
      ],
      "execution_count": null,
      "outputs": []
    },
    {
      "cell_type": "markdown",
      "metadata": {
        "id": "MTIb9jQXC4Vu"
      },
      "source": [
        "## Create Crawling Function"
      ]
    },
    {
      "cell_type": "code",
      "metadata": {
        "id": "F3b8_iPiC4S2"
      },
      "source": [
        "def crawler(li):\n",
        "    FS_URL = 'https://comp.fnguide.com/SVO2/ASP/SVD_Finance.asp?pGB=1&gicode=A%s&cID=&MenuYn=Y&ReportGB=&NewMenuID=103&stkGb=701'\n",
        "    INDEX_URL = 'https://comp.fnguide.com/SVO2/ASP/SVD_Invest.asp?pGB=1&gicode=A%s&cID=&MenuYn=Y&ReportGB=&NewMenuID=105&stkGb=701'\n",
        "\n",
        "    result = {}\n",
        "\n",
        "    for code in tqdm(li):\n",
        "        try:\n",
        "            # get company name \n",
        "            name = company[company['종목코드'] == code]['회사명'].values[0]\n",
        "\n",
        "            # get EV/EBITDA\n",
        "            index_html = rq.urlopen(INDEX_URL%code).read()\n",
        "\n",
        "            index_soup = BeautifulSoup(index_html, 'html.parser')\n",
        "            ev_cells = index_soup.find('tr', {'id':'p_grid1_14'}).find_all('td')\n",
        "            ev = float(ev_cells[3].string.replace(',',''))\n",
        "            fs_html = rq.urlopen(FS_URL%sample_code).read()\n",
        "            fs_soup = BeautifulSoup(fs_html, 'html.parser')\n",
        "\n",
        "            # get Gross profit\n",
        "            fs_html = rq.urlopen(FS_URL%code).read()\n",
        "            fs_soup = BeautifulSoup(fs_html, 'html.parser')\n",
        "            gp_cells = fs_soup.find('div', {'id':'divSonikY'}).find_all('tr', {'class': \"rwf\"})\n",
        "            gross_profit = float(gp_cells[2].find_all('td')[2].string.replace(',',''))\n",
        "\n",
        "            # get Asset\n",
        "            asset_cells = fs_soup.find('div', {'id' : 'divDaechaY'}).find_all('tr', {'class': \"rwf\"} )\n",
        "            asset = float(asset_cells[0].find_all('td')[2].string.replace(',',''))\n",
        "\n",
        "            # Insert into result dict\n",
        "            result[name] = [code, ev, gross_profit, asset]\n",
        "\n",
        "        except(TypeError, AttributeError, IndexError, ValueError) :\n",
        "            pass\n",
        "\n",
        "    # convert dict into DataFrame\n",
        "    result_df = pd.DataFrame(result)\n",
        "\n",
        "    # transposing DataFrame\n",
        "    result_df = result_df.transpose()\n",
        "\n",
        "    # set Column name\n",
        "    result_df.columns = ['Code', 'EV_EBITDA', 'Gross_profit', 'Asset']\n",
        "\n",
        "    return result_df"
      ],
      "execution_count": null,
      "outputs": []
    },
    {
      "cell_type": "code",
      "metadata": {
        "id": "4IkBXiK9IKO3"
      },
      "source": [
        "result_df = crawler(sample_code_list)\n",
        "tmp_df = result_df.copy()\n",
        "tmp_df.head(10)"
      ],
      "execution_count": null,
      "outputs": []
    },
    {
      "cell_type": "code",
      "metadata": {
        "id": "-rfQNmhQIKI2"
      },
      "source": [
        "tmp_df['GP_A'] = tmp_df['Gross_profit'] / tmp_df['Asset']\n",
        "tmp_df"
      ],
      "execution_count": null,
      "outputs": []
    },
    {
      "cell_type": "markdown",
      "metadata": {
        "id": "5UESFX_iIKGi"
      },
      "source": [
        "## Granding Scores\n",
        "### 1.EV/EBITDA Score"
      ]
    },
    {
      "cell_type": "code",
      "metadata": {
        "id": "BYX8ypUP1DGr"
      },
      "source": [
        "top_range =  int(len(tmp_df) * 0.3)\n",
        "\n",
        "\n",
        "middle_range =  int(len(tmp_df) * 0.7)\n",
        "print(middle_range, top_range)"
      ],
      "execution_count": null,
      "outputs": []
    },
    {
      "cell_type": "code",
      "metadata": {
        "id": "fKv7PwfKMlsd"
      },
      "source": [
        "# 상위 30% 값인 데이터에서 코드를 뽑아 원본 데이터에 매칭을 시켜 있으면 True 아니면 False\n",
        "tmp_df['Code'].isin(tmp_df.sort_values(by='EV_EBITDA')[:top_range]['Code'])"
      ],
      "execution_count": null,
      "outputs": []
    },
    {
      "cell_type": "code",
      "metadata": {
        "id": "a0sb1yhx1DEQ"
      },
      "source": [
        "\n",
        "tmp_df.loc[tmp_df['Code'].isin(tmp_df.sort_values(by='EV_EBITDA')[:top_range]['Code']),'EV_EBITDA_Score'] = 3\n",
        "\n",
        "tmp_df.loc[tmp_df['Code'].isin(tmp_df.sort_values(by='EV_EBITDA')[top_range:middle_range]['Code']),'EV_EBITDA_Score'] = 2\n",
        "\n",
        "tmp_df.loc[tmp_df['Code'].isin(tmp_df.sort_values(by='EV_EBITDA')[middle_range:]['Code']),'EV_EBITDA_Score'] = 1\n"
      ],
      "execution_count": null,
      "outputs": []
    },
    {
      "cell_type": "code",
      "metadata": {
        "id": "8bz00DS1Mlpd"
      },
      "source": [
        "tmp_df"
      ],
      "execution_count": null,
      "outputs": []
    },
    {
      "cell_type": "markdown",
      "metadata": {
        "id": "_9Dz2JsIMlm1"
      },
      "source": [
        "### 2. GP/A Score"
      ]
    },
    {
      "cell_type": "code",
      "metadata": {
        "id": "B4PBwEIkMlkF"
      },
      "source": [
        "# ascending=False == 내림차순\n",
        "tmp_df.loc[ tmp_df['Code'].isin(tmp_df.sort_values(by='GP_A', ascending=False)[:top_range]['Code']) ,'GP_A_Score'] = 3\n",
        "\n",
        "tmp_df.loc[ tmp_df['Code'].isin(tmp_df.sort_values(by='GP_A', ascending=False)[top_range:middle_range]['Code']) ,'GP_A_Score'] = 2\n",
        "\n",
        "tmp_df.loc[ tmp_df['Code'].isin(tmp_df.sort_values(by='GP_A', ascending=False)[middle_range:]['Code']) ,'GP_A_Score'] = 1\n",
        "\n"
      ],
      "execution_count": null,
      "outputs": []
    },
    {
      "cell_type": "code",
      "metadata": {
        "id": "CP0actaiMlhe"
      },
      "source": [
        "tmp_df"
      ],
      "execution_count": null,
      "outputs": []
    },
    {
      "cell_type": "markdown",
      "metadata": {
        "id": "-71jr36zMlel"
      },
      "source": [
        "### Total Score"
      ]
    },
    {
      "cell_type": "code",
      "metadata": {
        "id": "x7CKekOos5Bf"
      },
      "source": [
        "tmp_df['Total_Score'] = tmp_df['EV_EBITDA_Score'] + tmp_df['GP_A_Score']\n",
        "#tmp_df"
      ],
      "execution_count": null,
      "outputs": []
    },
    {
      "cell_type": "code",
      "metadata": {
        "id": "drIhuYj7s40H"
      },
      "source": [
        "# Total_Score가 6인 것들만 뽑아 다른 dataframe에 넣기\n",
        "max_point_df = tmp_df[tmp_df['Total_Score'] == 6.0]\n",
        "max_point_df"
      ],
      "execution_count": null,
      "outputs": []
    },
    {
      "cell_type": "code",
      "metadata": {
        "id": "rzwjy7Kzs4w8"
      },
      "source": [
        "max_point_df.sort_values(by='GP_A', ascending=False)"
      ],
      "execution_count": null,
      "outputs": []
    },
    {
      "cell_type": "code",
      "metadata": {
        "id": "jUGpl2fKs4uU"
      },
      "source": [
        ""
      ],
      "execution_count": null,
      "outputs": []
    },
    {
      "cell_type": "code",
      "metadata": {
        "id": "_sdGYb7Ls4rb"
      },
      "source": [
        ""
      ],
      "execution_count": null,
      "outputs": []
    }
  ]
}