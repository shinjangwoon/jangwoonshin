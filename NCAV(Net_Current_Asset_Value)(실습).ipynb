{
  "nbformat": 4,
  "nbformat_minor": 0,
  "metadata": {
    "colab": {
      "name": "NCAV(Net Current Asset Value)(실습).ipynb",
      "private_outputs": true,
      "provenance": [],
      "collapsed_sections": [],
      "authorship_tag": "ABX9TyOnfA2jJnDj3cuI8AVXbAbo",
      "include_colab_link": true
    },
    "kernelspec": {
      "name": "python3",
      "display_name": "Python 3"
    },
    "language_info": {
      "name": "python"
    },
    "accelerator": "GPU"
  },
  "cells": [
    {
      "cell_type": "markdown",
      "metadata": {
        "id": "view-in-github",
        "colab_type": "text"
      },
      "source": [
        "<a href=\"https://colab.research.google.com/github/shinjangwoon/jangwoonshin/blob/practice/NCAV(Net_Current_Asset_Value)(%EC%8B%A4%EC%8A%B5).ipynb\" target=\"_parent\"><img src=\"https://colab.research.google.com/assets/colab-badge.svg\" alt=\"Open In Colab\"/></a>"
      ]
    },
    {
      "cell_type": "markdown",
      "metadata": {
        "id": "aipsHLT2AlS2"
      },
      "source": [
        "# Small Cap + Low-PBR"
      ]
    },
    {
      "cell_type": "markdown",
      "metadata": {
        "id": "b4F5j_7ZkzI9"
      },
      "source": [
        "|레벨|스타일|기대CAGR|종목개수|매수전략|\n",
        "|:--:|:--:|:--:|:--:|:--:|\n",
        "|초,중급|밸류|20% 이상|20 ~ 30개|- 소형주(시가총액 하위 20%) <br/><br/> - PBR 하위 부터<br/>(PBR > 0.2)"
      ]
    },
    {
      "cell_type": "markdown",
      "metadata": {
        "id": "GCWoyy8IERSt"
      },
      "source": [
        "## Load Dataset"
      ]
    },
    {
      "cell_type": "code",
      "metadata": {
        "id": "WrGUwmXO_Ooz"
      },
      "source": [
        "from google.colab import drive\n",
        "drive.mount('/content/drive')\n"
      ],
      "execution_count": null,
      "outputs": []
    },
    {
      "cell_type": "code",
      "metadata": {
        "id": "AzFaSFukAU-v"
      },
      "source": [
        "import pandas as pd\n",
        "from tqdm import tqdm\n",
        "from bs4 import BeautifulSoup\n",
        "from urllib import request as rq"
      ],
      "execution_count": null,
      "outputs": []
    },
    {
      "cell_type": "markdown",
      "metadata": {
        "id": "Dohrq9TXEV6v"
      },
      "source": [
        "## Get All Stock code"
      ]
    },
    {
      "cell_type": "code",
      "metadata": {
        "id": "fIT3Y0-Klp41"
      },
      "source": [
        "csv_url = '/content/drive/MyDrive/Colab Notebooks/company.csv'\n",
        "\n",
        "company = pd.read_csv(csv_url)"
      ],
      "execution_count": null,
      "outputs": []
    },
    {
      "cell_type": "code",
      "metadata": {
        "id": "0axpPy1LltPg"
      },
      "source": [
        "code_list = company['종목코드']\n",
        "code_list.head(10)"
      ],
      "execution_count": null,
      "outputs": []
    },
    {
      "cell_type": "code",
      "metadata": {
        "id": "nhV8-Hq0l-Es"
      },
      "source": [
        "kospi_code = company[company['분류'] == '코스피']['종목코드']\n",
        "kosdaq_code = company[company['분류'] == '코스닥']['종목코드']"
      ],
      "execution_count": null,
      "outputs": []
    },
    {
      "cell_type": "markdown",
      "metadata": {
        "id": "8eRoP8sKEgx5"
      },
      "source": [
        "##Get Market Value"
      ]
    },
    {
      "cell_type": "code",
      "metadata": {
        "id": "c4bQDYL3D662"
      },
      "source": [
        "SNAP_URL = 'https://comp.fnguide.com/SVO2/ASP/SVD_Main.asp?pGB=1&gicode=A%s&cID=&MenuYn=Y&ReportGB=&NewMenuID=101&stkGb=701'\n",
        "sample_code = '035720'"
      ],
      "execution_count": null,
      "outputs": []
    },
    {
      "cell_type": "code",
      "metadata": {
        "id": "PMkXBWEPD62b"
      },
      "source": [
        "snap = rq.urlopen(SNAP_URL%sample_code).read()\n",
        "snap_soup = BeautifulSoup(snap, 'html.parser')"
      ],
      "execution_count": null,
      "outputs": []
    },
    {
      "cell_type": "code",
      "metadata": {
        "id": "T3JufuknD60E"
      },
      "source": [
        "mv_cells = snap_soup.find('div', {'id':'svdMainGrid1'}).find_all('td', {'class':'r'})\n",
        "\n",
        "mv = float(mv_cells[8].string.replace(',',''))\n",
        "mv"
      ],
      "execution_count": null,
      "outputs": []
    },
    {
      "cell_type": "markdown",
      "metadata": {
        "id": "Oi1Q3ts5ElEy"
      },
      "source": [
        "##Get PBR"
      ]
    },
    {
      "cell_type": "code",
      "metadata": {
        "id": "uG1NPtK8D6xt"
      },
      "source": [
        "pbr_cells = snap_soup.find('div',{'id':'corp_group2'}).find_all('dd')\n",
        "\n",
        "float(pbr_cells[7].string.replace(',',''))"
      ],
      "execution_count": null,
      "outputs": []
    },
    {
      "cell_type": "markdown",
      "metadata": {
        "id": "POvCtHHsEoVB"
      },
      "source": [
        "##Create Index DataFrame"
      ]
    },
    {
      "cell_type": "code",
      "metadata": {
        "id": "_bJsN0CeD6vW"
      },
      "source": [
        "def filteringDf(li):\n",
        "    filtering = {}\n",
        "\n",
        "    for i in tqdm(li):\n",
        "        try:\n",
        "            SNAP_URL = 'https://comp.fnguide.com/SVO2/ASP/SVD_Main.asp?pGB=1&gicode=A%s&cID=&MenuYn=Y&ReportGB=&NewMenuID=101&stkGb=701' % i\n",
        "\n",
        "            snap = rq.urlopen(SNAP_URL).read()\n",
        "            snap_soup = BeautifulSoup(snap, 'html.parser')\n",
        "\n",
        "\n",
        "            # get market value\n",
        "            mv_cells = snap_soup.find('div',{'id':'svdMainGrid1'}).find_all('td',{'class':'r'})\n",
        "            mv = float(mv_cells[8].string.replace(',','')) \n",
        "\n",
        "            # get pbr\n",
        "            pbr_cells = snap_soup.find('div',{'id':'corp_group2'}).find_all('dd')\n",
        "\n",
        "            pbr = float(pbr_cells[7].string.replace(',','')) \n",
        "\n",
        "            # get company name\n",
        "            name = company[company['종목코드'] == i]['회사명'].values[0]\n",
        "\n",
        "            filtering[name] = [i, mv, pbr]\n",
        "\n",
        "        except (TypeError, AttributeError, IndexError, ValueError) as err : \n",
        "            pass\n",
        "        \n",
        "    # create DataFrame\n",
        "    column_name = ['id', 'Market_Value', 'PBR']\n",
        "    filtering = pd.DataFrame(filtering)\n",
        "    filtering = filtering.transpose()\n",
        "    filtering.columns = column_name\n",
        "\n",
        "    return filtering\n"
      ],
      "execution_count": null,
      "outputs": []
    },
    {
      "cell_type": "code",
      "metadata": {
        "id": "kyIWxjasAVHj"
      },
      "source": [
        "# takes a long time\n",
        "\n",
        "filtering = filteringDf(code_list[1000:1030])\n",
        "filtering.head(20)"
      ],
      "execution_count": null,
      "outputs": []
    },
    {
      "cell_type": "code",
      "metadata": {
        "id": "xLxhp0cNAVMK"
      },
      "source": [
        "# multiprocessing for parallel processing\n",
        "\n",
        "from multiprocessing import Pool\n",
        "import numpy as np\n",
        "\n",
        "num_partitions = 12\n",
        "num_cores = 4\n",
        "\n",
        "splitted_code_list = np.array_split(code_list, num_partitions)\n",
        "pool = Pool(num_cores)\n",
        "\n",
        "filtering = pd.concat(pool.map(filteringDf, splitted_code_list))\n",
        "pool.close()\n",
        "pool.join()\n",
        "\n",
        "filtering.head(20)"
      ],
      "execution_count": null,
      "outputs": []
    },
    {
      "cell_type": "markdown",
      "metadata": {
        "id": "98LoAjm3AVOI"
      },
      "source": [
        "##Searching Stocks"
      ]
    },
    {
      "cell_type": "code",
      "metadata": {
        "id": "CE2W3-s0AVh5"
      },
      "source": [
        "# PBR > 0.2 \n",
        "filtering = filtering[filtering['PBR'] > 0.2]\n",
        "filtering.head()"
      ],
      "execution_count": null,
      "outputs": []
    },
    {
      "cell_type": "code",
      "metadata": {
        "id": "_flutHmjAVj8"
      },
      "source": [
        "filtering = filtering.sort_values(by='Market_Value')\n",
        "filtering.head(20)"
      ],
      "execution_count": null,
      "outputs": []
    },
    {
      "cell_type": "code",
      "metadata": {
        "id": "3nbmC-msHn--"
      },
      "source": [
        "copy_df = filtering.copy()\n",
        "copy_df.head()"
      ],
      "execution_count": null,
      "outputs": []
    },
    {
      "cell_type": "code",
      "metadata": {
        "id": "H7C2Vb_6Hu7A"
      },
      "source": [
        "# eliminate SPAC\n",
        "copy_df = copy_df[~copy_df.index.str.contains('스팩|SPAC')]\n",
        "print(copy_df.shape)\n",
        "copy_df.head(20)"
      ],
      "execution_count": null,
      "outputs": []
    },
    {
      "cell_type": "code",
      "metadata": {
        "id": "WfSBeTJ2IUHs"
      },
      "source": [
        "# 20% small cap\n",
        "num_quantile  = int(len(copy_df) * 0.2)\n",
        "\n",
        "copy_df = copy_df[:num_quantile + 1]\n",
        "copy_df.head(20)"
      ],
      "execution_count": null,
      "outputs": []
    },
    {
      "cell_type": "code",
      "metadata": {
        "id": "l5P8h-cwIUES"
      },
      "source": [
        "# Low PBR\n",
        "copy_df = copy_df.sort_values(by='PBR')\n",
        "copy_df = copy_df.head(30)\n",
        "copy_df"
      ],
      "execution_count": null,
      "outputs": []
    },
    {
      "cell_type": "code",
      "metadata": {
        "id": "AgPLocYcIUBd"
      },
      "source": [
        ""
      ],
      "execution_count": null,
      "outputs": []
    },
    {
      "cell_type": "code",
      "metadata": {
        "id": "fXO9zhoZIT-r"
      },
      "source": [
        ""
      ],
      "execution_count": null,
      "outputs": []
    }
  ]
}