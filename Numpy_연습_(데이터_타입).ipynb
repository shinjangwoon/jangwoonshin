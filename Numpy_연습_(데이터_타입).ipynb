{
  "nbformat": 4,
  "nbformat_minor": 0,
  "metadata": {
    "colab": {
      "name": "Numpy 연습 (데이터 타입).ipynb",
      "private_outputs": true,
      "provenance": [],
      "collapsed_sections": [],
      "authorship_tag": "ABX9TyMLeqLNB8sbscZRatl/wvvf",
      "include_colab_link": true
    },
    "kernelspec": {
      "name": "python3",
      "display_name": "Python 3"
    },
    "language_info": {
      "name": "python"
    }
  },
  "cells": [
    {
      "cell_type": "markdown",
      "metadata": {
        "id": "view-in-github",
        "colab_type": "text"
      },
      "source": [
        "<a href=\"https://colab.research.google.com/github/shinjangwoon/jangwoonshin/blob/practice/Numpy_%EC%97%B0%EC%8A%B5_(%EB%8D%B0%EC%9D%B4%ED%84%B0_%ED%83%80%EC%9E%85).ipynb\" target=\"_parent\"><img src=\"https://colab.research.google.com/assets/colab-badge.svg\" alt=\"Open In Colab\"/></a>"
      ]
    },
    {
      "cell_type": "code",
      "metadata": {
        "id": "AYd8vljjgeul"
      },
      "source": [
        "import numpy as np\n",
        "# dtype 인자 지정을 통한 데이터 타입 변경 \n",
        "data = [1, 2, 3]\n",
        "cpx_arr = np.array(data, dtype=np.complex)\n",
        "str_arr = np.array(data, dtype=np.str)\n",
        "print(cpx_arr)\n",
        "print(str_arr)\n",
        "# 샘플 데이터 생성\n",
        "origin = np.arange(1, 2, 0.2)\n",
        "print('\\nOriginal data')\n",
        "print(origin)\n",
        "print('dtype : ', origin.dtype)\n",
        "# astype(dtype) 을 활용한 데이터 타입 변경\n",
        "result = origin.astype(int)\n",
        "print('\\nResult of astype(int)')\n",
        "print(result)\n",
        "\n",
        "print('\\nOriginal data')\n",
        "print(origin)"
      ],
      "execution_count": null,
      "outputs": []
    }
  ]
}