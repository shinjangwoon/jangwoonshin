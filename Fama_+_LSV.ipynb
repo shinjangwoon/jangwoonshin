{
  "nbformat": 4,
  "nbformat_minor": 0,
  "metadata": {
    "colab": {
      "name": "Fama + LSV.ipynb",
      "private_outputs": true,
      "provenance": [],
      "collapsed_sections": [],
      "authorship_tag": "ABX9TyN09EqDo5g3UsDGGXqCTtKf",
      "include_colab_link": true
    },
    "kernelspec": {
      "name": "python3",
      "display_name": "Python 3"
    },
    "language_info": {
      "name": "python"
    },
    "accelerator": "GPU"
  },
  "cells": [
    {
      "cell_type": "markdown",
      "metadata": {
        "id": "view-in-github",
        "colab_type": "text"
      },
      "source": [
        "<a href=\"https://colab.research.google.com/github/shinjangwoon/jangwoonshin/blob/practice/Fama_%2B_LSV.ipynb\" target=\"_parent\"><img src=\"https://colab.research.google.com/assets/colab-badge.svg\" alt=\"Open In Colab\"/></a>"
      ]
    },
    {
      "cell_type": "markdown",
      "metadata": {
        "id": "5H_RVQ1nG8sa"
      },
      "source": [
        "# Basic Setting"
      ]
    },
    {
      "cell_type": "code",
      "metadata": {
        "id": "aUyfyfNlzewI"
      },
      "source": [
        "'''\n",
        "종목개수 50개 \n",
        "기대 CAGR 25%이상\n",
        "\n",
        "소형주 500개\n",
        "PER/PBR/PCR 순위 매김\n",
        "통합 순위 작성\n",
        "'''"
      ],
      "execution_count": null,
      "outputs": []
    },
    {
      "cell_type": "code",
      "metadata": {
        "id": "8ezQsdJT0iZg"
      },
      "source": [
        "from google.colab import drive\n",
        "drive.mount('/content/drive')"
      ],
      "execution_count": null,
      "outputs": []
    },
    {
      "cell_type": "code",
      "metadata": {
        "id": "2O4f3-MB0iW5"
      },
      "source": [
        "import pandas as pd\n",
        "\n",
        "csv_url = '/content/drive/MyDrive/Colab Notebooks/company.csv'\n",
        "\n",
        "company = pd.read_csv(csv_url)\n",
        "print(company.shape)\n",
        "company.head(10)"
      ],
      "execution_count": null,
      "outputs": []
    },
    {
      "cell_type": "code",
      "metadata": {
        "id": "kG-oq5th0iUX"
      },
      "source": [
        "\n",
        "from tqdm import tqdm\n",
        "from bs4 import BeautifulSoup\n",
        "from lxml import html\n",
        "from urllib import request as rq\n",
        "import requests"
      ],
      "execution_count": null,
      "outputs": []
    },
    {
      "cell_type": "code",
      "metadata": {
        "id": "OPQlM5Cz0iSB"
      },
      "source": [
        "LS_URL = 'https://comp.fnguide.com/SVO2/ASP/SVD_Invest.asp?pGB=1&gicode=A%s&cID=&MenuYn=Y&ReportGB=&NewMenuID=105&stkGb=701'\n",
        "SNAP_URL = 'https://comp.fnguide.com/SVO2/ASP/SVD_Main.asp?pGB=1&gicode=A%s&cID=&MenuYn=Y&ReportGB=&NewMenuID=101&stkGb=701'\n"
      ],
      "execution_count": null,
      "outputs": []
    },
    {
      "cell_type": "code",
      "metadata": {
        "id": "dzjL9PLU1uXw"
      },
      "source": [
        "sample_code = '005930'"
      ],
      "execution_count": null,
      "outputs": []
    },
    {
      "cell_type": "code",
      "metadata": {
        "id": "jc8byylHLI2b"
      },
      "source": [
        "snap_url = rq.urlopen(SNAP_URL%sample_code).read()\n",
        "snap_soup = BeautifulSoup(snap_url, 'html.parser')\n"
      ],
      "execution_count": null,
      "outputs": []
    },
    {
      "cell_type": "code",
      "metadata": {
        "id": "6NFkvA_GK8fF"
      },
      "source": [
        "mv_cells= snap_soup.find('div', {'id':'svdMainGrid1'}).find_all('td', {'class': \"r\"})\n",
        "mv = float(mv_cells[-4].string.replace(',',''))\n",
        "mv"
      ],
      "execution_count": null,
      "outputs": []
    },
    {
      "cell_type": "markdown",
      "metadata": {
        "id": "JQGSeUmFHZAm"
      },
      "source": [
        "#Get PCR"
      ]
    },
    {
      "cell_type": "code",
      "metadata": {
        "id": "dmm7t07o0iIV"
      },
      "source": [
        "ls_html = rq.urlopen(LS_URL%sample_code).read()\n",
        "ls_soup = BeautifulSoup(ls_html, 'html.parser')\n"
      ],
      "execution_count": null,
      "outputs": []
    },
    {
      "cell_type": "code",
      "metadata": {
        "id": "QZlYkvQ44azc"
      },
      "source": [
        "pcr_ls= ls_soup.find('tr', {'id':'p_grid1_10'}).find_all('td', {'class': \"r\"})\n",
        "pcr = float(pcr_ls[3].string.replace(',',''))\n",
        "pcr"
      ],
      "execution_count": null,
      "outputs": []
    },
    {
      "cell_type": "markdown",
      "metadata": {
        "id": "yKJLn53bJGLo"
      },
      "source": [
        "#Get PER"
      ]
    },
    {
      "cell_type": "code",
      "metadata": {
        "id": "ettSdWbn6U4b"
      },
      "source": [
        "per_ls = ls_soup.find('tr', {'id':'p_grid1_9'}).find_all('td', {'class': \"r\"})\n",
        "per = float(per_ls[3].string.replace(',',''))\n",
        "per"
      ],
      "execution_count": null,
      "outputs": []
    },
    {
      "cell_type": "markdown",
      "metadata": {
        "id": "hfoXvMFRJI9f"
      },
      "source": [
        "# Get PBR"
      ]
    },
    {
      "cell_type": "code",
      "metadata": {
        "id": "4XN7o9kU6U2T"
      },
      "source": [
        "pbr_ls = ls_soup.find('tr', {'id':'p_grid1_12'}).find_all('td', {'class': \"r\"})\n",
        "pbr = float(pbr_ls[3].string.replace(',',''))\n",
        "pbr"
      ],
      "execution_count": null,
      "outputs": []
    },
    {
      "cell_type": "code",
      "metadata": {
        "id": "2hZALQvO4avO"
      },
      "source": [
        "code_list = company['종목코드']\n",
        "sample_code_list = code_list[1000:1050]\n",
        "sample_code_list\n"
      ],
      "execution_count": null,
      "outputs": []
    },
    {
      "cell_type": "markdown",
      "metadata": {
        "id": "Z-XLo_yfKMBM"
      },
      "source": [
        "#Create Crawling Fucntion"
      ]
    },
    {
      "cell_type": "code",
      "metadata": {
        "id": "8giz8k3J4atV"
      },
      "source": [
        "def crawler(li):\n",
        "    LS_URL = 'https://comp.fnguide.com/SVO2/ASP/SVD_Invest.asp?pGB=1&gicode=A%s&cID=&MenuYn=Y&ReportGB=&NewMenuID=105&stkGb=701'\n",
        "    SNAP_URL = 'https://comp.fnguide.com/SVO2/ASP/SVD_Main.asp?pGB=1&gicode=A%s&cID=&MenuYn=Y&ReportGB=&NewMenuID=101&stkGb=701'\n",
        "\n",
        "    result = {}\n",
        "\n",
        "    for code in tqdm(li):\n",
        "        try:\n",
        "            # get company name \n",
        "            name = company[company['종목코드'] == code]['회사명'].values[0]\n",
        "            ls_html = rq.urlopen(LS_URL%code).read()\n",
        "            ls_soup = BeautifulSoup(ls_html, 'html.parser')\n",
        "            snap_url = rq.urlopen(SNAP_URL%sample_code).read()\n",
        "            snap_soup = BeautifulSoup(snap_url, 'html.parser')\n",
        "\n",
        "            # get Market_Value\n",
        "            mv_cells= snap_soup.find('div', {'id':'svdMainGrid1'}).find_all('td', {'class': \"r\"})\n",
        "            mv = float(mv_cells[-4].string.replace(',',''))\n",
        "            \n",
        "            #get PER\n",
        "            per_ls = ls_soup.find('tr', {'id':'p_grid1_9'}).find_all('td', {'class': \"r\"})\n",
        "            per = float(per_ls[3].string.replace(',',''))\n",
        "\n",
        "            #get PBR\n",
        "            pbr_ls = ls_soup.find('tr', {'id':'p_grid1_12'}).find_all('td', {'class': \"r\"})\n",
        "            pbr = float(pbr_ls[3].string.replace(',',''))\n",
        "\n",
        "            #get PCR\n",
        "            pcr_ls = ls_soup.find('tr', {'id':'p_grid1_10'}).find_all('td', {'class': \"r\"})\n",
        "            pcr = float(pcr_ls[3].string.replace(',',''))\n",
        "            \n",
        "            \n",
        "            # Insert into result dict\n",
        "            result[name] = [code, mv, per, pbr, pcr]\n",
        "\n",
        "        except(TypeError, AttributeError, IndexError, ValueError) :\n",
        "            pass\n",
        "\n",
        "    # convert dict into DataFrame\n",
        "    result_df = pd.DataFrame(result)\n",
        "\n",
        "    # transposing DataFrame\n",
        "    result_df = result_df.transpose()\n",
        "\n",
        "    # set Column name\n",
        "    result_df.columns = ['Code','Market_Value', 'PER', 'PBR', 'PCR']\n",
        "\n",
        "    return result_df"
      ],
      "execution_count": null,
      "outputs": []
    },
    {
      "cell_type": "code",
      "metadata": {
        "id": "wrPVm3sz4arK"
      },
      "source": [
        "result_df = crawler(sample_code_list)\n",
        "tmp_df = result_df.copy()\n",
        "tmp_df.head(10)"
      ],
      "execution_count": null,
      "outputs": []
    },
    {
      "cell_type": "markdown",
      "metadata": {
        "id": "fCJpTKVMLn6U"
      },
      "source": [
        "#Filtering Small Cap"
      ]
    },
    {
      "cell_type": "markdown",
      "metadata": {
        "id": "9fQRsC_xMYte"
      },
      "source": [
        "#Scoring"
      ]
    },
    {
      "cell_type": "code",
      "metadata": {
        "id": "UCXY4VAz8QJJ"
      },
      "source": [
        "top_range =  int(len(tmp_df) * 0.3)\n",
        "\n",
        "\n",
        "middle_range =  int(len(tmp_df) * 0.7)\n",
        "print(middle_range, top_range)"
      ],
      "execution_count": null,
      "outputs": []
    },
    {
      "cell_type": "code",
      "metadata": {
        "id": "cM0NAYEg8QC3"
      },
      "source": [
        "tmp_df['Code'].isin(tmp_df.sort_values(by='PER')[:top_range]['Code'])"
      ],
      "execution_count": null,
      "outputs": []
    },
    {
      "cell_type": "code",
      "metadata": {
        "id": "DDbZ0mw88QAh"
      },
      "source": [
        "\n",
        "tmp_df.loc[tmp_df['Code'].isin(tmp_df.sort_values(by='PER')[:top_range]['Code']),'PER_Score'] = 3\n",
        "\n",
        "tmp_df.loc[tmp_df['Code'].isin(tmp_df.sort_values(by='PER')[top_range:middle_range]['Code']),'PER_Score'] = 2\n",
        "\n",
        "tmp_df.loc[tmp_df['Code'].isin(tmp_df.sort_values(by='PER')[middle_range:]['Code']),'PER_Score'] = 1\n"
      ],
      "execution_count": null,
      "outputs": []
    },
    {
      "cell_type": "code",
      "metadata": {
        "id": "MFnzpTH28P-O"
      },
      "source": [
        "tmp_df"
      ],
      "execution_count": null,
      "outputs": []
    },
    {
      "cell_type": "code",
      "metadata": {
        "id": "oHMQ2mbr9JXv"
      },
      "source": [
        "\n",
        "tmp_df.loc[tmp_df['Code'].isin(tmp_df.sort_values(by='PBR')[:top_range]['Code']),'PBR_Score'] = 3\n",
        "\n",
        "tmp_df.loc[tmp_df['Code'].isin(tmp_df.sort_values(by='PBR')[top_range:middle_range]['Code']),'PBR_Score'] = 2\n",
        "\n",
        "tmp_df.loc[tmp_df['Code'].isin(tmp_df.sort_values(by='PBR')[middle_range:]['Code']),'PBR_Score'] = 1\n"
      ],
      "execution_count": null,
      "outputs": []
    },
    {
      "cell_type": "code",
      "metadata": {
        "id": "vRIpMh6P9atZ"
      },
      "source": [
        "tmp_df"
      ],
      "execution_count": null,
      "outputs": []
    },
    {
      "cell_type": "code",
      "metadata": {
        "id": "xRl5XLap9JVp"
      },
      "source": [
        "\n",
        "tmp_df.loc[tmp_df['Code'].isin(tmp_df.sort_values(by='PCR')[:top_range]['Code']),'PCR_Score'] = 3\n",
        "\n",
        "tmp_df.loc[tmp_df['Code'].isin(tmp_df.sort_values(by='PCR')[top_range:middle_range]['Code']),'PCR_Score'] = 2\n",
        "\n",
        "tmp_df.loc[tmp_df['Code'].isin(tmp_df.sort_values(by='PCR')[middle_range:]['Code']),'PCR_Score'] = 1\n"
      ],
      "execution_count": null,
      "outputs": []
    },
    {
      "cell_type": "code",
      "metadata": {
        "id": "-ckT4Ce99JTj"
      },
      "source": [
        "tmp_df"
      ],
      "execution_count": null,
      "outputs": []
    },
    {
      "cell_type": "code",
      "metadata": {
        "id": "c78pWs1i9JRV"
      },
      "source": [
        "tmp_df['Total_Score'] = tmp_df['PER_Score'] + tmp_df['PBR_Score'] + tmp_df['PCR_Score']\n"
      ],
      "execution_count": null,
      "outputs": []
    },
    {
      "cell_type": "code",
      "metadata": {
        "id": "ikEtgF0kOJRE"
      },
      "source": [
        "max_point_df = tmp_df[tmp_df['Total_Score'] == 9.0]\n",
        "max_point_df"
      ],
      "execution_count": null,
      "outputs": []
    },
    {
      "cell_type": "code",
      "metadata": {
        "id": "_8lb3jyN93kx"
      },
      "source": [
        "max_point_df.sort_values(by='Total_Score', ascending=False).head(50)\n"
      ],
      "execution_count": null,
      "outputs": []
    },
    {
      "cell_type": "code",
      "metadata": {
        "id": "rZXwfdaUOfUQ"
      },
      "source": [
        "final_df = max_point_df.sort_values(by='PCR', ascending=False).head(50)\n",
        "final_df"
      ],
      "execution_count": null,
      "outputs": []
    },
    {
      "cell_type": "code",
      "metadata": {
        "id": "2S0QgA75Ow1I"
      },
      "source": [
        "# csv파일로 내보내기\n",
        "final_df.to_csv('/content/drive/MyDrive/Colab Notebooks/result.csv')"
      ],
      "execution_count": null,
      "outputs": []
    },
    {
      "cell_type": "code",
      "metadata": {
        "id": "wTnIYaUPOwxr"
      },
      "source": [
        ""
      ],
      "execution_count": null,
      "outputs": []
    },
    {
      "cell_type": "code",
      "metadata": {
        "id": "XRPAYAjlOwWS"
      },
      "source": [
        ""
      ],
      "execution_count": null,
      "outputs": []
    },
    {
      "cell_type": "code",
      "metadata": {
        "id": "OHq3oi-0OwTd"
      },
      "source": [
        ""
      ],
      "execution_count": null,
      "outputs": []
    }
  ]
}