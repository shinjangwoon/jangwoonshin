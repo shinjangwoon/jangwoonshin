{
  "nbformat": 4,
  "nbformat_minor": 0,
  "metadata": {
    "colab": {
      "name": "금융 데이터 분석(퀀트).ipynb",
      "private_outputs": true,
      "provenance": [],
      "collapsed_sections": [],
      "authorship_tag": "ABX9TyPSuTSLqVhtw0dJxjxDJm1I",
      "include_colab_link": true
    },
    "kernelspec": {
      "name": "python3",
      "display_name": "Python 3"
    },
    "language_info": {
      "name": "python"
    }
  },
  "cells": [
    {
      "cell_type": "markdown",
      "metadata": {
        "id": "view-in-github",
        "colab_type": "text"
      },
      "source": [
        "<a href=\"https://colab.research.google.com/github/shinjangwoon/jangwoonshin/blob/practice/%EA%B8%88%EC%9C%B5_%EB%8D%B0%EC%9D%B4%ED%84%B0_%EB%B6%84%EC%84%9D(%ED%80%80%ED%8A%B8).ipynb\" target=\"_parent\"><img src=\"https://colab.research.google.com/assets/colab-badge.svg\" alt=\"Open In Colab\"/></a>"
      ]
    },
    {
      "cell_type": "code",
      "metadata": {
        "id": "RdslHLzY9rE9"
      },
      "source": [
        "from google.colab import drive\n",
        "drive.mount('/content/drive')"
      ],
      "execution_count": null,
      "outputs": []
    },
    {
      "cell_type": "code",
      "metadata": {
        "id": "dqcL7TGJ-w-9"
      },
      "source": [
        "'''\n",
        " 레벨-초급 스타일-밸류+퀄리티 \n",
        "기대CAGR-15% \n",
        "종목개수-20~30개 \n",
        "매수전략-PER 10 이하(종목이 충분할 경우 PER 5이하로 제한), 부재비율 50% 이하\n",
        "'''\n"
      ],
      "execution_count": null,
      "outputs": []
    },
    {
      "cell_type": "markdown",
      "metadata": {
        "id": "XqLu5usgacrc"
      },
      "source": [
        "# Basic setting"
      ]
    },
    {
      "cell_type": "markdown",
      "metadata": {
        "id": "rIQKsM6HI_4u"
      },
      "source": [
        "##에프앤가이드"
      ]
    },
    {
      "cell_type": "code",
      "metadata": {
        "id": "OfqZRhyMabSl"
      },
      "source": [
        "import pandas as pd\n",
        "import requests\n",
        "from lxml import html\n",
        "from tqdm import tqdm"
      ],
      "execution_count": null,
      "outputs": []
    },
    {
      "cell_type": "code",
      "metadata": {
        "id": "0iXcclmhabPJ"
      },
      "source": [
        "# 스냅샷 URL\n",
        "SNAP_URL = 'https://comp.fnguide.com/SVO2/ASP/SVD_Main.asp?pGB=1&gicode=A%s&cID=&MenuYn=Y&ReportGB=&NewMenuID=101&stkGb=701'\n",
        "# 재무비율 URL\n",
        "RATIO_URL = 'https://comp.fnguide.com/SVO2/ASP/SVD_FinanceRatio.asp?pGB=1&gicode=A%s&cID=&MenuYn=Y&ReportGB=&NewMenuID=104&stkGb=701'"
      ],
      "execution_count": null,
      "outputs": []
    },
    {
      "cell_type": "markdown",
      "metadata": {
        "id": "PccByBYKrjDe"
      },
      "source": [
        ""
      ]
    },
    {
      "cell_type": "code",
      "metadata": {
        "id": "a3SQ92ugabMx"
      },
      "source": [
        "print(SNAP_URL)\n",
        "print(RATIO_URL)"
      ],
      "execution_count": null,
      "outputs": []
    },
    {
      "cell_type": "code",
      "metadata": {
        "id": "mWl6O2qHabA0"
      },
      "source": [
        "# formatting 예시\n",
        "#'AB%sDE'%'C'\n",
        "#'AB{}DE'.format('C')"
      ],
      "execution_count": null,
      "outputs": []
    },
    {
      "cell_type": "code",
      "metadata": {
        "id": "N2_loCyHfkrM"
      },
      "source": [
        "# 삼성전자 종목코드\n",
        "sample_code = '005930'"
      ],
      "execution_count": null,
      "outputs": []
    },
    {
      "cell_type": "code",
      "metadata": {
        "id": "DD77LPnqfkn1"
      },
      "source": [
        "print(SNAP_URL%sample_code)"
      ],
      "execution_count": null,
      "outputs": []
    },
    {
      "cell_type": "markdown",
      "metadata": {
        "id": "EqfpkJMIg-fZ"
      },
      "source": [
        "#Get PER data"
      ]
    },
    {
      "cell_type": "code",
      "metadata": {
        "id": "iVDnrRvzhcHg"
      },
      "source": [
        "snap_url = SNAP_URL % sample_code # SNAP_URL에 formatting 한 것을 snap_url에 저장\n",
        "snap_content = requests.get(snap_url).content # snap_url을 가져옴\n",
        "snap_tree = html.fromstring(snap_content) #  "
      ],
      "execution_count": null,
      "outputs": []
    },
    {
      "cell_type": "code",
      "metadata": {
        "id": "JifED4lthc1M"
      },
      "source": [
        "per = snap_tree.xpath('//*[@id=\"corp_group2\"]/dl[2]/dd')[0].text \n",
        "per = float(per) # 실수 형태로 저장\n",
        "per"
      ],
      "execution_count": null,
      "outputs": []
    },
    {
      "cell_type": "code",
      "metadata": {
        "id": "NpXVV2U72ZsW"
      },
      "source": [
        ""
      ],
      "execution_count": null,
      "outputs": []
    },
    {
      "cell_type": "markdown",
      "metadata": {
        "id": "n3xU2uJGhcEB"
      },
      "source": [
        "# Get Debt Ratio data"
      ]
    },
    {
      "cell_type": "code",
      "metadata": {
        "id": "QSo96numqLpF"
      },
      "source": [
        "# 부채비율 크롤링\n",
        "ratio_url = RATIO_URL % sample_code\n",
        "ratio_content = requests.get(ratio_url).content\n",
        "ratio_tree = html.fromstring(ratio_content)"
      ],
      "execution_count": null,
      "outputs": []
    },
    {
      "cell_type": "code",
      "metadata": {
        "id": "zh-b5ASiqLma"
      },
      "source": [
        "debt_ratio = ratio_tree.xpath('//*[@id=\"p_grid1_3\"]/td[5]')[0].text\n",
        "debt_ratio = float(debt_ratio)\n",
        "debt_ratio"
      ],
      "execution_count": null,
      "outputs": []
    },
    {
      "cell_type": "markdown",
      "metadata": {
        "id": "LmyD1j9nt8YA"
      },
      "source": [
        "#Get All stock Code"
      ]
    },
    {
      "cell_type": "code",
      "metadata": {
        "id": "HSKWQMHs-w36"
      },
      "source": [
        "import pandas as pd\n",
        "\n",
        "csv_url = '/content/drive/MyDrive/Colab Notebooks/company.csv'\n",
        "\n",
        "company = pd.read_csv(csv_url)\n",
        "print(company.shape)\n",
        "company.head(10)"
      ],
      "execution_count": null,
      "outputs": []
    },
    {
      "cell_type": "code",
      "metadata": {
        "id": "Kscf9jACMQJC"
      },
      "source": [
        "#column명 바꾸기\n",
        "#company.columns = ['Category', 'Company_name', 'code', 'Industry', 'Product', 'IPO', 'Month', 'CEO', 'Homepage', 'Local', 'Gcode']"
      ],
      "execution_count": null,
      "outputs": []
    },
    {
      "cell_type": "code",
      "metadata": {
        "id": "wFpqmuQrfkfd"
      },
      "source": [
        "# company.종목코드\n",
        "code_list = company['종목코드'] \n",
        "code_list"
      ],
      "execution_count": null,
      "outputs": []
    },
    {
      "cell_type": "code",
      "metadata": {
        "id": "-Ab8r0SKvtqu"
      },
      "source": [
        "sample_code_list = code_list[1000:1050]\n",
        "sample_code_list"
      ],
      "execution_count": null,
      "outputs": []
    },
    {
      "cell_type": "code",
      "metadata": {
        "id": "rYJ0Onmk9rHh"
      },
      "source": [
        "def crawler(li) :\n",
        "    \n",
        "     # fomatting이 비어있는 snap_url, ratio_url을 만들어야 함\n",
        "    SNAP_URL = 'https://comp.fnguide.com/SVO2/ASP/SVD_Main.asp?pGB=1&gicode=A%s&cID=&MenuYn=Y&ReportGB=&NewMenuID=101&stkGb=701'\n",
        "    RATIO_URL = 'https://comp.fnguide.com/SVO2/ASP/SVD_FinanceRatio.asp?pGB=1&gicode=A%s&cID=&MenuYn=Y&ReportGB=&NewMenuID=104&stkGb=701'\n",
        "    result = {} # result라는 비어있는 딕셔너리를 만듬\n",
        "    for code in tqdm(li) : \n",
        "        try:\n",
        "            #비어있는 딕셔너리 하나 만듬\n",
        "            #get per\n",
        "            snap_url = SNAP_URL % code \n",
        "            snap_content = requests.get(snap_url).content \n",
        "            snap_tree = html.fromstring(snap_content) \n",
        "\n",
        "            per = snap_tree.xpath('//*[@id=\"corp_group2\"]/dl[2]/dd')[0].text \n",
        "            per = float(per) \n",
        "\n",
        "            #get debt ratio\n",
        "            ratio_url = RATIO_URL % code\n",
        "            ratio_content = requests.get(ratio_url).content\n",
        "            ratio_tree = html.fromstring(ratio_content)\n",
        "\n",
        "            debt_ratio = ratio_tree.xpath('//*[@id=\"p_grid1_3\"]/td[5]')[0].text\n",
        "            debt_ratio = float(debt_ratio)\n",
        "\n",
        "            #company name\n",
        "            name = company[company['종목코드'] == code]['회사명'].values[0] \n",
        "            result[name] = [code, per, debt_ratio] #list안에 value 값\n",
        "\n",
        "        except(TypeError, AttributeError, IndexError, ValueError) as err :\n",
        "            # 에러가 났을 때 무시하고 다음으로 넘어감\n",
        "            pass \n",
        "    result_df = pd.DataFrame(result)\n",
        "    #전치 행렬\n",
        "    result_df = result_df.transpose()\n",
        "\n",
        "    result_df.columns = ['Code', 'PER', 'Dedt_ratio']\n",
        "\n",
        "    return result_df"
      ],
      "execution_count": null,
      "outputs": []
    },
    {
      "cell_type": "code",
      "metadata": {
        "id": "y16ilmKUPaee"
      },
      "source": [
        "result_df = crawler(sample_code_list)\n",
        "result_df"
      ],
      "execution_count": null,
      "outputs": []
    },
    {
      "cell_type": "code",
      "metadata": {
        "id": "a_zd4rYpbhkn"
      },
      "source": [
        "# copy 메서드\n",
        "copy_df = result_df.copy()\n",
        "copy_df"
      ],
      "execution_count": null,
      "outputs": []
    },
    {
      "cell_type": "markdown",
      "metadata": {
        "id": "0usqnRAHPabA"
      },
      "source": [
        "# Searching Stocks"
      ]
    },
    {
      "cell_type": "code",
      "metadata": {
        "id": "2iUOU7gEPaYY"
      },
      "source": [
        "filtered_df = copy_df[(copy_df['PER'] <= 10) & (copy_df['PER'] > 0) & (copy_df['Dedt_ratio'] <= 50)]\n",
        "filtered_df"
      ],
      "execution_count": null,
      "outputs": []
    },
    {
      "cell_type": "code",
      "metadata": {
        "id": "Y3sJ5midPaVU"
      },
      "source": [
        "# 나중에 개수 늘려서 해보기\n",
        "#오름차순으로 정렬\n",
        "#ascending=False를 추가해주면 내림차순으로 변경\n",
        "filtered_df.sort_values(by='PER', ascending=False).head(30)"
      ],
      "execution_count": null,
      "outputs": []
    },
    {
      "cell_type": "code",
      "metadata": {
        "id": "q0oy461xPaSq"
      },
      "source": [
        ""
      ],
      "execution_count": null,
      "outputs": []
    }
  ]
}