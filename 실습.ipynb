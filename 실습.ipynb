{
  "nbformat": 4,
  "nbformat_minor": 0,
  "metadata": {
    "colab": {
      "name": "실습.ipynb",
      "provenance": [],
      "collapsed_sections": [],
      "include_colab_link": true
    },
    "kernelspec": {
      "name": "python3",
      "display_name": "Python 3"
    },
    "language_info": {
      "name": "python"
    }
  },
  "cells": [
    {
      "cell_type": "markdown",
      "metadata": {
        "id": "view-in-github",
        "colab_type": "text"
      },
      "source": [
        "<a href=\"https://colab.research.google.com/github/shinjangwoon/jangwoonshin/blob/practice/%EC%8B%A4%EC%8A%B5.ipynb\" target=\"_parent\"><img src=\"https://colab.research.google.com/assets/colab-badge.svg\" alt=\"Open In Colab\"/></a>"
      ]
    },
    {
      "cell_type": "markdown",
      "metadata": {
        "id": "zFJfDyEHFmtL"
      },
      "source": [
        "# 필요한 라이브러리 로딩\n"
      ]
    },
    {
      "cell_type": "code",
      "metadata": {
        "id": "jdE9Jw9MLXcJ"
      },
      "source": [
        "# 필요한 라이브러리 로딩\n",
        "import numpy as np\n",
        "import pandas as pd\n",
        "import matplotlib.pyplot as plt"
      ],
      "execution_count": null,
      "outputs": []
    },
    {
      "cell_type": "markdown",
      "metadata": {
        "id": "0E5C7BqhE7pQ"
      },
      "source": [
        "##  Google Colab 에서 시각화할때 한글 지원 테스트 코드"
      ]
    },
    {
      "cell_type": "code",
      "metadata": {
        "id": "56inCepJA715",
        "colab": {
          "base_uri": "https://localhost:8080/",
          "height": 493
        },
        "outputId": "85c0e3ef-2027-4694-e101-807e11da4c7e"
      },
      "source": [
        "plt.text(0.3, 0.3, '테스트', size=20)"
      ],
      "execution_count": null,
      "outputs": [
        {
          "output_type": "execute_result",
          "data": {
            "text/plain": [
              "Text(0.3, 0.3, '테스트')"
            ]
          },
          "metadata": {
            "tags": []
          },
          "execution_count": 2
        },
        {
          "output_type": "stream",
          "text": [
            "/usr/local/lib/python3.7/dist-packages/matplotlib/backends/backend_agg.py:214: RuntimeWarning: Glyph 53580 missing from current font.\n",
            "  font.set_text(s, 0.0, flags=flags)\n",
            "/usr/local/lib/python3.7/dist-packages/matplotlib/backends/backend_agg.py:214: RuntimeWarning: Glyph 49828 missing from current font.\n",
            "  font.set_text(s, 0.0, flags=flags)\n",
            "/usr/local/lib/python3.7/dist-packages/matplotlib/backends/backend_agg.py:214: RuntimeWarning: Glyph 53944 missing from current font.\n",
            "  font.set_text(s, 0.0, flags=flags)\n",
            "/usr/local/lib/python3.7/dist-packages/matplotlib/backends/backend_agg.py:183: RuntimeWarning: Glyph 53580 missing from current font.\n",
            "  font.set_text(s, 0, flags=flags)\n",
            "/usr/local/lib/python3.7/dist-packages/matplotlib/backends/backend_agg.py:183: RuntimeWarning: Glyph 49828 missing from current font.\n",
            "  font.set_text(s, 0, flags=flags)\n",
            "/usr/local/lib/python3.7/dist-packages/matplotlib/backends/backend_agg.py:183: RuntimeWarning: Glyph 53944 missing from current font.\n",
            "  font.set_text(s, 0, flags=flags)\n"
          ],
          "name": "stderr"
        },
        {
          "output_type": "display_data",
          "data": {
            "image/png": "[encoded data removed]",
            "text/plain": [
              "<Figure size 432x288 with 1 Axes>"
            ]
          },
          "metadata": {
            "tags": [],
            "needs_background": "light"
          }
        }
      ]
    },
    {
      "cell_type": "markdown",
      "metadata": {
        "id": "tiJzfKfl_mrO"
      },
      "source": [
        "* Google Collab 에서 maplotlib 이 한글 지원하도록 설정하기\n",
        "1.   아래 코드 수행하여 Nanum 폰트 설치 및 폰트 설정 \n",
        "2.   런타임 > 런타임 다시 시작 누르고 1번 코드 다시 실행\n"
      ]
    },
    {
      "cell_type": "code",
      "metadata": {
        "id": "NQhdE0J6BPVa",
        "colab": {
          "base_uri": "https://localhost:8080/"
        },
        "outputId": "f49e2023-d202-44ac-c8d9-1bf89131dd65"
      },
      "source": [
        "!apt -qq -y install fonts-nanum > /dev/null\n",
        " \n",
        "import matplotlib.pyplot as plt\n",
        "import matplotlib.font_manager as fm\n",
        " \n",
        "fontpath = '/usr/share/fonts/truetype/nanum/NanumBarunGothic.ttf'\n",
        "font = fm.FontProperties(fname=fontpath, size=10)\n",
        "fm._rebuild()\n",
        " \n",
        "# 그래프에 retina display 적용\n",
        "%config InlineBackend.figure_format = 'retina'\n",
        " \n",
        "# Colab 의 한글 폰트 설정\n",
        "plt.rc('font', family='NanumBarunGothic') \n",
        "\n",
        "# 마이너스 폰트 깨지지 않도록 설정\n",
        "plt.rc(\"axes\", unicode_minus=False)"
      ],
      "execution_count": null,
      "outputs": [
        {
          "output_type": "stream",
          "text": [
            "\n",
            "WARNING: apt does not have a stable CLI interface. Use with caution in scripts.\n",
            "\n"
          ],
          "name": "stdout"
        }
      ]
    },
    {
      "cell_type": "code",
      "metadata": {
        "id": "QfsqASuyFB9l",
        "collapsed": true,
        "colab": {
          "base_uri": "https://localhost:8080/",
          "height": 287
        },
        "outputId": "9a9e2b09-7155-4cb9-8c36-7f2d7db973ac"
      },
      "source": [
        "plt.text(0.3, 0.3, '테스트', size=20)"
      ],
      "execution_count": null,
      "outputs": [
        {
          "output_type": "execute_result",
          "data": {
            "text/plain": [
              "Text(0.3, 0.3, '테스트')"
            ]
          },
          "metadata": {
            "tags": []
          },
          "execution_count": 4
        },
        {
          "output_type": "display_data",
          "data": {
            "image/png": "[encoded data removed]",
            "text/plain": [
              "<Figure size 432x288 with 1 Axes>"
            ]
          },
          "metadata": {
            "tags": [],
            "image/png": {
              "width": 378,
              "height": 253
            },
            "needs_background": "light"
          }
        }
      ]
    },
    {
      "cell_type": "markdown",
      "metadata": {
        "id": "lN2H8ltCLX2P"
      },
      "source": [
        "# 데이터 로딩\n",
        "- 공공자전거 이용정보(시간대별)_21.01 --> bike_2101_utf8_0618\n",
        "- 공공자전거 대여소 정보(21.01.31 기준) --> bike_station_2101"
      ]
    },
    {
      "cell_type": "code",
      "metadata": {
        "id": "QW9dlu1BPteB"
      },
      "source": [
        "url='https://codepresso-online-platform-public.s3.ap-northeast-2.amazonaws.com/learning-resourse/python-data-analysis/bike_2101_utf8_0618.csv'"
      ],
      "execution_count": null,
      "outputs": []
    },
    {
      "cell_type": "code",
      "metadata": {
        "id": "KbtgNoPbPxLk",
        "colab": {
          "base_uri": "https://localhost:8080/",
          "height": 340
        },
        "outputId": "c3bc5803-153f-45ab-eb17-eb137664d166"
      },
      "source": [
        "# 데이터 로드 및 출력\n",
        "bike_data = pd.read_csv(url)\n",
        "bike_data.head()"
      ],
      "execution_count": null,
      "outputs": [
        {
          "output_type": "execute_result",
          "data": {
            "text/html": [
              "<div>\n",
              "<style scoped>\n",
              "    .dataframe tbody tr th:only-of-type {\n",
              "        vertical-align: middle;\n",
              "    }\n",
              "\n",
              "    .dataframe tbody tr th {\n",
              "        vertical-align: top;\n",
              "    }\n",
              "\n",
              "    .dataframe thead th {\n",
              "        text-align: right;\n",
              "    }\n",
              "</style>\n",
              "<table border=\"1\" class=\"dataframe\">\n",
              "  <thead>\n",
              "    <tr style=\"text-align: right;\">\n",
              "      <th></th>\n",
              "      <th>대여일자</th>\n",
              "      <th>대여시간</th>\n",
              "      <th>대여소번호</th>\n",
              "      <th>대여소명</th>\n",
              "      <th>대여구분코드</th>\n",
              "      <th>성별</th>\n",
              "      <th>연령대코드</th>\n",
              "      <th>이용건수</th>\n",
              "      <th>운동량</th>\n",
              "      <th>탄소량</th>\n",
              "      <th>이동거리</th>\n",
              "      <th>사용시간</th>\n",
              "    </tr>\n",
              "  </thead>\n",
              "  <tbody>\n",
              "    <tr>\n",
              "      <th>0</th>\n",
              "      <td>2021-01-01</td>\n",
              "      <td>0</td>\n",
              "      <td>1347</td>\n",
              "      <td>1347. 길음래미안아파트817동 상가 앞</td>\n",
              "      <td>정기권</td>\n",
              "      <td>NaN</td>\n",
              "      <td>~10대</td>\n",
              "      <td>2</td>\n",
              "      <td>28.90</td>\n",
              "      <td>0.23</td>\n",
              "      <td>992.78</td>\n",
              "      <td>13</td>\n",
              "    </tr>\n",
              "    <tr>\n",
              "      <th>1</th>\n",
              "      <td>2021-01-01</td>\n",
              "      <td>0</td>\n",
              "      <td>1349</td>\n",
              "      <td>1349. 월계2교 버스정류장 앞</td>\n",
              "      <td>정기권</td>\n",
              "      <td>NaN</td>\n",
              "      <td>~10대</td>\n",
              "      <td>1</td>\n",
              "      <td>34.38</td>\n",
              "      <td>0.26</td>\n",
              "      <td>1127.50</td>\n",
              "      <td>10</td>\n",
              "    </tr>\n",
              "    <tr>\n",
              "      <th>2</th>\n",
              "      <td>2021-01-01</td>\n",
              "      <td>0</td>\n",
              "      <td>1168</td>\n",
              "      <td>1168. 마곡엠밸리10단지 앞</td>\n",
              "      <td>정기권</td>\n",
              "      <td>NaN</td>\n",
              "      <td>~10대</td>\n",
              "      <td>1</td>\n",
              "      <td>0.00</td>\n",
              "      <td>0.00</td>\n",
              "      <td>0.00</td>\n",
              "      <td>7</td>\n",
              "    </tr>\n",
              "    <tr>\n",
              "      <th>3</th>\n",
              "      <td>2021-01-01</td>\n",
              "      <td>0</td>\n",
              "      <td>2619</td>\n",
              "      <td>2619. 석촌고분역 4번출구</td>\n",
              "      <td>정기권</td>\n",
              "      <td>NaN</td>\n",
              "      <td>~10대</td>\n",
              "      <td>1</td>\n",
              "      <td>38.75</td>\n",
              "      <td>0.38</td>\n",
              "      <td>1658.34</td>\n",
              "      <td>14</td>\n",
              "    </tr>\n",
              "    <tr>\n",
              "      <th>4</th>\n",
              "      <td>2021-01-01</td>\n",
              "      <td>0</td>\n",
              "      <td>536</td>\n",
              "      <td>536. 행당역 2번출구 앞</td>\n",
              "      <td>정기권</td>\n",
              "      <td>NaN</td>\n",
              "      <td>~10대</td>\n",
              "      <td>1</td>\n",
              "      <td>12.96</td>\n",
              "      <td>0.17</td>\n",
              "      <td>743.88</td>\n",
              "      <td>5</td>\n",
              "    </tr>\n",
              "  </tbody>\n",
              "</table>\n",
              "</div>"
            ],
            "text/plain": [
              "         대여일자  대여시간  대여소번호                     대여소명  ...    운동량   탄소량     이동거리  사용시간\n",
              "0  2021-01-01     0   1347  1347. 길음래미안아파트817동 상가 앞  ...  28.90  0.23   992.78    13\n",
              "1  2021-01-01     0   1349       1349. 월계2교 버스정류장 앞  ...  34.38  0.26  1127.50    10\n",
              "2  2021-01-01     0   1168        1168. 마곡엠밸리10단지 앞  ...   0.00  0.00     0.00     7\n",
              "3  2021-01-01     0   2619         2619. 석촌고분역 4번출구  ...  38.75  0.38  1658.34    14\n",
              "4  2021-01-01     0    536          536. 행당역 2번출구 앞  ...  12.96  0.17   743.88     5\n",
              "\n",
              "[5 rows x 12 columns]"
            ]
          },
          "metadata": {
            "tags": []
          },
          "execution_count": 7
        }
      ]
    },
    {
      "cell_type": "markdown",
      "metadata": {
        "id": "f09_1Ll4oQE0"
      },
      "source": [
        "# 데이터 둘러보기\n",
        "- bike_data 데이터 탐색"
      ]
    },
    {
      "cell_type": "code",
      "metadata": {
        "id": "fZeTaCYFoVhT",
        "colab": {
          "base_uri": "https://localhost:8080/"
        },
        "outputId": "2e153b00-979a-4614-e769-6912905e444d"
      },
      "source": [
        "# bike_data 의 컬럼명 확인 \n",
        "bike_data.columns"
      ],
      "execution_count": null,
      "outputs": [
        {
          "output_type": "execute_result",
          "data": {
            "text/plain": [
              "Index(['대여일자', '대여시간', '대여소번호', '대여소명', '대여구분코드', '성별', '연령대코드', '이용건수', '운동량',\n",
              "       '탄소량', '이동거리', '사용시간'],\n",
              "      dtype='object')"
            ]
          },
          "metadata": {
            "tags": []
          },
          "execution_count": 8
        }
      ]
    },
    {
      "cell_type": "code",
      "metadata": {
        "id": "Igyo60HHoaYy",
        "colab": {
          "base_uri": "https://localhost:8080/",
          "height": 340
        },
        "outputId": "96addf21-2b0c-4a8e-ecf5-bd57143d9f33"
      },
      "source": [
        "# 첫 행 읽기\n",
        "bike_data.head()"
      ],
      "execution_count": null,
      "outputs": [
        {
          "output_type": "execute_result",
          "data": {
            "text/html": [
              "<div>\n",
              "<style scoped>\n",
              "    .dataframe tbody tr th:only-of-type {\n",
              "        vertical-align: middle;\n",
              "    }\n",
              "\n",
              "    .dataframe tbody tr th {\n",
              "        vertical-align: top;\n",
              "    }\n",
              "\n",
              "    .dataframe thead th {\n",
              "        text-align: right;\n",
              "    }\n",
              "</style>\n",
              "<table border=\"1\" class=\"dataframe\">\n",
              "  <thead>\n",
              "    <tr style=\"text-align: right;\">\n",
              "      <th></th>\n",
              "      <th>대여일자</th>\n",
              "      <th>대여시간</th>\n",
              "      <th>대여소번호</th>\n",
              "      <th>대여소명</th>\n",
              "      <th>대여구분코드</th>\n",
              "      <th>성별</th>\n",
              "      <th>연령대코드</th>\n",
              "      <th>이용건수</th>\n",
              "      <th>운동량</th>\n",
              "      <th>탄소량</th>\n",
              "      <th>이동거리</th>\n",
              "      <th>사용시간</th>\n",
              "    </tr>\n",
              "  </thead>\n",
              "  <tbody>\n",
              "    <tr>\n",
              "      <th>0</th>\n",
              "      <td>2021-01-01</td>\n",
              "      <td>0</td>\n",
              "      <td>1347</td>\n",
              "      <td>1347. 길음래미안아파트817동 상가 앞</td>\n",
              "      <td>정기권</td>\n",
              "      <td>NaN</td>\n",
              "      <td>~10대</td>\n",
              "      <td>2</td>\n",
              "      <td>28.90</td>\n",
              "      <td>0.23</td>\n",
              "      <td>992.78</td>\n",
              "      <td>13</td>\n",
              "    </tr>\n",
              "    <tr>\n",
              "      <th>1</th>\n",
              "      <td>2021-01-01</td>\n",
              "      <td>0</td>\n",
              "      <td>1349</td>\n",
              "      <td>1349. 월계2교 버스정류장 앞</td>\n",
              "      <td>정기권</td>\n",
              "      <td>NaN</td>\n",
              "      <td>~10대</td>\n",
              "      <td>1</td>\n",
              "      <td>34.38</td>\n",
              "      <td>0.26</td>\n",
              "      <td>1127.50</td>\n",
              "      <td>10</td>\n",
              "    </tr>\n",
              "    <tr>\n",
              "      <th>2</th>\n",
              "      <td>2021-01-01</td>\n",
              "      <td>0</td>\n",
              "      <td>1168</td>\n",
              "      <td>1168. 마곡엠밸리10단지 앞</td>\n",
              "      <td>정기권</td>\n",
              "      <td>NaN</td>\n",
              "      <td>~10대</td>\n",
              "      <td>1</td>\n",
              "      <td>0.00</td>\n",
              "      <td>0.00</td>\n",
              "      <td>0.00</td>\n",
              "      <td>7</td>\n",
              "    </tr>\n",
              "    <tr>\n",
              "      <th>3</th>\n",
              "      <td>2021-01-01</td>\n",
              "      <td>0</td>\n",
              "      <td>2619</td>\n",
              "      <td>2619. 석촌고분역 4번출구</td>\n",
              "      <td>정기권</td>\n",
              "      <td>NaN</td>\n",
              "      <td>~10대</td>\n",
              "      <td>1</td>\n",
              "      <td>38.75</td>\n",
              "      <td>0.38</td>\n",
              "      <td>1658.34</td>\n",
              "      <td>14</td>\n",
              "    </tr>\n",
              "    <tr>\n",
              "      <th>4</th>\n",
              "      <td>2021-01-01</td>\n",
              "      <td>0</td>\n",
              "      <td>536</td>\n",
              "      <td>536. 행당역 2번출구 앞</td>\n",
              "      <td>정기권</td>\n",
              "      <td>NaN</td>\n",
              "      <td>~10대</td>\n",
              "      <td>1</td>\n",
              "      <td>12.96</td>\n",
              "      <td>0.17</td>\n",
              "      <td>743.88</td>\n",
              "      <td>5</td>\n",
              "    </tr>\n",
              "  </tbody>\n",
              "</table>\n",
              "</div>"
            ],
            "text/plain": [
              "         대여일자  대여시간  대여소번호                     대여소명  ...    운동량   탄소량     이동거리  사용시간\n",
              "0  2021-01-01     0   1347  1347. 길음래미안아파트817동 상가 앞  ...  28.90  0.23   992.78    13\n",
              "1  2021-01-01     0   1349       1349. 월계2교 버스정류장 앞  ...  34.38  0.26  1127.50    10\n",
              "2  2021-01-01     0   1168        1168. 마곡엠밸리10단지 앞  ...   0.00  0.00     0.00     7\n",
              "3  2021-01-01     0   2619         2619. 석촌고분역 4번출구  ...  38.75  0.38  1658.34    14\n",
              "4  2021-01-01     0    536          536. 행당역 2번출구 앞  ...  12.96  0.17   743.88     5\n",
              "\n",
              "[5 rows x 12 columns]"
            ]
          },
          "metadata": {
            "tags": []
          },
          "execution_count": 9
        }
      ]
    },
    {
      "cell_type": "code",
      "metadata": {
        "id": "5ly6GCmhoeAH",
        "colab": {
          "base_uri": "https://localhost:8080/",
          "height": 244
        },
        "outputId": "e8c39b07-19a9-49bb-9d66-edbe7270f9ee"
      },
      "source": [
        "# 마지막 행 읽기\n",
        "bike_data.tail(3)"
      ],
      "execution_count": null,
      "outputs": [
        {
          "output_type": "execute_result",
          "data": {
            "text/html": [
              "<div>\n",
              "<style scoped>\n",
              "    .dataframe tbody tr th:only-of-type {\n",
              "        vertical-align: middle;\n",
              "    }\n",
              "\n",
              "    .dataframe tbody tr th {\n",
              "        vertical-align: top;\n",
              "    }\n",
              "\n",
              "    .dataframe thead th {\n",
              "        text-align: right;\n",
              "    }\n",
              "</style>\n",
              "<table border=\"1\" class=\"dataframe\">\n",
              "  <thead>\n",
              "    <tr style=\"text-align: right;\">\n",
              "      <th></th>\n",
              "      <th>대여일자</th>\n",
              "      <th>대여시간</th>\n",
              "      <th>대여소번호</th>\n",
              "      <th>대여소명</th>\n",
              "      <th>대여구분코드</th>\n",
              "      <th>성별</th>\n",
              "      <th>연령대코드</th>\n",
              "      <th>이용건수</th>\n",
              "      <th>운동량</th>\n",
              "      <th>탄소량</th>\n",
              "      <th>이동거리</th>\n",
              "      <th>사용시간</th>\n",
              "    </tr>\n",
              "  </thead>\n",
              "  <tbody>\n",
              "    <tr>\n",
              "      <th>718854</th>\n",
              "      <td>2021-01-31</td>\n",
              "      <td>23</td>\n",
              "      <td>248</td>\n",
              "      <td>248. 초원아파트 앞</td>\n",
              "      <td>단체권</td>\n",
              "      <td>NaN</td>\n",
              "      <td>20대</td>\n",
              "      <td>2</td>\n",
              "      <td>348.43</td>\n",
              "      <td>2.91</td>\n",
              "      <td>12569.64</td>\n",
              "      <td>90</td>\n",
              "    </tr>\n",
              "    <tr>\n",
              "      <th>718855</th>\n",
              "      <td>2021-01-31</td>\n",
              "      <td>23</td>\n",
              "      <td>131</td>\n",
              "      <td>131. 증산2교</td>\n",
              "      <td>단체권</td>\n",
              "      <td>NaN</td>\n",
              "      <td>20대</td>\n",
              "      <td>2</td>\n",
              "      <td>98.10</td>\n",
              "      <td>0.77</td>\n",
              "      <td>3302.87</td>\n",
              "      <td>20</td>\n",
              "    </tr>\n",
              "    <tr>\n",
              "      <th>718856</th>\n",
              "      <td>2021-01-31</td>\n",
              "      <td>23</td>\n",
              "      <td>247</td>\n",
              "      <td>247. 당산역 10번출구 앞</td>\n",
              "      <td>단체권</td>\n",
              "      <td>M</td>\n",
              "      <td>40대</td>\n",
              "      <td>1</td>\n",
              "      <td>223.71</td>\n",
              "      <td>2.02</td>\n",
              "      <td>8691.10</td>\n",
              "      <td>52</td>\n",
              "    </tr>\n",
              "  </tbody>\n",
              "</table>\n",
              "</div>"
            ],
            "text/plain": [
              "              대여일자  대여시간  대여소번호              대여소명  ...     운동량   탄소량      이동거리  사용시간\n",
              "718854  2021-01-31    23    248      248. 초원아파트 앞  ...  348.43  2.91  12569.64    90\n",
              "718855  2021-01-31    23    131         131. 증산2교  ...   98.10  0.77   3302.87    20\n",
              "718856  2021-01-31    23    247  247. 당산역 10번출구 앞  ...  223.71  2.02   8691.10    52\n",
              "\n",
              "[3 rows x 12 columns]"
            ]
          },
          "metadata": {
            "tags": []
          },
          "execution_count": 11
        }
      ]
    },
    {
      "cell_type": "code",
      "metadata": {
        "id": "-nZF9S1HNfbv",
        "colab": {
          "base_uri": "https://localhost:8080/"
        },
        "outputId": "95cbd807-eee6-465b-a532-81d2636b94f2"
      },
      "source": [
        "# 행과 열 데이터의 shape 은?\n",
        "bike_data.shape"
      ],
      "execution_count": null,
      "outputs": [
        {
          "output_type": "execute_result",
          "data": {
            "text/plain": [
              "(718857, 12)"
            ]
          },
          "metadata": {
            "tags": []
          },
          "execution_count": 12
        }
      ]
    },
    {
      "cell_type": "code",
      "metadata": {
        "id": "LQeoUNa4I3as",
        "colab": {
          "base_uri": "https://localhost:8080/"
        },
        "outputId": "dc22544b-bf85-40e8-a93a-d282c13a0889"
      },
      "source": [
        "# 전체 데이터셋 정보 파악\n",
        "bike_data.info()"
      ],
      "execution_count": null,
      "outputs": [
        {
          "output_type": "stream",
          "text": [
            "<class 'pandas.core.frame.DataFrame'>\n",
            "RangeIndex: 718857 entries, 0 to 718856\n",
            "Data columns (total 12 columns):\n",
            " #   Column  Non-Null Count   Dtype  \n",
            "---  ------  --------------   -----  \n",
            " 0   대여일자    718857 non-null  object \n",
            " 1   대여시간    718857 non-null  int64  \n",
            " 2   대여소번호   718857 non-null  int64  \n",
            " 3   대여소명    718857 non-null  object \n",
            " 4   대여구분코드  718857 non-null  object \n",
            " 5   성별      401235 non-null  object \n",
            " 6   연령대코드   718857 non-null  object \n",
            " 7   이용건수    718857 non-null  int64  \n",
            " 8   운동량     718857 non-null  object \n",
            " 9   탄소량     718857 non-null  object \n",
            " 10  이동거리    718857 non-null  float64\n",
            " 11  사용시간    718857 non-null  int64  \n",
            "dtypes: float64(1), int64(4), object(7)\n",
            "memory usage: 65.8+ MB\n"
          ],
          "name": "stdout"
        }
      ]
    },
    {
      "cell_type": "code",
      "metadata": {
        "id": "w2aKlzy8n7GB",
        "colab": {
          "base_uri": "https://localhost:8080/",
          "height": 297
        },
        "outputId": "8fce3ee9-e344-48ec-abad-395e455157f4"
      },
      "source": [
        "# bike_data 의 기술 통계 요약 확인\n",
        "bike_data.describe()"
      ],
      "execution_count": null,
      "outputs": [
        {
          "output_type": "execute_result",
          "data": {
            "text/html": [
              "<div>\n",
              "<style scoped>\n",
              "    .dataframe tbody tr th:only-of-type {\n",
              "        vertical-align: middle;\n",
              "    }\n",
              "\n",
              "    .dataframe tbody tr th {\n",
              "        vertical-align: top;\n",
              "    }\n",
              "\n",
              "    .dataframe thead th {\n",
              "        text-align: right;\n",
              "    }\n",
              "</style>\n",
              "<table border=\"1\" class=\"dataframe\">\n",
              "  <thead>\n",
              "    <tr style=\"text-align: right;\">\n",
              "      <th></th>\n",
              "      <th>대여시간</th>\n",
              "      <th>대여소번호</th>\n",
              "      <th>이용건수</th>\n",
              "      <th>이동거리</th>\n",
              "      <th>사용시간</th>\n",
              "    </tr>\n",
              "  </thead>\n",
              "  <tbody>\n",
              "    <tr>\n",
              "      <th>count</th>\n",
              "      <td>718857.000000</td>\n",
              "      <td>718857.000000</td>\n",
              "      <td>718857.000000</td>\n",
              "      <td>718857.000000</td>\n",
              "      <td>718857.000000</td>\n",
              "    </tr>\n",
              "    <tr>\n",
              "      <th>mean</th>\n",
              "      <td>14.197045</td>\n",
              "      <td>1447.329716</td>\n",
              "      <td>1.088958</td>\n",
              "      <td>3033.891521</td>\n",
              "      <td>28.062467</td>\n",
              "    </tr>\n",
              "    <tr>\n",
              "      <th>std</th>\n",
              "      <td>5.245045</td>\n",
              "      <td>1015.266910</td>\n",
              "      <td>0.339713</td>\n",
              "      <td>4280.828411</td>\n",
              "      <td>33.246788</td>\n",
              "    </tr>\n",
              "    <tr>\n",
              "      <th>min</th>\n",
              "      <td>0.000000</td>\n",
              "      <td>3.000000</td>\n",
              "      <td>1.000000</td>\n",
              "      <td>0.000000</td>\n",
              "      <td>0.000000</td>\n",
              "    </tr>\n",
              "    <tr>\n",
              "      <th>25%</th>\n",
              "      <td>11.000000</td>\n",
              "      <td>600.000000</td>\n",
              "      <td>1.000000</td>\n",
              "      <td>789.020000</td>\n",
              "      <td>8.000000</td>\n",
              "    </tr>\n",
              "    <tr>\n",
              "      <th>50%</th>\n",
              "      <td>15.000000</td>\n",
              "      <td>1230.000000</td>\n",
              "      <td>1.000000</td>\n",
              "      <td>1680.000000</td>\n",
              "      <td>16.000000</td>\n",
              "    </tr>\n",
              "    <tr>\n",
              "      <th>75%</th>\n",
              "      <td>18.000000</td>\n",
              "      <td>2113.000000</td>\n",
              "      <td>1.000000</td>\n",
              "      <td>3569.610000</td>\n",
              "      <td>37.000000</td>\n",
              "    </tr>\n",
              "    <tr>\n",
              "      <th>max</th>\n",
              "      <td>23.000000</td>\n",
              "      <td>9999.000000</td>\n",
              "      <td>14.000000</td>\n",
              "      <td>248420.000000</td>\n",
              "      <td>1753.000000</td>\n",
              "    </tr>\n",
              "  </tbody>\n",
              "</table>\n",
              "</div>"
            ],
            "text/plain": [
              "                대여시간          대여소번호  ...           이동거리           사용시간\n",
              "count  718857.000000  718857.000000  ...  718857.000000  718857.000000\n",
              "mean       14.197045    1447.329716  ...    3033.891521      28.062467\n",
              "std         5.245045    1015.266910  ...    4280.828411      33.246788\n",
              "min         0.000000       3.000000  ...       0.000000       0.000000\n",
              "25%        11.000000     600.000000  ...     789.020000       8.000000\n",
              "50%        15.000000    1230.000000  ...    1680.000000      16.000000\n",
              "75%        18.000000    2113.000000  ...    3569.610000      37.000000\n",
              "max        23.000000    9999.000000  ...  248420.000000    1753.000000\n",
              "\n",
              "[8 rows x 5 columns]"
            ]
          },
          "metadata": {
            "tags": []
          },
          "execution_count": 14
        }
      ]
    },
    {
      "cell_type": "markdown",
      "metadata": {
        "id": "V3sh8kwpoznt"
      },
      "source": [
        "# 데이터 전처리"
      ]
    },
    {
      "cell_type": "markdown",
      "metadata": {
        "id": "mSnofsXqyW2v"
      },
      "source": [
        "## 데이터의 탐색적 분석(EDA) : 컬럼별 데이터 분석"
      ]
    },
    {
      "cell_type": "code",
      "metadata": {
        "id": "oqAc7TIxqNP1",
        "colab": {
          "base_uri": "https://localhost:8080/"
        },
        "outputId": "cb75708d-3efa-4fbc-9510-30777bdaf111"
      },
      "source": [
        "bike_data.info()"
      ],
      "execution_count": null,
      "outputs": [
        {
          "output_type": "stream",
          "text": [
            "<class 'pandas.core.frame.DataFrame'>\n",
            "RangeIndex: 718857 entries, 0 to 718856\n",
            "Data columns (total 12 columns):\n",
            " #   Column  Non-Null Count   Dtype  \n",
            "---  ------  --------------   -----  \n",
            " 0   대여일자    718857 non-null  object \n",
            " 1   대여시간    718857 non-null  int64  \n",
            " 2   대여소번호   718857 non-null  int64  \n",
            " 3   대여소명    718857 non-null  object \n",
            " 4   대여구분코드  718857 non-null  object \n",
            " 5   성별      401235 non-null  object \n",
            " 6   연령대코드   718857 non-null  object \n",
            " 7   이용건수    718857 non-null  int64  \n",
            " 8   운동량     718857 non-null  object \n",
            " 9   탄소량     718857 non-null  object \n",
            " 10  이동거리    718857 non-null  float64\n",
            " 11  사용시간    718857 non-null  int64  \n",
            "dtypes: float64(1), int64(4), object(7)\n",
            "memory usage: 65.8+ MB\n"
          ],
          "name": "stdout"
        }
      ]
    },
    {
      "cell_type": "code",
      "metadata": {
        "id": "iyJRF2PYqSfe",
        "colab": {
          "base_uri": "https://localhost:8080/",
          "height": 340
        },
        "outputId": "1968d9ac-c4f8-4e14-e834-5281f0fc9dd0"
      },
      "source": [
        "bike_data.sample(5)"
      ],
      "execution_count": null,
      "outputs": [
        {
          "output_type": "execute_result",
          "data": {
            "text/html": [
              "<div>\n",
              "<style scoped>\n",
              "    .dataframe tbody tr th:only-of-type {\n",
              "        vertical-align: middle;\n",
              "    }\n",
              "\n",
              "    .dataframe tbody tr th {\n",
              "        vertical-align: top;\n",
              "    }\n",
              "\n",
              "    .dataframe thead th {\n",
              "        text-align: right;\n",
              "    }\n",
              "</style>\n",
              "<table border=\"1\" class=\"dataframe\">\n",
              "  <thead>\n",
              "    <tr style=\"text-align: right;\">\n",
              "      <th></th>\n",
              "      <th>대여일자</th>\n",
              "      <th>대여시간</th>\n",
              "      <th>대여소번호</th>\n",
              "      <th>대여소명</th>\n",
              "      <th>대여구분코드</th>\n",
              "      <th>성별</th>\n",
              "      <th>연령대코드</th>\n",
              "      <th>이용건수</th>\n",
              "      <th>운동량</th>\n",
              "      <th>탄소량</th>\n",
              "      <th>이동거리</th>\n",
              "      <th>사용시간</th>\n",
              "    </tr>\n",
              "  </thead>\n",
              "  <tbody>\n",
              "    <tr>\n",
              "      <th>255664</th>\n",
              "      <td>2021-01-15</td>\n",
              "      <td>9</td>\n",
              "      <td>1397</td>\n",
              "      <td>1397.래미안월곡아파트 (창문여고 건너편)</td>\n",
              "      <td>정기권</td>\n",
              "      <td>NaN</td>\n",
              "      <td>20대</td>\n",
              "      <td>1</td>\n",
              "      <td>334.52</td>\n",
              "      <td>2.31</td>\n",
              "      <td>9938.27</td>\n",
              "      <td>41</td>\n",
              "    </tr>\n",
              "    <tr>\n",
              "      <th>189989</th>\n",
              "      <td>2021-01-12</td>\n",
              "      <td>1</td>\n",
              "      <td>2823</td>\n",
              "      <td>2823.중앙유통단지 앞</td>\n",
              "      <td>일일권</td>\n",
              "      <td>M</td>\n",
              "      <td>~10대</td>\n",
              "      <td>1</td>\n",
              "      <td>139.70</td>\n",
              "      <td>1.26</td>\n",
              "      <td>5427.42</td>\n",
              "      <td>44</td>\n",
              "    </tr>\n",
              "    <tr>\n",
              "      <th>214212</th>\n",
              "      <td>2021-01-13</td>\n",
              "      <td>18</td>\n",
              "      <td>292</td>\n",
              "      <td>292. 영일 어린이공원</td>\n",
              "      <td>정기권</td>\n",
              "      <td>M</td>\n",
              "      <td>60대</td>\n",
              "      <td>1</td>\n",
              "      <td>92.05</td>\n",
              "      <td>0.83</td>\n",
              "      <td>3576.08</td>\n",
              "      <td>84</td>\n",
              "    </tr>\n",
              "    <tr>\n",
              "      <th>676768</th>\n",
              "      <td>2021-01-30</td>\n",
              "      <td>17</td>\n",
              "      <td>474</td>\n",
              "      <td>474.동대문역사문화공원역 1번출구 뒤편</td>\n",
              "      <td>정기권</td>\n",
              "      <td>M</td>\n",
              "      <td>60대</td>\n",
              "      <td>1</td>\n",
              "      <td>28.40</td>\n",
              "      <td>0.27</td>\n",
              "      <td>1175.69</td>\n",
              "      <td>8</td>\n",
              "    </tr>\n",
              "    <tr>\n",
              "      <th>355594</th>\n",
              "      <td>2021-01-19</td>\n",
              "      <td>21</td>\n",
              "      <td>339</td>\n",
              "      <td>339. 종로4가 사거리</td>\n",
              "      <td>정기권</td>\n",
              "      <td>NaN</td>\n",
              "      <td>20대</td>\n",
              "      <td>1</td>\n",
              "      <td>112.51</td>\n",
              "      <td>0.89</td>\n",
              "      <td>3839.46</td>\n",
              "      <td>26</td>\n",
              "    </tr>\n",
              "  </tbody>\n",
              "</table>\n",
              "</div>"
            ],
            "text/plain": [
              "              대여일자  대여시간  대여소번호  ...   탄소량     이동거리 사용시간\n",
              "255664  2021-01-15     9   1397  ...  2.31  9938.27   41\n",
              "189989  2021-01-12     1   2823  ...  1.26  5427.42   44\n",
              "214212  2021-01-13    18    292  ...  0.83  3576.08   84\n",
              "676768  2021-01-30    17    474  ...  0.27  1175.69    8\n",
              "355594  2021-01-19    21    339  ...  0.89  3839.46   26\n",
              "\n",
              "[5 rows x 12 columns]"
            ]
          },
          "metadata": {
            "tags": []
          },
          "execution_count": 19
        }
      ]
    },
    {
      "cell_type": "markdown",
      "metadata": {
        "id": "t6tOj6EFqUgw"
      },
      "source": [
        "### 대여구분코드가 어떤 데이터를 저장하는지 살펴볼까요?"
      ]
    },
    {
      "cell_type": "code",
      "metadata": {
        "id": "fj3ep_CapKr2",
        "colab": {
          "base_uri": "https://localhost:8080/"
        },
        "outputId": "6b677d62-b7ae-4b89-8ed0-1962d895a171"
      },
      "source": [
        "# 범주형 데이터 둘러보기\n",
        "# 1) bike_data['대여구분코드']\n",
        "# unique()\n",
        "bike_data['대여구분코드'].unique()"
      ],
      "execution_count": null,
      "outputs": [
        {
          "output_type": "execute_result",
          "data": {
            "text/plain": [
              "array(['정기권', '일일권', '단체권', '일일권(비회원)'], dtype=object)"
            ]
          },
          "metadata": {
            "tags": []
          },
          "execution_count": 20
        }
      ]
    },
    {
      "cell_type": "code",
      "metadata": {
        "id": "8nipvuEUpd9-",
        "colab": {
          "base_uri": "https://localhost:8080/"
        },
        "outputId": "acdc7948-1565-4553-bffa-0ca613275ae2"
      },
      "source": [
        "# 범주형 데이터의 빈도수 확인하기\n",
        "bike_data['대여구분코드'].value_counts()"
      ],
      "execution_count": null,
      "outputs": [
        {
          "output_type": "execute_result",
          "data": {
            "text/plain": [
              "정기권         585211\n",
              "일일권         130415\n",
              "단체권           3224\n",
              "일일권(비회원)         7\n",
              "Name: 대여구분코드, dtype: int64"
            ]
          },
          "metadata": {
            "tags": []
          },
          "execution_count": 21
        }
      ]
    },
    {
      "cell_type": "code",
      "metadata": {
        "id": "Do9Oq-ojplxG",
        "colab": {
          "base_uri": "https://localhost:8080/"
        },
        "outputId": "e00fe863-0b33-40c7-f2df-38a63a2a21bf"
      },
      "source": [
        "# 각 항목별 비율 확인\n",
        "bike_data['대여구분코드'].value_counts(normalize=True)"
      ],
      "execution_count": null,
      "outputs": [
        {
          "output_type": "execute_result",
          "data": {
            "text/plain": [
              "정기권         0.814085\n",
              "일일권         0.181420\n",
              "단체권         0.004485\n",
              "일일권(비회원)    0.000010\n",
              "Name: 대여구분코드, dtype: float64"
            ]
          },
          "metadata": {
            "tags": []
          },
          "execution_count": 23
        }
      ]
    },
    {
      "cell_type": "markdown",
      "metadata": {
        "id": "waAuADweqgmg"
      },
      "source": [
        "### 운동량 컬럼 데이터를 살펴볼까요?"
      ]
    },
    {
      "cell_type": "code",
      "metadata": {
        "id": "SeycrQ-DpyGz",
        "colab": {
          "base_uri": "https://localhost:8080/"
        },
        "outputId": "1d5b9658-f960-44b0-cf16-ab7edf6ba054"
      },
      "source": [
        "# 범주형 데이터 둘러보기\n",
        "bike_data.info()"
      ],
      "execution_count": null,
      "outputs": [
        {
          "output_type": "stream",
          "text": [
            "<class 'pandas.core.frame.DataFrame'>\n",
            "RangeIndex: 718857 entries, 0 to 718856\n",
            "Data columns (total 12 columns):\n",
            " #   Column  Non-Null Count   Dtype  \n",
            "---  ------  --------------   -----  \n",
            " 0   대여일자    718857 non-null  object \n",
            " 1   대여시간    718857 non-null  int64  \n",
            " 2   대여소번호   718857 non-null  int64  \n",
            " 3   대여소명    718857 non-null  object \n",
            " 4   대여구분코드  718857 non-null  object \n",
            " 5   성별      401235 non-null  object \n",
            " 6   연령대코드   718857 non-null  object \n",
            " 7   이용건수    718857 non-null  int64  \n",
            " 8   운동량     718857 non-null  object \n",
            " 9   탄소량     718857 non-null  object \n",
            " 10  이동거리    718857 non-null  float64\n",
            " 11  사용시간    718857 non-null  int64  \n",
            "dtypes: float64(1), int64(4), object(7)\n",
            "memory usage: 65.8+ MB\n"
          ],
          "name": "stdout"
        }
      ]
    },
    {
      "cell_type": "code",
      "metadata": {
        "colab": {
          "base_uri": "https://localhost:8080/",
          "height": 340
        },
        "id": "MEDJ_xGQywm4",
        "outputId": "99deec32-6c26-4a6c-9532-a0cb0329bb5b"
      },
      "source": [
        "bike_data.head()"
      ],
      "execution_count": null,
      "outputs": [
        {
          "output_type": "execute_result",
          "data": {
            "text/html": [
              "<div>\n",
              "<style scoped>\n",
              "    .dataframe tbody tr th:only-of-type {\n",
              "        vertical-align: middle;\n",
              "    }\n",
              "\n",
              "    .dataframe tbody tr th {\n",
              "        vertical-align: top;\n",
              "    }\n",
              "\n",
              "    .dataframe thead th {\n",
              "        text-align: right;\n",
              "    }\n",
              "</style>\n",
              "<table border=\"1\" class=\"dataframe\">\n",
              "  <thead>\n",
              "    <tr style=\"text-align: right;\">\n",
              "      <th></th>\n",
              "      <th>대여일자</th>\n",
              "      <th>대여시간</th>\n",
              "      <th>대여소번호</th>\n",
              "      <th>대여소명</th>\n",
              "      <th>대여구분코드</th>\n",
              "      <th>성별</th>\n",
              "      <th>연령대코드</th>\n",
              "      <th>이용건수</th>\n",
              "      <th>운동량</th>\n",
              "      <th>탄소량</th>\n",
              "      <th>이동거리</th>\n",
              "      <th>사용시간</th>\n",
              "    </tr>\n",
              "  </thead>\n",
              "  <tbody>\n",
              "    <tr>\n",
              "      <th>0</th>\n",
              "      <td>2021-01-01</td>\n",
              "      <td>0</td>\n",
              "      <td>1347</td>\n",
              "      <td>1347. 길음래미안아파트817동 상가 앞</td>\n",
              "      <td>정기권</td>\n",
              "      <td>NaN</td>\n",
              "      <td>~10대</td>\n",
              "      <td>2</td>\n",
              "      <td>28.90</td>\n",
              "      <td>0.23</td>\n",
              "      <td>992.78</td>\n",
              "      <td>13</td>\n",
              "    </tr>\n",
              "    <tr>\n",
              "      <th>1</th>\n",
              "      <td>2021-01-01</td>\n",
              "      <td>0</td>\n",
              "      <td>1349</td>\n",
              "      <td>1349. 월계2교 버스정류장 앞</td>\n",
              "      <td>정기권</td>\n",
              "      <td>NaN</td>\n",
              "      <td>~10대</td>\n",
              "      <td>1</td>\n",
              "      <td>34.38</td>\n",
              "      <td>0.26</td>\n",
              "      <td>1127.50</td>\n",
              "      <td>10</td>\n",
              "    </tr>\n",
              "    <tr>\n",
              "      <th>2</th>\n",
              "      <td>2021-01-01</td>\n",
              "      <td>0</td>\n",
              "      <td>1168</td>\n",
              "      <td>1168. 마곡엠밸리10단지 앞</td>\n",
              "      <td>정기권</td>\n",
              "      <td>NaN</td>\n",
              "      <td>~10대</td>\n",
              "      <td>1</td>\n",
              "      <td>0.00</td>\n",
              "      <td>0.00</td>\n",
              "      <td>0.00</td>\n",
              "      <td>7</td>\n",
              "    </tr>\n",
              "    <tr>\n",
              "      <th>3</th>\n",
              "      <td>2021-01-01</td>\n",
              "      <td>0</td>\n",
              "      <td>2619</td>\n",
              "      <td>2619. 석촌고분역 4번출구</td>\n",
              "      <td>정기권</td>\n",
              "      <td>NaN</td>\n",
              "      <td>~10대</td>\n",
              "      <td>1</td>\n",
              "      <td>38.75</td>\n",
              "      <td>0.38</td>\n",
              "      <td>1658.34</td>\n",
              "      <td>14</td>\n",
              "    </tr>\n",
              "    <tr>\n",
              "      <th>4</th>\n",
              "      <td>2021-01-01</td>\n",
              "      <td>0</td>\n",
              "      <td>536</td>\n",
              "      <td>536. 행당역 2번출구 앞</td>\n",
              "      <td>정기권</td>\n",
              "      <td>NaN</td>\n",
              "      <td>~10대</td>\n",
              "      <td>1</td>\n",
              "      <td>12.96</td>\n",
              "      <td>0.17</td>\n",
              "      <td>743.88</td>\n",
              "      <td>5</td>\n",
              "    </tr>\n",
              "  </tbody>\n",
              "</table>\n",
              "</div>"
            ],
            "text/plain": [
              "         대여일자  대여시간  대여소번호                     대여소명  ...    운동량   탄소량     이동거리  사용시간\n",
              "0  2021-01-01     0   1347  1347. 길음래미안아파트817동 상가 앞  ...  28.90  0.23   992.78    13\n",
              "1  2021-01-01     0   1349       1349. 월계2교 버스정류장 앞  ...  34.38  0.26  1127.50    10\n",
              "2  2021-01-01     0   1168        1168. 마곡엠밸리10단지 앞  ...   0.00  0.00     0.00     7\n",
              "3  2021-01-01     0   2619         2619. 석촌고분역 4번출구  ...  38.75  0.38  1658.34    14\n",
              "4  2021-01-01     0    536          536. 행당역 2번출구 앞  ...  12.96  0.17   743.88     5\n",
              "\n",
              "[5 rows x 12 columns]"
            ]
          },
          "metadata": {
            "tags": []
          },
          "execution_count": 25
        }
      ]
    },
    {
      "cell_type": "code",
      "metadata": {
        "id": "nXP_4-JkrZ11",
        "colab": {
          "base_uri": "https://localhost:8080/"
        },
        "outputId": "1b5ff406-7a76-4fa1-eb68-5b58ef896956"
      },
      "source": [
        "# 범주형 데이터의 기술통계요역보기\n",
        "bike_data['운동량'].describe()"
      ],
      "execution_count": null,
      "outputs": [
        {
          "output_type": "execute_result",
          "data": {
            "text/plain": [
              "count     718857\n",
              "unique     51422\n",
              "top         0.00\n",
              "freq       73806\n",
              "Name: 운동량, dtype: object"
            ]
          },
          "metadata": {
            "tags": []
          },
          "execution_count": 27
        }
      ]
    },
    {
      "cell_type": "code",
      "metadata": {
        "id": "v_jy_BhAuVUI",
        "colab": {
          "base_uri": "https://localhost:8080/"
        },
        "outputId": "f33b723c-6dda-47c4-f761-04d2f52ced7d"
      },
      "source": [
        "# 결측치는?\n",
        "bike_data['운동량'].isnull().sum()"
      ],
      "execution_count": null,
      "outputs": [
        {
          "output_type": "execute_result",
          "data": {
            "text/plain": [
              "0"
            ]
          },
          "metadata": {
            "tags": []
          },
          "execution_count": 28
        }
      ]
    },
    {
      "cell_type": "code",
      "metadata": {
        "id": "zXhCL_hatWTT",
        "colab": {
          "base_uri": "https://localhost:8080/",
          "height": 340
        },
        "outputId": "ae90e278-53ef-4fbc-ea1e-5c5c26fa22cc"
      },
      "source": [
        "# 패턴매치로 이상값 찾기\n",
        "pattern='([0-9])'  # 0~9 값으로 match 되면 true, 안되면 false\n",
        "bike_data['temp'] = bike_data['운동량'].str.match(pattern)\n",
        "bike_data.head()"
      ],
      "execution_count": null,
      "outputs": [
        {
          "output_type": "execute_result",
          "data": {
            "text/html": [
              "<div>\n",
              "<style scoped>\n",
              "    .dataframe tbody tr th:only-of-type {\n",
              "        vertical-align: middle;\n",
              "    }\n",
              "\n",
              "    .dataframe tbody tr th {\n",
              "        vertical-align: top;\n",
              "    }\n",
              "\n",
              "    .dataframe thead th {\n",
              "        text-align: right;\n",
              "    }\n",
              "</style>\n",
              "<table border=\"1\" class=\"dataframe\">\n",
              "  <thead>\n",
              "    <tr style=\"text-align: right;\">\n",
              "      <th></th>\n",
              "      <th>대여일자</th>\n",
              "      <th>대여시간</th>\n",
              "      <th>대여소번호</th>\n",
              "      <th>대여소명</th>\n",
              "      <th>대여구분코드</th>\n",
              "      <th>성별</th>\n",
              "      <th>연령대코드</th>\n",
              "      <th>이용건수</th>\n",
              "      <th>운동량</th>\n",
              "      <th>탄소량</th>\n",
              "      <th>이동거리</th>\n",
              "      <th>사용시간</th>\n",
              "      <th>temp</th>\n",
              "    </tr>\n",
              "  </thead>\n",
              "  <tbody>\n",
              "    <tr>\n",
              "      <th>0</th>\n",
              "      <td>2021-01-01</td>\n",
              "      <td>0</td>\n",
              "      <td>1347</td>\n",
              "      <td>1347. 길음래미안아파트817동 상가 앞</td>\n",
              "      <td>정기권</td>\n",
              "      <td>NaN</td>\n",
              "      <td>~10대</td>\n",
              "      <td>2</td>\n",
              "      <td>28.90</td>\n",
              "      <td>0.23</td>\n",
              "      <td>992.78</td>\n",
              "      <td>13</td>\n",
              "      <td>True</td>\n",
              "    </tr>\n",
              "    <tr>\n",
              "      <th>1</th>\n",
              "      <td>2021-01-01</td>\n",
              "      <td>0</td>\n",
              "      <td>1349</td>\n",
              "      <td>1349. 월계2교 버스정류장 앞</td>\n",
              "      <td>정기권</td>\n",
              "      <td>NaN</td>\n",
              "      <td>~10대</td>\n",
              "      <td>1</td>\n",
              "      <td>34.38</td>\n",
              "      <td>0.26</td>\n",
              "      <td>1127.50</td>\n",
              "      <td>10</td>\n",
              "      <td>True</td>\n",
              "    </tr>\n",
              "    <tr>\n",
              "      <th>2</th>\n",
              "      <td>2021-01-01</td>\n",
              "      <td>0</td>\n",
              "      <td>1168</td>\n",
              "      <td>1168. 마곡엠밸리10단지 앞</td>\n",
              "      <td>정기권</td>\n",
              "      <td>NaN</td>\n",
              "      <td>~10대</td>\n",
              "      <td>1</td>\n",
              "      <td>0.00</td>\n",
              "      <td>0.00</td>\n",
              "      <td>0.00</td>\n",
              "      <td>7</td>\n",
              "      <td>True</td>\n",
              "    </tr>\n",
              "    <tr>\n",
              "      <th>3</th>\n",
              "      <td>2021-01-01</td>\n",
              "      <td>0</td>\n",
              "      <td>2619</td>\n",
              "      <td>2619. 석촌고분역 4번출구</td>\n",
              "      <td>정기권</td>\n",
              "      <td>NaN</td>\n",
              "      <td>~10대</td>\n",
              "      <td>1</td>\n",
              "      <td>38.75</td>\n",
              "      <td>0.38</td>\n",
              "      <td>1658.34</td>\n",
              "      <td>14</td>\n",
              "      <td>True</td>\n",
              "    </tr>\n",
              "    <tr>\n",
              "      <th>4</th>\n",
              "      <td>2021-01-01</td>\n",
              "      <td>0</td>\n",
              "      <td>536</td>\n",
              "      <td>536. 행당역 2번출구 앞</td>\n",
              "      <td>정기권</td>\n",
              "      <td>NaN</td>\n",
              "      <td>~10대</td>\n",
              "      <td>1</td>\n",
              "      <td>12.96</td>\n",
              "      <td>0.17</td>\n",
              "      <td>743.88</td>\n",
              "      <td>5</td>\n",
              "      <td>True</td>\n",
              "    </tr>\n",
              "  </tbody>\n",
              "</table>\n",
              "</div>"
            ],
            "text/plain": [
              "         대여일자  대여시간  대여소번호                     대여소명  ...   탄소량     이동거리 사용시간  temp\n",
              "0  2021-01-01     0   1347  1347. 길음래미안아파트817동 상가 앞  ...  0.23   992.78   13  True\n",
              "1  2021-01-01     0   1349       1349. 월계2교 버스정류장 앞  ...  0.26  1127.50   10  True\n",
              "2  2021-01-01     0   1168        1168. 마곡엠밸리10단지 앞  ...  0.00     0.00    7  True\n",
              "3  2021-01-01     0   2619         2619. 석촌고분역 4번출구  ...  0.38  1658.34   14  True\n",
              "4  2021-01-01     0    536          536. 행당역 2번출구 앞  ...  0.17   743.88    5  True\n",
              "\n",
              "[5 rows x 13 columns]"
            ]
          },
          "metadata": {
            "tags": []
          },
          "execution_count": 31
        }
      ]
    },
    {
      "cell_type": "code",
      "metadata": {
        "id": "U8TEsMUDw63v",
        "colab": {
          "base_uri": "https://localhost:8080/"
        },
        "outputId": "8e59d7f7-812c-457e-ca9e-e874de348e63"
      },
      "source": [
        "bike_data.loc[bike_data['temp'] == False, '운동량']"
      ],
      "execution_count": null,
      "outputs": [
        {
          "output_type": "execute_result",
          "data": {
            "text/plain": [
              "57        \\N\n",
              "78        \\N\n",
              "240       \\N\n",
              "311       \\N\n",
              "397       \\N\n",
              "          ..\n",
              "717806    \\N\n",
              "718106    \\N\n",
              "718242    \\N\n",
              "718591    \\N\n",
              "718619    \\N\n",
              "Name: 운동량, Length: 4569, dtype: object"
            ]
          },
          "metadata": {
            "tags": []
          },
          "execution_count": 32
        }
      ]
    },
    {
      "cell_type": "code",
      "metadata": {
        "id": "FI9pj85PtCZ5"
      },
      "source": [
        "# 특수문자로 되어 있는 특정 데이터셋은 결측지(NaN)로 바꿉니다.\n",
        "# dropna(), fillna(value)"
      ],
      "execution_count": null,
      "outputs": []
    },
    {
      "cell_type": "code",
      "metadata": {
        "id": "jAqUem-muo5N"
      },
      "source": [
        "# 비정상적인 값은 효과적인 처리를 위해 결측치로 채우기\n",
        "bike_data.loc[bike_data['운동량']  == '\\\\N' , '운동량'] = np.nan\n"
      ],
      "execution_count": null,
      "outputs": []
    },
    {
      "cell_type": "code",
      "metadata": {
        "id": "1cma1jvYu2og",
        "colab": {
          "base_uri": "https://localhost:8080/"
        },
        "outputId": "4d3f9af5-511e-413e-929e-7130aa82eea4"
      },
      "source": [
        "# 결측치 개수 확인\n",
        "bike_data['운동량'].isnull().sum()"
      ],
      "execution_count": null,
      "outputs": [
        {
          "output_type": "execute_result",
          "data": {
            "text/plain": [
              "4569"
            ]
          },
          "metadata": {
            "tags": []
          },
          "execution_count": 36
        }
      ]
    },
    {
      "cell_type": "code",
      "metadata": {
        "id": "pWmLVlFtu8Qf"
      },
      "source": [
        "# 임시로 생성한 temp 컬럼 삭제\n",
        "# drop(columns=['']. inplace=True)\n",
        "bike_data.drop(columns=['temp'], inplace=True)"
      ],
      "execution_count": null,
      "outputs": []
    },
    {
      "cell_type": "code",
      "metadata": {
        "colab": {
          "base_uri": "https://localhost:8080/",
          "height": 340
        },
        "id": "PhxyceBJ3rDT",
        "outputId": "b7ec6482-6d75-4a2b-e9ae-3fca38440487"
      },
      "source": [
        "bike_data.head()"
      ],
      "execution_count": null,
      "outputs": [
        {
          "output_type": "execute_result",
          "data": {
            "text/html": [
              "<div>\n",
              "<style scoped>\n",
              "    .dataframe tbody tr th:only-of-type {\n",
              "        vertical-align: middle;\n",
              "    }\n",
              "\n",
              "    .dataframe tbody tr th {\n",
              "        vertical-align: top;\n",
              "    }\n",
              "\n",
              "    .dataframe thead th {\n",
              "        text-align: right;\n",
              "    }\n",
              "</style>\n",
              "<table border=\"1\" class=\"dataframe\">\n",
              "  <thead>\n",
              "    <tr style=\"text-align: right;\">\n",
              "      <th></th>\n",
              "      <th>대여일자</th>\n",
              "      <th>대여시간</th>\n",
              "      <th>대여소번호</th>\n",
              "      <th>대여소명</th>\n",
              "      <th>대여구분코드</th>\n",
              "      <th>성별</th>\n",
              "      <th>연령대코드</th>\n",
              "      <th>이용건수</th>\n",
              "      <th>운동량</th>\n",
              "      <th>탄소량</th>\n",
              "      <th>이동거리</th>\n",
              "      <th>사용시간</th>\n",
              "    </tr>\n",
              "  </thead>\n",
              "  <tbody>\n",
              "    <tr>\n",
              "      <th>0</th>\n",
              "      <td>2021-01-01</td>\n",
              "      <td>0</td>\n",
              "      <td>1347</td>\n",
              "      <td>1347. 길음래미안아파트817동 상가 앞</td>\n",
              "      <td>정기권</td>\n",
              "      <td>NaN</td>\n",
              "      <td>~10대</td>\n",
              "      <td>2</td>\n",
              "      <td>28.90</td>\n",
              "      <td>0.23</td>\n",
              "      <td>992.78</td>\n",
              "      <td>13</td>\n",
              "    </tr>\n",
              "    <tr>\n",
              "      <th>1</th>\n",
              "      <td>2021-01-01</td>\n",
              "      <td>0</td>\n",
              "      <td>1349</td>\n",
              "      <td>1349. 월계2교 버스정류장 앞</td>\n",
              "      <td>정기권</td>\n",
              "      <td>NaN</td>\n",
              "      <td>~10대</td>\n",
              "      <td>1</td>\n",
              "      <td>34.38</td>\n",
              "      <td>0.26</td>\n",
              "      <td>1127.50</td>\n",
              "      <td>10</td>\n",
              "    </tr>\n",
              "    <tr>\n",
              "      <th>2</th>\n",
              "      <td>2021-01-01</td>\n",
              "      <td>0</td>\n",
              "      <td>1168</td>\n",
              "      <td>1168. 마곡엠밸리10단지 앞</td>\n",
              "      <td>정기권</td>\n",
              "      <td>NaN</td>\n",
              "      <td>~10대</td>\n",
              "      <td>1</td>\n",
              "      <td>0.00</td>\n",
              "      <td>0.00</td>\n",
              "      <td>0.00</td>\n",
              "      <td>7</td>\n",
              "    </tr>\n",
              "    <tr>\n",
              "      <th>3</th>\n",
              "      <td>2021-01-01</td>\n",
              "      <td>0</td>\n",
              "      <td>2619</td>\n",
              "      <td>2619. 석촌고분역 4번출구</td>\n",
              "      <td>정기권</td>\n",
              "      <td>NaN</td>\n",
              "      <td>~10대</td>\n",
              "      <td>1</td>\n",
              "      <td>38.75</td>\n",
              "      <td>0.38</td>\n",
              "      <td>1658.34</td>\n",
              "      <td>14</td>\n",
              "    </tr>\n",
              "    <tr>\n",
              "      <th>4</th>\n",
              "      <td>2021-01-01</td>\n",
              "      <td>0</td>\n",
              "      <td>536</td>\n",
              "      <td>536. 행당역 2번출구 앞</td>\n",
              "      <td>정기권</td>\n",
              "      <td>NaN</td>\n",
              "      <td>~10대</td>\n",
              "      <td>1</td>\n",
              "      <td>12.96</td>\n",
              "      <td>0.17</td>\n",
              "      <td>743.88</td>\n",
              "      <td>5</td>\n",
              "    </tr>\n",
              "  </tbody>\n",
              "</table>\n",
              "</div>"
            ],
            "text/plain": [
              "         대여일자  대여시간  대여소번호                     대여소명  ...    운동량   탄소량     이동거리  사용시간\n",
              "0  2021-01-01     0   1347  1347. 길음래미안아파트817동 상가 앞  ...  28.90  0.23   992.78    13\n",
              "1  2021-01-01     0   1349       1349. 월계2교 버스정류장 앞  ...  34.38  0.26  1127.50    10\n",
              "2  2021-01-01     0   1168        1168. 마곡엠밸리10단지 앞  ...   0.00  0.00     0.00     7\n",
              "3  2021-01-01     0   2619         2619. 석촌고분역 4번출구  ...  38.75  0.38  1658.34    14\n",
              "4  2021-01-01     0    536          536. 행당역 2번출구 앞  ...  12.96  0.17   743.88     5\n",
              "\n",
              "[5 rows x 12 columns]"
            ]
          },
          "metadata": {
            "tags": []
          },
          "execution_count": 40
        }
      ]
    },
    {
      "cell_type": "markdown",
      "metadata": {
        "id": "Zhg1qXZEwNfw"
      },
      "source": [
        "- 데이터 타입 변경"
      ]
    },
    {
      "cell_type": "code",
      "metadata": {
        "id": "Tt3I8lVGwMPQ",
        "colab": {
          "base_uri": "https://localhost:8080/"
        },
        "outputId": "b6e89608-60ca-4563-b231-2129da13af92"
      },
      "source": [
        "# 데이터 타입 문자열에서 실수형으로 변환\n",
        "bike_data['운동량'].astype(float)"
      ],
      "execution_count": null,
      "outputs": [
        {
          "output_type": "execute_result",
          "data": {
            "text/plain": [
              "0          28.90\n",
              "1          34.38\n",
              "2           0.00\n",
              "3          38.75\n",
              "4          12.96\n",
              "           ...  \n",
              "718852    916.66\n",
              "718853    492.87\n",
              "718854    348.43\n",
              "718855     98.10\n",
              "718856    223.71\n",
              "Name: 운동량, Length: 718857, dtype: float64"
            ]
          },
          "metadata": {
            "tags": []
          },
          "execution_count": 41
        }
      ]
    },
    {
      "cell_type": "code",
      "metadata": {
        "id": "0CLpMNFwwXOS"
      },
      "source": [
        "# 데이터 타입 문자열에서 실수형으로 변환\n",
        "bike_data['운동량'] = bike_data['운동량'].astype(float)"
      ],
      "execution_count": null,
      "outputs": []
    },
    {
      "cell_type": "code",
      "metadata": {
        "id": "1GV-HuT-wfn7",
        "colab": {
          "base_uri": "https://localhost:8080/"
        },
        "outputId": "4649ffa4-47d9-4188-f8d0-ff2ec1326642"
      },
      "source": [
        "bike_data.info()"
      ],
      "execution_count": null,
      "outputs": [
        {
          "output_type": "stream",
          "text": [
            "<class 'pandas.core.frame.DataFrame'>\n",
            "RangeIndex: 718857 entries, 0 to 718856\n",
            "Data columns (total 12 columns):\n",
            " #   Column  Non-Null Count   Dtype  \n",
            "---  ------  --------------   -----  \n",
            " 0   대여일자    718857 non-null  object \n",
            " 1   대여시간    718857 non-null  int64  \n",
            " 2   대여소번호   718857 non-null  int64  \n",
            " 3   대여소명    718857 non-null  object \n",
            " 4   대여구분코드  718857 non-null  object \n",
            " 5   성별      401235 non-null  object \n",
            " 6   연령대코드   718857 non-null  object \n",
            " 7   이용건수    718857 non-null  int64  \n",
            " 8   운동량     714288 non-null  float64\n",
            " 9   탄소량     718857 non-null  object \n",
            " 10  이동거리    718857 non-null  float64\n",
            " 11  사용시간    718857 non-null  int64  \n",
            "dtypes: float64(2), int64(4), object(6)\n",
            "memory usage: 65.8+ MB\n"
          ],
          "name": "stdout"
        }
      ]
    },
    {
      "cell_type": "markdown",
      "metadata": {
        "id": "x2LAFX79pvHO"
      },
      "source": [
        "### 탄소량 컬럼 데이터를 살펴볼까요?"
      ]
    },
    {
      "cell_type": "code",
      "metadata": {
        "id": "DN9yu79DwnrK"
      },
      "source": [
        "# 범주형 데이터 둘러보기\n"
      ],
      "execution_count": null,
      "outputs": []
    },
    {
      "cell_type": "code",
      "metadata": {
        "id": "XxhwAOWzwqx_"
      },
      "source": [
        "# 범주형 데이터 기술통계 둘러보기\n"
      ],
      "execution_count": null,
      "outputs": []
    },
    {
      "cell_type": "code",
      "metadata": {
        "id": "ae4ASi7YwuKk"
      },
      "source": [
        "# 범주형 데이터의 결측치는?\n"
      ],
      "execution_count": null,
      "outputs": []
    },
    {
      "cell_type": "code",
      "metadata": {
        "id": "rF7Xvya7wy4H"
      },
      "source": [
        "# 패턴매치로 이상값 찾기\n",
        "pattern='([0-9])'"
      ],
      "execution_count": null,
      "outputs": []
    },
    {
      "cell_type": "code",
      "metadata": {
        "id": "uvdo46yAxbac"
      },
      "source": [
        ""
      ],
      "execution_count": null,
      "outputs": []
    },
    {
      "cell_type": "code",
      "metadata": {
        "id": "PzLOM7apxUdj"
      },
      "source": [
        ""
      ],
      "execution_count": null,
      "outputs": []
    },
    {
      "cell_type": "code",
      "metadata": {
        "id": "RO76nhMnxdqy"
      },
      "source": [
        "# 비정상적인 값은 효과적인 처리를 위해 결측치로 채우기\n"
      ],
      "execution_count": null,
      "outputs": []
    },
    {
      "cell_type": "code",
      "metadata": {
        "id": "lV6viyaAxk_U"
      },
      "source": [
        "# 결측치 개수 확인\n"
      ],
      "execution_count": null,
      "outputs": []
    },
    {
      "cell_type": "code",
      "metadata": {
        "id": "BYtRzZaPxqI0"
      },
      "source": [
        ""
      ],
      "execution_count": null,
      "outputs": []
    },
    {
      "cell_type": "code",
      "metadata": {
        "id": "j-gJlkJIxoBo"
      },
      "source": [
        "# 임시로 생성한 temp 컬럼 삭제\n"
      ],
      "execution_count": null,
      "outputs": []
    },
    {
      "cell_type": "code",
      "metadata": {
        "id": "z12abjfAx1ij"
      },
      "source": [
        "# 데이터 타입 문자열에서 실수형으로 변환\n"
      ],
      "execution_count": null,
      "outputs": []
    },
    {
      "cell_type": "code",
      "metadata": {
        "id": "sdOPqUfHx64N"
      },
      "source": [
        ""
      ],
      "execution_count": null,
      "outputs": []
    },
    {
      "cell_type": "markdown",
      "metadata": {
        "id": "gU3xm304yiIf"
      },
      "source": [
        "## 데이터 전처리 : 결측치 처리"
      ]
    },
    {
      "cell_type": "code",
      "metadata": {
        "id": "FnxrnheeynAg",
        "colab": {
          "base_uri": "https://localhost:8080/"
        },
        "outputId": "8ed29158-7466-4f78-d277-85eaf5749e9b"
      },
      "source": [
        "# 결측치 확인\n",
        "bike_data.isnull().sum()"
      ],
      "execution_count": null,
      "outputs": [
        {
          "output_type": "execute_result",
          "data": {
            "text/plain": [
              "대여일자           0\n",
              "대여시간           0\n",
              "대여소번호          0\n",
              "대여소명           0\n",
              "대여구분코드         0\n",
              "성별        317622\n",
              "연령대코드          0\n",
              "이용건수           0\n",
              "운동량         4569\n",
              "탄소량            0\n",
              "이동거리           0\n",
              "사용시간           0\n",
              "dtype: int64"
            ]
          },
          "metadata": {
            "tags": []
          },
          "execution_count": 44
        }
      ]
    },
    {
      "cell_type": "markdown",
      "metadata": {
        "id": "MBT4AO9Fy2zD"
      },
      "source": [
        "### 성별 컬럼 데이터를 살펴볼까요?"
      ]
    },
    {
      "cell_type": "code",
      "metadata": {
        "id": "84DVij4py1_y",
        "colab": {
          "base_uri": "https://localhost:8080/"
        },
        "outputId": "c9800973-fba9-4614-9606-b18a146a257f"
      },
      "source": [
        "# 성별 컬럼의 범주형 데이터 확인하기\n",
        "bike_data['성별'].unique()"
      ],
      "execution_count": null,
      "outputs": [
        {
          "output_type": "execute_result",
          "data": {
            "text/plain": [
              "array([nan, 'F', 'M', 'f', 'm'], dtype=object)"
            ]
          },
          "metadata": {
            "tags": []
          },
          "execution_count": 45
        }
      ]
    },
    {
      "cell_type": "code",
      "metadata": {
        "id": "CXPsJD89y_xj",
        "colab": {
          "base_uri": "https://localhost:8080/"
        },
        "outputId": "83729e01-bdcf-4f1b-d7b4-899f7127ad9a"
      },
      "source": [
        "# 성별 컬럼의 빈도수 확인\n",
        "bike_data['성별'].value_counts()"
      ],
      "execution_count": null,
      "outputs": [
        {
          "output_type": "execute_result",
          "data": {
            "text/plain": [
              "M    262477\n",
              "F    138500\n",
              "m       212\n",
              "f        46\n",
              "Name: 성별, dtype: int64"
            ]
          },
          "metadata": {
            "tags": []
          },
          "execution_count": 46
        }
      ]
    },
    {
      "cell_type": "code",
      "metadata": {
        "id": "UZQV7R7TzToY"
      },
      "source": [
        "# 동일 카테고리 값 M, m, F, f 혼용 --> 대문자 일괄 통일\n",
        "bike_data['성별'] = bike_data['성별'].str.upper()"
      ],
      "execution_count": null,
      "outputs": []
    },
    {
      "cell_type": "code",
      "metadata": {
        "id": "brpO2czIzYFH",
        "colab": {
          "base_uri": "https://localhost:8080/"
        },
        "outputId": "b434860c-3afb-4a3e-e703-fe1fb5b78047"
      },
      "source": [
        "# 성별 컬럼의 빈도수 확인\n",
        "bike_data['성별'].value_counts() # 결측치에 대한 빈도수는 보여주지 않습니다."
      ],
      "execution_count": null,
      "outputs": [
        {
          "output_type": "execute_result",
          "data": {
            "text/plain": [
              "M    262689\n",
              "F    138546\n",
              "Name: 성별, dtype: int64"
            ]
          },
          "metadata": {
            "tags": []
          },
          "execution_count": 49
        }
      ]
    },
    {
      "cell_type": "code",
      "metadata": {
        "id": "EoV_4PIJyuMY",
        "colab": {
          "base_uri": "https://localhost:8080/",
          "height": 640
        },
        "outputId": "a551ca7a-e272-4879-c3dd-3ea84dbe1a64"
      },
      "source": [
        "# 결측치 데이터 조회\n",
        "bike_data[bike_data['성별'].isnull()]"
      ],
      "execution_count": null,
      "outputs": [
        {
          "output_type": "execute_result",
          "data": {
            "text/html": [
              "<div>\n",
              "<style scoped>\n",
              "    .dataframe tbody tr th:only-of-type {\n",
              "        vertical-align: middle;\n",
              "    }\n",
              "\n",
              "    .dataframe tbody tr th {\n",
              "        vertical-align: top;\n",
              "    }\n",
              "\n",
              "    .dataframe thead th {\n",
              "        text-align: right;\n",
              "    }\n",
              "</style>\n",
              "<table border=\"1\" class=\"dataframe\">\n",
              "  <thead>\n",
              "    <tr style=\"text-align: right;\">\n",
              "      <th></th>\n",
              "      <th>대여일자</th>\n",
              "      <th>대여시간</th>\n",
              "      <th>대여소번호</th>\n",
              "      <th>대여소명</th>\n",
              "      <th>대여구분코드</th>\n",
              "      <th>성별</th>\n",
              "      <th>연령대코드</th>\n",
              "      <th>이용건수</th>\n",
              "      <th>운동량</th>\n",
              "      <th>탄소량</th>\n",
              "      <th>이동거리</th>\n",
              "      <th>사용시간</th>\n",
              "    </tr>\n",
              "  </thead>\n",
              "  <tbody>\n",
              "    <tr>\n",
              "      <th>0</th>\n",
              "      <td>2021-01-01</td>\n",
              "      <td>0</td>\n",
              "      <td>1347</td>\n",
              "      <td>1347. 길음래미안아파트817동 상가 앞</td>\n",
              "      <td>정기권</td>\n",
              "      <td>NaN</td>\n",
              "      <td>~10대</td>\n",
              "      <td>2</td>\n",
              "      <td>28.90</td>\n",
              "      <td>0.23</td>\n",
              "      <td>992.78</td>\n",
              "      <td>13</td>\n",
              "    </tr>\n",
              "    <tr>\n",
              "      <th>1</th>\n",
              "      <td>2021-01-01</td>\n",
              "      <td>0</td>\n",
              "      <td>1349</td>\n",
              "      <td>1349. 월계2교 버스정류장 앞</td>\n",
              "      <td>정기권</td>\n",
              "      <td>NaN</td>\n",
              "      <td>~10대</td>\n",
              "      <td>1</td>\n",
              "      <td>34.38</td>\n",
              "      <td>0.26</td>\n",
              "      <td>1127.50</td>\n",
              "      <td>10</td>\n",
              "    </tr>\n",
              "    <tr>\n",
              "      <th>2</th>\n",
              "      <td>2021-01-01</td>\n",
              "      <td>0</td>\n",
              "      <td>1168</td>\n",
              "      <td>1168. 마곡엠밸리10단지 앞</td>\n",
              "      <td>정기권</td>\n",
              "      <td>NaN</td>\n",
              "      <td>~10대</td>\n",
              "      <td>1</td>\n",
              "      <td>0.00</td>\n",
              "      <td>0.00</td>\n",
              "      <td>0.00</td>\n",
              "      <td>7</td>\n",
              "    </tr>\n",
              "    <tr>\n",
              "      <th>3</th>\n",
              "      <td>2021-01-01</td>\n",
              "      <td>0</td>\n",
              "      <td>2619</td>\n",
              "      <td>2619. 석촌고분역 4번출구</td>\n",
              "      <td>정기권</td>\n",
              "      <td>NaN</td>\n",
              "      <td>~10대</td>\n",
              "      <td>1</td>\n",
              "      <td>38.75</td>\n",
              "      <td>0.38</td>\n",
              "      <td>1658.34</td>\n",
              "      <td>14</td>\n",
              "    </tr>\n",
              "    <tr>\n",
              "      <th>4</th>\n",
              "      <td>2021-01-01</td>\n",
              "      <td>0</td>\n",
              "      <td>536</td>\n",
              "      <td>536. 행당역 2번출구 앞</td>\n",
              "      <td>정기권</td>\n",
              "      <td>NaN</td>\n",
              "      <td>~10대</td>\n",
              "      <td>1</td>\n",
              "      <td>12.96</td>\n",
              "      <td>0.17</td>\n",
              "      <td>743.88</td>\n",
              "      <td>5</td>\n",
              "    </tr>\n",
              "    <tr>\n",
              "      <th>...</th>\n",
              "      <td>...</td>\n",
              "      <td>...</td>\n",
              "      <td>...</td>\n",
              "      <td>...</td>\n",
              "      <td>...</td>\n",
              "      <td>...</td>\n",
              "      <td>...</td>\n",
              "      <td>...</td>\n",
              "      <td>...</td>\n",
              "      <td>...</td>\n",
              "      <td>...</td>\n",
              "      <td>...</td>\n",
              "    </tr>\n",
              "    <tr>\n",
              "      <th>718851</th>\n",
              "      <td>2021-01-31</td>\n",
              "      <td>23</td>\n",
              "      <td>3789</td>\n",
              "      <td>3789. 염창나들목</td>\n",
              "      <td>단체권</td>\n",
              "      <td>NaN</td>\n",
              "      <td>~10대</td>\n",
              "      <td>2</td>\n",
              "      <td>104.92</td>\n",
              "      <td>0.82</td>\n",
              "      <td>3532.68</td>\n",
              "      <td>26</td>\n",
              "    </tr>\n",
              "    <tr>\n",
              "      <th>718852</th>\n",
              "      <td>2021-01-31</td>\n",
              "      <td>23</td>\n",
              "      <td>207</td>\n",
              "      <td>207. 여의나루역 1번출구 앞</td>\n",
              "      <td>단체권</td>\n",
              "      <td>NaN</td>\n",
              "      <td>~10대</td>\n",
              "      <td>5</td>\n",
              "      <td>916.66</td>\n",
              "      <td>8.66</td>\n",
              "      <td>37335.95</td>\n",
              "      <td>219</td>\n",
              "    </tr>\n",
              "    <tr>\n",
              "      <th>718853</th>\n",
              "      <td>2021-01-31</td>\n",
              "      <td>23</td>\n",
              "      <td>3549</td>\n",
              "      <td>3549.건영아파트 앞</td>\n",
              "      <td>단체권</td>\n",
              "      <td>NaN</td>\n",
              "      <td>20대</td>\n",
              "      <td>2</td>\n",
              "      <td>492.87</td>\n",
              "      <td>4.51</td>\n",
              "      <td>19447.10</td>\n",
              "      <td>133</td>\n",
              "    </tr>\n",
              "    <tr>\n",
              "      <th>718854</th>\n",
              "      <td>2021-01-31</td>\n",
              "      <td>23</td>\n",
              "      <td>248</td>\n",
              "      <td>248. 초원아파트 앞</td>\n",
              "      <td>단체권</td>\n",
              "      <td>NaN</td>\n",
              "      <td>20대</td>\n",
              "      <td>2</td>\n",
              "      <td>348.43</td>\n",
              "      <td>2.91</td>\n",
              "      <td>12569.64</td>\n",
              "      <td>90</td>\n",
              "    </tr>\n",
              "    <tr>\n",
              "      <th>718855</th>\n",
              "      <td>2021-01-31</td>\n",
              "      <td>23</td>\n",
              "      <td>131</td>\n",
              "      <td>131. 증산2교</td>\n",
              "      <td>단체권</td>\n",
              "      <td>NaN</td>\n",
              "      <td>20대</td>\n",
              "      <td>2</td>\n",
              "      <td>98.10</td>\n",
              "      <td>0.77</td>\n",
              "      <td>3302.87</td>\n",
              "      <td>20</td>\n",
              "    </tr>\n",
              "  </tbody>\n",
              "</table>\n",
              "<p>317622 rows × 12 columns</p>\n",
              "</div>"
            ],
            "text/plain": [
              "              대여일자  대여시간  대여소번호  ...   탄소량      이동거리 사용시간\n",
              "0       2021-01-01     0   1347  ...  0.23    992.78   13\n",
              "1       2021-01-01     0   1349  ...  0.26   1127.50   10\n",
              "2       2021-01-01     0   1168  ...  0.00      0.00    7\n",
              "3       2021-01-01     0   2619  ...  0.38   1658.34   14\n",
              "4       2021-01-01     0    536  ...  0.17    743.88    5\n",
              "...            ...   ...    ...  ...   ...       ...  ...\n",
              "718851  2021-01-31    23   3789  ...  0.82   3532.68   26\n",
              "718852  2021-01-31    23    207  ...  8.66  37335.95  219\n",
              "718853  2021-01-31    23   3549  ...  4.51  19447.10  133\n",
              "718854  2021-01-31    23    248  ...  2.91  12569.64   90\n",
              "718855  2021-01-31    23    131  ...  0.77   3302.87   20\n",
              "\n",
              "[317622 rows x 12 columns]"
            ]
          },
          "metadata": {
            "tags": []
          },
          "execution_count": 50
        }
      ]
    },
    {
      "cell_type": "code",
      "metadata": {
        "colab": {
          "base_uri": "https://localhost:8080/"
        },
        "id": "TvSMOHCw733-",
        "outputId": "c3ba3727-67b4-4044-a317-1f9919025f8e"
      },
      "source": [
        "bike_data['성별'].isnull().sum()"
      ],
      "execution_count": null,
      "outputs": [
        {
          "output_type": "execute_result",
          "data": {
            "text/plain": [
              "317622"
            ]
          },
          "metadata": {
            "tags": []
          },
          "execution_count": 53
        }
      ]
    },
    {
      "cell_type": "code",
      "metadata": {
        "id": "2iorrUU1XtDt"
      },
      "source": [
        "# Pie 차트로 시각화\n"
      ],
      "execution_count": null,
      "outputs": []
    },
    {
      "cell_type": "code",
      "metadata": {
        "id": "YkDOY_eAzuVG"
      },
      "source": [
        "# 결측값을 'U'(Unknown)으로 처리, 범주형 데이터이기에 대체값은 없다. \n",
        "# fillna(value)\n",
        "# 조건 {key:value}\n",
        "bike_data.fillna({'성별':'U'}, inplace=True)\n"
      ],
      "execution_count": null,
      "outputs": []
    },
    {
      "cell_type": "code",
      "metadata": {
        "id": "RWFBqt2-0JFi",
        "colab": {
          "base_uri": "https://localhost:8080/"
        },
        "outputId": "f66766c2-dc21-4139-d6f8-47e39630333f"
      },
      "source": [
        "bike_data['성별'].isnull().sum()"
      ],
      "execution_count": null,
      "outputs": [
        {
          "output_type": "execute_result",
          "data": {
            "text/plain": [
              "0"
            ]
          },
          "metadata": {
            "tags": []
          },
          "execution_count": 57
        }
      ]
    },
    {
      "cell_type": "code",
      "metadata": {
        "colab": {
          "base_uri": "https://localhost:8080/",
          "height": 265
        },
        "id": "SBcKPM7L8xXt",
        "outputId": "638451c0-3bbc-45bd-cd10-b2e2dc823ba9"
      },
      "source": [
        "result = bike_data['성별'].value_counts()\n",
        "result.plot.pie(autopct='%1.1f%%')"
      ],
      "execution_count": null,
      "outputs": [
        {
          "output_type": "execute_result",
          "data": {
            "text/plain": [
              "<matplotlib.axes._subplots.AxesSubplot at 0x7f39ea492110>"
            ]
          },
          "metadata": {
            "tags": []
          },
          "execution_count": 60
        },
        {
          "output_type": "display_data",
          "data": {
            "image/png": "[encoded data removed]",
            "text/plain": [
              "<Figure size 432x288 with 1 Axes>"
            ]
          },
          "metadata": {
            "tags": [],
            "image/png": {
              "width": 246,
              "height": 231
            }
          }
        }
      ]
    },
    {
      "cell_type": "markdown",
      "metadata": {
        "id": "AlUVYAVi22xS"
      },
      "source": [
        "### 운동량 컬럼 데이터를 살펴볼까요?"
      ]
    },
    {
      "cell_type": "code",
      "metadata": {
        "id": "8lwS1qKx25qe",
        "colab": {
          "base_uri": "https://localhost:8080/"
        },
        "outputId": "2b49f323-1c52-457c-a6aa-310380dc6b71"
      },
      "source": [
        "# 결측치 데이터 조회\n",
        "bike_data['운동량'].isnull().sum()"
      ],
      "execution_count": null,
      "outputs": [
        {
          "output_type": "execute_result",
          "data": {
            "text/plain": [
              "4569"
            ]
          },
          "metadata": {
            "tags": []
          },
          "execution_count": 63
        }
      ]
    },
    {
      "cell_type": "code",
      "metadata": {
        "id": "f1oHsKDk5Lej",
        "colab": {
          "base_uri": "https://localhost:8080/"
        },
        "outputId": "412077b8-0b65-4156-e143-cf083abf7227"
      },
      "source": [
        "# 운동량의 평균값은? mean()\n",
        "bike_data['운동량'].mean()"
      ],
      "execution_count": null,
      "outputs": [
        {
          "output_type": "execute_result",
          "data": {
            "text/plain": [
              "82.05255287783059"
            ]
          },
          "metadata": {
            "tags": []
          },
          "execution_count": 64
        }
      ]
    },
    {
      "cell_type": "code",
      "metadata": {
        "id": "DoiGtxDT5S6Y"
      },
      "source": [
        "# 탄소량의 평균값은?"
      ],
      "execution_count": null,
      "outputs": []
    },
    {
      "cell_type": "code",
      "metadata": {
        "id": "FdCiZwI35VBj",
        "colab": {
          "base_uri": "https://localhost:8080/",
          "height": 130
        },
        "outputId": "ac32ab54-9eb2-4d53-893f-491c054ef92b"
      },
      "source": [
        "#[방법1] 123개의 결측치를 평균 값으로 대체하다면?\n",
        "bike_data.fillna(['운동량':bike_data['운동량'].mean()], inplace=True)"
      ],
      "execution_count": null,
      "outputs": [
        {
          "output_type": "error",
          "ename": "SyntaxError",
          "evalue": "ignored",
          "traceback": [
            "\u001b[0;36m  File \u001b[0;32m\"<ipython-input-66-b431e886f714>\"\u001b[0;36m, line \u001b[0;32m2\u001b[0m\n\u001b[0;31m    bike_data.fillna(['운동량':bike_data['운동량'].mean()], inplace=True)\u001b[0m\n\u001b[0m                           ^\u001b[0m\n\u001b[0;31mSyntaxError\u001b[0m\u001b[0;31m:\u001b[0m invalid syntax\n"
          ]
        }
      ]
    },
    {
      "cell_type": "code",
      "metadata": {
        "id": "bmkPnmGB57e_"
      },
      "source": [
        "#[방법2] 123개의 결측치가 한개라도 있는 데이터를 삭제한다면?\n",
        "bike_data.dropna(inplace=True)"
      ],
      "execution_count": null,
      "outputs": []
    },
    {
      "cell_type": "code",
      "metadata": {
        "id": "Q_oFP8Ze6kVG",
        "colab": {
          "base_uri": "https://localhost:8080/"
        },
        "outputId": "612e177b-6e18-401d-98e1-d4a15c7aa92d"
      },
      "source": [
        "bike_data.isnull().sum()"
      ],
      "execution_count": null,
      "outputs": [
        {
          "output_type": "execute_result",
          "data": {
            "text/plain": [
              "대여일자      0\n",
              "대여시간      0\n",
              "대여소번호     0\n",
              "대여소명      0\n",
              "대여구분코드    0\n",
              "성별        0\n",
              "연령대코드     0\n",
              "이용건수      0\n",
              "운동량       0\n",
              "탄소량       0\n",
              "이동거리      0\n",
              "사용시간      0\n",
              "dtype: int64"
            ]
          },
          "metadata": {
            "tags": []
          },
          "execution_count": 67
        }
      ]
    },
    {
      "cell_type": "markdown",
      "metadata": {
        "id": "UTAUrG2J6m2U"
      },
      "source": [
        "## 이상치 처리"
      ]
    },
    {
      "cell_type": "code",
      "metadata": {
        "id": "rECAccjj6o8U"
      },
      "source": [
        "bike_data.describe()"
      ],
      "execution_count": null,
      "outputs": []
    },
    {
      "cell_type": "markdown",
      "metadata": {
        "id": "JLusfzf264g9"
      },
      "source": [
        "### IQR 기반의 이상치 찾기"
      ]
    },
    {
      "cell_type": "code",
      "metadata": {
        "id": "O8tg8Jnc631_"
      },
      "source": [
        "# IQR 활용한 이상치 함수 구현\n",
        "def outliers_iqr(data, iqr_range):\n",
        "    q1 = np.percentile(data, 25)\n",
        "    q3 = np.percentile(data, 75)\n",
        "    iqr = q3 - q1\n",
        "    lower_bound = q1 - (iqr * iqr_range)\n",
        "    upper_bound = q3 + (iqr * iqr_range)\n",
        "    return data[(data > upper_bound) | (data < lower_bound)].index"
      ],
      "execution_count": null,
      "outputs": []
    },
    {
      "cell_type": "code",
      "metadata": {
        "colab": {
          "base_uri": "https://localhost:8080/",
          "height": 297
        },
        "id": "wwTQE_PoA3vp",
        "outputId": "b9e3775b-05f2-4350-d82e-4310fe464a72"
      },
      "source": [
        "bike_data.describe()"
      ],
      "execution_count": null,
      "outputs": [
        {
          "output_type": "execute_result",
          "data": {
            "text/html": [
              "<div>\n",
              "<style scoped>\n",
              "    .dataframe tbody tr th:only-of-type {\n",
              "        vertical-align: middle;\n",
              "    }\n",
              "\n",
              "    .dataframe tbody tr th {\n",
              "        vertical-align: top;\n",
              "    }\n",
              "\n",
              "    .dataframe thead th {\n",
              "        text-align: right;\n",
              "    }\n",
              "</style>\n",
              "<table border=\"1\" class=\"dataframe\">\n",
              "  <thead>\n",
              "    <tr style=\"text-align: right;\">\n",
              "      <th></th>\n",
              "      <th>대여시간</th>\n",
              "      <th>대여소번호</th>\n",
              "      <th>이용건수</th>\n",
              "      <th>운동량</th>\n",
              "      <th>이동거리</th>\n",
              "      <th>사용시간</th>\n",
              "    </tr>\n",
              "  </thead>\n",
              "  <tbody>\n",
              "    <tr>\n",
              "      <th>count</th>\n",
              "      <td>714288.000000</td>\n",
              "      <td>714288.000000</td>\n",
              "      <td>714288.000000</td>\n",
              "      <td>714288.000000</td>\n",
              "      <td>714288.000000</td>\n",
              "      <td>714288.000000</td>\n",
              "    </tr>\n",
              "    <tr>\n",
              "      <th>mean</th>\n",
              "      <td>14.198370</td>\n",
              "      <td>1447.288182</td>\n",
              "      <td>1.089506</td>\n",
              "      <td>82.052553</td>\n",
              "      <td>3053.298050</td>\n",
              "      <td>27.952880</td>\n",
              "    </tr>\n",
              "    <tr>\n",
              "      <th>std</th>\n",
              "      <td>5.245724</td>\n",
              "      <td>1015.104043</td>\n",
              "      <td>0.340697</td>\n",
              "      <td>117.619759</td>\n",
              "      <td>4287.593558</td>\n",
              "      <td>33.114494</td>\n",
              "    </tr>\n",
              "    <tr>\n",
              "      <th>min</th>\n",
              "      <td>0.000000</td>\n",
              "      <td>3.000000</td>\n",
              "      <td>1.000000</td>\n",
              "      <td>0.000000</td>\n",
              "      <td>0.000000</td>\n",
              "      <td>0.000000</td>\n",
              "    </tr>\n",
              "    <tr>\n",
              "      <th>25%</th>\n",
              "      <td>11.000000</td>\n",
              "      <td>601.000000</td>\n",
              "      <td>1.000000</td>\n",
              "      <td>21.090000</td>\n",
              "      <td>802.147500</td>\n",
              "      <td>8.000000</td>\n",
              "    </tr>\n",
              "    <tr>\n",
              "      <th>50%</th>\n",
              "      <td>15.000000</td>\n",
              "      <td>1230.000000</td>\n",
              "      <td>1.000000</td>\n",
              "      <td>45.070000</td>\n",
              "      <td>1694.905000</td>\n",
              "      <td>16.000000</td>\n",
              "    </tr>\n",
              "    <tr>\n",
              "      <th>75%</th>\n",
              "      <td>18.000000</td>\n",
              "      <td>2113.000000</td>\n",
              "      <td>1.000000</td>\n",
              "      <td>96.050000</td>\n",
              "      <td>3590.330000</td>\n",
              "      <td>36.000000</td>\n",
              "    </tr>\n",
              "    <tr>\n",
              "      <th>max</th>\n",
              "      <td>23.000000</td>\n",
              "      <td>9999.000000</td>\n",
              "      <td>14.000000</td>\n",
              "      <td>8621.750000</td>\n",
              "      <td>248420.000000</td>\n",
              "      <td>1753.000000</td>\n",
              "    </tr>\n",
              "  </tbody>\n",
              "</table>\n",
              "</div>"
            ],
            "text/plain": [
              "                대여시간          대여소번호  ...           이동거리           사용시간\n",
              "count  714288.000000  714288.000000  ...  714288.000000  714288.000000\n",
              "mean       14.198370    1447.288182  ...    3053.298050      27.952880\n",
              "std         5.245724    1015.104043  ...    4287.593558      33.114494\n",
              "min         0.000000       3.000000  ...       0.000000       0.000000\n",
              "25%        11.000000     601.000000  ...     802.147500       8.000000\n",
              "50%        15.000000    1230.000000  ...    1694.905000      16.000000\n",
              "75%        18.000000    2113.000000  ...    3590.330000      36.000000\n",
              "max        23.000000    9999.000000  ...  248420.000000    1753.000000\n",
              "\n",
              "[8 rows x 6 columns]"
            ]
          },
          "metadata": {
            "tags": []
          },
          "execution_count": 69
        }
      ]
    },
    {
      "cell_type": "code",
      "metadata": {
        "id": "Xkg3RzZM8lbV",
        "colab": {
          "base_uri": "https://localhost:8080/"
        },
        "outputId": "8e269571-cc8e-41ad-b52f-0cfc851d05de"
      },
      "source": [
        "# '이동거리' 컬럼 값 기준으로 이상치 찾기\n",
        "result = outliers_iqr(bike_data['이동거리'], 1.5)\n",
        "result.size"
      ],
      "execution_count": null,
      "outputs": [
        {
          "output_type": "execute_result",
          "data": {
            "text/plain": [
              "65735"
            ]
          },
          "metadata": {
            "tags": []
          },
          "execution_count": 71
        }
      ]
    },
    {
      "cell_type": "code",
      "metadata": {
        "id": "pRU-Hmjz822w",
        "colab": {
          "base_uri": "https://localhost:8080/"
        },
        "outputId": "70dc9583-67d5-4c25-fd57-04c7046d5175"
      },
      "source": [
        "# iqr range 를 3으로 조정하면?\n",
        "result = outliers_iqr(bike_data['이동거리'], 3)\n",
        "result.size"
      ],
      "execution_count": null,
      "outputs": [
        {
          "output_type": "execute_result",
          "data": {
            "text/plain": [
              "29328"
            ]
          },
          "metadata": {
            "tags": []
          },
          "execution_count": 72
        }
      ]
    },
    {
      "cell_type": "code",
      "metadata": {
        "id": "jkG3oGaV8ybX",
        "colab": {
          "base_uri": "https://localhost:8080/",
          "height": 640
        },
        "outputId": "72de42b1-cfc5-4700-abcf-79ff50cd40b4"
      },
      "source": [
        "# outliers 의 인덱스 값 이용하여 행 조회\n",
        "bike_data.loc[result]"
      ],
      "execution_count": null,
      "outputs": [
        {
          "output_type": "execute_result",
          "data": {
            "text/html": [
              "<div>\n",
              "<style scoped>\n",
              "    .dataframe tbody tr th:only-of-type {\n",
              "        vertical-align: middle;\n",
              "    }\n",
              "\n",
              "    .dataframe tbody tr th {\n",
              "        vertical-align: top;\n",
              "    }\n",
              "\n",
              "    .dataframe thead th {\n",
              "        text-align: right;\n",
              "    }\n",
              "</style>\n",
              "<table border=\"1\" class=\"dataframe\">\n",
              "  <thead>\n",
              "    <tr style=\"text-align: right;\">\n",
              "      <th></th>\n",
              "      <th>대여일자</th>\n",
              "      <th>대여시간</th>\n",
              "      <th>대여소번호</th>\n",
              "      <th>대여소명</th>\n",
              "      <th>대여구분코드</th>\n",
              "      <th>성별</th>\n",
              "      <th>연령대코드</th>\n",
              "      <th>이용건수</th>\n",
              "      <th>운동량</th>\n",
              "      <th>탄소량</th>\n",
              "      <th>이동거리</th>\n",
              "      <th>사용시간</th>\n",
              "    </tr>\n",
              "  </thead>\n",
              "  <tbody>\n",
              "    <tr>\n",
              "      <th>41</th>\n",
              "      <td>2021-01-01</td>\n",
              "      <td>0</td>\n",
              "      <td>709</td>\n",
              "      <td>709. 신정3동 현장민원실 앞</td>\n",
              "      <td>정기권</td>\n",
              "      <td>U</td>\n",
              "      <td>20대</td>\n",
              "      <td>1</td>\n",
              "      <td>478.03</td>\n",
              "      <td>4.31</td>\n",
              "      <td>18571.32</td>\n",
              "      <td>138</td>\n",
              "    </tr>\n",
              "    <tr>\n",
              "      <th>217</th>\n",
              "      <td>2021-01-01</td>\n",
              "      <td>0</td>\n",
              "      <td>458</td>\n",
              "      <td>458. 광화문역 5번출구</td>\n",
              "      <td>정기권</td>\n",
              "      <td>M</td>\n",
              "      <td>30대</td>\n",
              "      <td>1</td>\n",
              "      <td>426.08</td>\n",
              "      <td>3.37</td>\n",
              "      <td>14540.00</td>\n",
              "      <td>88</td>\n",
              "    </tr>\n",
              "    <tr>\n",
              "      <th>318</th>\n",
              "      <td>2021-01-01</td>\n",
              "      <td>0</td>\n",
              "      <td>797</td>\n",
              "      <td>797.목동아파트 1422동 1434동 사잇길</td>\n",
              "      <td>일일권</td>\n",
              "      <td>U</td>\n",
              "      <td>20대</td>\n",
              "      <td>2</td>\n",
              "      <td>281.98</td>\n",
              "      <td>3.00</td>\n",
              "      <td>12946.65</td>\n",
              "      <td>212</td>\n",
              "    </tr>\n",
              "    <tr>\n",
              "      <th>336</th>\n",
              "      <td>2021-01-01</td>\n",
              "      <td>0</td>\n",
              "      <td>2525</td>\n",
              "      <td>2525.반포쇼핑타운 2동 앞</td>\n",
              "      <td>일일권</td>\n",
              "      <td>F</td>\n",
              "      <td>~10대</td>\n",
              "      <td>2</td>\n",
              "      <td>335.76</td>\n",
              "      <td>3.28</td>\n",
              "      <td>14116.22</td>\n",
              "      <td>202</td>\n",
              "    </tr>\n",
              "    <tr>\n",
              "      <th>353</th>\n",
              "      <td>2021-01-01</td>\n",
              "      <td>0</td>\n",
              "      <td>3002</td>\n",
              "      <td>3002.벽산상암스마트큐브</td>\n",
              "      <td>일일권</td>\n",
              "      <td>M</td>\n",
              "      <td>20대</td>\n",
              "      <td>1</td>\n",
              "      <td>738.97</td>\n",
              "      <td>6.37</td>\n",
              "      <td>27442.45</td>\n",
              "      <td>152</td>\n",
              "    </tr>\n",
              "    <tr>\n",
              "      <th>...</th>\n",
              "      <td>...</td>\n",
              "      <td>...</td>\n",
              "      <td>...</td>\n",
              "      <td>...</td>\n",
              "      <td>...</td>\n",
              "      <td>...</td>\n",
              "      <td>...</td>\n",
              "      <td>...</td>\n",
              "      <td>...</td>\n",
              "      <td>...</td>\n",
              "      <td>...</td>\n",
              "      <td>...</td>\n",
              "    </tr>\n",
              "    <tr>\n",
              "      <th>718846</th>\n",
              "      <td>2021-01-31</td>\n",
              "      <td>23</td>\n",
              "      <td>2329</td>\n",
              "      <td>2329. 르네상스호텔사거리 역삼지하보도 2번출구</td>\n",
              "      <td>일일권</td>\n",
              "      <td>M</td>\n",
              "      <td>30대</td>\n",
              "      <td>1</td>\n",
              "      <td>499.05</td>\n",
              "      <td>3.65</td>\n",
              "      <td>15752.91</td>\n",
              "      <td>107</td>\n",
              "    </tr>\n",
              "    <tr>\n",
              "      <th>718848</th>\n",
              "      <td>2021-01-31</td>\n",
              "      <td>23</td>\n",
              "      <td>676</td>\n",
              "      <td>676.FITI시험연구원 앞</td>\n",
              "      <td>일일권</td>\n",
              "      <td>M</td>\n",
              "      <td>40대</td>\n",
              "      <td>1</td>\n",
              "      <td>586.40</td>\n",
              "      <td>4.40</td>\n",
              "      <td>18984.69</td>\n",
              "      <td>112</td>\n",
              "    </tr>\n",
              "    <tr>\n",
              "      <th>718852</th>\n",
              "      <td>2021-01-31</td>\n",
              "      <td>23</td>\n",
              "      <td>207</td>\n",
              "      <td>207. 여의나루역 1번출구 앞</td>\n",
              "      <td>단체권</td>\n",
              "      <td>U</td>\n",
              "      <td>~10대</td>\n",
              "      <td>5</td>\n",
              "      <td>916.66</td>\n",
              "      <td>8.66</td>\n",
              "      <td>37335.95</td>\n",
              "      <td>219</td>\n",
              "    </tr>\n",
              "    <tr>\n",
              "      <th>718853</th>\n",
              "      <td>2021-01-31</td>\n",
              "      <td>23</td>\n",
              "      <td>3549</td>\n",
              "      <td>3549.건영아파트 앞</td>\n",
              "      <td>단체권</td>\n",
              "      <td>U</td>\n",
              "      <td>20대</td>\n",
              "      <td>2</td>\n",
              "      <td>492.87</td>\n",
              "      <td>4.51</td>\n",
              "      <td>19447.10</td>\n",
              "      <td>133</td>\n",
              "    </tr>\n",
              "    <tr>\n",
              "      <th>718854</th>\n",
              "      <td>2021-01-31</td>\n",
              "      <td>23</td>\n",
              "      <td>248</td>\n",
              "      <td>248. 초원아파트 앞</td>\n",
              "      <td>단체권</td>\n",
              "      <td>U</td>\n",
              "      <td>20대</td>\n",
              "      <td>2</td>\n",
              "      <td>348.43</td>\n",
              "      <td>2.91</td>\n",
              "      <td>12569.64</td>\n",
              "      <td>90</td>\n",
              "    </tr>\n",
              "  </tbody>\n",
              "</table>\n",
              "<p>29328 rows × 12 columns</p>\n",
              "</div>"
            ],
            "text/plain": [
              "              대여일자  대여시간  대여소번호  ...   탄소량      이동거리 사용시간\n",
              "41      2021-01-01     0    709  ...  4.31  18571.32  138\n",
              "217     2021-01-01     0    458  ...  3.37  14540.00   88\n",
              "318     2021-01-01     0    797  ...  3.00  12946.65  212\n",
              "336     2021-01-01     0   2525  ...  3.28  14116.22  202\n",
              "353     2021-01-01     0   3002  ...  6.37  27442.45  152\n",
              "...            ...   ...    ...  ...   ...       ...  ...\n",
              "718846  2021-01-31    23   2329  ...  3.65  15752.91  107\n",
              "718848  2021-01-31    23    676  ...  4.40  18984.69  112\n",
              "718852  2021-01-31    23    207  ...  8.66  37335.95  219\n",
              "718853  2021-01-31    23   3549  ...  4.51  19447.10  133\n",
              "718854  2021-01-31    23    248  ...  2.91  12569.64   90\n",
              "\n",
              "[29328 rows x 12 columns]"
            ]
          },
          "metadata": {
            "tags": []
          },
          "execution_count": 77
        }
      ]
    },
    {
      "cell_type": "code",
      "metadata": {
        "id": "M1T_DzBM8yVT"
      },
      "source": [
        "# 이상치 존재하는 행 제거하여 원본에 반영\n",
        "bike_data.drop(result, inplace=True)"
      ],
      "execution_count": null,
      "outputs": []
    },
    {
      "cell_type": "code",
      "metadata": {
        "colab": {
          "base_uri": "https://localhost:8080/",
          "height": 323
        },
        "id": "yFibrJrYC-2H",
        "outputId": "e8876577-5309-4432-8657-5197f9561ac6"
      },
      "source": [
        "bike_data.head()"
      ],
      "execution_count": null,
      "outputs": [
        {
          "output_type": "execute_result",
          "data": {
            "text/html": [
              "<div>\n",
              "<style scoped>\n",
              "    .dataframe tbody tr th:only-of-type {\n",
              "        vertical-align: middle;\n",
              "    }\n",
              "\n",
              "    .dataframe tbody tr th {\n",
              "        vertical-align: top;\n",
              "    }\n",
              "\n",
              "    .dataframe thead th {\n",
              "        text-align: right;\n",
              "    }\n",
              "</style>\n",
              "<table border=\"1\" class=\"dataframe\">\n",
              "  <thead>\n",
              "    <tr style=\"text-align: right;\">\n",
              "      <th></th>\n",
              "      <th>대여일자</th>\n",
              "      <th>대여시간</th>\n",
              "      <th>대여소번호</th>\n",
              "      <th>대여소명</th>\n",
              "      <th>대여구분코드</th>\n",
              "      <th>성별</th>\n",
              "      <th>연령대코드</th>\n",
              "      <th>이용건수</th>\n",
              "      <th>운동량</th>\n",
              "      <th>탄소량</th>\n",
              "      <th>이동거리</th>\n",
              "      <th>사용시간</th>\n",
              "    </tr>\n",
              "  </thead>\n",
              "  <tbody>\n",
              "    <tr>\n",
              "      <th>0</th>\n",
              "      <td>2021-01-01</td>\n",
              "      <td>0</td>\n",
              "      <td>1347</td>\n",
              "      <td>1347. 길음래미안아파트817동 상가 앞</td>\n",
              "      <td>정기권</td>\n",
              "      <td>U</td>\n",
              "      <td>~10대</td>\n",
              "      <td>2</td>\n",
              "      <td>28.90</td>\n",
              "      <td>0.23</td>\n",
              "      <td>992.78</td>\n",
              "      <td>13</td>\n",
              "    </tr>\n",
              "    <tr>\n",
              "      <th>1</th>\n",
              "      <td>2021-01-01</td>\n",
              "      <td>0</td>\n",
              "      <td>1349</td>\n",
              "      <td>1349. 월계2교 버스정류장 앞</td>\n",
              "      <td>정기권</td>\n",
              "      <td>U</td>\n",
              "      <td>~10대</td>\n",
              "      <td>1</td>\n",
              "      <td>34.38</td>\n",
              "      <td>0.26</td>\n",
              "      <td>1127.50</td>\n",
              "      <td>10</td>\n",
              "    </tr>\n",
              "    <tr>\n",
              "      <th>2</th>\n",
              "      <td>2021-01-01</td>\n",
              "      <td>0</td>\n",
              "      <td>1168</td>\n",
              "      <td>1168. 마곡엠밸리10단지 앞</td>\n",
              "      <td>정기권</td>\n",
              "      <td>U</td>\n",
              "      <td>~10대</td>\n",
              "      <td>1</td>\n",
              "      <td>0.00</td>\n",
              "      <td>0.00</td>\n",
              "      <td>0.00</td>\n",
              "      <td>7</td>\n",
              "    </tr>\n",
              "    <tr>\n",
              "      <th>3</th>\n",
              "      <td>2021-01-01</td>\n",
              "      <td>0</td>\n",
              "      <td>2619</td>\n",
              "      <td>2619. 석촌고분역 4번출구</td>\n",
              "      <td>정기권</td>\n",
              "      <td>U</td>\n",
              "      <td>~10대</td>\n",
              "      <td>1</td>\n",
              "      <td>38.75</td>\n",
              "      <td>0.38</td>\n",
              "      <td>1658.34</td>\n",
              "      <td>14</td>\n",
              "    </tr>\n",
              "    <tr>\n",
              "      <th>4</th>\n",
              "      <td>2021-01-01</td>\n",
              "      <td>0</td>\n",
              "      <td>536</td>\n",
              "      <td>536. 행당역 2번출구 앞</td>\n",
              "      <td>정기권</td>\n",
              "      <td>U</td>\n",
              "      <td>~10대</td>\n",
              "      <td>1</td>\n",
              "      <td>12.96</td>\n",
              "      <td>0.17</td>\n",
              "      <td>743.88</td>\n",
              "      <td>5</td>\n",
              "    </tr>\n",
              "  </tbody>\n",
              "</table>\n",
              "</div>"
            ],
            "text/plain": [
              "         대여일자  대여시간  대여소번호                     대여소명  ...    운동량   탄소량     이동거리  사용시간\n",
              "0  2021-01-01     0   1347  1347. 길음래미안아파트817동 상가 앞  ...  28.90  0.23   992.78    13\n",
              "1  2021-01-01     0   1349       1349. 월계2교 버스정류장 앞  ...  34.38  0.26  1127.50    10\n",
              "2  2021-01-01     0   1168        1168. 마곡엠밸리10단지 앞  ...   0.00  0.00     0.00     7\n",
              "3  2021-01-01     0   2619         2619. 석촌고분역 4번출구  ...  38.75  0.38  1658.34    14\n",
              "4  2021-01-01     0    536          536. 행당역 2번출구 앞  ...  12.96  0.17   743.88     5\n",
              "\n",
              "[5 rows x 12 columns]"
            ]
          },
          "metadata": {
            "tags": []
          },
          "execution_count": 78
        }
      ]
    },
    {
      "cell_type": "markdown",
      "metadata": {
        "id": "aOy-mGJZ9xbi"
      },
      "source": [
        "# 데이터 결합\n",
        "\n",
        "- 서울특별시 공공자전거 대여소 정보\n",
        "- http://data.seoul.go.kr/dataList/OA-13252/F/1/datasetView.do\n",
        "- 파일명 : 공공자전거 대여소 정보(21.01.31 기준) --> bike_station_2101.csv"
      ]
    },
    {
      "cell_type": "code",
      "metadata": {
        "id": "7WI5hCg-Qy0a"
      },
      "source": [
        "url_station = 'https://codepresso-online-platform-public.s3.ap-northeast-2.amazonaws.com/learning-resourse/python-data-analysis/bike_station_2101.csv'"
      ],
      "execution_count": null,
      "outputs": []
    },
    {
      "cell_type": "code",
      "metadata": {
        "id": "y1bHmakVQ53Z"
      },
      "source": [
        "bike_station = pd.read_csv(url_station, encoding='cp949', header=4)"
      ],
      "execution_count": null,
      "outputs": []
    },
    {
      "cell_type": "code",
      "metadata": {
        "id": "Qp94pLsS9ytS",
        "colab": {
          "base_uri": "https://localhost:8080/",
          "height": 425
        },
        "outputId": "2b056762-9262-4668-d060-4511d570af3e"
      },
      "source": [
        "#head 로 다시 읽기\n",
        "bike_station.head()"
      ],
      "execution_count": null,
      "outputs": [
        {
          "output_type": "execute_result",
          "data": {
            "text/html": [
              "<div>\n",
              "<style scoped>\n",
              "    .dataframe tbody tr th:only-of-type {\n",
              "        vertical-align: middle;\n",
              "    }\n",
              "\n",
              "    .dataframe tbody tr th {\n",
              "        vertical-align: top;\n",
              "    }\n",
              "\n",
              "    .dataframe thead th {\n",
              "        text-align: right;\n",
              "    }\n",
              "</style>\n",
              "<table border=\"1\" class=\"dataframe\">\n",
              "  <thead>\n",
              "    <tr style=\"text-align: right;\">\n",
              "      <th></th>\n",
              "      <th>Unnamed: 0</th>\n",
              "      <th>Unnamed: 1</th>\n",
              "      <th>Unnamed: 2</th>\n",
              "      <th>Unnamed: 3</th>\n",
              "      <th>Unnamed: 4</th>\n",
              "      <th>Unnamed: 5</th>\n",
              "      <th>Unnamed: 6</th>\n",
              "      <th>Unnamed: 7</th>\n",
              "      <th>Unnamed: 8</th>\n",
              "      <th>Unnamed: 9</th>\n",
              "    </tr>\n",
              "  </thead>\n",
              "  <tbody>\n",
              "    <tr>\n",
              "      <th>0</th>\n",
              "      <td>301.0</td>\n",
              "      <td>경복궁역 7번출구 앞</td>\n",
              "      <td>종로구</td>\n",
              "      <td>서울특별시 종로구 사직로 지하130</td>\n",
              "      <td>37.575794</td>\n",
              "      <td>126.971451</td>\n",
              "      <td>2015-10-07</td>\n",
              "      <td>16.0</td>\n",
              "      <td>NaN</td>\n",
              "      <td>LCD</td>\n",
              "    </tr>\n",
              "    <tr>\n",
              "      <th>1</th>\n",
              "      <td>302.0</td>\n",
              "      <td>경복궁역 4번출구 뒤</td>\n",
              "      <td>종로구</td>\n",
              "      <td>서울특별시 종로구 사직로 지하130</td>\n",
              "      <td>37.575947</td>\n",
              "      <td>126.974060</td>\n",
              "      <td>2015-10-07</td>\n",
              "      <td>12.0</td>\n",
              "      <td>NaN</td>\n",
              "      <td>LCD</td>\n",
              "    </tr>\n",
              "    <tr>\n",
              "      <th>2</th>\n",
              "      <td>303.0</td>\n",
              "      <td>광화문역 1번출구 앞</td>\n",
              "      <td>종로구</td>\n",
              "      <td>서울특별시 종로구 세종대로 지하189</td>\n",
              "      <td>37.571770</td>\n",
              "      <td>126.974663</td>\n",
              "      <td>2015-10-07</td>\n",
              "      <td>8.0</td>\n",
              "      <td>NaN</td>\n",
              "      <td>LCD</td>\n",
              "    </tr>\n",
              "    <tr>\n",
              "      <th>3</th>\n",
              "      <td>304.0</td>\n",
              "      <td>광화문역 2번출구 앞</td>\n",
              "      <td>종로구</td>\n",
              "      <td>서울특별시 종로구 세종대로 지하172</td>\n",
              "      <td>37.572113</td>\n",
              "      <td>126.977577</td>\n",
              "      <td>2021-01-26</td>\n",
              "      <td>NaN</td>\n",
              "      <td>7.0</td>\n",
              "      <td>QR</td>\n",
              "    </tr>\n",
              "    <tr>\n",
              "      <th>4</th>\n",
              "      <td>305.0</td>\n",
              "      <td>종로구청 옆</td>\n",
              "      <td>종로구</td>\n",
              "      <td>서울특별시 종로구 삼봉로 43</td>\n",
              "      <td>37.572582</td>\n",
              "      <td>126.978355</td>\n",
              "      <td>2015-10-07</td>\n",
              "      <td>16.0</td>\n",
              "      <td>NaN</td>\n",
              "      <td>LCD</td>\n",
              "    </tr>\n",
              "  </tbody>\n",
              "</table>\n",
              "</div>"
            ],
            "text/plain": [
              "   Unnamed: 0   Unnamed: 1 Unnamed: 2  ... Unnamed: 7  Unnamed: 8  Unnamed: 9\n",
              "0       301.0  경복궁역 7번출구 앞        종로구  ...       16.0         NaN         LCD\n",
              "1       302.0  경복궁역 4번출구 뒤        종로구  ...       12.0         NaN         LCD\n",
              "2       303.0  광화문역 1번출구 앞        종로구  ...        8.0         NaN         LCD\n",
              "3       304.0  광화문역 2번출구 앞        종로구  ...        NaN         7.0          QR\n",
              "4       305.0       종로구청 옆        종로구  ...       16.0         NaN         LCD\n",
              "\n",
              "[5 rows x 10 columns]"
            ]
          },
          "metadata": {
            "tags": []
          },
          "execution_count": 85
        }
      ]
    },
    {
      "cell_type": "code",
      "metadata": {
        "id": "73utmfVo9lWq",
        "colab": {
          "base_uri": "https://localhost:8080/",
          "height": 204
        },
        "outputId": "bdb61366-7e7e-4438-e687-54aa62a4bd2e"
      },
      "source": [
        "# 슬라이싱을 통해 필요한 컬럼만 저장\n",
        "bike_station = bike_station.iloc[:, 0:6]\n",
        "bike_station.head()"
      ],
      "execution_count": null,
      "outputs": [
        {
          "output_type": "execute_result",
          "data": {
            "text/html": [
              "<div>\n",
              "<style scoped>\n",
              "    .dataframe tbody tr th:only-of-type {\n",
              "        vertical-align: middle;\n",
              "    }\n",
              "\n",
              "    .dataframe tbody tr th {\n",
              "        vertical-align: top;\n",
              "    }\n",
              "\n",
              "    .dataframe thead th {\n",
              "        text-align: right;\n",
              "    }\n",
              "</style>\n",
              "<table border=\"1\" class=\"dataframe\">\n",
              "  <thead>\n",
              "    <tr style=\"text-align: right;\">\n",
              "      <th></th>\n",
              "      <th>Unnamed: 0</th>\n",
              "      <th>Unnamed: 1</th>\n",
              "      <th>Unnamed: 2</th>\n",
              "      <th>Unnamed: 3</th>\n",
              "      <th>Unnamed: 4</th>\n",
              "      <th>Unnamed: 5</th>\n",
              "    </tr>\n",
              "  </thead>\n",
              "  <tbody>\n",
              "    <tr>\n",
              "      <th>0</th>\n",
              "      <td>301.0</td>\n",
              "      <td>경복궁역 7번출구 앞</td>\n",
              "      <td>종로구</td>\n",
              "      <td>서울특별시 종로구 사직로 지하130</td>\n",
              "      <td>37.575794</td>\n",
              "      <td>126.971451</td>\n",
              "    </tr>\n",
              "    <tr>\n",
              "      <th>1</th>\n",
              "      <td>302.0</td>\n",
              "      <td>경복궁역 4번출구 뒤</td>\n",
              "      <td>종로구</td>\n",
              "      <td>서울특별시 종로구 사직로 지하130</td>\n",
              "      <td>37.575947</td>\n",
              "      <td>126.974060</td>\n",
              "    </tr>\n",
              "    <tr>\n",
              "      <th>2</th>\n",
              "      <td>303.0</td>\n",
              "      <td>광화문역 1번출구 앞</td>\n",
              "      <td>종로구</td>\n",
              "      <td>서울특별시 종로구 세종대로 지하189</td>\n",
              "      <td>37.571770</td>\n",
              "      <td>126.974663</td>\n",
              "    </tr>\n",
              "    <tr>\n",
              "      <th>3</th>\n",
              "      <td>304.0</td>\n",
              "      <td>광화문역 2번출구 앞</td>\n",
              "      <td>종로구</td>\n",
              "      <td>서울특별시 종로구 세종대로 지하172</td>\n",
              "      <td>37.572113</td>\n",
              "      <td>126.977577</td>\n",
              "    </tr>\n",
              "    <tr>\n",
              "      <th>4</th>\n",
              "      <td>305.0</td>\n",
              "      <td>종로구청 옆</td>\n",
              "      <td>종로구</td>\n",
              "      <td>서울특별시 종로구 삼봉로 43</td>\n",
              "      <td>37.572582</td>\n",
              "      <td>126.978355</td>\n",
              "    </tr>\n",
              "  </tbody>\n",
              "</table>\n",
              "</div>"
            ],
            "text/plain": [
              "   Unnamed: 0   Unnamed: 1  ... Unnamed: 4  Unnamed: 5\n",
              "0       301.0  경복궁역 7번출구 앞  ...  37.575794  126.971451\n",
              "1       302.0  경복궁역 4번출구 뒤  ...  37.575947  126.974060\n",
              "2       303.0  광화문역 1번출구 앞  ...  37.571770  126.974663\n",
              "3       304.0  광화문역 2번출구 앞  ...  37.572113  126.977577\n",
              "4       305.0       종로구청 옆  ...  37.572582  126.978355\n",
              "\n",
              "[5 rows x 6 columns]"
            ]
          },
          "metadata": {
            "tags": []
          },
          "execution_count": 87
        }
      ]
    },
    {
      "cell_type": "code",
      "metadata": {
        "id": "fDn9OgPGASTM"
      },
      "source": [
        "# 컬럼명 저장\n",
        "# ['대여소번호', '보관소', '소재지', '주소', '위도', '경도',]\n",
        "bike_station.columns = ['대여소번호', '보관소', '소재지', '주소', '위도', '경도',]"
      ],
      "execution_count": null,
      "outputs": []
    },
    {
      "cell_type": "code",
      "metadata": {
        "id": "Qm9K1500A6u8",
        "colab": {
          "base_uri": "https://localhost:8080/"
        },
        "outputId": "1394bd93-b2d3-4d0f-963d-0bbf4f57fb4a"
      },
      "source": [
        "# 전체 정보 확인\n",
        "bike_station.info()"
      ],
      "execution_count": null,
      "outputs": [
        {
          "output_type": "stream",
          "text": [
            "<class 'pandas.core.frame.DataFrame'>\n",
            "RangeIndex: 2157 entries, 0 to 2156\n",
            "Data columns (total 6 columns):\n",
            " #   Column  Non-Null Count  Dtype  \n",
            "---  ------  --------------  -----  \n",
            " 0   대여소번호   2154 non-null   float64\n",
            " 1   보관소     2154 non-null   object \n",
            " 2   소재지     2154 non-null   object \n",
            " 3   주소      2154 non-null   object \n",
            " 4   위도      2042 non-null   float64\n",
            " 5   경도      2042 non-null   float64\n",
            "dtypes: float64(3), object(3)\n",
            "memory usage: 101.2+ KB\n"
          ],
          "name": "stdout"
        }
      ]
    },
    {
      "cell_type": "code",
      "metadata": {
        "id": "u2d3P5jcBPof",
        "colab": {
          "base_uri": "https://localhost:8080/",
          "height": 204
        },
        "outputId": "3571f960-2be5-4ea8-87ff-1636ef80e3ad"
      },
      "source": [
        "# 결측치 확인\n",
        "bike_station.head()"
      ],
      "execution_count": null,
      "outputs": [
        {
          "output_type": "execute_result",
          "data": {
            "text/html": [
              "<div>\n",
              "<style scoped>\n",
              "    .dataframe tbody tr th:only-of-type {\n",
              "        vertical-align: middle;\n",
              "    }\n",
              "\n",
              "    .dataframe tbody tr th {\n",
              "        vertical-align: top;\n",
              "    }\n",
              "\n",
              "    .dataframe thead th {\n",
              "        text-align: right;\n",
              "    }\n",
              "</style>\n",
              "<table border=\"1\" class=\"dataframe\">\n",
              "  <thead>\n",
              "    <tr style=\"text-align: right;\">\n",
              "      <th></th>\n",
              "      <th>대여소번호</th>\n",
              "      <th>보관소</th>\n",
              "      <th>소재지</th>\n",
              "      <th>주소</th>\n",
              "      <th>위도</th>\n",
              "      <th>경도</th>\n",
              "    </tr>\n",
              "  </thead>\n",
              "  <tbody>\n",
              "    <tr>\n",
              "      <th>0</th>\n",
              "      <td>301.0</td>\n",
              "      <td>경복궁역 7번출구 앞</td>\n",
              "      <td>종로구</td>\n",
              "      <td>서울특별시 종로구 사직로 지하130</td>\n",
              "      <td>37.575794</td>\n",
              "      <td>126.971451</td>\n",
              "    </tr>\n",
              "    <tr>\n",
              "      <th>1</th>\n",
              "      <td>302.0</td>\n",
              "      <td>경복궁역 4번출구 뒤</td>\n",
              "      <td>종로구</td>\n",
              "      <td>서울특별시 종로구 사직로 지하130</td>\n",
              "      <td>37.575947</td>\n",
              "      <td>126.974060</td>\n",
              "    </tr>\n",
              "    <tr>\n",
              "      <th>2</th>\n",
              "      <td>303.0</td>\n",
              "      <td>광화문역 1번출구 앞</td>\n",
              "      <td>종로구</td>\n",
              "      <td>서울특별시 종로구 세종대로 지하189</td>\n",
              "      <td>37.571770</td>\n",
              "      <td>126.974663</td>\n",
              "    </tr>\n",
              "    <tr>\n",
              "      <th>3</th>\n",
              "      <td>304.0</td>\n",
              "      <td>광화문역 2번출구 앞</td>\n",
              "      <td>종로구</td>\n",
              "      <td>서울특별시 종로구 세종대로 지하172</td>\n",
              "      <td>37.572113</td>\n",
              "      <td>126.977577</td>\n",
              "    </tr>\n",
              "    <tr>\n",
              "      <th>4</th>\n",
              "      <td>305.0</td>\n",
              "      <td>종로구청 옆</td>\n",
              "      <td>종로구</td>\n",
              "      <td>서울특별시 종로구 삼봉로 43</td>\n",
              "      <td>37.572582</td>\n",
              "      <td>126.978355</td>\n",
              "    </tr>\n",
              "  </tbody>\n",
              "</table>\n",
              "</div>"
            ],
            "text/plain": [
              "   대여소번호          보관소  소재지                    주소         위도          경도\n",
              "0  301.0  경복궁역 7번출구 앞  종로구   서울특별시 종로구 사직로 지하130  37.575794  126.971451\n",
              "1  302.0  경복궁역 4번출구 뒤  종로구   서울특별시 종로구 사직로 지하130  37.575947  126.974060\n",
              "2  303.0  광화문역 1번출구 앞  종로구  서울특별시 종로구 세종대로 지하189  37.571770  126.974663\n",
              "3  304.0  광화문역 2번출구 앞  종로구  서울특별시 종로구 세종대로 지하172  37.572113  126.977577\n",
              "4  305.0       종로구청 옆  종로구      서울특별시 종로구 삼봉로 43  37.572582  126.978355"
            ]
          },
          "metadata": {
            "tags": []
          },
          "execution_count": 92
        }
      ]
    },
    {
      "cell_type": "code",
      "metadata": {
        "id": "bBwOunSUBZTx"
      },
      "source": [
        "# 결측치 데이터 조회\n"
      ],
      "execution_count": null,
      "outputs": []
    },
    {
      "cell_type": "code",
      "metadata": {
        "id": "U8Iq0o-QBfHu"
      },
      "source": [
        "# 모든 행 데이터가 결측치인 경우의 데이터 제거\n"
      ],
      "execution_count": null,
      "outputs": []
    },
    {
      "cell_type": "markdown",
      "metadata": {
        "id": "GJMN8NwXBBsB"
      },
      "source": [
        "- 대여소 번호를 기준으로 결합시켜볼까요?"
      ]
    },
    {
      "cell_type": "code",
      "metadata": {
        "id": "xsQyaGXqA5mk",
        "colab": {
          "base_uri": "https://localhost:8080/"
        },
        "outputId": "c93efbfa-a9b7-42d1-c129-05511f685870"
      },
      "source": [
        "# bike_data 정보 다시 확인\n",
        "bike_data.info()"
      ],
      "execution_count": null,
      "outputs": [
        {
          "output_type": "stream",
          "text": [
            "<class 'pandas.core.frame.DataFrame'>\n",
            "Int64Index: 714288 entries, 0 to 718856\n",
            "Data columns (total 12 columns):\n",
            " #   Column  Non-Null Count   Dtype  \n",
            "---  ------  --------------   -----  \n",
            " 0   대여일자    714288 non-null  object \n",
            " 1   대여시간    714288 non-null  int64  \n",
            " 2   대여소번호   714288 non-null  int64  \n",
            " 3   대여소명    714288 non-null  object \n",
            " 4   대여구분코드  714288 non-null  object \n",
            " 5   성별      714288 non-null  object \n",
            " 6   연령대코드   714288 non-null  object \n",
            " 7   이용건수    714288 non-null  int64  \n",
            " 8   운동량     714288 non-null  float64\n",
            " 9   탄소량     714288 non-null  object \n",
            " 10  이동거리    714288 non-null  float64\n",
            " 11  사용시간    714288 non-null  int64  \n",
            "dtypes: float64(2), int64(4), object(6)\n",
            "memory usage: 90.8+ MB\n"
          ],
          "name": "stdout"
        }
      ]
    },
    {
      "cell_type": "code",
      "metadata": {
        "id": "QrDDTOzXBFZk"
      },
      "source": [
        "# 결측치 제거\n",
        "bike_station.dropna(how='all', inplace=True)\n",
        "\n",
        "# 데이터타입 일치하도록 변경\n",
        "bike_station['대여소번호'] = bike_station['대여소번호'].astype(int)\n"
      ],
      "execution_count": null,
      "outputs": []
    },
    {
      "cell_type": "code",
      "metadata": {
        "id": "Hei8TVHnB2UD",
        "colab": {
          "base_uri": "https://localhost:8080/"
        },
        "outputId": "42809198-488d-4005-b81b-b7be0aac1d68"
      },
      "source": [
        "# 확인\n",
        "bike_station.info()\n"
      ],
      "execution_count": null,
      "outputs": [
        {
          "output_type": "stream",
          "text": [
            "<class 'pandas.core.frame.DataFrame'>\n",
            "Int64Index: 2154 entries, 0 to 2153\n",
            "Data columns (total 6 columns):\n",
            " #   Column  Non-Null Count  Dtype  \n",
            "---  ------  --------------  -----  \n",
            " 0   대여소번호   2154 non-null   int64  \n",
            " 1   보관소     2154 non-null   object \n",
            " 2   소재지     2154 non-null   object \n",
            " 3   주소      2154 non-null   object \n",
            " 4   위도      2042 non-null   float64\n",
            " 5   경도      2042 non-null   float64\n",
            "dtypes: float64(2), int64(1), object(3)\n",
            "memory usage: 117.8+ KB\n"
          ],
          "name": "stdout"
        }
      ]
    },
    {
      "cell_type": "code",
      "metadata": {
        "id": "cD5t9kD6COhi",
        "colab": {
          "base_uri": "https://localhost:8080/",
          "height": 204
        },
        "outputId": "5d26e67e-b326-4e43-fd09-25ea10227394"
      },
      "source": [
        "# 대여소번호와 소재지정보만 따로 저장\n",
        "bike_station_subset = bike_station[['대여소번호', '소재지']]\n",
        "bike_station_subset.head()\n"
      ],
      "execution_count": null,
      "outputs": [
        {
          "output_type": "execute_result",
          "data": {
            "text/html": [
              "<div>\n",
              "<style scoped>\n",
              "    .dataframe tbody tr th:only-of-type {\n",
              "        vertical-align: middle;\n",
              "    }\n",
              "\n",
              "    .dataframe tbody tr th {\n",
              "        vertical-align: top;\n",
              "    }\n",
              "\n",
              "    .dataframe thead th {\n",
              "        text-align: right;\n",
              "    }\n",
              "</style>\n",
              "<table border=\"1\" class=\"dataframe\">\n",
              "  <thead>\n",
              "    <tr style=\"text-align: right;\">\n",
              "      <th></th>\n",
              "      <th>대여소번호</th>\n",
              "      <th>소재지</th>\n",
              "    </tr>\n",
              "  </thead>\n",
              "  <tbody>\n",
              "    <tr>\n",
              "      <th>0</th>\n",
              "      <td>301</td>\n",
              "      <td>종로구</td>\n",
              "    </tr>\n",
              "    <tr>\n",
              "      <th>1</th>\n",
              "      <td>302</td>\n",
              "      <td>종로구</td>\n",
              "    </tr>\n",
              "    <tr>\n",
              "      <th>2</th>\n",
              "      <td>303</td>\n",
              "      <td>종로구</td>\n",
              "    </tr>\n",
              "    <tr>\n",
              "      <th>3</th>\n",
              "      <td>304</td>\n",
              "      <td>종로구</td>\n",
              "    </tr>\n",
              "    <tr>\n",
              "      <th>4</th>\n",
              "      <td>305</td>\n",
              "      <td>종로구</td>\n",
              "    </tr>\n",
              "  </tbody>\n",
              "</table>\n",
              "</div>"
            ],
            "text/plain": [
              "   대여소번호  소재지\n",
              "0    301  종로구\n",
              "1    302  종로구\n",
              "2    303  종로구\n",
              "3    304  종로구\n",
              "4    305  종로구"
            ]
          },
          "metadata": {
            "tags": []
          },
          "execution_count": 96
        }
      ]
    },
    {
      "cell_type": "code",
      "metadata": {
        "id": "FKl63Ci5B41g",
        "colab": {
          "base_uri": "https://localhost:8080/",
          "height": 801
        },
        "outputId": "9e1b75de-c49a-4b4f-bd8a-09cc33aefdec"
      },
      "source": [
        "# merge 함수로 대여번호 기준으로 결합하기\n",
        "total_data = pd.merge(bike_data, bike_station_subset, on='대여소번호')\n",
        "total_data.sample(10)\n"
      ],
      "execution_count": null,
      "outputs": [
        {
          "output_type": "execute_result",
          "data": {
            "text/html": [
              "<div>\n",
              "<style scoped>\n",
              "    .dataframe tbody tr th:only-of-type {\n",
              "        vertical-align: middle;\n",
              "    }\n",
              "\n",
              "    .dataframe tbody tr th {\n",
              "        vertical-align: top;\n",
              "    }\n",
              "\n",
              "    .dataframe thead th {\n",
              "        text-align: right;\n",
              "    }\n",
              "</style>\n",
              "<table border=\"1\" class=\"dataframe\">\n",
              "  <thead>\n",
              "    <tr style=\"text-align: right;\">\n",
              "      <th></th>\n",
              "      <th>대여일자</th>\n",
              "      <th>대여시간</th>\n",
              "      <th>대여소번호</th>\n",
              "      <th>대여소명</th>\n",
              "      <th>대여구분코드</th>\n",
              "      <th>성별</th>\n",
              "      <th>연령대코드</th>\n",
              "      <th>이용건수</th>\n",
              "      <th>운동량</th>\n",
              "      <th>탄소량</th>\n",
              "      <th>이동거리</th>\n",
              "      <th>사용시간</th>\n",
              "      <th>소재지</th>\n",
              "    </tr>\n",
              "  </thead>\n",
              "  <tbody>\n",
              "    <tr>\n",
              "      <th>282644</th>\n",
              "      <td>2021-01-24</td>\n",
              "      <td>10</td>\n",
              "      <td>1749</td>\n",
              "      <td>1749. ESA아파트 상가 앞</td>\n",
              "      <td>정기권</td>\n",
              "      <td>U</td>\n",
              "      <td>20대</td>\n",
              "      <td>1</td>\n",
              "      <td>27.96</td>\n",
              "      <td>0.32</td>\n",
              "      <td>1357.86</td>\n",
              "      <td>11</td>\n",
              "      <td>도봉구</td>\n",
              "    </tr>\n",
              "    <tr>\n",
              "      <th>689850</th>\n",
              "      <td>2021-01-16</td>\n",
              "      <td>16</td>\n",
              "      <td>1715</td>\n",
              "      <td>1715. 서울특별시교육청도봉도서관</td>\n",
              "      <td>일일권</td>\n",
              "      <td>M</td>\n",
              "      <td>40대</td>\n",
              "      <td>1</td>\n",
              "      <td>10.11</td>\n",
              "      <td>0.07</td>\n",
              "      <td>283.67</td>\n",
              "      <td>15</td>\n",
              "      <td>도봉구</td>\n",
              "    </tr>\n",
              "    <tr>\n",
              "      <th>231444</th>\n",
              "      <td>2021-01-09</td>\n",
              "      <td>23</td>\n",
              "      <td>3787</td>\n",
              "      <td>3787. 가양나들목</td>\n",
              "      <td>정기권</td>\n",
              "      <td>M</td>\n",
              "      <td>70대~</td>\n",
              "      <td>1</td>\n",
              "      <td>51.19</td>\n",
              "      <td>0.50</td>\n",
              "      <td>2154.46</td>\n",
              "      <td>95</td>\n",
              "      <td>강서구</td>\n",
              "    </tr>\n",
              "    <tr>\n",
              "      <th>440127</th>\n",
              "      <td>2021-01-06</td>\n",
              "      <td>19</td>\n",
              "      <td>202</td>\n",
              "      <td>202. 국민일보 앞</td>\n",
              "      <td>정기권</td>\n",
              "      <td>U</td>\n",
              "      <td>40대</td>\n",
              "      <td>1</td>\n",
              "      <td>36.96</td>\n",
              "      <td>0.25</td>\n",
              "      <td>1072.88</td>\n",
              "      <td>8</td>\n",
              "      <td>영등포구</td>\n",
              "    </tr>\n",
              "    <tr>\n",
              "      <th>596638</th>\n",
              "      <td>2021-01-24</td>\n",
              "      <td>14</td>\n",
              "      <td>677</td>\n",
              "      <td>677.청량리역 4번 5번출구 사이</td>\n",
              "      <td>정기권</td>\n",
              "      <td>F</td>\n",
              "      <td>20대</td>\n",
              "      <td>1</td>\n",
              "      <td>21.00</td>\n",
              "      <td>0.27</td>\n",
              "      <td>1178.24</td>\n",
              "      <td>12</td>\n",
              "      <td>동대문구</td>\n",
              "    </tr>\n",
              "    <tr>\n",
              "      <th>219861</th>\n",
              "      <td>2021-01-18</td>\n",
              "      <td>7</td>\n",
              "      <td>660</td>\n",
              "      <td>660. 동의보감타워</td>\n",
              "      <td>정기권</td>\n",
              "      <td>U</td>\n",
              "      <td>50대</td>\n",
              "      <td>1</td>\n",
              "      <td>82.66</td>\n",
              "      <td>0.74</td>\n",
              "      <td>3211.16</td>\n",
              "      <td>21</td>\n",
              "      <td>동대문구</td>\n",
              "    </tr>\n",
              "    <tr>\n",
              "      <th>345939</th>\n",
              "      <td>2021-01-05</td>\n",
              "      <td>11</td>\n",
              "      <td>1113</td>\n",
              "      <td>1113. 서남환경공원 버스정류장</td>\n",
              "      <td>정기권</td>\n",
              "      <td>F</td>\n",
              "      <td>20대</td>\n",
              "      <td>1</td>\n",
              "      <td>53.86</td>\n",
              "      <td>0.63</td>\n",
              "      <td>2720.34</td>\n",
              "      <td>78</td>\n",
              "      <td>강서구</td>\n",
              "    </tr>\n",
              "    <tr>\n",
              "      <th>369256</th>\n",
              "      <td>2021-01-22</td>\n",
              "      <td>22</td>\n",
              "      <td>2065</td>\n",
              "      <td>2065. 서울시여성가족재단</td>\n",
              "      <td>정기권</td>\n",
              "      <td>F</td>\n",
              "      <td>40대</td>\n",
              "      <td>1</td>\n",
              "      <td>27.87</td>\n",
              "      <td>0.36</td>\n",
              "      <td>1563.70</td>\n",
              "      <td>7</td>\n",
              "      <td>동작구</td>\n",
              "    </tr>\n",
              "    <tr>\n",
              "      <th>82124</th>\n",
              "      <td>2021-01-02</td>\n",
              "      <td>19</td>\n",
              "      <td>911</td>\n",
              "      <td>911. 은평평화공원(역촌역4번출구)</td>\n",
              "      <td>정기권</td>\n",
              "      <td>M</td>\n",
              "      <td>40대</td>\n",
              "      <td>1</td>\n",
              "      <td>0.00</td>\n",
              "      <td>0.00</td>\n",
              "      <td>0.00</td>\n",
              "      <td>4</td>\n",
              "      <td>은평구</td>\n",
              "    </tr>\n",
              "    <tr>\n",
              "      <th>370918</th>\n",
              "      <td>2021-01-02</td>\n",
              "      <td>4</td>\n",
              "      <td>3905</td>\n",
              "      <td>3905. 희훈타워빌 앞</td>\n",
              "      <td>정기권</td>\n",
              "      <td>F</td>\n",
              "      <td>50대</td>\n",
              "      <td>1</td>\n",
              "      <td>153.26</td>\n",
              "      <td>1.73</td>\n",
              "      <td>7442.65</td>\n",
              "      <td>42</td>\n",
              "      <td>구로구</td>\n",
              "    </tr>\n",
              "  </tbody>\n",
              "</table>\n",
              "</div>"
            ],
            "text/plain": [
              "              대여일자  대여시간  대여소번호  ...     이동거리 사용시간   소재지\n",
              "282644  2021-01-24    10   1749  ...  1357.86   11   도봉구\n",
              "689850  2021-01-16    16   1715  ...   283.67   15   도봉구\n",
              "231444  2021-01-09    23   3787  ...  2154.46   95   강서구\n",
              "440127  2021-01-06    19    202  ...  1072.88    8  영등포구\n",
              "596638  2021-01-24    14    677  ...  1178.24   12  동대문구\n",
              "219861  2021-01-18     7    660  ...  3211.16   21  동대문구\n",
              "345939  2021-01-05    11   1113  ...  2720.34   78   강서구\n",
              "369256  2021-01-22    22   2065  ...  1563.70    7   동작구\n",
              "82124   2021-01-02    19    911  ...     0.00    4   은평구\n",
              "370918  2021-01-02     4   3905  ...  7442.65   42   구로구\n",
              "\n",
              "[10 rows x 13 columns]"
            ]
          },
          "metadata": {
            "tags": []
          },
          "execution_count": 98
        }
      ]
    },
    {
      "cell_type": "code",
      "metadata": {
        "id": "4I8eZ2uNCr-E"
      },
      "source": [
        "bike_station_data.info()"
      ],
      "execution_count": null,
      "outputs": []
    },
    {
      "cell_type": "markdown",
      "metadata": {
        "id": "Nor-7AZNCudB"
      },
      "source": [
        "# 데이터 그룹화하기"
      ]
    },
    {
      "cell_type": "markdown",
      "metadata": {
        "id": "cUCdsmgUUtD0"
      },
      "source": [
        "### 성별 이용건수는?"
      ]
    },
    {
      "cell_type": "code",
      "metadata": {
        "id": "8KjUyG0KC0D6"
      },
      "source": [
        "# 성별 이용건수는?\n"
      ],
      "execution_count": null,
      "outputs": []
    },
    {
      "cell_type": "code",
      "metadata": {
        "id": "lKiHAXa8HJPn"
      },
      "source": [
        "# 내림차순 정렬\n"
      ],
      "execution_count": null,
      "outputs": []
    },
    {
      "cell_type": "markdown",
      "metadata": {
        "id": "5h5faTbUUqO8"
      },
      "source": [
        "### 연령대별 이용건수는?"
      ]
    },
    {
      "cell_type": "code",
      "metadata": {
        "id": "ePcgz-bNGVxK"
      },
      "source": [
        "# 연령대별 이용건수는?\n"
      ],
      "execution_count": null,
      "outputs": []
    },
    {
      "cell_type": "code",
      "metadata": {
        "id": "BV2WCrl-UDF8"
      },
      "source": [
        "# 막대그래프로 시각화\n"
      ],
      "execution_count": null,
      "outputs": []
    },
    {
      "cell_type": "markdown",
      "metadata": {
        "id": "dgJrzhCYU1fo"
      },
      "source": [
        "### 대여일자 별 이용건수는?"
      ]
    },
    {
      "cell_type": "code",
      "metadata": {
        "id": "Ihmg95EfJQRV"
      },
      "source": [
        "# 대여일자 별 이용건수\n"
      ],
      "execution_count": null,
      "outputs": []
    },
    {
      "cell_type": "code",
      "metadata": {
        "id": "iHbg8OBFSM4s"
      },
      "source": [
        "# 라인그래프로 시각화\n"
      ],
      "execution_count": null,
      "outputs": []
    },
    {
      "cell_type": "markdown",
      "metadata": {
        "id": "9XQZTN8oVHqs"
      },
      "source": [
        "###소재지별 이용건수는?"
      ]
    },
    {
      "cell_type": "code",
      "metadata": {
        "id": "As8z-Y6hGdsm",
        "colab": {
          "base_uri": "https://localhost:8080/"
        },
        "outputId": "2a68ee43-2198-45d9-c439-f8e08fa45ef9"
      },
      "source": [
        "# 소재지별 이용건수는?\n",
        "total_data.groupby(['소재지'])['이용건수'].sum()"
      ],
      "execution_count": null,
      "outputs": [
        {
          "output_type": "execute_result",
          "data": {
            "text/plain": [
              "소재지\n",
              "강남구     23524\n",
              "강동구     24917\n",
              "강북구     15452\n",
              "강서구     72032\n",
              "관악구     26143\n",
              "광진구     36420\n",
              "구로구     30246\n",
              "금천구     12920\n",
              "노원구     40312\n",
              "도봉구     15991\n",
              "동대문구    32046\n",
              "동작구     18073\n",
              "마포구     46275\n",
              "서대문구    22053\n",
              "서초구     28017\n",
              "성동구     35952\n",
              "성북구     24875\n",
              "송파구     52653\n",
              "양천구     41579\n",
              "영등포구    61565\n",
              "용산구     16699\n",
              "은평구     24486\n",
              "종로구     33654\n",
              "중구      19363\n",
              "중랑구     21905\n",
              "Name: 이용건수, dtype: int64"
            ]
          },
          "metadata": {
            "tags": []
          },
          "execution_count": 101
        }
      ]
    },
    {
      "cell_type": "code",
      "metadata": {
        "id": "JeftFftaSzOC"
      },
      "source": [
        "# 막대그래프로 시각화\n"
      ],
      "execution_count": null,
      "outputs": []
    },
    {
      "cell_type": "markdown",
      "metadata": {
        "id": "t3zZXgh1HnOq"
      },
      "source": [
        "- 교차테이블을 이용한 데이터 그룹화"
      ]
    },
    {
      "cell_type": "code",
      "metadata": {
        "id": "9NMzki2CGsjo"
      },
      "source": [
        ""
      ],
      "execution_count": null,
      "outputs": []
    }
  ]
}