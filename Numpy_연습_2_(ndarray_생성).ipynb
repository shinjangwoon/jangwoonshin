{
  "nbformat": 4,
  "nbformat_minor": 0,
  "metadata": {
    "colab": {
      "name": "Numpy 연습 2 (ndarray 생성).ipynb",
      "private_outputs": true,
      "provenance": [],
      "collapsed_sections": [],
      "authorship_tag": "ABX9TyPBz8gm0yshGMpqTvg5iHIw",
      "include_colab_link": true
    },
    "kernelspec": {
      "name": "python3",
      "display_name": "Python 3"
    },
    "language_info": {
      "name": "python"
    }
  },
  "cells": [
    {
      "cell_type": "markdown",
      "metadata": {
        "id": "view-in-github",
        "colab_type": "text"
      },
      "source": [
        "<a href=\"https://colab.research.google.com/github/shinjangwoon/jangwoonshin/blob/practice/Numpy_%EC%97%B0%EC%8A%B5_2_(ndarray_%EC%83%9D%EC%84%B1).ipynb\" target=\"_parent\"><img src=\"https://colab.research.google.com/assets/colab-badge.svg\" alt=\"Open In Colab\"/></a>"
      ]
    },
    {
      "cell_type": "code",
      "metadata": {
        "id": "rDt1eI8uVzRb"
      },
      "source": [
        "import numpy as np\n",
        "def printinfo(arr):\n",
        "  print(arr)\n",
        "  print(\"shape: {}, size: {}, dtype: {}, dimension: {}\"\n",
        "        .format(arr.shape, arr.size, arr.dtype, arr.ndim))\n",
        "arr = np.arange(2, 10) # 파이썬의 range()와 동일하게 연속된 데이터를 생성\n",
        "print('\\nCreate ndarray by np.arange()')\n",
        "printinfo(arr)\n",
        "arr = np.zeros(5) # 지정된 크기(shape)만큼 배열을 생성하고, 모든 요소를 0으로 초기화\n",
        "print('\\n Create ndarray by np.zeors()')\n",
        "printinfo(arr)\n",
        "arr = np.zeros((3, 4), dtype=int) # dtype을 입력을 안하면 float 타입으로 생성\n",
        "print('\\n Create ndarray by np.zeors()')\n",
        "printinfo(arr)\n",
        "arr = np.ones((3, 4)) # 모든 요소를 1로 초기화\n",
        "print('\\n Create ndarray by np.ones()')\n",
        "printinfo(arr)\n",
        "arr = np.full((3, 4), 77) # np.full(shape, fill_Value, dtype=None)\n",
        "print('\\n Create ndarray by np.full()')\n",
        "printinfo(arr)\n",
        "arr = np.empty((2, 2))  # 초기화되지 않은 상태로 지정된 shape 만큼의 ndarray 생성\n",
        "print('\\n Create ndarray by np.empty()')\n",
        "printinfo(arr)\n",
        "# sample 데이터 생성\n",
        "data = [[1,2,3], [4,5,6]]\n",
        "sample =  np.array(data)\n",
        "print('\\n Sample')\n",
        "printinfo(sample)\n",
        "\n",
        "one_array = np.ones_like(sample)\n",
        "print('\\n Create ndarray by np.ones_like()') \n",
        "printinfo(one_array)"
      ],
      "execution_count": null,
      "outputs": []
    }
  ]
}