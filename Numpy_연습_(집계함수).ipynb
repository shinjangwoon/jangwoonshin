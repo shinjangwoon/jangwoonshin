{
  "nbformat": 4,
  "nbformat_minor": 0,
  "metadata": {
    "colab": {
      "name": "Numpy 연습 (집계함수).ipynb",
      "private_outputs": true,
      "provenance": [],
      "collapsed_sections": [],
      "authorship_tag": "ABX9TyNsgvLQ8UOF9UGpIs42yQT2",
      "include_colab_link": true
    },
    "kernelspec": {
      "name": "python3",
      "display_name": "Python 3"
    },
    "language_info": {
      "name": "python"
    }
  },
  "cells": [
    {
      "cell_type": "markdown",
      "metadata": {
        "id": "view-in-github",
        "colab_type": "text"
      },
      "source": [
        "<a href=\"https://colab.research.google.com/github/shinjangwoon/jangwoonshin/blob/practice/Numpy_%EC%97%B0%EC%8A%B5_(%EC%A7%91%EA%B3%84%ED%95%A8%EC%88%98).ipynb\" target=\"_parent\"><img src=\"https://colab.research.google.com/assets/colab-badge.svg\" alt=\"Open In Colab\"/></a>"
      ]
    },
    {
      "cell_type": "code",
      "metadata": {
        "id": "YOkzGy9_VNr7"
      },
      "source": [
        "import numpy as np\n",
        "\n",
        "# 샘플 데이터 생성\n",
        "sample = np.arange(1,10).reshape(3,3)\n",
        "print('Sample')\n",
        "print(sample)\n",
        "\n",
        "# axis=None 실습 (default)\n",
        "\n",
        "print('\\n[CASE-1]axis=None')\n",
        "print('sum :', sample.sum())\n",
        "print('mean :', sample.mean())\n",
        "print('std :',  sample.std())\n",
        "print('max :', sample.max())\n",
        "print('min :',  sample.min())\n",
        "\n",
        "\n",
        "# axis=0 실습\n",
        "\n",
        "\n",
        "print('\\n[CASE-2]axis=0')\n",
        "print('sum :', sample.sum(axis=0) )\n",
        "print('mean :', sample.mean(axis=0))\n",
        "print('std :', sample.std(axis=0))\n",
        "print('max :',  sample.max(axis=0))\n",
        "print('min :',  sample.min(axis=0))\n",
        "\n",
        "# axis=1 실습 (default)\n",
        "\n",
        "\n",
        "print('\\n[CASE-3]axis=1')\n",
        "print('sum :', sample.sum(axis=1))\n",
        "print('mean :',sample.mean(axis=1) )\n",
        "print('std :',  sample.std(axis=1))\n",
        "print('max :',  sample.max(axis=1))\n",
        "print('min :', sample.min(axis=1))"
      ],
      "execution_count": null,
      "outputs": []
    }
  ]
}