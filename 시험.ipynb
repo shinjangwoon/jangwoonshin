{
  "nbformat": 4,
  "nbformat_minor": 0,
  "metadata": {
    "colab": {
      "name": "시험.ipynb",
      "private_outputs": true,
      "provenance": [],
      "collapsed_sections": [],
      "authorship_tag": "ABX9TyN4o13x0BdRmuLc6fHNw1Vc",
      "include_colab_link": true
    },
    "kernelspec": {
      "name": "python3",
      "display_name": "Python 3"
    },
    "language_info": {
      "name": "python"
    }
  },
  "cells": [
    {
      "cell_type": "markdown",
      "metadata": {
        "id": "view-in-github",
        "colab_type": "text"
      },
      "source": [
        "<a href=\"https://colab.research.google.com/github/shinjangwoon/jangwoonshin/blob/practice/%EC%8B%9C%ED%97%98.ipynb\" target=\"_parent\"><img src=\"https://colab.research.google.com/assets/colab-badge.svg\" alt=\"Open In Colab\"/></a>"
      ]
    },
    {
      "cell_type": "code",
      "metadata": {
        "id": "NnoNKJ_HEjcm"
      },
      "source": [
        "# 각 리스트 안에는 아래 순서로 데이터가 저장\n",
        "# 앱의 이름, 가격, 화폐단위, 다운로두 회수, 앱 평점\n",
        "row_1 = ['Facebook', 0.0, 'USD', 2974676, 3.5]\n",
        "row_2 = ['Instagram', 0.0, 'USD', 2161558, 4.5]\n",
        "row_3 = ['Clash of Clans', 0.0, 'USD', 2130805, 4.5]\n",
        "row_4 = ['Temple Run', 0.0, 'USD', 1724546, 4.5]\n",
        "row_5 = ['Pandora - Music & Radio', 0.0, 'USD', 1126879, 4.0]\n",
        "\n",
        "app_data_set = [row_1, row_2, row_3, row_4, row_5]\n",
        "\n",
        "rating_sum = 0\n",
        "\n",
        "# Q1 - for문 안에 5개 앱의 평점의 합을 rating_sum 저장하는 코드를 작성하세요\n",
        "for data in app_data_set:\n",
        "    rating_sum = row_1[4] + row_2[4] + row_3[4] + row_4[4] + row_5[4]\n",
        "\n",
        "    \n",
        "# Q2 - rating_sum에 저장 된 평점의 합계 값을 이용하여 5개 앱의 평균 평점을 계산하여 avg_rating에 저장하세요\n",
        "avg_rating = rating_sum/5\n",
        "\n",
        "# content_ratings 딕셔너리 변수에 연령 별 사용가능한 앱의 개수 정보가 저장되어 있습니다.\n",
        "# 예를 들어, 4세 이상 이용가능 앱의 개수는 4433개, 12세 이상 이용가능한 앱의 개수는 1155개 입니다.\n",
        "content_ratings = {'4+': 4433, '12+': 1155, '9+': 987, '17+': 622}\n",
        "total_number_of_apps = 7197\n",
        "content_ratings_percentage = {}\n",
        "\n",
        "# Q3 - for문 안에 content_ratings_percentage 딕셔너리 변수에 연령 별 사용가능한 앱의 백분율을 계산하여 저장하세요\n",
        "# for문이 종료 된 후 content_ratings_percentage 변수에는 아래와 같은 값이 저장 되어야 합니다.\n",
        "'''\n",
        "{'4+': 61.595109073224954,\n",
        " '12+': 16.04835348061692,\n",
        " '9+': 13.714047519799916,\n",
        " '17+': 8.642489926358204}\n",
        "'''\n",
        "for key in content_ratings:\n",
        "  content_ratings[key] = content_ratings[key] / total_number_of_apps\n",
        "  content_ratings[key] = content_ratings[key] * 100\n",
        "  content_ratings_percentage = content_ratings\n",
        "\n",
        "print(content_ratings_percentage)\n",
        "\n",
        "app_list = [\n",
        "['Facebook', '3.5', '3.5', '95.0', '4+', 'Social Networking', '37', '1', '29', '1'], \n",
        "['Instagram', '4.5', '4.0', '10.23', '12+', 'Photo & Video', '37', '0', '29', '1'], \n",
        "['Clash of Clans', '4.5', '4.5', '9.24.12', '9+', 'Games', '38', '5', '18', '1'], \n",
        "['Temple Run', '4.5', '4.0', '1.6.2', '9+', 'Games', '40', '5', '1', '1'], \n",
        "['Pandora - Music & Radio', '4.0', '4.5', '8.4.1', '12+', 'Music', '37', '4', '1', '1'], \n",
        "['Pinterest', '4.5', '4.0', '6.26', '12+', 'Social Networking', '37', '5', '27', '1'], \n",
        "['Bible', '4.5', '5.0', '7.5.1', '4+', 'Reference', '37', '5', '45', '1'], \n",
        "['Candy Crush Saga', '4.5', '4.5', '1.101.0', '4+', 'Games', '43', '5', '24', '1'], \n",
        "['Spotify Music', '4.5', '4.5', '8.4.3', '12+', 'Music', '37', '5', '18', '1'], \n",
        "['Angry Birds', '4.5', '3.0', '7.4.0', '4+', 'Games', '38', '0', '10', '1'], \n",
        "['Subway Surfers', '4.5', '4.0', '1.72.1', '9+', 'Games', '38', '5', '1', '1'], \n",
        "['Fruit Ninja Classic', '4.5', '4.0', '2.3.9', '4+', 'Games', '38', '5', '13', '1'], \n",
        "['Solitaire', '4.5', '4.5', '4.11.2', '4+', 'Games', '38', '4', '11', '1'], \n",
        "['CSR Racing', '4.5', '4.5', '4.0.1', '4+', 'Games', '37', '5', '10', '1'], \n",
        "['Crossy Road', '4.5', '4.5', '1.5.4', '9+', 'Games', '38', '5', '13', '1'], \n",
        "['Gods Among Us', '4.5', '4.5', '2.15.1', '12+', 'Games', '39', '5', '13', '1'], \n",
        "['Hay Day', '4.5', '4.5', '1.33.134', '4+', 'Games', '38', '5', '18', '1'], \n",
        "['Clear Vision (17+)', '4.5', '4.5', '1.1.3', '17+', 'Games', '43', '5', '1', '1'], \n",
        "['Minecraft', '4.5', '4.5', '1.1', '9+', 'Games', '37', '1', '11', '1']]\n",
        "\n",
        "games_social_ratings = []\n",
        "\n",
        "# Q4 - for문 안에 장르가 'Social Networking' 이거나 'Games'인 앱들의 평점만 추출하여 games_social_ratings 변수에 저장하세요\n",
        "# app_list 중첩 리스트 변수 내의 각 세부 리스트 데이터에서 평점은 1번 인덱스, 장르는 5번 인덱스에 데이터가 저장 되어 있습니다.\n",
        "# float()함수를 사용하여 문자형 데이터인 평점을 실수형 데이터로 형 변환 해야 합니다.\n",
        "# for문이 종료된 후 games_social_ratings 리스트에는 총 15개의 평점이 저장되어 있어야 합니다.\n",
        "for row in app_list:\n",
        "    if 'Photo & Video' in row:\n",
        "        continue\n",
        "    elif 'Music'  in row:\n",
        "        continue\n",
        "    elif 'Reference' in row:\n",
        "        continue\n",
        "    games_social_ratings.append(row[1]) \n",
        "games_social_ratings = list(map(float, games_social_ratings))\n",
        "\n",
        "\n",
        "print(games_social_ratings)\n",
        "\n",
        "# Q5 - games_social_ratings에 저장되어 있는 평점들의 평균을 계산하여 avg_games_social 변수에 저장하세요\n",
        "avg_games_social = sum(games_social_ratings) / len(games_social_ratings)\n",
        "\n",
        "# 4.433333333333334이 출력되어야 합니다\n",
        "print(avg_games_social)\n"
      ],
      "execution_count": null,
      "outputs": []
    }
  ]
}