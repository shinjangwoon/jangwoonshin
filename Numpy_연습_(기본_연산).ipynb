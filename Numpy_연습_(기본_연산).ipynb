{
  "nbformat": 4,
  "nbformat_minor": 0,
  "metadata": {
    "colab": {
      "name": "Numpy 연습 (기본 연산).ipynb",
      "private_outputs": true,
      "provenance": [],
      "collapsed_sections": [],
      "authorship_tag": "ABX9TyPv27Co+8lsQx6kLNvbZT8r",
      "include_colab_link": true
    },
    "kernelspec": {
      "name": "python3",
      "display_name": "Python 3"
    },
    "language_info": {
      "name": "python"
    }
  },
  "cells": [
    {
      "cell_type": "markdown",
      "metadata": {
        "id": "view-in-github",
        "colab_type": "text"
      },
      "source": [
        "<a href=\"https://colab.research.google.com/github/shinjangwoon/jangwoonshin/blob/practice/Numpy_%EC%97%B0%EC%8A%B5_(%EA%B8%B0%EB%B3%B8_%EC%97%B0%EC%82%B0).ipynb\" target=\"_parent\"><img src=\"https://colab.research.google.com/assets/colab-badge.svg\" alt=\"Open In Colab\"/></a>"
      ]
    },
    {
      "cell_type": "code",
      "metadata": {
        "id": "R-Gup1Ylk7O1"
      },
      "source": [
        "import numpy as np\n",
        "import time\n",
        "\n",
        "# 샘플 데이터 생성\n",
        "a = np.arange(1,10).reshape(3,3)\n",
        "print('A---')\n",
        "print(a)\n",
        "\n",
        "b = np.arange(9,0,-1).reshape(3,3)\n",
        "print('\\nB---')\n",
        "print(b)\n",
        "\n",
        "'''\n",
        "# NumPy 의 덧셈연산\n",
        "\n",
        "'''\n",
        "result = a + b\n",
        "print('\\nResult of A + B')\n",
        "print(result)\n",
        "\n",
        "result = np.add(a,b)\n",
        "print('\\nResult of np.add(a,b)')\n",
        "print(result)\n",
        "\n",
        "'''\n",
        "# NumPy 의 나눗셈 연산\n",
        "\n",
        "'''\n",
        "result = a / b\n",
        "print('\\nResult of A / B')\n",
        "print(result)\n",
        "\n",
        "result = np.divide(a,b)\n",
        "print('\\nResult of np.divide(a,b)')\n",
        "print(result)\n",
        "\n",
        "\n",
        "'''\n",
        "# NumPy 의 비교연산(>)\n",
        "\n",
        "'''\n",
        "result = a > b\n",
        "print('\\nResult of comparison operator(>)')\n",
        "print(result)\n",
        "\n",
        "'''\n",
        "# NumPy 의 비교연산(!=)\n",
        "\n",
        "'''\n",
        "result = a != b\n",
        "print('\\nResult of comparison operator(!=)')\n",
        "print(result)\n",
        "\n",
        "'''\n",
        "# Python 코드 실행 시간 측정하기\n",
        "\n",
        "'''\n",
        "python_arr = range(10000000)\n",
        "start = time.time() \n",
        "for i in python_arr:\n",
        "\ti + 1\n",
        "print(\"\\nPython(ms):\", (time.time() - start)*1000) \n",
        "\n",
        "\n",
        "'''\n",
        "# NumPy 코드 실행 시간 측정하기\n",
        "\n",
        "'''\n",
        "numpy_arr = np.arange(10000000)\n",
        "start = time.time()\n",
        "\n",
        "print(\"NumPy(ms):\", (time.time() - start)*1000)"
      ],
      "execution_count": null,
      "outputs": []
    }
  ]
}