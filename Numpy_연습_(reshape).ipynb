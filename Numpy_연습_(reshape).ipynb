{
  "nbformat": 4,
  "nbformat_minor": 0,
  "metadata": {
    "colab": {
      "name": "Numpy 연습 (reshape).ipynb",
      "private_outputs": true,
      "provenance": [],
      "collapsed_sections": [],
      "authorship_tag": "ABX9TyMX+gZ/s46FEWu5ufHIqKL4",
      "include_colab_link": true
    },
    "kernelspec": {
      "name": "python3",
      "display_name": "Python 3"
    },
    "language_info": {
      "name": "python"
    }
  },
  "cells": [
    {
      "cell_type": "markdown",
      "metadata": {
        "id": "view-in-github",
        "colab_type": "text"
      },
      "source": [
        "<a href=\"https://colab.research.google.com/github/shinjangwoon/jangwoonshin/blob/practice/Numpy_%EC%97%B0%EC%8A%B5_(reshape).ipynb\" target=\"_parent\"><img src=\"https://colab.research.google.com/assets/colab-badge.svg\" alt=\"Open In Colab\"/></a>"
      ]
    },
    {
      "cell_type": "code",
      "metadata": {
        "id": "O5K2f2B2gzV7",
        "cellView": "code"
      },
      "source": [
        "\n",
        "import numpy as np\n",
        "\n",
        "# ndarray 속성 출력 함수\n",
        "def printinfo(arr):\n",
        "  print(arr)\n",
        "  print(\"shape: {}, size: {}, dtype: {}, dimension: {}\"\n",
        "        .format(arr.shape, arr.size, arr.dtype, arr.ndim))\n",
        "        \n",
        "# 샘플 데이터 생성\n",
        "origin_arr = np.arange(15)\n",
        "print('\\nOriginal ndarray')\n",
        "printinfo(origin_arr)\n",
        "\n",
        "'''\n",
        "reshape() 을 활용한 데이터 형상 변경\n",
        "\n",
        "'''\n",
        "reshape_arr = np.reshape(origin_arr, (3, 5))\n",
        "print('\\nReshape ndarray')\n",
        "printinfo(reshape_arr)\n",
        "\n",
        "'''\n",
        "origin_arr에 저장된 1차원 배열을 -1을 활용하여 2차원으로 형상 변경\n",
        "'''\n",
        "reshape_arr = np.reshape(origin_arr, (-1, 15))\n",
        "print('\\nReshape(-1, N) to 2D array')\n",
        "printinfo(reshape_arr)"
      ],
      "execution_count": null,
      "outputs": []
    }
  ]
}