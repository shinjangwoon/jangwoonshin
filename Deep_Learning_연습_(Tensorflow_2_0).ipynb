{
  "nbformat": 4,
  "nbformat_minor": 0,
  "metadata": {
    "colab": {
      "name": "Deep Learning  연습 (Tensorflow 2.0).ipynb",
      "provenance": [],
      "collapsed_sections": [
        "PGiibWCZ3lmo",
        "0D11ALOJIbz5",
        "6olaftwF2E-l",
        "1GSHGX-AvMgl",
        "VLc9O2kkBhf7",
        "jBvdC9m3FMO2",
        "zyZm0XbbvyZG",
        "kHhx4vETVVDo",
        "n8PqjTM1RvVQ",
        "-CLBsN9Q1bTJ",
        "pyr3HBxp1OQK",
        "9mxzVYz88B5S",
        "jo8v_6BgOiqy",
        "WCiuc0QfvpHI",
        "8EFbYRr6KJEb",
        "w5B3VLoeg74L",
        "gAHVy_SkmAPb",
        "Mnq2Vti0pCXD"
      ],
      "authorship_tag": "ABX9TyN0ZuS1vyx6Aw2H3adYO8e4",
      "include_colab_link": true
    },
    "kernelspec": {
      "name": "python3",
      "display_name": "Python 3"
    },
    "language_info": {
      "name": "python"
    },
    "accelerator": "GPU"
  },
  "cells": [
    {
      "cell_type": "markdown",
      "metadata": {
        "id": "view-in-github",
        "colab_type": "text"
      },
      "source": [
        "<a href=\"https://colab.research.google.com/github/shinjangwoon/jangwoonshin/blob/practice/Deep_Learning_%EC%97%B0%EC%8A%B5_(Tensorflow_2_0).ipynb\" target=\"_parent\"><img src=\"https://colab.research.google.com/assets/colab-badge.svg\" alt=\"Open In Colab\"/></a>"
      ]
    },
    {
      "cell_type": "markdown",
      "metadata": {
        "id": "gxd4J8jS3bF-"
      },
      "source": [
        "#TensorFlow"
      ]
    },
    {
      "cell_type": "markdown",
      "metadata": {
        "id": "PGiibWCZ3lmo"
      },
      "source": [
        "##Numpy를 이용한 인공신경망 데이터 이해"
      ]
    },
    {
      "cell_type": "code",
      "metadata": {
        "id": "AXOxgY8P3uc-"
      },
      "source": [
        "\n",
        "\n",
        "import numpy as np\n",
        "\n",
        "\"\"\"\n",
        "1. numpy 라이브러리를 이용하여 아래 속성 정보를 가지는 스칼라 텐서 객체 생성\n",
        "-------- [출력 결과] --------\n",
        "*******1. 스칼라(0D 텐서)*******\n",
        "차원        :  0\n",
        "크기        :  ()\n",
        "데이터 타입 :  int64\n",
        "--------------------------\n",
        "\"\"\"\n",
        "d0_tensor = np.array(3)\n",
        "\n",
        "# 생성한 스칼라 텐서 객체 속성 정보 출력\n",
        "print('*******1. 스칼라(0D 텐서)*******')\n",
        "print('차원        : ', d0_tensor.ndim)\n",
        "print('크기        : ', d0_tensor.shape)\n",
        "print('데이터 타입 : ', d0_tensor.dtype)\n",
        "\n",
        "\n",
        "\"\"\"\n",
        "2. numpy 라이브러리를 이용하여 아래 속성 정보를 가지는 백터 텐서 객체 생성\n",
        "-------- [출력 결과] --------\n",
        "*******2. 벡터(1D 텐서)*******\n",
        "차원        :  1\n",
        "크기        :  (5,)\n",
        "데이터 타입 :  float64\n",
        "--------------------------\n",
        "\"\"\"\n",
        "d1_tensor = np.array([1.,2.,3.,4.,5.])\n",
        "\n",
        "# 생성한 벡터 텐서 객체 속성 정보 출력\n",
        "print('\\n*******2. 벡터(1D 텐서)*******')\n",
        "print('차원        : ', d1_tensor.ndim)\n",
        "print('크기        : ', d1_tensor.shape)\n",
        "print('데이터 타입 : ', d1_tensor.dtype)\n",
        "\n",
        "\n",
        "\"\"\"\n",
        "3. numpy 라이브러리를 이용하여 아래 속성 정보를 가지는 행렬 텐서 객체 생성\n",
        "-------- [출력 결과] --------\n",
        "*******3. 행렬(2D 텐서)*******\n",
        "차원        :  2\n",
        "크기        :  (3, 2)\n",
        "데이터 타입 :  int64\n",
        "--------------------------\n",
        "\"\"\"\n",
        "d2_tensor = np.array([[1,2],\n",
        "                     [4,5],\n",
        "                      [6,7]])\n",
        "\n",
        "# 생성한 행렬 텐서 객체 속성 정보 출력\n",
        "print('\\n*******3. 행렬(2D 텐서)*******')\n",
        "print('차원        : ', d2_tensor.ndim)\n",
        "print('크기        : ', d2_tensor.shape)\n",
        "print('데이터 타입 : ', d2_tensor.dtype)\n",
        "\n",
        "\n",
        "\"\"\"\n",
        "4. numpy 라이브러리를 이용하여 아래 속성 정보를 가지는 3D 텐서 객체 생성\n",
        "-------- [출력 결과] --------\n",
        "*******4. 3D 텐서*******\n",
        "차원        :  3\n",
        "크기        :  (2, 3, 1)\n",
        "데이터 타입 :  int64\n",
        "--------------------------\n",
        "\"\"\"\n",
        "d3_tensor = np.array([[[1],\n",
        "                       [2],\n",
        "                       [3]],\n",
        "                      [[-1],\n",
        "                       [-2],\n",
        "                      [-3]]])\n",
        "# 생성한 3D 텐서 객체 속성 정보 출력\n",
        "print('\\n*******4. 3D 텐서*******')\n",
        "print('차원        : ', d3_tensor.ndim)\n",
        "print('크기        : ', d3_tensor.shape)\n",
        "print('데이터 타입 : ', d3_tensor.dtype)"
      ],
      "execution_count": null,
      "outputs": []
    },
    {
      "cell_type": "markdown",
      "metadata": {
        "id": "0D11ALOJIbz5"
      },
      "source": [
        "##Tensorflow 2.0을 이용한 인공신경망 데이터 이해"
      ]
    },
    {
      "cell_type": "code",
      "metadata": {
        "id": "fNrjhVGSIpyx"
      },
      "source": [
        "\n",
        "import tensorflow as tf\n",
        "import numpy as np\n",
        "\n",
        "\"\"\"\n",
        "1. tensorflow 라이브러리를 이용하여 아래 속성 정보를 가지는 상수 텐서 객체 생성 및 속성 정보 출력\n",
        "-------- [출력 결과] --------\n",
        "*******1. 상수 텐서 객체*******\n",
        "차원        :  3\n",
        "크기        :  (3, 1, 2)\n",
        "데이터 타입 :  <dtype: 'int32'>\n",
        "--------------------------\n",
        "\"\"\"\n",
        "\n",
        "# 상수 텐서 객체 생성\n",
        "d3_tensor = tf.constant([[[1,2]],\n",
        "                         [[3,4]],\n",
        "                         [[5,6]]])\n",
        "\n",
        "# 생성한 상수 텐서 객체 속성 정보 출력\n",
        "print('*******1. 상수 텐서 객체*******')\n",
        "print('차원        : ', d3_tensor.ndim)\n",
        "print('크기        : ', d3_tensor.shape)\n",
        "print('데이터 타입 : ', d3_tensor.dtype)\n",
        "\n",
        "\"\"\"\n",
        "2. 상수 텐서 객체의 값(ndarray) 복사하여 속성 정보 출력\n",
        "-------- [출력 결과] --------\n",
        "*******2. ndarray 객체*******\n",
        "차원        :  3\n",
        "크기        :  (3, 1, 2)\n",
        "데이터 타입 :  int32\n",
        "--------------------------\n",
        "\"\"\"\n",
        "\n",
        "# 상수 텐서에서 .numpy() 메서드 이용하여 numpy ndarray 객체 복사\n",
        "np_d3_tensor = d3_tensor.numpy()\n",
        "\n",
        "np_d3_tensor[0,0,0] = 0\n",
        "print(np_d3_tensor)\n",
        "# 복사한 ndarray 객체의 속성 정보 출력\n",
        "print('\\n*******2. ndarray 객체*******')\n",
        "print('차원        : ', np_d3_tensor.ndim)\n",
        "print('크기        : ', np_d3_tensor.shape)\n",
        "print('데이터 타입 : ', np_d3_tensor.dtype)\n",
        "\n",
        "\"\"\"\n",
        "3. tensorflow 라이브러리를 이용하여 아래 속성 정보를 가지는 변수 텐서 객체 생성 및 속성 정보 출력\n",
        "-------- [출력 결과] --------\n",
        "*******3. 변수 텐서 객체*******\n",
        "크기        :  (2, 3, 1)\n",
        "데이터 타입 :  <dtype: 'int32'>\n",
        "--------------------------\n",
        "\"\"\"\n",
        "\n",
        "\n",
        "# 형태의 변수 텐서 객체 생성\n",
        "d3_var_tensor = tf.constant([[[1],[2],[3]],\n",
        "                             [[4],[5],[6]]])\n",
        "\n",
        "\n",
        "print('\\n*******3. 변수 텐서 객체*******')\n",
        "print('크기        : ', d3_var_tensor.shape)\n",
        "print('데이터 타입 : ', d3_var_tensor.dtype)"
      ],
      "execution_count": null,
      "outputs": []
    },
    {
      "cell_type": "markdown",
      "metadata": {
        "id": "6olaftwF2E-l"
      },
      "source": [
        "##연산자 이해"
      ]
    },
    {
      "cell_type": "code",
      "metadata": {
        "colab": {
          "base_uri": "https://localhost:8080/"
        },
        "id": "uU5BuggO2HDb",
        "outputId": "e11951ea-af5e-4d75-dd8d-4c284bd94864"
      },
      "source": [
        "\n",
        "\n",
        "import tensorflow as tf\n",
        "import numpy as np\n",
        "\n",
        "# (2, 3) 형태의 상수 텐서 'tensor_a' 생성\n",
        "tensor_a = tf.constant([[1., 2., 3.],\n",
        "                        [4., 5., 6.]])\n",
        "\n",
        "\n",
        "\"\"\"\n",
        "1. tensorflow 연산자를 이용해 'tensor_a' 텐서에 지수 연산을 적용\n",
        "-------- [출력 결과] --------\n",
        "*******1. 지수연산*******\n",
        "[[ *.** *.** *.** ]\n",
        " [ *.** *.** *.** ]]\n",
        "--------------------------\n",
        "\"\"\"\n",
        "\n",
        "# tf.math 모듈의 지수(exponential)함수를 이용해 'tensor_a' 텐서에 지수 연산 적용\n",
        "print('*******1. 지수연산*******')\n",
        "\n",
        "tensor_exp = tf.math.exp(tensor_a)\n",
        "print(np.round(tensor_exp, 2))\n",
        "\n",
        "\n",
        "\"\"\"\n",
        "2. tensorflow 연산자를 이용해 'tensor_a'의 axis 0 을 기준으로 최대값 선택\n",
        "-------- [출력 결과] --------\n",
        "*******2. axis 0 기준 최대값*******\n",
        "[ * * ]\n",
        "--------------------------\n",
        "\"\"\"\n",
        "\n",
        "# tf.math 모듈의 함수를 이용해 'tensor_a'의 axis 0 기준 최대값 선택\n",
        "print('\\n*******2. axis 0 기준 최대값*******')\n",
        "\n",
        "tensor_axis_max = tf.math.reduce_max(tensor_a, axis=0)\n",
        "print(tensor_axis_max)\n",
        "\n",
        "\n",
        "\"\"\"\n",
        "3. tensorflow 연산자를 이용해 z = cos(x+y) 계산식에서 x 값이 z 값에 미치는 영향도(미분) 계산\n",
        "-------- [출력 결과] --------\n",
        "*******3. 'tensor_x' 값이 'tensor_z' 값에 미치는 영향도(미분 값)*******\n",
        "[[*.**  *.**  *.**]\n",
        " [*.**  *.**  *.**]]\n",
        "--------------------------\n",
        "\"\"\"\n",
        "\n",
        "tensor_x = tf.Variable([[1., 2., 3.],\n",
        "                        [4., 5., 6.]])\n",
        "\n",
        "tensor_y = tf.Variable([[7., 8., 9.],\n",
        "                        [10., 11., 12.]])\n",
        "\n",
        "print(\"\\n*******3. 'tensor_x' 값이 'tensor_z' 값에 미치는 영향도(미분 값)*******\")\n",
        "with tf.GradientTape() as tape:\n",
        "  # 텐서플로 연산자와 변수 텐서를 이용해 계산그래프 정의\n",
        "  tensor_z = tf.square(tensor_x + tensor_y)\n",
        "  \n",
        "  # tape.gradient를 통해 tensor_x 가 tensor_z 에 미치는 영향도(미분 값)를 계산\n",
        "  gradient_zx = tape.gradient(target=tensor_z, sources=tensor_x)\n",
        "  \n",
        "  # 계산된 영향도(미분 값) 확인\n",
        "  print(np.round(gradient_zx, 2))\n"
      ],
      "execution_count": null,
      "outputs": [
        {
          "output_type": "stream",
          "text": [
            "*******1. 지수연산*******\n",
            "[[  2.72   7.39  20.09]\n",
            " [ 54.6  148.41 403.43]]\n",
            "\n",
            "*******2. axis 0 기준 최대값*******\n",
            "tf.Tensor([4. 5. 6.], shape=(3,), dtype=float32)\n",
            "\n",
            "*******3. 'tensor_x' 값이 'tensor_z' 값에 미치는 영향도(미분 값)*******\n",
            "[[16. 20. 24.]\n",
            " [28. 32. 36.]]\n"
          ],
          "name": "stdout"
        }
      ]
    },
    {
      "cell_type": "markdown",
      "metadata": {
        "id": "1GSHGX-AvMgl"
      },
      "source": [
        "##퍼셉트론 구현"
      ]
    },
    {
      "cell_type": "code",
      "metadata": {
        "id": "At4OXlg2vQS9"
      },
      "source": [
        "'''\n",
        "\n",
        "-------- [최종 출력 결과] --------\n",
        "*******모델의 예측 결과*******\n",
        "tf.Tensor(\n",
        "[[ *]\n",
        " [ *]\n",
        " [ *]\n",
        " [ *]], shape=(4, 1), dtype=bool)\n",
        "----------------------------------\n",
        "'''\n",
        "\n",
        "import tensorflow as tf\n",
        "import numpy as np\n",
        "import matplotlib.pyplot as plt\n",
        "\n",
        "# 파라미터 값(input 특성 개수, 퍼셉트론의 개수, 학습률) 설정\n",
        "input_dim = 2\n",
        "hidden_units = 1\n",
        "learning_rate = 0.01\n",
        "\n",
        "# 가중치(input 특성 : 2/ 퍼셉트론 : 1)\n",
        "w = tf.Variable(tf.random.uniform(shape=(input_dim, hidden_units)))\n",
        "\n",
        "# 편향(퍼셉트론 : 1)\n",
        "b = tf.Variable(tf.zeros(shape=(hidden_units,)))\n",
        "\n",
        "# 설계한 퍼셉트론 모델의 파라미터 확인(코드 제출시 주석 처리)\n",
        "print('*******퍼셉트론 모델의 초기 가중치*******')\n",
        "print(w)\n",
        "print('\\n*******퍼셉트론 모델의 초기 편향*******')\n",
        "print(b)\n",
        "\n",
        "# 퍼셉트론의 수학 모델 f(x*w + b) 구현\n",
        "def predict(input):\n",
        "  # x*w + b 연산 구현\n",
        "  x = tf.matmul(input, w) + b\n",
        "  # relu 활성화 함수 구현\n",
        "  x = tf.maximum(0, x)\n",
        "  return x\n",
        "\n",
        "# loss(mse)\n",
        "def mse_loss(labels, predictions):\n",
        "  # MSE(Mean Square Error) 연산 구현\n",
        "  loss = tf.reduce_mean(tf.square(labels - predictions))\n",
        "  return loss\n",
        "\n",
        "# train\n",
        "def train(inputs, labels):\n",
        "  with tf.GradientTape() as tape:\n",
        "    # 퍼셉트론 모델을 예측값을 계산\n",
        "    predictions = predict(inputs)\n",
        "    # 모델의 예측값과 정답간의 에러를 loss 을 이용해 계산\n",
        "    loss = mse_loss(labels, predictions)\n",
        "    # 모델의 파라미터(w, b)가 loss 값에 미치는 영향도를 미분(오차역전파)을 통해 계산\n",
        "    gradient_lw, gradient_lb = tape.gradient(loss, [w, b])\n",
        "  # 경사하강법을 수행하여 모델의 파라미터(w, b) 업데이트\n",
        "  w.assign(w - learning_rate * gradient_lw)\n",
        "  b.assign(b - learning_rate * gradient_lb)\n",
        "  return loss\n",
        "\n",
        "# 퍼셉트론 모델 학습을 위한 OR Gate 데이터 생성\n",
        "inputs = np.array([[0, 0],\n",
        "                   [0, 1],\n",
        "                   [1, 0],\n",
        "                   [1, 1]], dtype=np.float32)\n",
        "\n",
        "labels = np.array([0, 1, 1, 1], dtype=np.float32)\n",
        "\n",
        "# OR Gate 데이터를 차트로 확인(코드 제출시 주석 처리)\n",
        "plt.scatter(inputs[:, 0], inputs[:, 1], c=labels[:])\n",
        "plt.show()\n",
        "\n",
        "# train 함수를 반복적으로 실행하여 퍼셉트론 모델을 학습\n",
        "for epoch in range(100):\n",
        "  # input 데이터와 label 데이터를 한 건씩 추출하여 train 함수에 전달\n",
        "  for x, y in zip(inputs, labels):\n",
        "    loss = train([x], [y])\n",
        "  # 학습 중간에 loss 값의 변화 출력\n",
        "  if (epoch+1)%10 == 0:\n",
        "    print(\"Epoch {}: loss={}\".format(epoch+1, float(loss)))\n",
        "\n",
        "# 학습된 모델에 input 데이터 입력하여 예측결과 계산\n",
        "predictions = predict(inputs)\n",
        "\n",
        "# 모델의 예측결과를 차트로 확인\n",
        "plt.scatter(inputs[:, 0], inputs[:, 1], c=predictions[:]> 0.5)\n",
        "plt.show()\n",
        "\n",
        "print('*******모델의 예측 결과*******')\n",
        "print(predictions[:]> 0.5)"
      ],
      "execution_count": null,
      "outputs": []
    },
    {
      "cell_type": "markdown",
      "metadata": {
        "id": "VLc9O2kkBhf7"
      },
      "source": [
        "##Keras"
      ]
    },
    {
      "cell_type": "code",
      "metadata": {
        "id": "oQQT7Ip2B0HC"
      },
      "source": [
        "import numpy as np\n",
        "\n",
        "#입력 텐서와 타깃 텐서로 이루어진 훈련 데이터를 정의\n",
        "input_tensor = np.random.rand(100, 50)\n",
        "target_tensor = np.random.randint(low=0, high=10, size=100)\n",
        "\n",
        "#입력과 타깃을 매핑하는 층으로 이루어진 네트워크(모델)을 정의\n",
        "from tensorflow.keras import models\n",
        "from tensorflow.keras import layers\n",
        "\n",
        "model = models.Sequential()\n",
        "model.add(layers.Dense(units=32, activation='relu', input_shape=(50, )))\n",
        "model.add(layers.Dense(units=10, activation= 'softmax'))\n",
        "\n",
        "#손실 함수, 옵티마이저, 모니터링 하기 위한 성능지표 선택하여 학습 과정을 설정\n",
        "from tensorflow.keras import optimizers\n",
        "model.compile(optimizer=optimizers.RMSprop(lr=0.001), loss='mae', metrics=['accuracy'])\n",
        "\n",
        "#훈련 데이터에 대해 모델 객체의 fit() method를 실행\n",
        "model.fit(x=input_tensor, y=target_tensor, batch_size=10, epochs=10)"
      ],
      "execution_count": null,
      "outputs": []
    },
    {
      "cell_type": "markdown",
      "metadata": {
        "id": "jBvdC9m3FMO2"
      },
      "source": [
        "###MNIST 데이터 셋 분류"
      ]
    },
    {
      "cell_type": "code",
      "metadata": {
        "id": "1wOVOKmKGRPp"
      },
      "source": [
        "#DNN(MLP) 모델을 이용한 MNIST 데이터 셋 분류\n",
        "\n",
        "from tensorflow.keras.datasets import mnist\n",
        "import matplotlib.pyplot as plt\n",
        "\n",
        "# input tensor 와 Target tensor 준비 (훈련데이터)\n",
        "(train_images, train_labels), (test_images, test_labels) = mnist.load_data()\n",
        "\n",
        "print(train_images.shape)\n",
        "print(train_labels.shape)\n",
        "\n",
        "train_images[0].shape\n",
        "plt.figure()\n",
        "plt.imshow(train_images[0])\n",
        "plt.colorbar()\n",
        "plt.grid(False)\n",
        "plt.show()\n",
        "\n",
        "train_labels[0]\n",
        "\n",
        "#입력데이터의 전처리\n",
        "# (60000, 28, 28) -> (60000, 28*28)\n",
        "train_images = train_images.reshape((60000, 28*28))\n",
        "print(train_images.shape)\n",
        "\n",
        "print(test_images.shape)\n",
        "test_images = test_images.reshape((10000, 28*28))\n",
        "print(test_images.shape)\n",
        "\n",
        "#DNN(MLP) 모델 디자인\n",
        "from tensorflow.keras import models, layers\n",
        "\n",
        "model = models.Sequential()\n",
        "# hidden layer 256 퍼셉트론\n",
        "\n",
        "model.add(layers.Dense(units=256, activation='relu', input_shape=(28*28,)))\n",
        "model.add(layers.Dense(units=10, activation='softmax'))\n",
        "model.summary()\n",
        "\n",
        "#모델의 학습 정보 설정\n",
        "\n",
        "model.compile(optimizer='rmsprop',\n",
        "              loss='sparse_categorical_crossentropy',\n",
        "              metrics=['accuracy'])\n",
        "\n",
        "#모델에 input, target 데이터 연결 후 학습\n",
        "history = model.fit(x=train_images, y=train_labels,\n",
        "          epochs=30,\n",
        "          batch_size=128,\n",
        "          validation_split=0.2)\n",
        "\n"
      ],
      "execution_count": null,
      "outputs": []
    },
    {
      "cell_type": "code",
      "metadata": {
        "id": "7e0GWv1AsMJf"
      },
      "source": [
        "#학습 과정 시각화 및 테스트\n",
        "acc = history.history['accuracy']\n",
        "val_acc =history.history['val_accuracy']\n",
        "\n",
        "loss = history.history['loss']\n",
        "val_loss =history.history['val_loss']\n",
        "\n",
        "acc"
      ],
      "execution_count": null,
      "outputs": []
    },
    {
      "cell_type": "code",
      "metadata": {
        "id": "Al6PXypVsoT_"
      },
      "source": [
        "epochs = range(len(acc))\n",
        "\n",
        "plt.plot(epochs, acc, 'bo', label='Training acc')\n",
        "plt.plot(epochs, val_acc, 'b', label='Validation acc')\n",
        "plt.title('Training and validation accuracy')\n",
        "plt.legend()\n",
        "\n",
        "plt.show()"
      ],
      "execution_count": null,
      "outputs": []
    },
    {
      "cell_type": "code",
      "metadata": {
        "id": "hWxZlKYdtkY7"
      },
      "source": [
        "\n",
        "plt.plot(epochs, loss, 'bo', label='Training loss')\n",
        "plt.plot(epochs, val_loss, 'b', label='Validation loss')\n",
        "plt.title('Training and validation loss')\n",
        "plt.legend()\n",
        "\n",
        "plt.show()"
      ],
      "execution_count": null,
      "outputs": []
    },
    {
      "cell_type": "code",
      "metadata": {
        "colab": {
          "base_uri": "https://localhost:8080/"
        },
        "id": "sCXQx-MPt-jm",
        "outputId": "c1dbeb9f-829b-4257-b66f-0af014b591bf"
      },
      "source": [
        "test_loss, test_acc = model.evaluate(x=test_images, y=test_labels)"
      ],
      "execution_count": null,
      "outputs": [
        {
          "output_type": "stream",
          "text": [
            "313/313 [==============================] - 1s 2ms/step - loss: 0.9610 - accuracy: 0.9744\n"
          ],
          "name": "stdout"
        }
      ]
    },
    {
      "cell_type": "code",
      "metadata": {
        "id": "DHKjMUdWugo6"
      },
      "source": [
        "import numpy as np\n"
      ],
      "execution_count": null,
      "outputs": []
    },
    {
      "cell_type": "code",
      "metadata": {
        "id": "Xa9iHOOouow-"
      },
      "source": [
        "predict = model.predict(test_images[0].reshape((1, 28*28)))"
      ],
      "execution_count": null,
      "outputs": []
    },
    {
      "cell_type": "code",
      "metadata": {
        "colab": {
          "base_uri": "https://localhost:8080/"
        },
        "id": "3qeABqHNuybx",
        "outputId": "c6a15306-3ea4-4ff4-eda5-ee7d57accdc9"
      },
      "source": [
        "predict"
      ],
      "execution_count": null,
      "outputs": [
        {
          "output_type": "execute_result",
          "data": {
            "text/plain": [
              "array([[0., 0., 0., 0., 0., 0., 0., 1., 0., 0.]], dtype=float32)"
            ]
          },
          "metadata": {
            "tags": []
          },
          "execution_count": 48
        }
      ]
    },
    {
      "cell_type": "code",
      "metadata": {
        "colab": {
          "base_uri": "https://localhost:8080/"
        },
        "id": "BtxNeB9DvOW2",
        "outputId": "910b2c8a-dc52-49e5-c41a-7564788c2e51"
      },
      "source": [
        "print(np.argmax(predict[0]))"
      ],
      "execution_count": null,
      "outputs": [
        {
          "output_type": "stream",
          "text": [
            "7\n"
          ],
          "name": "stdout"
        }
      ]
    },
    {
      "cell_type": "code",
      "metadata": {
        "id": "En5L_KuQu-s8"
      },
      "source": [
        "plt.figure()\n",
        "plt.imshow(test_images[0].reshape(28,28))\n",
        "plt.colorbar()\n",
        "plt.grid(False)\n",
        "plt.show()"
      ],
      "execution_count": null,
      "outputs": []
    },
    {
      "cell_type": "markdown",
      "metadata": {
        "id": "zyZm0XbbvyZG"
      },
      "source": [
        "###**실습**"
      ]
    },
    {
      "cell_type": "markdown",
      "metadata": {
        "id": "kHhx4vETVVDo"
      },
      "source": [
        "####fashion-mnist 데이터 셋 분류"
      ]
    },
    {
      "cell_type": "code",
      "metadata": {
        "id": "knEcH0TsvwyA"
      },
      "source": [
        "\"\"\"## DNN(MLP) 모델을 이용한 MNIST 데이터 셋 분류\n",
        "* 체점 기준 :\n",
        "  - 데이터 셋 : 체점 서버내 테스트 데이터 셋\n",
        "  - 성능 지표 : Accuracy\n",
        "  - PASS 기준 : 80% 이상\n",
        "\"\"\"\n",
        "\n",
        "import tensorflow as tf\n",
        "from tensorflow.keras.datasets import fashion_mnist\n",
        "import matplotlib.pyplot as plt\n",
        "\n",
        "\"\"\"* Step 1. Input tensor 와 Target tensor 준비(훈련데이터)\"\"\"\n",
        "\n",
        "# label 데이터의 각 value 에 해당하는 class name 정보\n",
        "class_names = ['T-shirt/top', 'Trouser', 'Pullover', 'Dress', 'Coat',\n",
        "               'Sandal', 'Shirt', 'Sneaker', 'Bag', 'Ankle boot']\n",
        "\n",
        "\n",
        "# 1. import 한 fashion_mnist API를 이용하여 fashion_mnist 데이터 셋을 다운로드 \n",
        "(train_feature_images, train_feature_labels), (test_feature_images, test_feature_labels) = fashion_mnist.load_data()\n",
        "\n",
        "\"\"\"* Step 2. 데이터의 전처리 \"\"\"\n",
        "\n",
        "\n",
        "# 1. 3차원 형태(batch, hight, width)의 train, test feature 데이터를 2차원(batch, hight*width)으로 변경 \n",
        "# 2. feature 데이터를 [0, 1] 사이로 scailing을 수행\n",
        "from sklearn.preprocessing import MinMaxScaler\n",
        "scaler = MinMaxScaler()\n",
        "train_feature_images = train_feature_images.reshape((60000, 28*28))/255.\n",
        "scaler.fit(train_feature_images)\n",
        "train_feature_images = scaler.transform(train_feature_images)\n",
        "test_feature_images = test_feature_images.reshape((10000, 28*28))\n",
        "\n",
        "# 1. 1차원 형태의(batch, ) class index 인 train, test label 데이터를\n",
        "#    to_categorical API를 이용하여 one-hot-encoding 수행하여 2차원(batch, class_cnt) 으로 변경\n",
        "\n",
        "train_feature_labels = tf.keras.utils.to_categorical(train_feature_labels, num_classes=10)\n",
        "test_feature_labels = tf.keras.utils.to_categorical(train_feature_labels, num_classes=10)\n",
        "\n",
        "\"\"\"* Step 3. DNN(MLP) 모델 디자인\"\"\"\n",
        "\n",
        "# 1. Sequential API를 이용하여 fashion_mnist 데이터 셋을 분석 하기 위한 MLP 모델을 디자인 \n",
        "from tensorflow.keras import models, layers\n",
        "\n",
        "model = models.Sequential()\n",
        "model.add(layers.Dense(units=256, activation='relu', input_shape=(28*28,)))\n",
        "model.add(layers.Dense(units=10, activation='softmax'))\n",
        "model.summary()\n",
        "\"\"\"* Step 4. 모델의 학습 정보 설정\"\"\"\n",
        "\n",
        "# 1. tf.keras.Model 객체의 compile 메서드를 이용하여 학습을 위한 정보들을 설정\n",
        "#   - optimizer\n",
        "#   - loss : categorical_crossentropy 로 설장(label 데이터를 one-hot-encoding 하였기 때문)\n",
        "#   - metrics : 체점 기준인 accuracy 로 설정\n",
        "model.compile(optimizer='rmsprop', loss='categorical_crossentropy', metrics=['accuracy'])\n",
        "\n",
        "\"\"\"* Step 5. 모델에 input, target 데이터 연결 후 학습\"\"\"\n",
        "\n",
        "# 1. tf.keras.Model 객체의 fit 메서드를 이용하여 모델을 학습\n",
        "#   - fit 메서드의 verbose=2 로 설정 \n",
        "model.fit(x=train_feature_images, y=train_feature_labels,\n",
        "          epochs=30, \n",
        "          batch_size=128, verbose=2, validation_split=0.2)\n",
        "\n",
        "\n",
        "\"\"\"* 모델 제출 \"\"\"\n",
        "\n",
        "model.save('my_model.h5')"
      ],
      "execution_count": null,
      "outputs": []
    },
    {
      "cell_type": "markdown",
      "metadata": {
        "id": "n8PqjTM1RvVQ"
      },
      "source": [
        "####보스턴 집값 회귀 "
      ]
    },
    {
      "cell_type": "code",
      "metadata": {
        "id": "ZoxihXcWVzMo"
      },
      "source": [
        "## DNN(MLP) 모델을 이용한 보스터 집값 회귀 분석\n",
        "\"\"\"\n",
        "* 체점 기준 :\n",
        "  - 데이터 셋 : 체점 서버내 테스트 데이터 셋\n",
        "  - 성능 지표 : MAE\n",
        "  - PASS 기준 : 3.0 이하\n",
        "  \"\"\"\n",
        "\n",
        "import tensorflow as tf\n",
        "from tensorflow.keras.datasets import boston_housing\n",
        "from sklearn.preprocessing import StandardScaler\n",
        "\"\"\"* Step 1. Inptu tensor 와 Target tensor 준비(훈련데이터)\"\"\"\n",
        "\n",
        "# 1. import 한 boston_housing API를 이용하여 boston_housing 데이터 셋을 다운로드 \n",
        "(x_train, y_train), (x_test, y_test) = tf.keras.datasets.boston_housing.load_data(\n",
        "    path='boston_housing.npz', test_split=0.25, seed=113\n",
        ")\n",
        "\n",
        "\n",
        "\n",
        "\"\"\"* Step 2. 데이터의 전처리 \"\"\"\n",
        "\n",
        "# 1. train 데이터의 feature 별 평균값, 표준편차 값을 이용하여 정규화 작업을 진행\n",
        "scaler = StandardScaler()\n",
        "x_train = scaler.fit_transform(x_train)\n",
        "x_test = scaler.transform(x_test)\n",
        "\n",
        "\n",
        "\n",
        "\"\"\"* Step 3. DNN(MLP) 모델 디자인\"\"\"\n",
        "\n",
        "# 1. Sequential API를 이용하여 boston_housing 데이터 셋을 분석 하기 위한 MLP 모델을 디자인 \n",
        "model = tf.keras.Sequential()\n",
        "model.add(tf.keras.layers.Dense(8, activation='relu',input_shape=(x_train.shape[1:])))\n",
        "model.add(tf.keras.layers.Dense(4, activation='relu'))\n",
        "model.add(tf.keras.layers.Dense(1))\n",
        "\n",
        "\n",
        "\n",
        "\"\"\"* Step 4. 모델의 학습 정보 설정\"\"\"\n",
        "\n",
        "# 1. tf.keras.Model 객체의 compile 메서드를 이용하여 학습을 위한 정보들을 설정\n",
        "#   - optimizer\n",
        "#   - loss\n",
        "#   - metrics : 체점 기준인 MAE 로 설정\n",
        "model.compile(optimizer='rmsprop', loss='MAE', metrics=['MAE'])\n",
        "\n",
        "\n",
        "\n",
        "\"\"\"* Step 5. 모델에 input, target 데이터 연결 후 학습\"\"\"\n",
        "\n",
        "# 1. tf.keras.Model 객체의 fit 메서드를 이용하여 모델을 학습\n",
        "#   - fit 메서드의 verbose=2 로 설정 \n",
        "model.fit(x_train,y_train, batch_size=8, verbose=2, epochs=100, validation_data=(x_test,y_test))\n",
        "\n",
        "\n",
        "\n",
        "\"\"\"* 모델 제출 \"\"\"\n",
        "\n",
        "model.save('my_model.h5')"
      ],
      "execution_count": null,
      "outputs": []
    },
    {
      "cell_type": "markdown",
      "metadata": {
        "id": "H6WVRbTESMYE"
      },
      "source": [
        "##CNN"
      ]
    },
    {
      "cell_type": "markdown",
      "metadata": {
        "id": "-CLBsN9Q1bTJ"
      },
      "source": [
        "### MNIST 데이터 셋 분류"
      ]
    },
    {
      "cell_type": "code",
      "metadata": {
        "id": "PcfEv-nfXd_T"
      },
      "source": [
        "import matplotlib.pyplot as plt\n",
        "from tensorflow.keras.datasets import mnist\n"
      ],
      "execution_count": null,
      "outputs": []
    },
    {
      "cell_type": "markdown",
      "metadata": {
        "id": "d3VmQ_WlgP2S"
      },
      "source": [
        "\n",
        "\n",
        "* input tensor 와 Target tensor 준비 (훈련데이터)\n",
        "\n",
        "\n"
      ]
    },
    {
      "cell_type": "code",
      "metadata": {
        "id": "wy7ImYNac6vK"
      },
      "source": [
        "(train_images, train_labels), (test_images, test_labels) = mnist.load_data()"
      ],
      "execution_count": null,
      "outputs": []
    },
    {
      "cell_type": "code",
      "metadata": {
        "colab": {
          "base_uri": "https://localhost:8080/"
        },
        "id": "hLhnn-RVc6KJ",
        "outputId": "1507152a-0dab-4918-da19-637ebcf3c393"
      },
      "source": [
        "print(train_images.shape)\n",
        "print(train_labels.shape)"
      ],
      "execution_count": null,
      "outputs": [
        {
          "output_type": "stream",
          "text": [
            "(60000, 28, 28)\n",
            "(60000,)\n"
          ],
          "name": "stdout"
        }
      ]
    },
    {
      "cell_type": "code",
      "metadata": {
        "colab": {
          "base_uri": "https://localhost:8080/"
        },
        "id": "xrS__U60c6CJ",
        "outputId": "62118852-17b6-4d32-b31d-ccb75c8d2618"
      },
      "source": [
        "train_images[0]\n",
        "train_labels[0]"
      ],
      "execution_count": null,
      "outputs": [
        {
          "output_type": "execute_result",
          "data": {
            "text/plain": [
              "5"
            ]
          },
          "metadata": {
            "tags": []
          },
          "execution_count": 9
        }
      ]
    },
    {
      "cell_type": "code",
      "metadata": {
        "id": "JdShwKO8c5-5"
      },
      "source": [
        "plt.figure()\n",
        "plt.imshow(train_images[0].reshape(28,28))\n",
        "plt.colorbar()\n",
        "plt.grid(False)\n",
        "plt.show()"
      ],
      "execution_count": null,
      "outputs": []
    },
    {
      "cell_type": "markdown",
      "metadata": {
        "id": "2qVkdLgSgXXj"
      },
      "source": [
        "\n",
        "\n",
        "* 입력데이터의 전처리\n",
        "\n",
        "\n"
      ]
    },
    {
      "cell_type": "code",
      "metadata": {
        "id": "qwfcqbmbc58F"
      },
      "source": [
        "train_images = train_images/255.\n",
        "test_images = test_images/255."
      ],
      "execution_count": null,
      "outputs": []
    },
    {
      "cell_type": "code",
      "metadata": {
        "id": "GcIuW_eKc55p"
      },
      "source": [
        "# MLP input_data ; 1-D tebsor\n",
        "# convolution input_data : 3-D tensor"
      ],
      "execution_count": null,
      "outputs": []
    },
    {
      "cell_type": "code",
      "metadata": {
        "colab": {
          "base_uri": "https://localhost:8080/"
        },
        "id": "UJq5fLn-c5WZ",
        "outputId": "1185bb54-e19c-48c8-99df-69b193a9882e"
      },
      "source": [
        "train_images[0].shape"
      ],
      "execution_count": null,
      "outputs": [
        {
          "output_type": "execute_result",
          "data": {
            "text/plain": [
              "(28, 28)"
            ]
          },
          "metadata": {
            "tags": []
          },
          "execution_count": 12
        }
      ]
    },
    {
      "cell_type": "code",
      "metadata": {
        "id": "VgvPEvwkeQmQ"
      },
      "source": [
        "train_images = train_images.reshape((60000, 28, 28, 1))\n",
        "test_images = test_images.reshape((10000, 28, 28, 1))\n"
      ],
      "execution_count": null,
      "outputs": []
    },
    {
      "cell_type": "code",
      "metadata": {
        "colab": {
          "base_uri": "https://localhost:8080/"
        },
        "id": "P-NVZ0KweQaf",
        "outputId": "aaf28cfb-2946-40b5-fb65-819e847a46e0"
      },
      "source": [
        "train_images.shape"
      ],
      "execution_count": null,
      "outputs": [
        {
          "output_type": "execute_result",
          "data": {
            "text/plain": [
              "(60000, 28, 28, 1)"
            ]
          },
          "metadata": {
            "tags": []
          },
          "execution_count": 14
        }
      ]
    },
    {
      "cell_type": "code",
      "metadata": {
        "colab": {
          "base_uri": "https://localhost:8080/"
        },
        "id": "BPIZYWtleQXH",
        "outputId": "dab66dd8-ba21-4797-bbd3-ade72ec34bf1"
      },
      "source": [
        "test_images.shape"
      ],
      "execution_count": null,
      "outputs": [
        {
          "output_type": "execute_result",
          "data": {
            "text/plain": [
              "(10000, 28, 28, 1)"
            ]
          },
          "metadata": {
            "tags": []
          },
          "execution_count": 15
        }
      ]
    },
    {
      "cell_type": "code",
      "metadata": {
        "id": "CCmoWaA-ey8a"
      },
      "source": [
        "from tensorflow.keras.utils import to_categorical"
      ],
      "execution_count": null,
      "outputs": []
    },
    {
      "cell_type": "code",
      "metadata": {
        "colab": {
          "base_uri": "https://localhost:8080/"
        },
        "id": "DEYBlO4Vey4_",
        "outputId": "8bf26988-317d-4cff-d1bb-8d811eafe119"
      },
      "source": [
        "train_labels[0]"
      ],
      "execution_count": null,
      "outputs": [
        {
          "output_type": "execute_result",
          "data": {
            "text/plain": [
              "5"
            ]
          },
          "metadata": {
            "tags": []
          },
          "execution_count": 17
        }
      ]
    },
    {
      "cell_type": "code",
      "metadata": {
        "id": "RDz5jI6LeQUi"
      },
      "source": [
        "train_labels = to_categorical(train_labels)\n",
        "test_labels = to_categorical(test_labels)"
      ],
      "execution_count": null,
      "outputs": []
    },
    {
      "cell_type": "code",
      "metadata": {
        "colab": {
          "base_uri": "https://localhost:8080/"
        },
        "id": "clh8Uoz5faxR",
        "outputId": "5d9aa9b0-825c-41f0-e735-599342345012"
      },
      "source": [
        "train_labels[0]"
      ],
      "execution_count": null,
      "outputs": [
        {
          "output_type": "execute_result",
          "data": {
            "text/plain": [
              "array([0., 0., 0., 0., 0., 1., 0., 0., 0., 0.], dtype=float32)"
            ]
          },
          "metadata": {
            "tags": []
          },
          "execution_count": 19
        }
      ]
    },
    {
      "cell_type": "markdown",
      "metadata": {
        "id": "LV0WGYK4gBug"
      },
      "source": [
        "\n",
        "\n",
        "*   CNN 모델 디자인\n"
      ]
    },
    {
      "cell_type": "code",
      "metadata": {
        "id": "bJcSuvC-faq9"
      },
      "source": [
        "from tensorflow.keras import models, layers"
      ],
      "execution_count": null,
      "outputs": []
    },
    {
      "cell_type": "code",
      "metadata": {
        "id": "G9N9t4RRfan0"
      },
      "source": [
        "model = models.Sequential()"
      ],
      "execution_count": null,
      "outputs": []
    },
    {
      "cell_type": "code",
      "metadata": {
        "id": "PK4ZEOj6hGjt"
      },
      "source": [
        "# input data : (28, 28, 1)\n",
        "# feture extraction : convalution layer, pooling layer => 3-D tensor\n",
        "# layer.Flatten() => 1-D tensor\n",
        "# classification : fully connected layer - 1-D tensor\n",
        "# output data : (10, )"
      ],
      "execution_count": null,
      "outputs": []
    },
    {
      "cell_type": "code",
      "metadata": {
        "id": "tqKb_0j0hGgQ"
      },
      "source": [
        "model.add(layers.Conv2D(filters=32, kernel_size=(3,3),\n",
        "                        activation='relu',\n",
        "                        input_shape=(28,28,1)))\n",
        "model.add(layers.MaxPool2D(pool_size=(2, 2)))\n",
        "model.add(layers.Conv2D(filters=64, kernel_size=(3, 3),\n",
        "                        activation='relu'))\n",
        "model.add(layers.MaxPool2D(pool_size=(2, 2)))\n",
        "model.add(layers.Conv2D(filters=64, kernel_size=(3, 3),\n",
        "                        activation='relu'))\n",
        "\n",
        "model.add(layers.Flatten())\n",
        "\n",
        "model.add(layers.Dense(units=64, activation='relu'))\n",
        "model.add(layers.Dense(units=10, activation='softmax'))"
      ],
      "execution_count": null,
      "outputs": []
    },
    {
      "cell_type": "code",
      "metadata": {
        "colab": {
          "base_uri": "https://localhost:8080/"
        },
        "id": "UzE50kYchGc0",
        "outputId": "858cdb06-5fb0-498d-857d-366a5b9a5019"
      },
      "source": [
        "model.summary()"
      ],
      "execution_count": null,
      "outputs": [
        {
          "output_type": "stream",
          "text": [
            "Model: \"sequential_2\"\n",
            "_________________________________________________________________\n",
            "Layer (type)                 Output Shape              Param #   \n",
            "=================================================================\n",
            "conv2d_15 (Conv2D)           (None, 26, 26, 32)        320       \n",
            "_________________________________________________________________\n",
            "max_pooling2d_5 (MaxPooling2 (None, 13, 13, 32)        0         \n",
            "_________________________________________________________________\n",
            "conv2d_16 (Conv2D)           (None, 11, 11, 64)        18496     \n",
            "_________________________________________________________________\n",
            "max_pooling2d_6 (MaxPooling2 (None, 5, 5, 64)          0         \n",
            "_________________________________________________________________\n",
            "conv2d_17 (Conv2D)           (None, 3, 3, 64)          36928     \n",
            "_________________________________________________________________\n",
            "flatten_1 (Flatten)          (None, 576)               0         \n",
            "_________________________________________________________________\n",
            "dense_2 (Dense)              (None, 64)                36928     \n",
            "_________________________________________________________________\n",
            "dense_3 (Dense)              (None, 10)                650       \n",
            "=================================================================\n",
            "Total params: 93,322\n",
            "Trainable params: 93,322\n",
            "Non-trainable params: 0\n",
            "_________________________________________________________________\n"
          ],
          "name": "stdout"
        }
      ]
    },
    {
      "cell_type": "markdown",
      "metadata": {
        "id": "JJfURrbxrzUx"
      },
      "source": [
        "\n",
        "*   모델의 학습 정보 설정\n"
      ]
    },
    {
      "cell_type": "code",
      "metadata": {
        "id": "ofTwPjhZhGZt"
      },
      "source": [
        "model.compile(optimizer='rmsprop',\n",
        "              loss='categorical_crossentropy',\n",
        "              metrics=['accuracy'])"
      ],
      "execution_count": null,
      "outputs": []
    },
    {
      "cell_type": "markdown",
      "metadata": {
        "id": "_tIlLEbXtjqX"
      },
      "source": [
        "*   모델에 Input, target 데이터 연결 후 학습\n"
      ]
    },
    {
      "cell_type": "code",
      "metadata": {
        "id": "amfgokJ2hGWl"
      },
      "source": [
        "history = model.fit(x=train_images, y=train_labels,\n",
        "          epochs=15, batch_size=256, \n",
        "          validation_split=0.2)"
      ],
      "execution_count": null,
      "outputs": []
    },
    {
      "cell_type": "markdown",
      "metadata": {
        "id": "mMijelzhuo4C"
      },
      "source": [
        "* 모델의 성능 평가"
      ]
    },
    {
      "cell_type": "code",
      "metadata": {
        "colab": {
          "base_uri": "https://localhost:8080/"
        },
        "id": "wtFhPbtYfRKR",
        "outputId": "1b2ba861-8dae-4f23-98f0-35e0eb466916"
      },
      "source": [
        "test_loss, test_accuracy = model.evaluate(x=test_images, y=test_labels)"
      ],
      "execution_count": null,
      "outputs": [
        {
          "output_type": "stream",
          "text": [
            "313/313 [==============================] - 1s 2ms/step - loss: 0.0350 - accuracy: 0.9925\n"
          ],
          "name": "stdout"
        }
      ]
    },
    {
      "cell_type": "markdown",
      "metadata": {
        "id": "f86RGLpZvCq-"
      },
      "source": [
        "* Appendix-1 모델의 학습과정 시각화"
      ]
    },
    {
      "cell_type": "code",
      "metadata": {
        "id": "jc_oQgtDeQLG"
      },
      "source": [
        "acc = history.history['accuracy']\n",
        "val_acc =history.history['val_accuracy']\n",
        "\n",
        "loss = history.history['loss']\n",
        "val_loss =history.history['val_loss']\n",
        "\n",
        "epochs = range(1, len(acc) +1)"
      ],
      "execution_count": null,
      "outputs": []
    },
    {
      "cell_type": "code",
      "metadata": {
        "colab": {
          "base_uri": "https://localhost:8080/",
          "height": 281
        },
        "id": "1DWvx996vLvO",
        "outputId": "0d2b55f9-af72-447c-df1e-4502bf6534eb"
      },
      "source": [
        "plt.plot(epochs, acc, 'bo', label='Training acc')\n",
        "plt.plot(epochs, val_acc, 'b', label='Validation acc')\n",
        "plt.title('Training and validation accuracy')\n",
        "plt.legend()\n",
        "\n",
        "plt.show()"
      ],
      "execution_count": null,
      "outputs": [
        {
          "output_type": "display_data",
          "data": {
            "image/png": "[encoded data removed]",
            "text/plain": [
              "<Figure size 432x288 with 1 Axes>"
            ]
          },
          "metadata": {
            "tags": [],
            "needs_background": "light"
          }
        }
      ]
    },
    {
      "cell_type": "code",
      "metadata": {
        "colab": {
          "base_uri": "https://localhost:8080/",
          "height": 281
        },
        "id": "BfXq8jUlvdDq",
        "outputId": "5cb58308-18b9-46a6-c2af-d5ff69f86ab2"
      },
      "source": [
        "\n",
        "plt.plot(epochs, loss, 'bo', label='Training loss')\n",
        "plt.plot(epochs, val_loss, 'b', label='Validation loss')\n",
        "plt.title('Training and validation loss')\n",
        "plt.legend()\n",
        "\n",
        "plt.show()"
      ],
      "execution_count": null,
      "outputs": [
        {
          "output_type": "display_data",
          "data": {
            "image/png": "[encoded data removed]",
            "text/plain": [
              "<Figure size 432x288 with 1 Axes>"
            ]
          },
          "metadata": {
            "tags": [],
            "needs_background": "light"
          }
        }
      ]
    },
    {
      "cell_type": "markdown",
      "metadata": {
        "id": "V_5rFVWzwp7J"
      },
      "source": [
        "* Appendix 모델의 예측 결과 확인"
      ]
    },
    {
      "cell_type": "code",
      "metadata": {
        "colab": {
          "base_uri": "https://localhost:8080/"
        },
        "id": "-olUsHjewwpo",
        "outputId": "8b285db7-9b06-4d5b-eaf9-fabc49b43050"
      },
      "source": [
        "predict = model.predict(x=test_images[0].reshape((1, 28, 28, 1)))\n",
        "predict"
      ],
      "execution_count": null,
      "outputs": [
        {
          "output_type": "execute_result",
          "data": {
            "text/plain": [
              "array([[1.5450631e-14, 1.5223938e-12, 6.0941586e-12, 6.3848575e-12,\n",
              "        2.5822480e-18, 3.9745231e-17, 7.4651047e-21, 1.0000000e+00,\n",
              "        6.3998110e-14, 2.3286535e-13]], dtype=float32)"
            ]
          },
          "metadata": {
            "tags": []
          },
          "execution_count": 57
        }
      ]
    },
    {
      "cell_type": "code",
      "metadata": {
        "id": "10js6kXhxIrc"
      },
      "source": [
        "import numpy as np\n"
      ],
      "execution_count": null,
      "outputs": []
    },
    {
      "cell_type": "code",
      "metadata": {
        "colab": {
          "base_uri": "https://localhost:8080/"
        },
        "id": "Gr97OWyLxIkO",
        "outputId": "35132bf0-da37-4700-8efe-4e561f006c00"
      },
      "source": [
        "np.argmax(predict)"
      ],
      "execution_count": null,
      "outputs": [
        {
          "output_type": "execute_result",
          "data": {
            "text/plain": [
              "7"
            ]
          },
          "metadata": {
            "tags": []
          },
          "execution_count": 58
        }
      ]
    },
    {
      "cell_type": "code",
      "metadata": {
        "id": "bHtsTr3mxIg7"
      },
      "source": [
        "plt.figure()\n",
        "plt.imshow(test_images[0].reshape(28,28)*255)\n",
        "plt.colorbar()\n",
        "plt.grid(False)\n",
        "plt.show()"
      ],
      "execution_count": null,
      "outputs": []
    },
    {
      "cell_type": "markdown",
      "metadata": {
        "id": "pyr3HBxp1OQK"
      },
      "source": [
        "#### 실습 : CNN 모델을 활용한 fashion-mnist 데이터셋 분류"
      ]
    },
    {
      "cell_type": "code",
      "metadata": {
        "id": "GtxXrBNm1ljF"
      },
      "source": [
        "\"\"\"## CNN 모델을 이용한 FASHION-MNIST 데이터 셋 분류\n",
        "* 체점 기준 :\n",
        "  - 데이터 셋 : 체점 서버내 테스트 데이터 셋\n",
        "  - 성능 지표 : Accuracy\n",
        "  - PASS 기준 : 80% 이상\n",
        "\"\"\"\n",
        "\n",
        "import tensorflow as tf\n",
        "from tensorflow.keras.datasets import fashion_mnist\n",
        "\n",
        "\"\"\"* Step 1. Inptu tensor 와 Target tensor 준비(훈련데이터)\"\"\"\n",
        "\n",
        "# label 데이터의 각 value 에 해당하는 class name 정보\n",
        "class_names = ['T-shirt/top', 'Trouser', 'Pullover', 'Dress', 'Coat',\n",
        "               'Sandal', 'Shirt', 'Sneaker', 'Bag', 'Ankle boot']\n",
        "\n",
        "# 수강생 작성 코드\n",
        "# 1. import 한 fashion_mnist API를 이용하여 fashion_mnist 데이터 셋을 다운로드 받으세요\n",
        "(train_images, train_labels),(test_images, test_labels) = fashion_mnist.load_data()\n",
        "\n",
        "\n",
        "\"\"\"* Step 2. 입력데이터의 전처리 \"\"\"\n",
        "\n",
        "# 수강생 작성 코드\n",
        "# 1. 3차원 형태(batch, hight, width)의 train, test feature 데이터를 3차원(batch, hight, width, chanel(1))으로 변경 하세요\n",
        "# 2. feature 데이터를 [0, 1] 사이로 scailing을 수행하세요\n",
        "train_images = train_images/255.\n",
        "test_images = test_images/255.\n",
        "\n",
        "train_images = train_images.reshape((60000, 28, 28, 1))\n",
        "test_images = test_images.reshape((10000, 28, 28, 1))\n",
        "\n",
        "\n",
        "# 수강생 작성 코드\n",
        "# 1. 1차원 형태의(batch, ) class id 인 train, test label 데이터를\n",
        "#    to_categorical API를 이용하여 one-hot-encoding 수행하여 2차원(batch, class_cnt) 으로 변경 하세요\n",
        "from tensorflow.keras.utils import to_categorical\n",
        "train_labels = to_categorical(train_labels)\n",
        "test_labels = to_categorical(test_labels)\n",
        "\n",
        "\n",
        "\"\"\"* Step3. CNN 모델 디자인\"\"\"\n",
        "\n",
        "# 수강생 작성 코드\n",
        "# 1. Sequential API를 이용하여 fashion_mnist 데이터 셋을 분석 하기 위한 CNN 모델을 디자인 하세요\n",
        "from tensorflow.keras import models, layers\n",
        "model = models.Sequential()\n",
        "model.add(layers.Conv2D(filters=32, kernel_size=(3,3),\n",
        "                        activation='relu',\n",
        "                        input_shape=(28,28,1)))\n",
        "model.add(layers.MaxPool2D(pool_size=(2, 2)))\n",
        "model.add(layers.Conv2D(filters=64, kernel_size=(3, 3),\n",
        "                        activation='relu'))\n",
        "model.add(layers.MaxPool2D(pool_size=(2, 2)))\n",
        "model.add(layers.Conv2D(filters=64, kernel_size=(3, 3),\n",
        "                        activation='relu'))\n",
        "\n",
        "model.add(layers.Flatten())\n",
        "\n",
        "model.add(layers.Dense(units=64, activation='relu'))\n",
        "model.add(layers.Dense(units=10, activation='softmax'))\n",
        "\n",
        "model.summary()\n",
        "\n",
        "\n",
        "\"\"\"* Step 4. 모델의 학습 정보 설정\"\"\"\n",
        "\n",
        "# 수강생 작성 코드\n",
        "# 1. tf.keras.Model 객체의 compile 메서드를 이용하여 학습을 위한 정보들을 설정하세요\n",
        "#   - optimizer\n",
        "#   - loss\n",
        "#   - metrics : 체점 기준인 accuracy 로 설정\n",
        "model.compile(optimizer='rmsprop',\n",
        "              loss='categorical_crossentropy',\n",
        "              metrics=['accuracy'])\n",
        "\n",
        "\n",
        "\"\"\"* Step 5. 모델에 input, target 데이터 연결 후 학습\"\"\"\n",
        "\n",
        "# 수강생 작성 코드\n",
        "# 1. tf.keras.Model 객체의 fit 메서드를 이용하여 모델을 학습하세요\n",
        "#   - fit 메서드의 verbose=2 로 설정 하세요\n",
        "model.fit(x=train_images, y=train_labels,\n",
        "                    epochs=15, verbose=2,\n",
        "                    batch_size=256,\n",
        "                    validation_split=0.2)\n",
        "\n",
        "\n",
        "\"\"\"* 모델 제출 \"\"\"\n",
        "\n",
        "# 학습된 모델을 제출하기 위한 코드 입니다. 수정하지 마세요\n",
        "model.save('my_model.h5')"
      ],
      "execution_count": null,
      "outputs": []
    },
    {
      "cell_type": "markdown",
      "metadata": {
        "id": "9mxzVYz88B5S"
      },
      "source": [
        "### CIFAR-10 데이터 셋 분류"
      ]
    },
    {
      "cell_type": "code",
      "metadata": {
        "id": "E3xy269L9oV2"
      },
      "source": [
        "import matplotlib.pyplot as plt\n",
        "from tensorflow.keras.datasets import cifar10"
      ],
      "execution_count": null,
      "outputs": []
    },
    {
      "cell_type": "code",
      "metadata": {
        "colab": {
          "base_uri": "https://localhost:8080/"
        },
        "id": "-ljrbGg_8kbs",
        "outputId": "de362901-fbc9-4375-a76c-05af972a94dd"
      },
      "source": [
        "# Input tensor 와 Target tensor 준비 (훈련데이터)\n",
        "(train_images, train_labels), (test_images, test_labels) = cifar10.load_data()"
      ],
      "execution_count": null,
      "outputs": [
        {
          "output_type": "stream",
          "text": [
            "Downloading data from https://www.cs.toronto.edu/~kriz/cifar-10-python.tar.gz\n",
            "170500096/170498071 [==============================] - 4s 0us/step\n"
          ],
          "name": "stdout"
        }
      ]
    },
    {
      "cell_type": "code",
      "metadata": {
        "id": "0Hg8N5Dl8lBt"
      },
      "source": [
        "class_names = ['airplane', 'automobile', 'bird', 'cat', 'deer', 'dog',\n",
        "               'frog', 'horse', 'ship', 'truck']"
      ],
      "execution_count": null,
      "outputs": []
    },
    {
      "cell_type": "code",
      "metadata": {
        "colab": {
          "base_uri": "https://localhost:8080/"
        },
        "id": "EvCL8qda8k-3",
        "outputId": "b090b073-c3cd-4447-a093-832826102cf4"
      },
      "source": [
        "print(train_images.shape)\n",
        "print(train_labels.shape)"
      ],
      "execution_count": null,
      "outputs": [
        {
          "output_type": "stream",
          "text": [
            "(50000, 32, 32, 3)\n",
            "(50000, 1)\n"
          ],
          "name": "stdout"
        }
      ]
    },
    {
      "cell_type": "code",
      "metadata": {
        "colab": {
          "base_uri": "https://localhost:8080/",
          "height": 34
        },
        "id": "1i0zCnr8-_To",
        "outputId": "b1423f31-d8fa-4b4d-ccd4-e68bf88abd7d"
      },
      "source": [
        "class_names[train_labels[0][0]]"
      ],
      "execution_count": null,
      "outputs": [
        {
          "output_type": "execute_result",
          "data": {
            "application/vnd.google.colaboratory.intrinsic+json": {
              "type": "string"
            },
            "text/plain": [
              "'frog'"
            ]
          },
          "metadata": {
            "tags": []
          },
          "execution_count": 15
        }
      ]
    },
    {
      "cell_type": "code",
      "metadata": {
        "id": "Z_OPyIq7-_Qa"
      },
      "source": [
        "plt.imshow(train_images[0], cmap=plt.cm.binary)"
      ],
      "execution_count": null,
      "outputs": []
    },
    {
      "cell_type": "code",
      "metadata": {
        "id": "huxWmTyU-_Mk"
      },
      "source": [
        "plt.figure(figsize=(10,10))\n",
        "for i in range(25) :\n",
        "    plt.subplot(5,5,i+1)\n",
        "    plt.xticks([])\n",
        "    plt.yticks([])\n",
        "    plt.grid(False)\n",
        "    plt.imshow(train_images[i], cmap=plt.cm.binary)\n",
        "\n",
        "    plt.xlabel(class_names[train_labels[i][0]])\n",
        "\n",
        "plt.show()"
      ],
      "execution_count": null,
      "outputs": []
    },
    {
      "cell_type": "code",
      "metadata": {
        "id": "bWJv0UgY-_KP"
      },
      "source": [
        "# 입력데이터의 전처리\n",
        "train_images = train_images/255.\n",
        "test_images = test_images/255."
      ],
      "execution_count": null,
      "outputs": []
    },
    {
      "cell_type": "code",
      "metadata": {
        "id": "HG-KMO3U-_HF"
      },
      "source": [
        "from tensorflow.keras.utils import to_categorical"
      ],
      "execution_count": null,
      "outputs": []
    },
    {
      "cell_type": "code",
      "metadata": {
        "id": "Ey8QA1dI-_Eh"
      },
      "source": [
        "train_labels = to_categorical(train_labels)\n",
        "test_labels = to_categorical(test_labels)"
      ],
      "execution_count": null,
      "outputs": []
    },
    {
      "cell_type": "code",
      "metadata": {
        "id": "rxNm6c1i-_B5"
      },
      "source": [
        "# CNN 모델 디자인\n",
        "# Input_data : (32, 32, 3)\n",
        "# feature_extraction : => 3-D tensor\n",
        "# - conv layer(filter=32, size=(3,3)), pooling layer(max, (2,2))\n",
        "# - conv layer(filter=64, size=(3,3)), pooling layer(max, (2,2))\n",
        "# - conv layer(filter=64, size=(3,3))\n",
        "# flatten : => (1-D tensor)\n",
        "# classification\n",
        "# - fc layer(64)\n",
        "# - fc layer(10, softmax)"
      ],
      "execution_count": null,
      "outputs": []
    },
    {
      "cell_type": "code",
      "metadata": {
        "id": "O3BY2WUuF-aY"
      },
      "source": [
        "from tensorflow.keras import models, layers"
      ],
      "execution_count": null,
      "outputs": []
    },
    {
      "cell_type": "code",
      "metadata": {
        "id": "yvyMxoISF-XB"
      },
      "source": [
        "model = models.Sequential()\n",
        "\n",
        "model.add(layers.Conv2D(filters=32, kernel_size=(3, 3),\n",
        "                        activation='relu',\n",
        "                        input_shape=(32, 32, 3)))\n",
        "model.add(layers.MaxPool2D(pool_size=(2,2)))\n",
        "model.add(layers.Conv2D(filters=64, kernel_size=(3, 3),\n",
        "                        activation='relu'))\n",
        "model.add(layers.MaxPool2D(pool_size=(2,2)))\n",
        "model.add(layers.Conv2D(filters=64, kernel_size=(3, 3),\n",
        "                        activation='relu'))\n",
        "\n",
        "model.add(layers.Flatten())\n",
        "\n",
        "model.add(layers.Dense(units=64, activation='relu'))\n",
        "model.add(layers.Dense(units=10, activation='softmax'))\n"
      ],
      "execution_count": null,
      "outputs": []
    },
    {
      "cell_type": "code",
      "metadata": {
        "id": "MLuXXhFxF-Uv"
      },
      "source": [
        "model.summary()"
      ],
      "execution_count": null,
      "outputs": []
    },
    {
      "cell_type": "code",
      "metadata": {
        "id": "RrOIEUuhF-SN"
      },
      "source": [
        "# 모델의 학습 정보 설정\n",
        "model.compile(optimizer='rmsprop',\n",
        "              loss='categorical_crossentropy',\n",
        "              metrics=['accuracy'])"
      ],
      "execution_count": null,
      "outputs": []
    },
    {
      "cell_type": "code",
      "metadata": {
        "id": "-4aQb295F-P0"
      },
      "source": [
        "#모델에 input, target 데이터 연결 후 학습\n",
        "history = model.fit(x=train_images, y=train_labels,\n",
        "          epochs=20,\n",
        "          batch_size=256,\n",
        "          validation_split=0.2)"
      ],
      "execution_count": null,
      "outputs": []
    },
    {
      "cell_type": "code",
      "metadata": {
        "colab": {
          "base_uri": "https://localhost:8080/"
        },
        "id": "qFB-lW4ALaft",
        "outputId": "58a5549d-3174-4cf3-d006-de50ab3499be"
      },
      "source": [
        "#모델의 성능 평가\n",
        "test_loss, test_accuracy =model.evaluate(test_images, test_labels)"
      ],
      "execution_count": null,
      "outputs": [
        {
          "output_type": "stream",
          "text": [
            "313/313 [==============================] - 1s 3ms/step - loss: 1.1408 - accuracy: 0.6364\n"
          ],
          "name": "stdout"
        }
      ]
    },
    {
      "cell_type": "code",
      "metadata": {
        "id": "fT2gTnrrLaXC"
      },
      "source": [
        "#Appendix-1 모델의 학습과정 시각화\n",
        "acc = history.history['accuracy']\n",
        "val_acc =history.history['val_accuracy']\n",
        "\n",
        "loss = history.history['loss']\n",
        "val_loss =history.history['val_loss']\n",
        "\n",
        "epochs = range(1, len(acc) +1)"
      ],
      "execution_count": null,
      "outputs": []
    },
    {
      "cell_type": "code",
      "metadata": {
        "id": "1eTKaxG_LaN0"
      },
      "source": [
        "plt.plot(epochs, acc, 'bo', label='Training acc')\n",
        "plt.plot(epochs, val_acc, 'b', label='Validation acc')\n",
        "plt.title('Training and validation accuracy')\n",
        "plt.legend()\n",
        "\n",
        "plt.show()"
      ],
      "execution_count": null,
      "outputs": []
    },
    {
      "cell_type": "code",
      "metadata": {
        "id": "YSfiIm5FMl7B"
      },
      "source": [
        "\n",
        "plt.plot(epochs, loss, 'bo', label='Training loss')\n",
        "plt.plot(epochs, val_loss, 'b', label='Validation loss')\n",
        "plt.title('Training and validation loss')\n",
        "plt.legend()\n",
        "\n",
        "plt.show()"
      ],
      "execution_count": null,
      "outputs": []
    },
    {
      "cell_type": "code",
      "metadata": {
        "colab": {
          "base_uri": "https://localhost:8080/"
        },
        "id": "GdZt7ftcMl3i",
        "outputId": "4ab71457-47db-4f6a-c9cd-9e4835d65873"
      },
      "source": [
        "# Appendix-2 모델의 예측 결과 확인\n",
        "predict = model.predict(test_images[0].reshape(1, 32, 32, 3))\n",
        "\n",
        "predict"
      ],
      "execution_count": null,
      "outputs": [
        {
          "output_type": "execute_result",
          "data": {
            "text/plain": [
              "array([[5.7604262e-03, 3.4653731e-03, 9.6065667e-04, 6.5049130e-01,\n",
              "        6.8080590e-05, 3.2242772e-01, 1.2779334e-02, 2.7685055e-05,\n",
              "        3.9933091e-03, 2.6024425e-05]], dtype=float32)"
            ]
          },
          "metadata": {
            "tags": []
          },
          "execution_count": 29
        }
      ]
    },
    {
      "cell_type": "code",
      "metadata": {
        "id": "h-KALglcNBvK"
      },
      "source": [
        "import numpy as np\n"
      ],
      "execution_count": null,
      "outputs": []
    },
    {
      "cell_type": "code",
      "metadata": {
        "colab": {
          "base_uri": "https://localhost:8080/",
          "height": 34
        },
        "id": "9mRfOfjbNBrp",
        "outputId": "15898ca6-7f46-45fc-8ed3-e2f53fea65dc"
      },
      "source": [
        "class_names[np.argmax(predict)]"
      ],
      "execution_count": null,
      "outputs": [
        {
          "output_type": "execute_result",
          "data": {
            "application/vnd.google.colaboratory.intrinsic+json": {
              "type": "string"
            },
            "text/plain": [
              "'cat'"
            ]
          },
          "metadata": {
            "tags": []
          },
          "execution_count": 23
        }
      ]
    },
    {
      "cell_type": "code",
      "metadata": {
        "id": "OY61ymhbNBo7"
      },
      "source": [
        "plt.figure(figsize=(3, 3))\n",
        "plt.imshow(test_images[0])\n",
        "plt.grid(False)\n",
        "plt.show()"
      ],
      "execution_count": null,
      "outputs": []
    },
    {
      "cell_type": "markdown",
      "metadata": {
        "id": "jo8v_6BgOiqy"
      },
      "source": [
        "####실습 : CNN 모델을 활용한 CIFAR-10 데이터셋 분류"
      ]
    },
    {
      "cell_type": "code",
      "metadata": {
        "colab": {
          "base_uri": "https://localhost:8080/"
        },
        "id": "ZEirnBIsOkza",
        "outputId": "6ec9d32c-04a0-4653-d2e0-fdd3c6afffca"
      },
      "source": [
        "\"\"\"## CNN 모델을 이용한 CIFAR-10-CODEPRESSO 데이터 셋 분류\n",
        "* 체점 기준 :\n",
        "  - 데이터 셋 : 체점 서버내 테스트 데이터 셋\n",
        "  - 성능 지표 : Accuracy\n",
        "  - PASS 기준 : 65% 이상\n",
        "\"\"\"\n",
        "\n",
        "import tensorflow as tf\n",
        "import numpy as np\n",
        "import requests\n",
        "import io\n",
        "\n",
        "\n",
        "\"\"\"* Step 1. Inptu tensor 와 Target tensor 준비(훈련데이터)\"\"\"\n",
        "\n",
        "# label 데이터의 각 value 에 해당하는 class name 정보\n",
        "cifar_label_name=['apple', 'beaver', 'bottle', 'butterfly', 'castle',\n",
        "                  'clock', 'couch', 'leopard', 'rose', 'shark']\n",
        "\n",
        "# 데이터 다운로드 url 경로\n",
        "data_url = 'https://codepresso-online-platform-public.s3.ap-northeast-2.amazonaws.com/learning-resourse/Tensorflow+2.0+%EB%94%A5%EB%9F%AC%EB%8B%9D+%EC%99%84%EB%B2%BD+%EA%B0%80%EC%9D%B4%EB%93%9C/cifar-10-codepresso.npz'\n",
        "\n",
        "# requests 라이브러리를 이용해 데이터 다운로드\n",
        "response = requests.get(data_url)\n",
        "response.raise_for_status()\n",
        "\n",
        "# 다운로드 받은 데이터를 읽어 들여 Input tensor 와 Target tensor 준비\n",
        "with np.load(io.BytesIO(response.content)) as cifar_10_codepresso_data:\n",
        "  # 학습 이미지 데이터(np.ndarry, shape=(5000, 32, 32, 3))\n",
        "  train_images = cifar_10_codepresso_data['train_images']\n",
        "  # 학습 라벨 데이터(np.ndarry, shape=(5000, ))\n",
        "  train_labels = cifar_10_codepresso_data['train_labels']\n",
        "  \n",
        "  # 테스트 이미지 데이터(np.ndarry, shape=(1000, 32, 32, 3))\n",
        "  test_images = cifar_10_codepresso_data['test_images']\n",
        "  # 테스트 라벨 데이터(np.ndarry, shape=(1000, ))\n",
        "  test_labels = cifar_10_codepresso_data['test_labels']\n",
        "\n",
        "\n",
        "\n",
        "\"\"\"* Step 2. 입력데이터의 전처리 \"\"\"\n",
        "\n",
        "# 수강생 작성 코드\n",
        "# 1. feature 데이터를 [0, 1] 사이로 scailing을 수행하세요\n",
        "train_images = train_images/255.\n",
        "test_images = test_images/255.\n",
        "\n",
        "# 수강생 작성 코드\n",
        "# 1. 1차원 형태의(batch, ) class id 인 train, test label 데이터를\n",
        "#    to_categorical API를 이용하여 one-hot-encoding 수행하여 2차원(batch, class_cnt) 으로 변경 하세요\n",
        "from tensorflow.keras.utils import to_categorical\n",
        "train_labels = to_categorical(train_labels)\n",
        "test_labels = to_categorical(train_labels)\n",
        "\n",
        "\n",
        "\"\"\"* Step3. CNN 모델 디자인\"\"\"\n",
        "\n",
        "# 수강생 작성 코드\n",
        "# 1. Sequential API를 이용하여 fashion_mnist 데이터 셋을 분석 하기 위한 CNN 모델을 디자인 하세요\n",
        "#   - 오버피팅 발생 시 classification module에 layers.Dropout 레이어를 추가 하여 성능을 향상시켜 보세요\n",
        "from tensorflow.keras import models, layers\n",
        "model = models.Sequential()\n",
        "\n",
        "model.add(layers.Conv2D(filters=64, kernel_size=(3, 3),\n",
        "                        activation='relu',\n",
        "                        input_shape=(32, 32, 3)))\n",
        "model.add(layers.MaxPool2D(pool_size=(2,2)))\n",
        "model.add(layers.Conv2D(filters=128, kernel_size=(3, 3),\n",
        "                        activation='relu'))\n",
        "model.add(layers.MaxPool2D(pool_size=(2,2)))\n",
        "model.add(layers.Conv2D(filters=128, kernel_size=(3, 3),\n",
        "                        activation='relu'))\n",
        "\n",
        "model.add(layers.Flatten())\n",
        "\n",
        "model.add(layers.Dense(units=64, activation='relu'))\n",
        "model.add(layers.Dense(units=10, activation='softmax'))\n",
        "\n",
        "model.summary()\n",
        "\"\"\"* Step 4. 모델의 학습 정보 설정\"\"\"\n",
        "\n",
        "# 수강생 작성 코드\n",
        "# 1. tf.keras.Model 객체의 compile 메서드를 이용하여 학습을 위한 정보들을 설정하세요\n",
        "#   - optimizer\n",
        "#   - loss\n",
        "#   - metrics : 체점 기준인 accuracy 로 설정\n",
        "model.compile(optimizer='rmsprop' ,\n",
        "              loss='categorical_crossentropy' ,\n",
        "              metrics=['accuracy'])\n",
        "#모델의 성능 평가\n",
        "\n",
        "\"\"\"* Step 5. 모델에 input, target 데이터 연결 후 학습\"\"\"\n",
        "\n",
        "# 수강생 작성 코드\n",
        "# 1. tf.keras.Model 객체의 fit 메서드를 이용하여 모델을 학습하세요\n",
        "#   - fit 메서드의 verbose=2 로 설정 하세요\n",
        "model.fit(x=train_images, y=train_labels,\n",
        "          epochs=20, verbose=2,\n",
        "          batch_size=256,\n",
        "          validation_split=0.2)\n",
        "\n",
        "\n",
        "\"\"\"* 모델 제출 \"\"\"\n",
        "\n",
        "# 학습된 모델을 제출하기 위한 코드 입니다. 수정하지 마세요\n",
        "model.save('my_model.h5')"
      ],
      "execution_count": null,
      "outputs": [
        {
          "output_type": "stream",
          "text": [
            "Model: \"sequential_12\"\n",
            "_________________________________________________________________\n",
            "Layer (type)                 Output Shape              Param #   \n",
            "=================================================================\n",
            "conv2d_33 (Conv2D)           (None, 30, 30, 64)        1792      \n",
            "_________________________________________________________________\n",
            "max_pooling2d_22 (MaxPooling (None, 15, 15, 64)        0         \n",
            "_________________________________________________________________\n",
            "conv2d_34 (Conv2D)           (None, 13, 13, 128)       73856     \n",
            "_________________________________________________________________\n",
            "max_pooling2d_23 (MaxPooling (None, 6, 6, 128)         0         \n",
            "_________________________________________________________________\n",
            "conv2d_35 (Conv2D)           (None, 4, 4, 128)         147584    \n",
            "_________________________________________________________________\n",
            "flatten_11 (Flatten)         (None, 2048)              0         \n",
            "_________________________________________________________________\n",
            "dense_22 (Dense)             (None, 64)                131136    \n",
            "_________________________________________________________________\n",
            "dense_23 (Dense)             (None, 10)                650       \n",
            "=================================================================\n",
            "Total params: 355,018\n",
            "Trainable params: 355,018\n",
            "Non-trainable params: 0\n",
            "_________________________________________________________________\n",
            "Epoch 1/20\n",
            "16/16 - 2s - loss: 2.2467 - accuracy: 0.1750 - val_loss: 2.0018 - val_accuracy: 0.2650\n",
            "Epoch 2/20\n",
            "16/16 - 0s - loss: 1.9379 - accuracy: 0.3110 - val_loss: 1.8724 - val_accuracy: 0.3240\n",
            "Epoch 3/20\n",
            "16/16 - 0s - loss: 1.8034 - accuracy: 0.3865 - val_loss: 1.7018 - val_accuracy: 0.4000\n",
            "Epoch 4/20\n",
            "16/16 - 0s - loss: 1.7093 - accuracy: 0.4053 - val_loss: 1.7623 - val_accuracy: 0.3810\n",
            "Epoch 5/20\n",
            "16/16 - 0s - loss: 1.6270 - accuracy: 0.4403 - val_loss: 1.5024 - val_accuracy: 0.4830\n",
            "Epoch 6/20\n",
            "16/16 - 0s - loss: 1.5141 - accuracy: 0.4798 - val_loss: 1.4804 - val_accuracy: 0.4590\n",
            "Epoch 7/20\n",
            "16/16 - 0s - loss: 1.4754 - accuracy: 0.4988 - val_loss: 1.3723 - val_accuracy: 0.5490\n",
            "Epoch 8/20\n",
            "16/16 - 0s - loss: 1.3966 - accuracy: 0.5247 - val_loss: 1.3533 - val_accuracy: 0.5390\n",
            "Epoch 9/20\n",
            "16/16 - 0s - loss: 1.3138 - accuracy: 0.5497 - val_loss: 1.4014 - val_accuracy: 0.5370\n",
            "Epoch 10/20\n",
            "16/16 - 0s - loss: 1.2640 - accuracy: 0.5735 - val_loss: 1.5226 - val_accuracy: 0.4970\n",
            "Epoch 11/20\n",
            "16/16 - 0s - loss: 1.2359 - accuracy: 0.5850 - val_loss: 1.2353 - val_accuracy: 0.5870\n",
            "Epoch 12/20\n",
            "16/16 - 0s - loss: 1.1572 - accuracy: 0.6148 - val_loss: 1.6142 - val_accuracy: 0.4810\n",
            "Epoch 13/20\n",
            "16/16 - 0s - loss: 1.1624 - accuracy: 0.6093 - val_loss: 1.1104 - val_accuracy: 0.6450\n",
            "Epoch 14/20\n",
            "16/16 - 0s - loss: 1.0669 - accuracy: 0.6415 - val_loss: 1.2032 - val_accuracy: 0.5960\n",
            "Epoch 15/20\n",
            "16/16 - 0s - loss: 1.0624 - accuracy: 0.6465 - val_loss: 1.1053 - val_accuracy: 0.6240\n",
            "Epoch 16/20\n",
            "16/16 - 0s - loss: 0.9674 - accuracy: 0.6735 - val_loss: 1.2296 - val_accuracy: 0.5790\n",
            "Epoch 17/20\n",
            "16/16 - 0s - loss: 1.0041 - accuracy: 0.6690 - val_loss: 1.0953 - val_accuracy: 0.6350\n",
            "Epoch 18/20\n",
            "16/16 - 0s - loss: 0.9354 - accuracy: 0.6840 - val_loss: 1.0155 - val_accuracy: 0.6690\n",
            "Epoch 19/20\n",
            "16/16 - 0s - loss: 0.8791 - accuracy: 0.7007 - val_loss: 1.0156 - val_accuracy: 0.6770\n",
            "Epoch 20/20\n",
            "16/16 - 0s - loss: 0.8797 - accuracy: 0.7060 - val_loss: 1.0322 - val_accuracy: 0.6560\n"
          ],
          "name": "stdout"
        }
      ]
    },
    {
      "cell_type": "markdown",
      "metadata": {
        "id": "WCiuc0QfvpHI"
      },
      "source": [
        "###ImageDataGenerator에 대한 이해 및 구현"
      ]
    },
    {
      "cell_type": "code",
      "metadata": {
        "id": "nucw7XcTv44J"
      },
      "source": [
        "from tensorflow import keras\n",
        "import os"
      ],
      "execution_count": null,
      "outputs": []
    },
    {
      "cell_type": "code",
      "metadata": {
        "id": "UH2tGTPPkT97"
      },
      "source": [
        "url = 'https://storage.googleapis.com/mledu-datasets/cats_and_dogs_filtered.zip'"
      ],
      "execution_count": null,
      "outputs": []
    },
    {
      "cell_type": "code",
      "metadata": {
        "id": "SjLU2v3nwesJ",
        "colab": {
          "base_uri": "https://localhost:8080/",
          "height": 69
        },
        "outputId": "84c041b7-1eb8-4cda-b67e-33e8841aaafb"
      },
      "source": [
        "keras.utils.get_file(fname='cats_and_dogs_filtered.zip', origin=url, extract=True,\n",
        "                     cache_dir='/content')"
      ],
      "execution_count": null,
      "outputs": [
        {
          "output_type": "stream",
          "text": [
            "Downloading data from https://storage.googleapis.com/mledu-datasets/cats_and_dogs_filtered.zip\n",
            "68608000/68606236 [==============================] - 0s 0us/step\n"
          ],
          "name": "stdout"
        },
        {
          "output_type": "execute_result",
          "data": {
            "application/vnd.google.colaboratory.intrinsic+json": {
              "type": "string"
            },
            "text/plain": [
              "'/content/datasets/cats_and_dogs_filtered.zip'"
            ]
          },
          "metadata": {
            "tags": []
          },
          "execution_count": 18
        }
      ]
    },
    {
      "cell_type": "code",
      "metadata": {
        "id": "pLIZ3kNJ1UF8"
      },
      "source": [
        "# ImageDataGenerator를 이용해 이미지 파일을 load 하기 위한 경로 지정\n",
        "train_dir = '/content/datasets/cats_and_dogs_filtered/train'"
      ],
      "execution_count": null,
      "outputs": []
    },
    {
      "cell_type": "code",
      "metadata": {
        "colab": {
          "base_uri": "https://localhost:8080/"
        },
        "id": "kQQ2lfV51UCk",
        "outputId": "8c0e50ee-d6c7-4dc1-9774-df94af735922"
      },
      "source": [
        "#ImageDataGenerator 객체 생성\n",
        "from tensorflow.keras.preprocessing.image import ImageDataGenerator\n",
        "datagen = ImageDataGenerator()\n",
        "type(datagen)"
      ],
      "execution_count": null,
      "outputs": [
        {
          "output_type": "execute_result",
          "data": {
            "text/plain": [
              "tensorflow.python.keras.preprocessing.image.ImageDataGenerator"
            ]
          },
          "metadata": {
            "tags": []
          },
          "execution_count": 20
        }
      ]
    },
    {
      "cell_type": "code",
      "metadata": {
        "colab": {
          "base_uri": "https://localhost:8080/"
        },
        "id": "kyZg_yMh1T21",
        "outputId": "23ee8e96-76a5-4047-e122-4e97fb2a5b0a"
      },
      "source": [
        "#ImageDataGenerator.flow_from_directory() 함수 사용\n",
        "train_genarator = datagen.flow_from_directory(\n",
        "    directory=train_dir,\n",
        "    target_size=(150, 150),\n",
        "    batch_size=32,\n",
        "    shuffle=True,\n",
        "    class_mode='binary'\n",
        ")\n",
        "type(train_genarator)"
      ],
      "execution_count": null,
      "outputs": [
        {
          "output_type": "stream",
          "text": [
            "Found 2000 images belonging to 2 classes.\n"
          ],
          "name": "stdout"
        },
        {
          "output_type": "execute_result",
          "data": {
            "text/plain": [
              "tensorflow.python.keras.preprocessing.image.DirectoryIterator"
            ]
          },
          "metadata": {
            "tags": []
          },
          "execution_count": 21
        }
      ]
    },
    {
      "cell_type": "code",
      "metadata": {
        "colab": {
          "base_uri": "https://localhost:8080/"
        },
        "id": "pBHfcuB01TlB",
        "outputId": "6a228eb4-2eb9-4781-9bfc-4f02c60a8535"
      },
      "source": [
        "#DirectoryIterator 객체의 속성 및 메서드\n",
        "#.samples : 연결된 경로에서 읽어들일 이미지 파일의 개수\n",
        "train_genarator.samples\n"
      ],
      "execution_count": null,
      "outputs": [
        {
          "output_type": "execute_result",
          "data": {
            "text/plain": [
              "2000"
            ]
          },
          "metadata": {
            "tags": []
          },
          "execution_count": 22
        }
      ]
    },
    {
      "cell_type": "code",
      "metadata": {
        "colab": {
          "base_uri": "https://localhost:8080/"
        },
        "id": "mv5tzCWQ1Thl",
        "outputId": "4fb37481-c4ef-4b51-d682-83e780e4d5e7"
      },
      "source": [
        "#len() : batch 덩어리의 개수 확인\n",
        "len(train_genarator)"
      ],
      "execution_count": null,
      "outputs": [
        {
          "output_type": "execute_result",
          "data": {
            "text/plain": [
              "63"
            ]
          },
          "metadata": {
            "tags": []
          },
          "execution_count": 23
        }
      ]
    },
    {
      "cell_type": "code",
      "metadata": {
        "id": "ZgA0JR131Tex"
      },
      "source": [
        "#next() : batch 데이터 호출\n",
        "x, y = next(train_genarator)"
      ],
      "execution_count": null,
      "outputs": []
    },
    {
      "cell_type": "code",
      "metadata": {
        "colab": {
          "base_uri": "https://localhost:8080/"
        },
        "id": "kq-Sct9u1Tal",
        "outputId": "385ff7b3-49ae-4c69-9054-c114a494bf98"
      },
      "source": [
        "x.shape, y.shape"
      ],
      "execution_count": null,
      "outputs": [
        {
          "output_type": "execute_result",
          "data": {
            "text/plain": [
              "((32, 150, 150, 3), (32,))"
            ]
          },
          "metadata": {
            "tags": []
          },
          "execution_count": 25
        }
      ]
    },
    {
      "cell_type": "code",
      "metadata": {
        "colab": {
          "base_uri": "https://localhost:8080/"
        },
        "id": "0p1Qyv3N76Vy",
        "outputId": "62c0af18-f86f-4aa5-a559-ef8a978853da"
      },
      "source": [
        "#.getitem(idx) : 원하는 index의 batch 데이터 호출\n",
        "x, y = train_genarator.__getitem__(0)\n",
        "x.shape, y.shape"
      ],
      "execution_count": null,
      "outputs": [
        {
          "output_type": "execute_result",
          "data": {
            "text/plain": [
              "((32, 150, 150, 3), (32,))"
            ]
          },
          "metadata": {
            "tags": []
          },
          "execution_count": 26
        }
      ]
    },
    {
      "cell_type": "code",
      "metadata": {
        "colab": {
          "base_uri": "https://localhost:8080/"
        },
        "id": "QNNEB5nE76S4",
        "outputId": "6927216f-ab4e-4d6d-e354-473af7ee7c72"
      },
      "source": [
        "x, y = train_genarator.__getitem__(62)\n",
        "x.shape, y.shape"
      ],
      "execution_count": null,
      "outputs": [
        {
          "output_type": "execute_result",
          "data": {
            "text/plain": [
              "((16, 150, 150, 3), (16,))"
            ]
          },
          "metadata": {
            "tags": []
          },
          "execution_count": 27
        }
      ]
    },
    {
      "cell_type": "markdown",
      "metadata": {
        "id": "kjwgn11dDuVx"
      },
      "source": [
        "###CNN 모델을 이용한 Cats and Dogs 데이터 셋 분류"
      ]
    },
    {
      "cell_type": "markdown",
      "metadata": {
        "id": "8EFbYRr6KJEb"
      },
      "source": [
        "####1. Input tensor 와 Target tensor 준비 (훈련데이터)"
      ]
    },
    {
      "cell_type": "code",
      "metadata": {
        "id": "tAtXv99-D104"
      },
      "source": [
        "import tensorflow as tf\n",
        "from tensorflow import  keras\n",
        "import os\n",
        "import matplotlib.pyplot as plt\n"
      ],
      "execution_count": null,
      "outputs": []
    },
    {
      "cell_type": "code",
      "metadata": {
        "id": "SIOEJ9a5kyoT"
      },
      "source": [
        "url = 'https://storage.googleapis.com/mledu-datasets/cats_and_dogs_filtered.zip'"
      ],
      "execution_count": null,
      "outputs": []
    },
    {
      "cell_type": "code",
      "metadata": {
        "id": "1THK_9z6EZC3"
      },
      "source": [
        "path_to_zip = keras.utils.get_file(fname='cats_and_dogs_filtered.zip', origin=url, extract=True,\n",
        "                     cache_dir='/content')"
      ],
      "execution_count": null,
      "outputs": []
    },
    {
      "cell_type": "code",
      "metadata": {
        "id": "FbwwA9zQEY_e"
      },
      "source": [
        "# ImageDataGenerator를 이용해 이미지 파일을 load 하기 위한 경로 지정\n",
        "train_dir = '/content/datasets/cats_and_dogs_filtered/train'\n",
        "validation_dir = '/content/datasets/cats_and_dogs_filtered/validation'"
      ],
      "execution_count": null,
      "outputs": []
    },
    {
      "cell_type": "code",
      "metadata": {
        "colab": {
          "base_uri": "https://localhost:8080/"
        },
        "id": "fQAU7KT3EY8q",
        "outputId": "393648fe-769d-4a65-d2fa-2347215cf280"
      },
      "source": [
        "# ImageDataGenerator 객체 생성 \n",
        "# 객체 생성 시 rescale 인자룰 이용하여 텐서 내 원소의 범위를 [0~255] => [0~1]로 ReScaling 진행\n",
        "from tensorflow.keras.preprocessing.image import ImageDataGenerator\n",
        "\n",
        "# 모든 이미지를 1/255로 스케일을 조정합니다\n",
        "train_datagen = ImageDataGenerator(rescale=1./255)\n",
        "validation_datagen = ImageDataGenerator(rescale=1./255)\n",
        "\n",
        "# .flow_from_directory() 메서드를 이용하여 학습데이터와 검증데이터를 위한 DirectoryIterator 객체 생성\n",
        "train_generator = train_datagen.flow_from_directory(\n",
        "    directory=train_dir,\n",
        "    target_size=(150,150),\n",
        "    batch_size=20,\n",
        "    shuffle=True,\n",
        "    class_mode='binary'\n",
        ")\n"
      ],
      "execution_count": null,
      "outputs": [
        {
          "output_type": "stream",
          "text": [
            "Found 2000 images belonging to 2 classes.\n"
          ],
          "name": "stdout"
        }
      ]
    },
    {
      "cell_type": "code",
      "metadata": {
        "colab": {
          "base_uri": "https://localhost:8080/"
        },
        "id": "qi2t1jI5EY5q",
        "outputId": "d4763324-c24e-4d23-8b46-d962cd3f5c52"
      },
      "source": [
        "validation_generator = validation_datagen.flow_from_directory(\n",
        "    directory=validation_dir,\n",
        "    target_size=(150,150),\n",
        "    batch_size=20,\n",
        "    class_mode='binary'\n",
        ")"
      ],
      "execution_count": null,
      "outputs": [
        {
          "output_type": "stream",
          "text": [
            "Found 1000 images belonging to 2 classes.\n"
          ],
          "name": "stdout"
        }
      ]
    },
    {
      "cell_type": "code",
      "metadata": {
        "colab": {
          "base_uri": "https://localhost:8080/"
        },
        "id": "H54lE2cNEX_z",
        "outputId": "97d93e1a-f927-47c1-9fc2-75b05b6cc243"
      },
      "source": [
        "# next() 함수를 이용하여 학습 데이터의 DirectoryIterator에서 배치 사이즈 만큼의 데이터 load 하여 shape 정보 출력\n",
        "x, y = next(train_generator)\n",
        "x.shape, y.shape"
      ],
      "execution_count": null,
      "outputs": [
        {
          "output_type": "execute_result",
          "data": {
            "text/plain": [
              "((20, 150, 150, 3), (20,))"
            ]
          },
          "metadata": {
            "tags": []
          },
          "execution_count": 44
        }
      ]
    },
    {
      "cell_type": "code",
      "metadata": {
        "colab": {
          "base_uri": "https://localhost:8080/"
        },
        "id": "SyW5xKC3JzvO",
        "outputId": "a852ad82-790a-4db2-d11d-f7dd17fff05c"
      },
      "source": [
        "y"
      ],
      "execution_count": null,
      "outputs": [
        {
          "output_type": "execute_result",
          "data": {
            "text/plain": [
              "array([1., 1., 0., 0., 1., 0., 1., 1., 1., 0., 1., 0., 1., 0., 0., 0., 0.,\n",
              "       1., 1., 0.], dtype=float32)"
            ]
          },
          "metadata": {
            "tags": []
          },
          "execution_count": 45
        }
      ]
    },
    {
      "cell_type": "markdown",
      "metadata": {
        "id": "AwkikhJoKY0J"
      },
      "source": [
        "#### CNN 모델 디자인 및 학습 정보 설정\n"
      ]
    },
    {
      "cell_type": "markdown",
      "metadata": {
        "id": "6IRhntg-KnUt"
      },
      "source": [
        "\n",
        "\n",
        "*   CNN 모델 디자인\n",
        "*   CNN 모델의 summary 정보 출력\n",
        "*   모델의 학습 정보 설정\n",
        "\n"
      ]
    },
    {
      "cell_type": "code",
      "metadata": {
        "id": "rI9U7v4oJzry"
      },
      "source": [
        "# input_data : (150, 150, 3)\n",
        "# feature_extraction : => 3-D tensor\n",
        "# - conv layer(32, (3, 3)), pool layer((2, 2))\n",
        "# - conv layer(64, (3, 3)), pool layer((2, 2))\n",
        "# - conv layer(128, (3, 3)), pool layer((2, 2))\n",
        "# - conv layer(128, (3, 3)), pool layer((2, 2))\n",
        "# flatten : 1-D tensorf\n",
        "# classification\n",
        "# - fc layer(512)\n",
        "# - fc layer(1. sigmoid) "
      ],
      "execution_count": null,
      "outputs": []
    },
    {
      "cell_type": "code",
      "metadata": {
        "id": "H3k-P_D2JzoS"
      },
      "source": [
        "from tensorflow.keras import models, layers"
      ],
      "execution_count": null,
      "outputs": []
    },
    {
      "cell_type": "code",
      "metadata": {
        "id": "XRgOf0vNJzlG"
      },
      "source": [
        "model = models.Sequential()\n",
        "\n",
        "model.add(layers.Conv2D(filters=32, kernel_size=(3, 3), activation='relu',\n",
        "                        input_shape=(150, 150, 3)))\n",
        "model.add(layers.MaxPool2D(2, 2))\n",
        "model.add(layers.Conv2D(filters=64, kernel_size=(3, 3), activation='relu'))\n",
        "model.add(layers.MaxPool2D(2, 2))\n",
        "model.add(layers.Conv2D(filters=128, kernel_size=(3, 3), activation='relu'))\n",
        "model.add(layers.MaxPool2D(2, 2))\n",
        "model.add(layers.Conv2D(filters=128, kernel_size=(3, 3), activation='relu'))\n",
        "model.add(layers.MaxPool2D(2, 2))\n",
        "\n",
        "\n",
        "model.add(layers.Flatten())\n",
        "\n",
        "model.add(layers.Dense(units=512, activation='relu'))\n",
        "model.add(layers.Dense(units=1, activation='sigmoid'))"
      ],
      "execution_count": null,
      "outputs": []
    },
    {
      "cell_type": "code",
      "metadata": {
        "colab": {
          "base_uri": "https://localhost:8080/"
        },
        "id": "UICrnVsCJziy",
        "outputId": "d2b7bb99-4cef-4d73-c55b-db12574ba10c"
      },
      "source": [
        "model.summary()"
      ],
      "execution_count": null,
      "outputs": [
        {
          "output_type": "stream",
          "text": [
            "Model: \"sequential_2\"\n",
            "_________________________________________________________________\n",
            "Layer (type)                 Output Shape              Param #   \n",
            "=================================================================\n",
            "conv2d_4 (Conv2D)            (None, 148, 148, 32)      896       \n",
            "_________________________________________________________________\n",
            "max_pooling2d_4 (MaxPooling2 (None, 74, 74, 32)        0         \n",
            "_________________________________________________________________\n",
            "conv2d_5 (Conv2D)            (None, 72, 72, 64)        18496     \n",
            "_________________________________________________________________\n",
            "max_pooling2d_5 (MaxPooling2 (None, 36, 36, 64)        0         \n",
            "_________________________________________________________________\n",
            "conv2d_6 (Conv2D)            (None, 34, 34, 128)       73856     \n",
            "_________________________________________________________________\n",
            "max_pooling2d_6 (MaxPooling2 (None, 17, 17, 128)       0         \n",
            "_________________________________________________________________\n",
            "conv2d_7 (Conv2D)            (None, 15, 15, 128)       147584    \n",
            "_________________________________________________________________\n",
            "max_pooling2d_7 (MaxPooling2 (None, 7, 7, 128)         0         \n",
            "_________________________________________________________________\n",
            "flatten_1 (Flatten)          (None, 6272)              0         \n",
            "_________________________________________________________________\n",
            "dense (Dense)                (None, 512)               3211776   \n",
            "_________________________________________________________________\n",
            "dense_1 (Dense)              (None, 1)                 513       \n",
            "=================================================================\n",
            "Total params: 3,453,121\n",
            "Trainable params: 3,453,121\n",
            "Non-trainable params: 0\n",
            "_________________________________________________________________\n"
          ],
          "name": "stdout"
        }
      ]
    },
    {
      "cell_type": "code",
      "metadata": {
        "id": "-sx_vlbRhAsi"
      },
      "source": [
        "model.compile(optimizer='rmsprop',\n",
        "              loss='binary_crossentropy' ,\n",
        "              metrics=['accuracy'])"
      ],
      "execution_count": null,
      "outputs": []
    },
    {
      "cell_type": "markdown",
      "metadata": {
        "id": "w5B3VLoeg74L"
      },
      "source": [
        "####모델에 데이터 generator 연결 후 학습\n",
        "\n",
        "*   model.fit() 이용하여 데이터 연결 및 학습\n",
        "*   학습 과정은 history 변수에 저장\n",
        "\n"
      ]
    },
    {
      "cell_type": "code",
      "metadata": {
        "id": "gomr1vO6Jzf0"
      },
      "source": [
        "history = model.fit(train_generator,\n",
        "          epochs=20,\n",
        "          steps_per_epoch=len(train_generator),\n",
        "          validation_data=validation_generator,\n",
        "          validation_steps=len(validation_generator))"
      ],
      "execution_count": null,
      "outputs": []
    },
    {
      "cell_type": "markdown",
      "metadata": {
        "id": "gAHVy_SkmAPb"
      },
      "source": [
        "####학습 과정 시각화"
      ]
    },
    {
      "cell_type": "code",
      "metadata": {
        "id": "QmawbIcBJzdP"
      },
      "source": [
        "acc = history.history['accuracy']\n",
        "val_acc =history.history['val_accuracy']\n",
        "\n",
        "loss = history.history['loss']\n",
        "val_loss =history.history['val_loss']\n",
        "\n",
        "epochs = range(len(acc))\n",
        "plt.plot(epochs, acc, 'bo', label='Training acc')\n",
        "plt.plot(epochs, val_acc, 'b', label='Validation acc')\n",
        "plt.title('Training and validation accuracy')\n",
        "plt.legend()\n",
        "plt.figure()\n",
        "\n",
        "plt.plot(epochs, loss, 'bo', label='Training loss')\n",
        "plt.plot(epochs, val_loss, 'b', label='Validation loss')\n",
        "plt.title('Training and validation loss')\n",
        "plt.legend()\n",
        "\n",
        "plt.show()"
      ],
      "execution_count": null,
      "outputs": []
    },
    {
      "cell_type": "markdown",
      "metadata": {
        "id": "Mnq2Vti0pCXD"
      },
      "source": [
        "####테스트 데이터 셋을 통한 모델의 성능 평가"
      ]
    },
    {
      "cell_type": "code",
      "metadata": {
        "colab": {
          "base_uri": "https://localhost:8080/"
        },
        "id": "_aBc51Vvn5GY",
        "outputId": "812ad8b4-3c24-49cf-8437-dd56bb3f254e"
      },
      "source": [
        "val_loss, val_accracy = model.evaluate(validation_generator)"
      ],
      "execution_count": null,
      "outputs": [
        {
          "output_type": "stream",
          "text": [
            "50/50 [==============================] - 3s 53ms/step - loss: 5.3409 - accuracy: 0.6980\n"
          ],
          "name": "stdout"
        }
      ]
    },
    {
      "cell_type": "markdown",
      "metadata": {
        "id": "Tr9wwbbkqUei"
      },
      "source": [
        "#### 실습 : CNN 모델을 활용한 가위-바위-보 데이터셋 분류\n"
      ]
    },
    {
      "cell_type": "code",
      "metadata": {
        "id": "Wm86IE-QqTmM"
      },
      "source": [
        "\"\"\"## CNN 모델을 이용한 가위-바위-보 데이터셋 분류분석\n",
        "* 체점 기준 :\n",
        "  - 데이터 셋 : 체점 서버내 테스트 데이터 셋\n",
        "  - 성능 지표 : Accuracy\n",
        "  - PASS 기준 : 80% 이상\n",
        "\"\"\"\n",
        "\n",
        "from tensorflow import keras\n",
        "import os\n",
        "\n",
        "\"\"\" Step 1. Input tensor 와 Target tensor 준비(훈련데이터)\n",
        "    Step 1-(1) 가위-바위-보 데이터셋 다운로드\n",
        "\"\"\"\n",
        "\n",
        "train_url = 'https://storage.googleapis.com/laurencemoroney-blog.appspot.com/rps.zip'\n",
        "test_url = 'https://storage.googleapis.com/laurencemoroney-blog.appspot.com/rps-test-set.zip'\n",
        "\n",
        "# 수강생 작성 코드\n",
        "# 1. tensorflow.keras.utils 모듈의 get_file API를 이용하여 가위-바위-보 학습 데이터 셋 다운로드\n",
        "\n",
        "train_rps = keras.utils.get_file(fname='rps.zip', origin=train_url, extract=True,\n",
        "                     cache_dir='/content')\n",
        "\n",
        "test_rps = keras.utils.get_file(fname='rps-test-set.zip', origin=test_url, extract=True,\n",
        "                     cache_dir='/content')\n",
        "\n",
        "# 수강생 작성 코드\n",
        "# 1. tensorflow.keras.utils 모듈의 get_file API를 이용하여 가위-바위-보 테스트 데이터 셋 다운로드\n",
        "\n",
        "\n",
        "\n",
        "\"\"\" Step 1-(2) ImageDataGenerator를 이용해 이미지 파일을 load 하기 위한 경로 지정\"\"\"\n",
        "\n",
        "# 1. 저장된 학습, 테스트 데이터를 읽어 오기 위한 경로 정보 생성\n",
        "\n",
        "train_dir = os.path.dirname(train_rps) + '/rps'\n",
        "test_dir = os.path.dirname(test_rps) + '/rps-test-set'\n",
        "\n",
        "\"\"\" Step 1-(3) ImageDataGenerator 객체 생성  \n",
        "    - 객체 생성 시 rescale 인자를 이용하여 텐서 내 원소의 범위를 [0 ~ 255] => [0 ~ 1] 로 ReScaling 진행\n",
        "\"\"\"\n",
        "\n",
        "# 1. ImageDataGenerator API 를 이용하여 학습 데이터와 테스트 데이터를 읽어오기 위한 객체 생성\n",
        "#   - feature 데이터를 [0, 1] 사이로 scailing을 수행\n",
        "from tensorflow.keras.preprocessing.image import ImageDataGenerator\n",
        "\n",
        "train_datagen = ImageDataGenerator(rescale=1./255)\n",
        "test_datagen = ImageDataGenerator(rescale=1./255)\n",
        "\n",
        "\n",
        "\"\"\" - flow_from_directory() 메서드를 이용하여 학습데이터와 검증데이터를 위한 DirectoryIterator 객체 생성\"\"\"\n",
        "\n",
        "# 1. ImageDataGenerator 객체의 flow_from_directory 메서드를 이용하여 데이터를 읽어오기 위한 정보 설정\n",
        "\n",
        "train_generator = train_datagen.flow_from_directory(\n",
        "    directory=train_dir,\n",
        "    target_size=(150,150),\n",
        "    batch_size=30,\n",
        "    shuffle=True,\n",
        "    class_mode='categorical'\n",
        ")\n",
        "test_generator = test_datagen.flow_from_directory(\n",
        "    directory=test_dir,\n",
        "    target_size=(150,150),\n",
        "    batch_size=30,\n",
        "    class_mode='categorical'\n",
        ")\n",
        "\n",
        "\"\"\" Step 2. CNN 모델 디자인\"\"\"\n",
        "\n",
        "# 1. Sequential API를 이용하여 가위-바위-보 데이터셋 을 분석 하기 위한 CNN 모델을 디자인\n",
        "from tensorflow.keras import models, layers\n",
        "model = models.Sequential()\n",
        "\n",
        "model.add(layers.Conv2D(filters=32, kernel_size=(3,3), activation='relu',\n",
        "                        input_shape=(150,150,3)))\n",
        "model.add(layers.MaxPool2D(2,2))\n",
        "model.add(layers.Conv2D(filters=64, kernel_size=(3,3), activation='relu'))\n",
        "model.add(layers.MaxPool2D(2,2))\n",
        "model.add(layers.Conv2D(filters=128, kernel_size=(3,3), activation='relu'))\n",
        "model.add(layers.MaxPool2D(2,2))\n",
        "model.add(layers.Conv2D(filters=128, kernel_size=(3,3), activation='relu'))\n",
        "model.add(layers.MaxPool2D(2,2))\n",
        "\n",
        "\n",
        "model.add(layers.Flatten())\n",
        "\n",
        "model.add(layers.Dense(units=512, activation='relu'))\n",
        "model.add(layers.Dense(units=3, activation='softmax'))\n",
        "\n",
        "model.summary()\n",
        "\"\"\" Step 3. 모델의 학습 정보 설정\"\"\"\n",
        "\n",
        "# 1. tf.keras.Model 객체의 compile 메서드를 이용하여 학습을 위한 정보들을 설정\n",
        "#   - optimizer\n",
        "#   - loss\n",
        "#   - metrics : 체점 기준인 accuracy 로 설정\n",
        "model.compile(optimizer='rmsprop' ,\n",
        "              loss='categorical_crossentropy' ,\n",
        "              metrics=['accuracy'])\n",
        "\n",
        "\n",
        "\"\"\" Step 4. 모델에 데이터 generator 연결 후 학습\"\"\"\n",
        "\n",
        "# 1. tf.keras.Model 객체의 fit 메서드를 이용하여 모델을 학습\n",
        "#   - fit 메서드의 verbose=2 로 설정 \n",
        "history = model.fit(train_generator,\n",
        "                    steps_per_epoch=len(train_generator),\n",
        "                    epochs=20, verbose=2)\n",
        "\n",
        "test_loss, test_acc = model.evaluate(test_generator)\n",
        "\n",
        "\"\"\"* 모델 제출 \"\"\"\n",
        "\n",
        "model.save('my_model.h5')"
      ],
      "execution_count": null,
      "outputs": []
    },
    {
      "cell_type": "markdown",
      "metadata": {
        "id": "mnhJR3RJmBxy"
      },
      "source": [
        "###DataAugmentation을 통한 Cats & Dogs 분류 분석 모델의 성능 개선\n"
      ]
    },
    {
      "cell_type": "code",
      "metadata": {
        "colab": {
          "base_uri": "https://localhost:8080/",
          "height": 52
        },
        "id": "2BHKP5Jcpb5k",
        "outputId": "d8813efd-ebf3-43c1-d34f-33cbe4b3cdf5"
      },
      "source": [
        "'''\n",
        " overfitting:\n",
        " - train : 실제 부딪힐수 있는 모든 상황의 데이터를 갖지 못해 발생\n",
        " Augmentation :\n",
        " - train 데이터에 약간의 변형을 가해, 데이터의 분포를 다양하게 만듬\n",
        " '''"
      ],
      "execution_count": null,
      "outputs": [
        {
          "output_type": "execute_result",
          "data": {
            "application/vnd.google.colaboratory.intrinsic+json": {
              "type": "string"
            },
            "text/plain": [
              "'\\n overfitting:\\n - train : 실제 부딪힐수 있는 모든 상황의 데이터를 갖지 못해 발생\\n Augmentation :\\n - train 데이터에 약간의 변형을 가해, 데이터의 분포를 다양하게 만듬\\n '"
            ]
          },
          "metadata": {
            "tags": []
          },
          "execution_count": 16
        }
      ]
    },
    {
      "cell_type": "code",
      "metadata": {
        "id": "ugFbGVx6qLyX"
      },
      "source": [
        "import tensorflow as tf\n",
        "from tensorflow import keras\n",
        "\n",
        "import os\n",
        "import matplotlib.pyplot as plt\n"
      ],
      "execution_count": null,
      "outputs": []
    },
    {
      "cell_type": "code",
      "metadata": {
        "colab": {
          "base_uri": "https://localhost:8080/"
        },
        "id": "Juem8ZxRmOPi",
        "outputId": "639ad4c2-93ac-40e0-f333-33cc93da0e5a"
      },
      "source": [
        "#Cats and Dogs 데이터 셋 다운로드\n",
        "url = 'https://storage.googleapis.com/mledu-datasets/cats_and_dogs_filtered.zip'\n",
        "path_to_zip = keras.utils.get_file(fname='cats_and_dogs_filtered.zip', origin=url, extract=True,\n",
        "                     cache_dir='/content')"
      ],
      "execution_count": null,
      "outputs": [
        {
          "output_type": "stream",
          "text": [
            "Downloading data from https://storage.googleapis.com/mledu-datasets/cats_and_dogs_filtered.zip\n",
            "68608000/68606236 [==============================] - 1s 0us/step\n"
          ],
          "name": "stdout"
        }
      ]
    },
    {
      "cell_type": "code",
      "metadata": {
        "id": "-Iky445HpZds"
      },
      "source": [
        "#ImageDataGenerator를 이용해 이미지 파일을 load 하기 위한 경로 지정\n",
        "train_dir = '/content/datasets/cats_and_dogs_filtered/train'\n",
        "validation_dir = '/content/datasets/cats_and_dogs_filtered/validation'"
      ],
      "execution_count": null,
      "outputs": []
    },
    {
      "cell_type": "code",
      "metadata": {
        "colab": {
          "base_uri": "https://localhost:8080/"
        },
        "id": "vXQZlTShpZaN",
        "outputId": "a9a50985-5074-4677-e455-eb29dfdd7862"
      },
      "source": [
        "#ImageDataGenerator 객체 생성\n",
        "from tensorflow.keras.preprocessing.image import ImageDataGenerator\n",
        "train_datagen = ImageDataGenerator(rescale=1./255,\n",
        "                                   rotation_range=40,\n",
        "                                   width_shift_range=0.2,\n",
        "                                   height_shift_range=0.2,\n",
        "                                   shear_range=0.2,\n",
        "                                   zoom_range=0.2,\n",
        "                                   horizontal_flip=True\n",
        ")\n",
        "validation_datagen = ImageDataGenerator(rescale=1./255)\n",
        "\n",
        "#flow_from_directory() 메서드를 이용하여 학습데이터와 검증데이터를 위한 DirectoryIterator 객체 생성\n",
        "train_generator = train_datagen.flow_from_directory(\n",
        "    directory=train_dir,\n",
        "    target_size=(150,150),\n",
        "    batch_size=32,\n",
        "    shuffle=True,\n",
        "    class_mode='binary'\n",
        ")\n",
        "validation_generator = validation_datagen.flow_from_directory(\n",
        "    directory=validation_dir,\n",
        "    target_size=(150,150),\n",
        "    batch_size=32,\n",
        "    class_mode='binary'\n",
        ")\n"
      ],
      "execution_count": null,
      "outputs": [
        {
          "output_type": "stream",
          "text": [
            "Found 2000 images belonging to 2 classes.\n",
            "Found 1000 images belonging to 2 classes.\n"
          ],
          "name": "stdout"
        }
      ]
    },
    {
      "cell_type": "code",
      "metadata": {
        "id": "lYRKu067pZUq"
      },
      "source": [
        "# CNN 모델 디자인 및 학습 정보 설정\n",
        "##모델 구성\n",
        "model = keras.Sequential()\n",
        "\n",
        "model.add(keras.layers.Conv2D(filters=32, kernel_size=(3, 3), activation='relu',\n",
        "                        input_shape=(150, 150, 3)))\n",
        "model.add(keras.layers.MaxPool2D(2, 2))\n",
        "model.add(keras.layers.Conv2D(filters=64, kernel_size=(3, 3), activation='relu'))\n",
        "model.add(keras.layers.MaxPool2D(2, 2))\n",
        "model.add(keras.layers.Conv2D(filters=128, kernel_size=(3, 3), activation='relu'))\n",
        "model.add(keras.layers.MaxPool2D(2, 2))\n",
        "model.add(keras.layers.Conv2D(filters=128, kernel_size=(3, 3), activation='relu'))\n",
        "model.add(keras.layers.MaxPool2D(2, 2))\n",
        "\n",
        "\n",
        "model.add(keras.layers.Flatten())\n",
        "\n",
        "model.add(keras.layers.Dense(units=512, activation='relu'))\n",
        "model.add(keras.layers.Dense(units=1, activation='sigmoid'))\n",
        "\n",
        "## 학습을 위한 설정 정보 지정\n",
        "model.compile(optimizer='rmsprop',\n",
        "              loss='binary_crossentropy' ,\n",
        "              metrics=['accuracy'])"
      ],
      "execution_count": null,
      "outputs": []
    },
    {
      "cell_type": "code",
      "metadata": {
        "id": "GWrnQ5rlpZRp"
      },
      "source": [
        "history = model.fit(\n",
        "          train_generator,\n",
        "          steps_per_epoch=len(train_generator),\n",
        "          epochs=100,\n",
        "          validation_data=validation_generator,\n",
        "          validation_steps=len(validation_generator))"
      ],
      "execution_count": null,
      "outputs": []
    },
    {
      "cell_type": "code",
      "metadata": {
        "id": "O-J8ig6OwGnd"
      },
      "source": [
        "acc = history.history['accuracy']\n",
        "val_acc =history.history['val_accuracy']\n",
        "\n",
        "loss = history.history['loss']\n",
        "val_loss =history.history['val_loss']\n",
        "\n",
        "epochs = range(len(acc))\n",
        "plt.plot(epochs, acc, 'bo', label='Training acc')\n",
        "plt.plot(epochs, val_acc, 'b', label='Validation acc')\n",
        "plt.title('Training and validation accuracy')\n",
        "plt.legend()\n",
        "plt.figure()\n",
        "\n",
        "plt.plot(epochs, loss, 'bo', label='Training loss')\n",
        "plt.plot(epochs, val_loss, 'b', label='Validation loss')\n",
        "plt.title('Training and validation loss')\n",
        "plt.legend()\n",
        "\n",
        "plt.show()"
      ],
      "execution_count": null,
      "outputs": []
    },
    {
      "cell_type": "code",
      "metadata": {
        "colab": {
          "base_uri": "https://localhost:8080/"
        },
        "id": "vNDwalB_wGkE",
        "outputId": "e683f1a5-14d8-4e6a-904d-6d7e6c4774e7"
      },
      "source": [
        "test_loss, test_accuracy = model.evaluate(validation_generator)"
      ],
      "execution_count": null,
      "outputs": [
        {
          "output_type": "stream",
          "text": [
            "32/32 [==============================] - 3s 82ms/step - loss: 0.5570 - accuracy: 0.7160\n"
          ],
          "name": "stdout"
        }
      ]
    },
    {
      "cell_type": "markdown",
      "metadata": {
        "id": "OMfNz8vFBf-w"
      },
      "source": [
        "####실습 : DataAugmentation을 통한 가위-바위-보 분류분석 모델의 성능 개선\n"
      ]
    },
    {
      "cell_type": "code",
      "metadata": {
        "colab": {
          "base_uri": "https://localhost:8080/"
        },
        "id": "zJuGX4wIBigM",
        "outputId": "e8031901-c10a-4512-8053-3626f64159dc"
      },
      "source": [
        "\"\"\"[05-05] DataAugmentation을 통한 가위-바위-보 분류분석 모델의 성능 개선\n",
        "* 체점 기준 :\n",
        "  - 데이터 셋 : 체점 서버내 테스트 데이터 셋\n",
        "  - 성능 지표 : Accuracy\n",
        "  - PASS 기준 : 90% 이상\n",
        "\"\"\"\n",
        "from tensorflow import keras\n",
        "\n",
        "import os\n",
        "\n",
        "\"\"\" Step 1. Input tensor 와 Target tensor 준비(훈련데이터)\n",
        "    Step 1-(1) 가위-바위-보 데이터셋 다운로드\n",
        "\"\"\"\n",
        "\n",
        "train_url = 'https://storage.googleapis.com/laurencemoroney-blog.appspot.com/rps.zip'\n",
        "test_url = 'https://storage.googleapis.com/laurencemoroney-blog.appspot.com/rps-test-set.zip'\n",
        "\n",
        "# 수강생 작성 코드\n",
        "# 1. tensorflow.keras.utils 모듈의 get_file API를 이용하여 가위-바위-보 학습 데이터 셋 다운로드\n",
        "train_path = keras.utils.get_file(fname='rps.zip', origin=train_url,\n",
        "                                  extract=True, cache_dir='/content')\n",
        "\n",
        "\n",
        "\n",
        "# 수강생 작성 코드\n",
        "# 1. tensorflow.keras.utils 모듈의 get_file API를 이용하여 가위-바위-보 테스트 데이터 셋 다운로드\n",
        "test_path = keras.utils.get_file(fname='rps-test-set.zip', origin=test_url, extract=True,\n",
        "                                  cache_dir='/content')\n",
        "\n",
        "\n",
        "\n",
        "\"\"\" Step 1-(2) ImageDataGenerator를 이용해 이미지 파일을 load 하기 위한 경로 지정\"\"\"\n",
        "\n",
        "# 수강생 작성 코드\n",
        "# 1. 저장된 학습, 테스트 데이터를 읽어 오기 위한 경로 정보 생성\n",
        "#   - hint : os.path.dirname() 메서드를 이용하여 데이터 셋이 저장된 경로 추출\n",
        "#     => /root/.keras/datasets/rps_test-set.zip => /root/.keras/datasets/\n",
        "from tensorflow.keras.preprocessing.image import ImageDataGenerator\n",
        "train_dir = os.path.dirname(train_path) + '/rps'\n",
        "test_dir = os.path.dirname(test_path) + '/rps-test-set'\n",
        "\n",
        "\n",
        "\"\"\" Step 1-(3) ImageDataGenerator 객체 생성  \n",
        "    - 객체 생성 시 rescale 인자를 이용하여 텐서 내 원소의 범위를 [0 ~ 255] => [0 ~ 1] 로 ReScaling 진행\n",
        "    - Data Augmentation 을 위한 정보들 설정\n",
        "    - 검증 데이터 셋은 Augmentation 미수행\n",
        "\"\"\"\n",
        "\n",
        "# 수강생 작성 코드\n",
        "# 1. ImageDataGenerator API 를 이용하여 학습 데이터와 테스트 데이터를 읽어오기 위한 객체 생성\n",
        "#   - feature 데이터를 [0, 1] 사이로 scailing을 수행하세요\n",
        "#   - Data Augmentation 을 위한 정보들을 설정하세요\n",
        "#   - 검증 데이터 셋은 Augmentation 미수행 해야 정확학 성능이 측정 됩니다.\n",
        "\n",
        "train_datagen = ImageDataGenerator(rescale=1./255,\n",
        "                                   rotation_range=40,\n",
        "                                   width_shift_range=0.2,\n",
        "                                   height_shift_range=0.2,\n",
        "                                   shear_range=0.2,\n",
        "                                   zoom_range=0.2,\n",
        "                                   horizontal_flip=True\n",
        ")\n",
        "test_datagen = ImageDataGenerator(rescale=1./255)\n",
        "\n",
        "\"\"\" - flow_from_directory() 메서드를 이용하여 학습데이터와 검증데이터를 위한 DirectoryIterator 객체 생성\"\"\"\n",
        "\n",
        "# 수강생 작성 코드\n",
        "# 1. ImageDataGenerator 객체의 flow_from_directory 메서드를 이용하여 데이터를 읽어오기 위한 정보 설정\n",
        "\n",
        "train_generator = train_datagen.flow_from_directory(\n",
        "    directory=train_dir,\n",
        "    target_size=(150,150),\n",
        "    batch_size=20,\n",
        "    shuffle=True,\n",
        "    class_mode='categorical'\n",
        ")\n",
        "test_generator = test_datagen.flow_from_directory(\n",
        "    directory=test_dir,\n",
        "    target_size=(150,150),\n",
        "    batch_size=20,\n",
        "    class_mode='categorical'\n",
        ")\n",
        "\n",
        "\n",
        "\"\"\" Step 2. CNN 모델 디자인\"\"\"\n",
        "\n",
        "# 수강생 작성 코드\n",
        "# 1. Sequential API를 이용하여 가위-바위-보 데이터셋 을 분석 하기 위한 CNN 모델을 디자인 하세요\n",
        "\n",
        "model = keras.Sequential()\n",
        "\n",
        "model.add(keras.layers.Conv2D(filters=32, kernel_size=(3, 3), activation='relu',\n",
        "                        input_shape=(150, 150, 3)))\n",
        "model.add(keras.layers.MaxPool2D(2, 2))\n",
        "model.add(keras.layers.Conv2D(filters=64, kernel_size=(3, 3), activation='relu'))\n",
        "model.add(keras.layers.MaxPool2D(2, 2))\n",
        "model.add(keras.layers.Conv2D(filters=128, kernel_size=(3, 3), activation='relu'))\n",
        "model.add(keras.layers.MaxPool2D(2, 2))\n",
        "model.add(keras.layers.Conv2D(filters=128, kernel_size=(3, 3), activation='relu'))\n",
        "model.add(keras.layers.MaxPool2D(2, 2))\n",
        "\n",
        "\n",
        "model.add(keras.layers.Flatten())\n",
        "\n",
        "model.add(keras.layers.Dense(units=512, activation='relu'))\n",
        "model.add(keras.layers.Dense(units=3, activation='softmax'))\n",
        "\n",
        "\n",
        "\"\"\" Step 3. 모델의 학습 정보 설정\"\"\"\n",
        "\n",
        "# 수강생 작성 코드\n",
        "# 1. tf.keras.Model 객체의 compile 메서드를 이용하여 학습을 위한 정보들을 설정하세요\n",
        "#   - optimizer\n",
        "#   - loss\n",
        "#   - metrics : 체점 기준인 accuracy 로 설정\n",
        "\n",
        "\n",
        "model.compile(optimizer='rmsprop',\n",
        "              loss='categorical_crossentropy' ,\n",
        "              metrics=['accuracy'])\n",
        "\n",
        "\"\"\" Step 4. 모델에 데이터 generator 연결 후 학습\"\"\"\n",
        "\n",
        "# 수강생 작성 코드\n",
        "# 1. tf.keras.Model 객체의 fit 메서드를 이용하여 모델을 학습하세요\n",
        "#   - fit 메서드의 verbose=2 로 설정 하세요\n",
        "history = model.fit(\n",
        "          train_generator,\n",
        "          steps_per_epoch=len(train_generator),\n",
        "          epochs=20,\n",
        "          validation_data=test_generator,\n",
        "          validation_steps=len(test_generator))\n",
        "\n",
        "test_loss, test_acc = model.evaluate(test_generator)\n",
        "\n",
        "\"\"\"* 모델 제출 \"\"\"\n",
        "\n",
        "# 학습된 모델을 제출하기 위한 코드 입니다. 수정하지 마세요\n",
        "model.save('my_model.h5')\n"
      ],
      "execution_count": null,
      "outputs": [
        {
          "output_type": "stream",
          "text": [
            "Found 2520 images belonging to 3 classes.\n",
            "Found 372 images belonging to 3 classes.\n",
            "Epoch 1/20\n",
            "126/126 [==============================] - 24s 164ms/step - loss: 1.1410 - accuracy: 0.4345 - val_loss: 0.5769 - val_accuracy: 0.9758\n",
            "Epoch 2/20\n",
            "126/126 [==============================] - 20s 162ms/step - loss: 0.6223 - accuracy: 0.7440 - val_loss: 0.1740 - val_accuracy: 0.9785\n",
            "Epoch 3/20\n",
            "126/126 [==============================] - 20s 163ms/step - loss: 0.3496 - accuracy: 0.8706 - val_loss: 0.0757 - val_accuracy: 0.9892\n",
            "Epoch 4/20\n",
            "126/126 [==============================] - 20s 162ms/step - loss: 0.2384 - accuracy: 0.9131 - val_loss: 0.0374 - val_accuracy: 1.0000\n",
            "Epoch 5/20\n",
            "126/126 [==============================] - 21s 163ms/step - loss: 0.1991 - accuracy: 0.9329 - val_loss: 0.0067 - val_accuracy: 1.0000\n",
            "Epoch 6/20\n",
            "126/126 [==============================] - 20s 162ms/step - loss: 0.1493 - accuracy: 0.9528 - val_loss: 0.0965 - val_accuracy: 0.9597\n",
            "Epoch 7/20\n",
            "126/126 [==============================] - 20s 163ms/step - loss: 0.1318 - accuracy: 0.9556 - val_loss: 0.0778 - val_accuracy: 0.9677\n",
            "Epoch 8/20\n",
            "126/126 [==============================] - 20s 162ms/step - loss: 0.1067 - accuracy: 0.9611 - val_loss: 0.0268 - val_accuracy: 0.9839\n",
            "Epoch 9/20\n",
            "126/126 [==============================] - 20s 161ms/step - loss: 0.1176 - accuracy: 0.9627 - val_loss: 0.0395 - val_accuracy: 0.9839\n",
            "Epoch 10/20\n",
            "126/126 [==============================] - 20s 162ms/step - loss: 0.1256 - accuracy: 0.9651 - val_loss: 0.0862 - val_accuracy: 0.9677\n",
            "Epoch 11/20\n",
            "126/126 [==============================] - 21s 163ms/step - loss: 0.1082 - accuracy: 0.9663 - val_loss: 0.0373 - val_accuracy: 0.9731\n",
            "Epoch 12/20\n",
            "126/126 [==============================] - 20s 162ms/step - loss: 0.0913 - accuracy: 0.9706 - val_loss: 0.3056 - val_accuracy: 0.9005\n",
            "Epoch 13/20\n",
            "126/126 [==============================] - 20s 162ms/step - loss: 0.1095 - accuracy: 0.9706 - val_loss: 0.0387 - val_accuracy: 0.9758\n",
            "Epoch 14/20\n",
            "126/126 [==============================] - 20s 163ms/step - loss: 0.0762 - accuracy: 0.9758 - val_loss: 0.1093 - val_accuracy: 0.9677\n",
            "Epoch 15/20\n",
            "126/126 [==============================] - 21s 163ms/step - loss: 0.0948 - accuracy: 0.9782 - val_loss: 0.0137 - val_accuracy: 1.0000\n",
            "Epoch 16/20\n",
            "126/126 [==============================] - 20s 162ms/step - loss: 0.0605 - accuracy: 0.9806 - val_loss: 0.1106 - val_accuracy: 0.9651\n",
            "Epoch 17/20\n",
            "126/126 [==============================] - 20s 162ms/step - loss: 0.0859 - accuracy: 0.9770 - val_loss: 0.0128 - val_accuracy: 0.9946\n",
            "Epoch 18/20\n",
            "126/126 [==============================] - 20s 162ms/step - loss: 0.0820 - accuracy: 0.9770 - val_loss: 0.0034 - val_accuracy: 1.0000\n",
            "Epoch 19/20\n",
            "126/126 [==============================] - 21s 163ms/step - loss: 0.0549 - accuracy: 0.9845 - val_loss: 0.0298 - val_accuracy: 0.9839\n",
            "Epoch 20/20\n",
            "126/126 [==============================] - 20s 162ms/step - loss: 0.0728 - accuracy: 0.9813 - val_loss: 0.1014 - val_accuracy: 0.9677\n",
            "19/19 [==============================] - 1s 61ms/step - loss: 0.1014 - accuracy: 0.9677\n"
          ],
          "name": "stdout"
        }
      ]
    },
    {
      "cell_type": "markdown",
      "metadata": {
        "id": "pVl6Eo3odL3y"
      },
      "source": [
        "###Transfer Learning을 통한 Cats & Dogs 분류 분석 모델의 성능 개선"
      ]
    },
    {
      "cell_type": "code",
      "metadata": {
        "id": "zJAKzRlSdJOw"
      },
      "source": [
        "import tensorflow as tf\n",
        "from tensorflow import keras\n",
        "\n",
        "import os\n",
        "import matplotlib.pyplot as plt\n"
      ],
      "execution_count": null,
      "outputs": []
    },
    {
      "cell_type": "code",
      "metadata": {
        "colab": {
          "base_uri": "https://localhost:8080/"
        },
        "id": "op6C3Zh2dvMp",
        "outputId": "1bdfedc5-0ad0-4baa-c609-6cbd2b27ab43"
      },
      "source": [
        "#Cats and Dogs 데이터 셋 다운로드\n",
        "url = 'https://storage.googleapis.com/mledu-datasets/cats_and_dogs_filtered.zip'\n",
        "path_to_zip = keras.utils.get_file(fname='cats_and_dogs_filtered.zip', origin=url, extract=True,\n",
        "                     cache_dir='/content')"
      ],
      "execution_count": null,
      "outputs": [
        {
          "output_type": "stream",
          "text": [
            "Downloading data from https://storage.googleapis.com/mledu-datasets/cats_and_dogs_filtered.zip\n",
            "68608000/68606236 [==============================] - 0s 0us/step\n"
          ],
          "name": "stdout"
        }
      ]
    },
    {
      "cell_type": "code",
      "metadata": {
        "id": "K9iJ5f8edvJN"
      },
      "source": [
        "#ImageDataGenerator를 이용해 이미지 파일을 load 하기 위한 경로 지정\n",
        "train_dir = '/content/datasets/cats_and_dogs_filtered/train'\n",
        "validation_dir = '/content/datasets/cats_and_dogs_filtered/validation'"
      ],
      "execution_count": null,
      "outputs": []
    },
    {
      "cell_type": "code",
      "metadata": {
        "id": "w16kkk8zdvHK"
      },
      "source": [
        "from tensorflow.keras.preprocessing.image import ImageDataGenerator\n",
        "\n",
        "train_datagen = ImageDataGenerator(rescale=1./255)\n",
        "validation_datagen = ImageDataGenerator(rescale=1./255)"
      ],
      "execution_count": null,
      "outputs": []
    },
    {
      "cell_type": "code",
      "metadata": {
        "colab": {
          "base_uri": "https://localhost:8080/"
        },
        "id": "Ma6-iKmKdvEG",
        "outputId": "a76e6ea4-28d3-48c9-f151-d26f4d530a8c"
      },
      "source": [
        "train_generator = train_datagen.flow_from_directory(\n",
        "    directory=train_dir,\n",
        "    target_size=(224, 224),\n",
        "    batch_size=20,\n",
        "    shuffle=True,\n",
        "    class_mode='binary'\n",
        ")\n",
        "validation_generator = validation_datagen.flow_from_directory(\n",
        "    directory=validation_dir,\n",
        "    target_size=(224, 224),\n",
        "    batch_size=20,\n",
        "    class_mode='binary'\n",
        ")\n"
      ],
      "execution_count": null,
      "outputs": [
        {
          "output_type": "stream",
          "text": [
            "Found 2000 images belonging to 2 classes.\n",
            "Found 1000 images belonging to 2 classes.\n"
          ],
          "name": "stdout"
        }
      ]
    },
    {
      "cell_type": "markdown",
      "metadata": {
        "id": "PRHye24VfZOQ"
      },
      "source": [
        "####VGG16을 Backbone으로 하는 모델 디자인 및 학습 정보 설정\n"
      ]
    },
    {
      "cell_type": "code",
      "metadata": {
        "id": "wGnmzE9TdvBu"
      },
      "source": [
        "'''\n",
        "Pre-trained 된 VGG16 모델 객체 생성\n",
        "-imagenet 데이터를 이용해 학습된 모델 객체 생성\n",
        "-classification layer 제외\n",
        "'''\n",
        "from tensorflow.keras.applications import VGG16\n",
        "conv_base = VGG16(weights='imagenet',\n",
        "                  include_top=False,\n",
        "                  input_shape=(224, 224, 3))"
      ],
      "execution_count": null,
      "outputs": []
    },
    {
      "cell_type": "code",
      "metadata": {
        "colab": {
          "base_uri": "https://localhost:8080/"
        },
        "id": "I8kg0X5Bdu-1",
        "outputId": "eb9b72a0-7fb4-49f3-8915-3a0447db2f94"
      },
      "source": [
        "conv_base.summary()"
      ],
      "execution_count": null,
      "outputs": [
        {
          "output_type": "stream",
          "text": [
            "Model: \"vgg16\"\n",
            "_________________________________________________________________\n",
            "Layer (type)                 Output Shape              Param #   \n",
            "=================================================================\n",
            "input_2 (InputLayer)         [(None, 224, 224, 3)]     0         \n",
            "_________________________________________________________________\n",
            "block1_conv1 (Conv2D)        (None, 224, 224, 64)      1792      \n",
            "_________________________________________________________________\n",
            "block1_conv2 (Conv2D)        (None, 224, 224, 64)      36928     \n",
            "_________________________________________________________________\n",
            "block1_pool (MaxPooling2D)   (None, 112, 112, 64)      0         \n",
            "_________________________________________________________________\n",
            "block2_conv1 (Conv2D)        (None, 112, 112, 128)     73856     \n",
            "_________________________________________________________________\n",
            "block2_conv2 (Conv2D)        (None, 112, 112, 128)     147584    \n",
            "_________________________________________________________________\n",
            "block2_pool (MaxPooling2D)   (None, 56, 56, 128)       0         \n",
            "_________________________________________________________________\n",
            "block3_conv1 (Conv2D)        (None, 56, 56, 256)       295168    \n",
            "_________________________________________________________________\n",
            "block3_conv2 (Conv2D)        (None, 56, 56, 256)       590080    \n",
            "_________________________________________________________________\n",
            "block3_conv3 (Conv2D)        (None, 56, 56, 256)       590080    \n",
            "_________________________________________________________________\n",
            "block3_pool (MaxPooling2D)   (None, 28, 28, 256)       0         \n",
            "_________________________________________________________________\n",
            "block4_conv1 (Conv2D)        (None, 28, 28, 512)       1180160   \n",
            "_________________________________________________________________\n",
            "block4_conv2 (Conv2D)        (None, 28, 28, 512)       2359808   \n",
            "_________________________________________________________________\n",
            "block4_conv3 (Conv2D)        (None, 28, 28, 512)       2359808   \n",
            "_________________________________________________________________\n",
            "block4_pool (MaxPooling2D)   (None, 14, 14, 512)       0         \n",
            "_________________________________________________________________\n",
            "block5_conv1 (Conv2D)        (None, 14, 14, 512)       2359808   \n",
            "_________________________________________________________________\n",
            "block5_conv2 (Conv2D)        (None, 14, 14, 512)       2359808   \n",
            "_________________________________________________________________\n",
            "block5_conv3 (Conv2D)        (None, 14, 14, 512)       2359808   \n",
            "_________________________________________________________________\n",
            "block5_pool (MaxPooling2D)   (None, 7, 7, 512)         0         \n",
            "=================================================================\n",
            "Total params: 14,714,688\n",
            "Trainable params: 14,714,688\n",
            "Non-trainable params: 0\n",
            "_________________________________________________________________\n"
          ],
          "name": "stdout"
        }
      ]
    },
    {
      "cell_type": "code",
      "metadata": {
        "id": "LJCwERkJdu8H"
      },
      "source": [
        "#VGG16 Backbone 모델에 classification layer 추가\n",
        "model = keras.models.Sequential()"
      ],
      "execution_count": null,
      "outputs": []
    },
    {
      "cell_type": "code",
      "metadata": {
        "id": "3-iGBZs4du5j"
      },
      "source": [
        "model.add(conv_base)\n",
        "model.add(keras.layers.Flatten())\n",
        "model.add(keras.layers.Dense(units=256, activation='relu'))\n",
        "model.add(keras.layers.Dense(units=1, activation='sigmoid'))"
      ],
      "execution_count": null,
      "outputs": []
    },
    {
      "cell_type": "code",
      "metadata": {
        "colab": {
          "base_uri": "https://localhost:8080/"
        },
        "id": "QUctC_OEiFQz",
        "outputId": "77246598-58a3-4d2b-c776-ef7cc93a9957"
      },
      "source": [
        "model.summary()"
      ],
      "execution_count": null,
      "outputs": [
        {
          "output_type": "stream",
          "text": [
            "Model: \"sequential\"\n",
            "_________________________________________________________________\n",
            "Layer (type)                 Output Shape              Param #   \n",
            "=================================================================\n",
            "vgg16 (Functional)           (None, 7, 7, 512)         14714688  \n",
            "_________________________________________________________________\n",
            "flatten (Flatten)            (None, 25088)             0         \n",
            "_________________________________________________________________\n",
            "dense (Dense)                (None, 256)               6422784   \n",
            "_________________________________________________________________\n",
            "dense_1 (Dense)              (None, 1)                 257       \n",
            "=================================================================\n",
            "Total params: 21,137,729\n",
            "Trainable params: 21,137,729\n",
            "Non-trainable params: 0\n",
            "_________________________________________________________________\n"
          ],
          "name": "stdout"
        }
      ]
    },
    {
      "cell_type": "code",
      "metadata": {
        "id": "8-6k50-biFNX"
      },
      "source": [
        "#VGG16 Backbone 모델의 가중치 동결(학습대상 가중치에서 제외)\n",
        "conv_base.trainable = False"
      ],
      "execution_count": null,
      "outputs": []
    },
    {
      "cell_type": "code",
      "metadata": {
        "colab": {
          "base_uri": "https://localhost:8080/"
        },
        "id": "NyCcIttDiFKe",
        "outputId": "9c75460a-6f1a-411a-ca8a-0660be43134b"
      },
      "source": [
        "model.summary()"
      ],
      "execution_count": null,
      "outputs": [
        {
          "output_type": "stream",
          "text": [
            "Model: \"sequential\"\n",
            "_________________________________________________________________\n",
            "Layer (type)                 Output Shape              Param #   \n",
            "=================================================================\n",
            "vgg16 (Functional)           (None, 7, 7, 512)         14714688  \n",
            "_________________________________________________________________\n",
            "flatten (Flatten)            (None, 25088)             0         \n",
            "_________________________________________________________________\n",
            "dense (Dense)                (None, 256)               6422784   \n",
            "_________________________________________________________________\n",
            "dense_1 (Dense)              (None, 1)                 257       \n",
            "=================================================================\n",
            "Total params: 21,137,729\n",
            "Trainable params: 6,423,041\n",
            "Non-trainable params: 14,714,688\n",
            "_________________________________________________________________\n"
          ],
          "name": "stdout"
        }
      ]
    },
    {
      "cell_type": "code",
      "metadata": {
        "id": "4USS5psviFIC"
      },
      "source": [
        "#학습을 위한 설정 정보 지정\n",
        "model.compile(optimizer=keras.optimizers.RMSprop(learning_rate=2e-5),\n",
        "              loss='binary_crossentropy' ,\n",
        "              metrics=['accuracy'])"
      ],
      "execution_count": null,
      "outputs": []
    },
    {
      "cell_type": "code",
      "metadata": {
        "colab": {
          "base_uri": "https://localhost:8080/"
        },
        "id": "iDzepsNWiFF0",
        "outputId": "60b3b571-3cb1-4f89-f384-6a12461ce513"
      },
      "source": [
        "history = model.fit(\n",
        "          train_generator,\n",
        "          steps_per_epoch=len(train_generator),\n",
        "          epochs=30,\n",
        "          validation_data=validation_generator,\n",
        "          validation_steps=len(validation_generator))"
      ],
      "execution_count": null,
      "outputs": [
        {
          "output_type": "stream",
          "text": [
            "Epoch 1/30\n",
            "100/100 [==============================] - 53s 187ms/step - loss: 0.4489 - accuracy: 0.7970 - val_loss: 0.3145 - val_accuracy: 0.8870\n",
            "Epoch 2/30\n",
            "100/100 [==============================] - 17s 170ms/step - loss: 0.2560 - accuracy: 0.9010 - val_loss: 0.2975 - val_accuracy: 0.8690\n",
            "Epoch 3/30\n",
            "100/100 [==============================] - 16s 165ms/step - loss: 0.1961 - accuracy: 0.9325 - val_loss: 0.2307 - val_accuracy: 0.9080\n",
            "Epoch 4/30\n",
            "100/100 [==============================] - 16s 164ms/step - loss: 0.1522 - accuracy: 0.9530 - val_loss: 0.2263 - val_accuracy: 0.9040\n",
            "Epoch 5/30\n",
            "100/100 [==============================] - 17s 167ms/step - loss: 0.1230 - accuracy: 0.9605 - val_loss: 0.2120 - val_accuracy: 0.9170\n",
            "Epoch 6/30\n",
            "100/100 [==============================] - 17s 169ms/step - loss: 0.1024 - accuracy: 0.9715 - val_loss: 0.2086 - val_accuracy: 0.9180\n",
            "Epoch 7/30\n",
            "100/100 [==============================] - 17s 169ms/step - loss: 0.0820 - accuracy: 0.9815 - val_loss: 0.2295 - val_accuracy: 0.9000\n",
            "Epoch 8/30\n",
            "100/100 [==============================] - 17s 168ms/step - loss: 0.0682 - accuracy: 0.9845 - val_loss: 0.2192 - val_accuracy: 0.9130\n",
            "Epoch 9/30\n",
            "100/100 [==============================] - 17s 167ms/step - loss: 0.0531 - accuracy: 0.9910 - val_loss: 0.2098 - val_accuracy: 0.9170\n",
            "Epoch 10/30\n",
            "100/100 [==============================] - 17s 167ms/step - loss: 0.0445 - accuracy: 0.9945 - val_loss: 0.2094 - val_accuracy: 0.9170\n",
            "Epoch 11/30\n",
            "100/100 [==============================] - 17s 167ms/step - loss: 0.0377 - accuracy: 0.9955 - val_loss: 0.2250 - val_accuracy: 0.9030\n",
            "Epoch 12/30\n",
            "100/100 [==============================] - 17s 168ms/step - loss: 0.0295 - accuracy: 0.9970 - val_loss: 0.2162 - val_accuracy: 0.9080\n",
            "Epoch 13/30\n",
            "100/100 [==============================] - 17s 168ms/step - loss: 0.0241 - accuracy: 0.9995 - val_loss: 0.2833 - val_accuracy: 0.8870\n",
            "Epoch 14/30\n",
            "100/100 [==============================] - 17s 168ms/step - loss: 0.0194 - accuracy: 0.9990 - val_loss: 0.2209 - val_accuracy: 0.9090\n",
            "Epoch 15/30\n",
            "100/100 [==============================] - 17s 168ms/step - loss: 0.0155 - accuracy: 0.9995 - val_loss: 0.2286 - val_accuracy: 0.9100\n",
            "Epoch 16/30\n",
            "100/100 [==============================] - 17s 168ms/step - loss: 0.0121 - accuracy: 1.0000 - val_loss: 0.2453 - val_accuracy: 0.9100\n",
            "Epoch 17/30\n",
            "100/100 [==============================] - 17s 168ms/step - loss: 0.0097 - accuracy: 1.0000 - val_loss: 0.2478 - val_accuracy: 0.9140\n",
            "Epoch 18/30\n",
            "100/100 [==============================] - 17s 168ms/step - loss: 0.0082 - accuracy: 1.0000 - val_loss: 0.2588 - val_accuracy: 0.9050\n",
            "Epoch 19/30\n",
            "100/100 [==============================] - 17s 167ms/step - loss: 0.0061 - accuracy: 1.0000 - val_loss: 0.2579 - val_accuracy: 0.9080\n",
            "Epoch 20/30\n",
            "100/100 [==============================] - 17s 167ms/step - loss: 0.0049 - accuracy: 1.0000 - val_loss: 0.2670 - val_accuracy: 0.9070\n",
            "Epoch 21/30\n",
            "100/100 [==============================] - 17s 167ms/step - loss: 0.0039 - accuracy: 1.0000 - val_loss: 0.2705 - val_accuracy: 0.9140\n",
            "Epoch 22/30\n",
            "100/100 [==============================] - 17s 167ms/step - loss: 0.0032 - accuracy: 1.0000 - val_loss: 0.2745 - val_accuracy: 0.9120\n",
            "Epoch 23/30\n",
            "100/100 [==============================] - 17s 168ms/step - loss: 0.0026 - accuracy: 1.0000 - val_loss: 0.3175 - val_accuracy: 0.9040\n",
            "Epoch 24/30\n",
            "100/100 [==============================] - 17s 168ms/step - loss: 0.0020 - accuracy: 1.0000 - val_loss: 0.2911 - val_accuracy: 0.9080\n",
            "Epoch 25/30\n",
            "100/100 [==============================] - 17s 168ms/step - loss: 0.0017 - accuracy: 1.0000 - val_loss: 0.2946 - val_accuracy: 0.9090\n",
            "Epoch 26/30\n",
            "100/100 [==============================] - 17s 168ms/step - loss: 0.0013 - accuracy: 1.0000 - val_loss: 0.3163 - val_accuracy: 0.9020\n",
            "Epoch 27/30\n",
            "100/100 [==============================] - 17s 168ms/step - loss: 9.6690e-04 - accuracy: 1.0000 - val_loss: 0.3087 - val_accuracy: 0.9070\n",
            "Epoch 28/30\n",
            "100/100 [==============================] - 17s 168ms/step - loss: 8.1017e-04 - accuracy: 1.0000 - val_loss: 0.3175 - val_accuracy: 0.9080\n",
            "Epoch 29/30\n",
            "100/100 [==============================] - 17s 168ms/step - loss: 5.8407e-04 - accuracy: 1.0000 - val_loss: 0.3211 - val_accuracy: 0.9070\n",
            "Epoch 30/30\n",
            "100/100 [==============================] - 17s 168ms/step - loss: 4.5709e-04 - accuracy: 1.0000 - val_loss: 0.3349 - val_accuracy: 0.9070\n"
          ],
          "name": "stdout"
        }
      ]
    },
    {
      "cell_type": "code",
      "metadata": {
        "colab": {
          "base_uri": "https://localhost:8080/",
          "height": 545
        },
        "id": "cHmAdU0xiFDS",
        "outputId": "a0a98dc3-a855-4737-a4b0-366a00a90efb"
      },
      "source": [
        "acc = history.history['accuracy']\n",
        "val_acc =history.history['val_accuracy']\n",
        "\n",
        "loss = history.history['loss']\n",
        "val_loss =history.history['val_loss']\n",
        "\n",
        "epochs = range(len(acc))\n",
        "plt.plot(epochs, acc, 'bo', label='Training acc')\n",
        "plt.plot(epochs, val_acc, 'b', label='Validation acc')\n",
        "plt.title('Training and validation accuracy')\n",
        "plt.legend()\n",
        "plt.figure()\n",
        "\n",
        "plt.plot(epochs, loss, 'bo', label='Training loss')\n",
        "plt.plot(epochs, val_loss, 'b', label='Validation loss')\n",
        "plt.title('Training and validation loss')\n",
        "plt.legend()\n",
        "\n",
        "plt.show()"
      ],
      "execution_count": null,
      "outputs": [
        {
          "output_type": "display_data",
          "data": {
            "image/png": "[encoded data removed]",
            "text/plain": [
              "<Figure size 432x288 with 1 Axes>"
            ]
          },
          "metadata": {
            "tags": [],
            "needs_background": "light"
          }
        },
        {
          "output_type": "display_data",
          "data": {
            "image/png": "[encoded data removed]",
            "text/plain": [
              "<Figure size 432x288 with 1 Axes>"
            ]
          },
          "metadata": {
            "tags": [],
            "needs_background": "light"
          }
        }
      ]
    },
    {
      "cell_type": "code",
      "metadata": {
        "colab": {
          "base_uri": "https://localhost:8080/"
        },
        "id": "CPv25yg4ykbf",
        "outputId": "97157a1d-4820-488a-bde5-fc5454ffe3a3"
      },
      "source": [
        "test_loss, test_accuracy = model.evaluate(validation_generator)"
      ],
      "execution_count": null,
      "outputs": [
        {
          "output_type": "stream",
          "text": [
            "50/50 [==============================] - 6s 109ms/step - loss: 0.3349 - accuracy: 0.9070\n"
          ],
          "name": "stdout"
        }
      ]
    },
    {
      "cell_type": "markdown",
      "metadata": {
        "id": "t9OUDJ62dmPA"
      },
      "source": [
        "###Transfer Learning을 통한 가위-바위-보 분류 분석 모델의 성능 개선"
      ]
    },
    {
      "cell_type": "code",
      "metadata": {
        "id": "ihU8SkcH08GV"
      },
      "source": [
        "\"\"\"[05-05] [05-07] Transfer Learning을 통한 가위-바위-보 분류 분석 모델의 성능 개선\n",
        "* 체점 기준 :\n",
        "  - 데이터 셋 : 체점 서버내 테스트 데이터 셋\n",
        "  - 성능 지표 : Accuracy\n",
        "  - PASS 기준 : 90% 이상\n",
        "\"\"\"\n",
        "import tensorflow as tf\n",
        "from tensorflow import keras\n",
        "\n",
        "import os\n",
        "import matplotlib.pyplot as plt\n",
        "\n",
        "\"\"\" Step 1. Input tensor 와 Target tensor 준비(훈련데이터)\n",
        "    Step 1-(1) 가위-바위-보 데이터셋 다운로드\n",
        "\"\"\"\n",
        "\n",
        "train_url = 'https://storage.googleapis.com/laurencemoroney-blog.appspot.com/rps.zip'\n",
        "test_url = 'https://storage.googleapis.com/laurencemoroney-blog.appspot.com/rps-test-set.zip'\n",
        "\n",
        "# 수강생 작성 코드\n",
        "# 1. tensorflow.keras.utils 모듈의 get_file API를 이용하여 가위-바위-보 학습 데이터 셋 다운로드\n",
        "train_path = keras.utils.get_file(fname='rps.zip', origin=train_url,\n",
        "                                  extract=True, cache_dir='/content')\n",
        "\n",
        "\n",
        "# 수강생 작성 코드\n",
        "# 1. tensorflow.keras.utils 모듈의 get_file API를 이용하여 가위-바위-보 테스트 데이터 셋 다운로드\n",
        "test_path = keras.utils.get_file(fname='rps-test-set.zip', origin=test_url, extract=True,\n",
        "                                  cache_dir='/content')\n",
        "\n",
        "\n",
        "\"\"\" Step 1-(2) ImageDataGenerator를 이용해 이미지 파일을 load 하기 위한 경로 지정\"\"\"\n",
        "\n",
        "# 수강생 작성 코드\n",
        "# 1. 저장된 학습, 테스트 데이터를 읽어 오기 위한 경로 정보 생성\n",
        "#   - hint : os.path.dirname() 메서드를 이용하여 데이터 셋이 저장된 경로 추출\n",
        "#     => /root/.keras/datasets/rps_test-set.zip => /root/.keras/datasets/\n",
        "\n",
        "train_dir = os.path.dirname(train_path) + '/rps'\n",
        "test_dir = os.path.dirname(test_path) + '/rps-test-set'\n",
        "\n",
        "\n",
        "\"\"\" Step 1-(3) ImageDataGenerator 객체 생성  \n",
        "    - 객체 생성 시 rescale 인자를 이용하여 텐서 내 원소의 범위를 [0 ~ 255] => [0 ~ 1] 로 ReScaling 진행\n",
        "    - 이미지의 사이즈를 VGG16 Backbone 모델에 적합한 (224, 224) 로 지정\n",
        "\"\"\"\n",
        "\n",
        "# 수강생 작성 코드\n",
        "# 1. ImageDataGenerator API 를 이용하여 학습 데이터와 테스트 데이터를 읽어오기 위한 객체 생성\n",
        "#   - feature 데이터를 [0, 1] 사이로 scailing을 수행하세요\n",
        "\n",
        "from tensorflow.keras.preprocessing.image import ImageDataGenerator\n",
        "\n",
        "train_datagen = ImageDataGenerator(rescale=1./255)\n",
        "test_datagen = ImageDataGenerator(rescale=1./255)\n",
        "\n",
        "\"\"\" - flow_from_directory() 메서드를 이용하여 학습데이터와 검증데이터를 위한 DirectoryIterator 객체 생성\"\"\"\n",
        "\n",
        "# 수강생 작성 코드\n",
        "# 1. ImageDataGenerator 객체의 flow_from_directory 메서드를 이용하여 데이터를 읽어오기 위한 정보를 설정하세요\n",
        "#   - 이미지의 사이즈를 VGG16 Backbone 모델에 적합한 (224, 224) 로 지정하세요\n",
        "\n",
        "train_generator = train_datagen.flow_from_directory(\n",
        "    directory=train_dir,\n",
        "    target_size=(224, 224),\n",
        "    batch_size=20,\n",
        "    shuffle=True,\n",
        "    class_mode='categorical'\n",
        ")\n",
        "test_generator = test_datagen.flow_from_directory(\n",
        "    directory=test_dir,\n",
        "    target_size=(224, 224),\n",
        "    batch_size=20,\n",
        "    class_mode='categorical'\n",
        ")\n",
        "\n",
        "\n",
        "\n",
        "\"\"\" Step 2. VGG16을 Backbone 으로 하는 모델 디자인 및 학습 정보 설정\"\"\"\n",
        "\n",
        "\"\"\" Step 2-(1) Pre-trained 된 VGG16 모델 객체 생성\n",
        "    - imagenet 데이터를 이용해 학습된 모델 객체 생성\n",
        "    - classification layer 제외\n",
        "\"\"\"\n",
        "\n",
        "# 수강생 작성 코드\n",
        "# 1. tensorflow keras 에서 제공하는 이미 학습된 VGG16 Backbone 모델 객체를 생성하세요\n",
        "#   - imagenet 데이터를 이용해 학습된 Backbone 모델 객체를 생성하세요\n",
        "#   - classification layer 제외하여 VGG16 모델의 Backbone 객체만 생성하세요\n",
        "#   - 이미지의 사이즈를 VGG16 Backbone 모델에 적합한 (224, 224) 로 지정하세요\n",
        "from tensorflow.keras.applications import VGG16\n",
        "conv_base = VGG16(weights='imagenet',\n",
        "                  include_top=False,\n",
        "                  input_shape=(224, 224, 3))\n",
        "\n",
        "\n",
        "\"\"\" Step 2-(2) VGG16 Backbone 모델에 classification layer 추가\"\"\"\n",
        "\n",
        "# 수강생 작성 코드\n",
        "# 1. Sequential API를 이용하여 가위-바위-보 데이터셋 을 분석 하기 위한 CNN 모델을 디자인 하세요\n",
        "#   - VGG16의 Backbone 모델에 classification layer를 직접 추가하여 모델을 디자인 하세요\n",
        "model = keras.models.Sequential()\n",
        "\n",
        "model.add(conv_base)\n",
        "model.add(keras.layers.Flatten())\n",
        "model.add(keras.layers.Dense(units=512, activation='relu'))\n",
        "model.add(keras.layers.Dense(units=3, activation='softmax'))\n",
        "\n",
        "conv_base.trainable = False\n",
        "\n",
        "\"\"\" Step 3. 모델의 학습 정보 설정\"\"\"\n",
        "\n",
        "# 수강생 작성 코드\n",
        "# 1. tf.keras.Model 객체의 compile 메서드를 이용하여 학습을 위한 정보들을 설정하세요\n",
        "#   - optimizer : 기 학습된 VGG16 Backbone을 사용하기 때문에 optimizer 의 학습율을 작게 지정 하세요\n",
        "#   - loss\n",
        "#   - metrics : 체점 기준인 accuracy 로 설정\n",
        "\n",
        "model.compile(optimizer=keras.optimizers.RMSprop(learning_rate=2e-5),\n",
        "              loss='categorical_crossentropy' ,\n",
        "              metrics=['accuracy'])\n",
        "\n",
        "\"\"\" Step 4. 모델에 데이터 generator 연결 후 학습\"\"\"\n",
        "\n",
        "# 수강생 작성 코드\n",
        "# 1. tf.keras.Model 객체의 fit 메서드를 이용하여 모델을 학습하세요\n",
        "#   - fit 메서드의 verbose=2 로 설정 하세요\n",
        "\n",
        "history = model.fit(\n",
        "          train_generator,\n",
        "          steps_per_epoch=len(train_generator),\n",
        "          epochs=5, verbose=2,\n",
        "          validation_data=test_generator,\n",
        "          validation_steps=len(test_generator))\n",
        "\n",
        "acc = history.history['accuracy']\n",
        "val_acc =history.history['val_accuracy']\n",
        "\n",
        "loss = history.history['loss']\n",
        "val_loss =history.history['val_loss']\n",
        "\n",
        "epochs = range(len(acc))\n",
        "plt.plot(epochs, acc, 'bo', label='Training acc')\n",
        "plt.plot(epochs, val_acc, 'b', label='Validation acc')\n",
        "plt.title('Training and validation accuracy')\n",
        "plt.legend()\n",
        "plt.figure()\n",
        "\n",
        "plt.plot(epochs, loss, 'bo', label='Training loss')\n",
        "plt.plot(epochs, val_loss, 'b', label='Validation loss')\n",
        "plt.title('Training and validation loss')\n",
        "plt.legend()\n",
        "\n",
        "plt.show()\n",
        "\n",
        "test_loss, test_accuracy = model.evaluate(test_generator)\n",
        "\n",
        "\"\"\"* 모델 제출 \"\"\"\n",
        "\n",
        "# 학습된 모델을 제출하기 위한 코드 입니다. 수정하지 마세요\n",
        "model.save('my_model.h5')\n",
        "\n"
      ],
      "execution_count": null,
      "outputs": []
    }
  ]
}