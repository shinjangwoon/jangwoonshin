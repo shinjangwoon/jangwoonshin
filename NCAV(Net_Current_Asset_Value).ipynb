{
  "nbformat": 4,
  "nbformat_minor": 0,
  "metadata": {
    "colab": {
      "name": "NCAV(Net Current Asset Value).ipynb",
      "private_outputs": true,
      "provenance": [],
      "authorship_tag": "ABX9TyN56IsXqFdbruBtu4+UtYuW",
      "include_colab_link": true
    },
    "kernelspec": {
      "name": "python3",
      "display_name": "Python 3"
    },
    "language_info": {
      "name": "python"
    }
  },
  "cells": [
    {
      "cell_type": "markdown",
      "metadata": {
        "id": "view-in-github",
        "colab_type": "text"
      },
      "source": [
        "<a href=\"https://colab.research.google.com/github/shinjangwoon/jangwoonshin/blob/practice/NCAV(Net_Current_Asset_Value).ipynb\" target=\"_parent\"><img src=\"https://colab.research.google.com/assets/colab-badge.svg\" alt=\"Open In Colab\"/></a>"
      ]
    },
    {
      "cell_type": "markdown",
      "metadata": {
        "id": "NkiPZVrURjDa"
      },
      "source": [
        "#NCAV(Net Current Asset Value)"
      ]
    },
    {
      "cell_type": "markdown",
      "metadata": {
        "id": "CE_68AqyTJnf"
      },
      "source": [
        "##Basic Setting"
      ]
    },
    {
      "cell_type": "code",
      "metadata": {
        "id": "XPvqKyClTMWk"
      },
      "source": [
        "import pandas as pd\n",
        "from tqdm import tqdm\n",
        "from bs4 import BeautifulSoup\n",
        "import urllib.request"
      ],
      "execution_count": null,
      "outputs": []
    },
    {
      "cell_type": "code",
      "metadata": {
        "id": "YJl2GUTARQD0"
      },
      "source": [
        "SNAP_URL = 'https://comp.fnguide.com/SVO2/ASP/SVD_main.asp?pGB=1&gicode=A%s&cID=&MenuYn=Y&ReportGB=&NewMenuID=11&stkGb=&strResearchYN='\n",
        "FS_URL = 'https://comp.fnguide.com/SVO2/ASP/SVD_Finance.asp?pGB=1&gicode=A%s&cID=&MenuYn=Y&ReportGB=&NewMenuID=103&stkGb=701'\n",
        "sample_code = '035720'"
      ],
      "execution_count": null,
      "outputs": []
    },
    {
      "cell_type": "code",
      "metadata": {
        "id": "eurubP86RhbA"
      },
      "source": [
        "fs = urllib.request.urlopen(FS_URL%sample_code).read()\n",
        "fs_soup = BeautifulSoup(fs, 'html.parser')"
      ],
      "execution_count": null,
      "outputs": []
    },
    {
      "cell_type": "code",
      "metadata": {
        "id": "h5qh1jgnRhXo"
      },
      "source": [
        "snap = urllib.request.urlopen(SNAP_URL%sample_code).read()\n",
        "snap_soup = BeautifulSoup(snap, 'html.parser')"
      ],
      "execution_count": null,
      "outputs": []
    },
    {
      "cell_type": "markdown",
      "metadata": {
        "id": "1MzdvQj5RhSq"
      },
      "source": [
        "# Market Value"
      ]
    },
    {
      "cell_type": "code",
      "metadata": {
        "id": "y6h7MH4bdtdU"
      },
      "source": [
        "#type(snap_soup.find('div',{'id':'svdMainGrid1'}))"
      ],
      "execution_count": null,
      "outputs": []
    },
    {
      "cell_type": "code",
      "metadata": {
        "id": "jftzfa4PdtQ0"
      },
      "source": [
        "#type(snap_soup.find('div',{'id':'svdMainGrid1'}).find_all('td',{'class':'r'}))"
      ],
      "execution_count": null,
      "outputs": []
    },
    {
      "cell_type": "code",
      "metadata": {
        "id": "ApQt6vUNRhQG"
      },
      "source": [
        "mv_cells = snap_soup.find('div',{'id':'svdMainGrid1'}).find_all('td',{'class':'r'})\n",
        "market_value = float(mv_cells[8].string.replace(',',''))\n",
        "market_value"
      ],
      "execution_count": null,
      "outputs": []
    },
    {
      "cell_type": "markdown",
      "metadata": {
        "id": "lu82ET_WRhNl"
      },
      "source": [
        "# Current Asset"
      ]
    },
    {
      "cell_type": "code",
      "metadata": {
        "id": "4JrecmTfjWOz"
      },
      "source": [
        "ca_cells = fs_soup.find('tr', {'id' : 'p_grid2_2'}).find_all('td', {'class':'r cle'})\n",
        "current_asset = float(ca_cells[0].string.replace(',',''))\n",
        "current_asset\n"
      ],
      "execution_count": null,
      "outputs": []
    },
    {
      "cell_type": "markdown",
      "metadata": {
        "id": "oAFwmZSxjWMa"
      },
      "source": [
        "# Total Debt"
      ]
    },
    {
      "cell_type": "code",
      "metadata": {
        "id": "a5MTlgwWjWJy"
      },
      "source": [
        "debt_cells = fs_soup.find('div', {'id' : 'divDaechaY'}).find_all('tr', {'class':'rwf rowBold'})\n",
        "total_debt = float(debt_cells[1].find('td', {'class':'r cle'}).string.replace(',',''))\n",
        "total_debt"
      ],
      "execution_count": null,
      "outputs": []
    },
    {
      "cell_type": "code",
      "metadata": {
        "id": "mEWFbBLWjWG-"
      },
      "source": [
        "# 다른 방식\n",
        "debt_list = []\n",
        "for debt in debt_cells[1] :\n",
        "    if debt != '\\n':\n",
        "        debt_list.append(debt.string)\n",
        "\n",
        "total_debt = float(debt_list[-1].replace(',',''))\n",
        "\n",
        "total_debt\n",
        "\n"
      ],
      "execution_count": null,
      "outputs": []
    },
    {
      "cell_type": "markdown",
      "metadata": {
        "id": "S4DPsvc4upgb"
      },
      "source": [
        "# Net Income"
      ]
    },
    {
      "cell_type": "code",
      "metadata": {
        "id": "PiEhl9oxjWD-"
      },
      "source": [
        "income_cells = fs_soup.find('div',{'id': 'divSonikY'}).find_all('tr', {'class':'rwf rowBold'})\n",
        "net_income = float(income_cells[-1].find_all('td', {'class':'r'})[-3].string.replace(',',''))\n",
        "net_income"
      ],
      "execution_count": null,
      "outputs": []
    },
    {
      "cell_type": "code",
      "metadata": {
        "id": "ksINmX9uupG9"
      },
      "source": [
        "from google.colab import drive\n",
        "drive.mount('/content/drive')"
      ],
      "execution_count": null,
      "outputs": []
    },
    {
      "cell_type": "code",
      "metadata": {
        "id": "wPy60LV-upEm"
      },
      "source": [
        "csv_url = '/content/drive/MyDrive/Colab Notebooks/company.csv'\n",
        "\n",
        "company = pd.read_csv(csv_url)\n",
        "print(company.shape)\n",
        "company.head(10)"
      ],
      "execution_count": null,
      "outputs": []
    },
    {
      "cell_type": "code",
      "metadata": {
        "id": "zzRBaMkqupCK"
      },
      "source": [
        "code_list = company['종목코드']\n",
        "sample_code_list = code_list[1000:1050]\n",
        "sample_code_list"
      ],
      "execution_count": null,
      "outputs": []
    },
    {
      "cell_type": "code",
      "metadata": {
        "id": "E1G27BgXwLxu"
      },
      "source": [
        "def crawler(li) :\n",
        "    # url를 세팅한다\n",
        "    SNAP_URL = 'https://comp.fnguide.com/SVO2/ASP/SVD_main.asp?pGB=1&gicode=A%s&cID=&MenuYn=Y&ReportGB=&NewMenuID=11&stkGb=&strResearchYN='\n",
        "    FS_URL = 'https://comp.fnguide.com/SVO2/ASP/SVD_Finance.asp?pGB=1&gicode=A%s&cID=&MenuYn=Y&ReportGB=&NewMenuID=103&stkGb=701'\n",
        "\n",
        "    result = {}\n",
        "\n",
        "    for code in tqdm(li):\n",
        "        try:\n",
        "            fs = urllib.request.urlopen(FS_URL%code).read()\n",
        "            fs_soup = BeautifulSoup(fs, 'html.parser')\n",
        "\n",
        "            snap = urllib.request.urlopen(SNAP_URL%code).read()\n",
        "            snap_soup = BeautifulSoup(snap, 'html.parser')\n",
        "            # get company name\n",
        "            name = company[company['종목코드'] == code]['회사명'].values[0]\n",
        "\n",
        "            # get Market Value\n",
        "            mv_cells = snap_soup.find('div',{'id':'svdMainGrid1'}).find_all('td',{'class':'r'})\n",
        "            market_value = float(mv_cells[8].string.replace(',',''))\n",
        "\n",
        "            # get current asset\n",
        "            ca_cells = fs_soup.find('tr', {'id' : 'p_grid2_2'}).find_all('td', {'class':'r cle'})\n",
        "            current_asset = float(ca_cells[0].string.replace(',',''))\n",
        "\n",
        "            # get total debt\n",
        "            debt_cells = fs_soup.find('div', {'id' : 'divDaechaY'}).find_all('tr', {'class':'rwf rowBold'})\n",
        "            total_debt = float(debt_cells[1].find('td', {'class':'r cle'}).string.replace(',',''))\n",
        "\n",
        "            # get net income\n",
        "            income_cells = fs_soup.find('div',{'id': 'divSonikY'}).find_all('tr', {'class':'rwf rowBold'})\n",
        "            net_income = float(income_cells[-1].find_all('td', {'class':'r'})[-3].string.replace(',',''))\n",
        "\n",
        "            # insert into result dict\n",
        "            result[name] = [code, market_value, current_asset, total_debt, net_income]\n",
        "\n",
        "\n",
        "        except(ValueError, AttributeError, IndexError, TypeError):\n",
        "            pass\n",
        "\n",
        "    # convert dict DataFrame\n",
        "    result_df = pd.DataFrame(result)\n",
        "\n",
        "    # transposing DataFrame\n",
        "    result_df = result_df.transpose()\n",
        "    \n",
        "    # net column names\n",
        "    result_df.columns = ['Code', 'Market_values', 'Current_asset', 'Total_debt', 'Net_income']\n",
        "\n",
        "    return result_df\n",
        "\n"
      ],
      "execution_count": null,
      "outputs": []
    },
    {
      "cell_type": "code",
      "metadata": {
        "id": "eKsJxU0W_ojX"
      },
      "source": [
        "result_df = crawler(sample_code_list)\n",
        "result_df"
      ],
      "execution_count": null,
      "outputs": []
    },
    {
      "cell_type": "code",
      "metadata": {
        "id": "me9_J-N1wLvv"
      },
      "source": [
        "tmp_df = result_df.copy()\n"
      ],
      "execution_count": null,
      "outputs": []
    },
    {
      "cell_type": "code",
      "metadata": {
        "id": "sX3ndeq18o0E"
      },
      "source": [
        "tmp_df['NCAV'] = tmp_df['Current_asset'] - tmp_df['Total_debt']"
      ],
      "execution_count": null,
      "outputs": []
    },
    {
      "cell_type": "code",
      "metadata": {
        "id": "RqcCxYgf8ov5"
      },
      "source": [
        "tmp_df[(tmp_df['NCAV'] > tmp_df['Market_values'] * 0.3) & (tmp_df['Net_income']>0)]"
      ],
      "execution_count": null,
      "outputs": []
    },
    {
      "cell_type": "code",
      "metadata": {
        "id": "Cd0pkshpwLtj"
      },
      "source": [
        ""
      ],
      "execution_count": null,
      "outputs": []
    }
  ]
}