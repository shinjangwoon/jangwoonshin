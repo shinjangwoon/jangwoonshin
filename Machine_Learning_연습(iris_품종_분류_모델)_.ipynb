{
  "nbformat": 4,
  "nbformat_minor": 0,
  "metadata": {
    "colab": {
      "name": "Machine Learning 연습(iris 품종 분류 모델) .ipynb",
      "private_outputs": true,
      "provenance": [],
      "collapsed_sections": [],
      "authorship_tag": "ABX9TyO87lRY+k8uf/34CCU0hbgc",
      "include_colab_link": true
    },
    "kernelspec": {
      "name": "python3",
      "display_name": "Python 3"
    },
    "language_info": {
      "name": "python"
    }
  },
  "cells": [
    {
      "cell_type": "markdown",
      "metadata": {
        "id": "view-in-github",
        "colab_type": "text"
      },
      "source": [
        "<a href=\"https://colab.research.google.com/github/shinjangwoon/jangwoonshin/blob/practice/Machine_Learning_%EC%97%B0%EC%8A%B5(iris_%ED%92%88%EC%A2%85_%EB%B6%84%EB%A5%98_%EB%AA%A8%EB%8D%B8)_.ipynb\" target=\"_parent\"><img src=\"https://colab.research.google.com/assets/colab-badge.svg\" alt=\"Open In Colab\"/></a>"
      ]
    },
    {
      "cell_type": "code",
      "metadata": {
        "id": "NB9s-HYrCJhy"
      },
      "source": [
        "'''\n",
        "-------- [최종 출력 결과] --------\n",
        "Prediction:\n",
        "Accuracy:\n",
        "----------------------------------\n",
        "'''\n",
        "# 필요한 라이브러리 로딩\n",
        "import sklearn\n",
        "#print(sklearn.__version__)\n",
        "# load_iris 를 import 시키기\n",
        "from  sklearn.datasets import load_iris\n",
        "# train_test_split 를 import 시키기\n",
        "from sklearn.model_selection import train_test_split\n",
        "# KNeighborsClassifier 를 import 시키기\n",
        "from sklearn.neighbors import KNeighborsClassifier\n",
        "\n",
        "# 데이터셋 로딩\n",
        "iris = load_iris()\n",
        "\n",
        "# 속성 이용하여 데이터셋의 전체적인 정보 확인\n",
        "#print(iris.DESCR)\n",
        "\n",
        "# 속성 이용하여 feature 확인\n",
        "#print('Iris data shape:', iris.data.shape)\n",
        "#print('Iris feature name\\n:', iris.feature_names)\n",
        "#print('Iris data\\n:', iris.data)\n",
        "#print('Iris data type\\n:', type(iris.data))\n",
        "\n",
        "# 속성 이용하여 class 확인\n",
        "#print('iris target name:\\n',iris.target_names)\n",
        "#print('iris target value:\\n',iris.target)\n",
        "\n",
        "# 데이터셋을 train, test 로 분할 \n",
        "x_train, x_test, y_train, y_test = train_test_split(iris.data, iris.target, test_size=0.3, random_state=11)\n",
        "\n",
        "# 분할된 데이터의 shape 확인 \n",
        "#print('x_train.shape = ',x_train.shape)\n",
        "#print('y_train.shape = ', y_train.shape)\n",
        "#print('x_test.shape = ', x_test.shape)\n",
        "#print('y_test.shape = ', y_test.shape)\n",
        "\n",
        "# KNeighborsClassifier 의 객체 생성\n",
        "knn = KNeighborsClassifier(n_neighbors=8)\n",
        "#print(type(knn))\n",
        "# 훈련 데이터를 이용하여 분류 모델 학습\n",
        "knn.fit(x_train, y_train)\n",
        "\n",
        "# 학습된 knn 모델 기반 예측\n",
        "y_pred = knn.predict(x_test) \n",
        "print('Prediction:\\n',y_pred)\n",
        "\n",
        "# 모델 평가 ( 1에 가까울수록 예측 정확도가 높음)\n",
        "score = knn.score(x_test, y_test)\n",
        "print('Accuracy : {0:.5f}'.format(score))"
      ],
      "execution_count": null,
      "outputs": []
    }
  ]
}