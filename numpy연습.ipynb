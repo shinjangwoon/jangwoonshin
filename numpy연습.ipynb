{
  "nbformat": 4,
  "nbformat_minor": 0,
  "metadata": {
    "colab": {
      "name": "numpy연습.ipynb",
      "provenance": [],
      "collapsed_sections": [],
      "authorship_tag": "ABX9TyNtPmN5kns3Lq82BXQdcOMt",
      "include_colab_link": true
    },
    "kernelspec": {
      "name": "python3",
      "display_name": "Python 3"
    },
    "language_info": {
      "name": "python"
    },
    "accelerator": "GPU"
  },
  "cells": [
    {
      "cell_type": "markdown",
      "metadata": {
        "id": "view-in-github",
        "colab_type": "text"
      },
      "source": [
        "<a href=\"https://colab.research.google.com/github/shinjangwoon/jangwoonshin/blob/practice/numpy%EC%97%B0%EC%8A%B5.ipynb\" target=\"_parent\"><img src=\"https://colab.research.google.com/assets/colab-badge.svg\" alt=\"Open In Colab\"/></a>"
      ]
    },
    {
      "cell_type": "markdown",
      "metadata": {
        "id": "eRPwG82cJYw_"
      },
      "source": [
        ""
      ]
    },
    {
      "cell_type": "code",
      "metadata": {
        "colab": {
          "base_uri": "https://localhost:8080/"
        },
        "id": "VS3TPhbvK_4M",
        "outputId": "12f2a98c-6ce9-4205-a2ec-07f826b953c0"
      },
      "source": [
        "\n",
        "import numpy as np\n",
        "print(np.__version__)\n",
        "# ndarray 생성\n",
        "data = [10, 20, 30]\n",
        "arr = np.array(data) # 입력된 데이터(object)를 인자로 받아 ndarray를 생성하는 함수\n",
        "print('\\nCreate 1D Array')\n",
        "print(arr)\n",
        "print('type = ', type(arr))\n",
        "print(\"shape: {}, size: {}, dtype: {}, dimension: {}\"\n",
        ".format(arr.shape, arr.size, arr.dtype, arr.ndim ))\n"
      ],
      "execution_count": null,
      "outputs": [
        {
          "output_type": "stream",
          "text": [
            "1.19.5\n",
            "\n",
            "Create 1D Array\n",
            "[10 20 30]\n",
            "type =  <class 'numpy.ndarray'>\n",
            "shape: (3,), size: 3, dtype: int64, dimension: 1\n"
          ],
          "name": "stdout"
        }
      ]
    },
    {
      "cell_type": "code",
      "metadata": {
        "colab": {
          "base_uri": "https://localhost:8080/"
        },
        "id": "pR4iWrfSPihe",
        "outputId": "defd7dbc-670c-41eb-b74c-507d0787940e"
      },
      "source": [
        "import numpy as np\n",
        "# 2차원 ndarray 생성\n",
        "data = [[1,2,3], [4,5,6]]\n",
        "arr = np.array(data, dtype=float) # float 타입 변경 \n",
        "print('\\nCreate 2D Array')\n",
        "print(arr)\n",
        "print('type = ', type(arr))\n",
        "print(\"shape: {}, size: {}, dtype: {}, dimension: {}\"\n",
        ".format(arr.shape, arr.size, arr.dtype, arr.ndim ))\n"
      ],
      "execution_count": null,
      "outputs": [
        {
          "output_type": "stream",
          "text": [
            "\n",
            "Create 2D Array\n",
            "[[1. 2. 3.]\n",
            " [4. 5. 6.]]\n",
            "type =  <class 'numpy.ndarray'>\n",
            "shape: (2, 3), size: 6, dtype: float64, dimension: 2\n"
          ],
          "name": "stdout"
        }
      ]
    },
    {
      "cell_type": "code",
      "metadata": {
        "colab": {
          "base_uri": "https://localhost:8080/"
        },
        "id": "NNi5yyRpQrFy",
        "outputId": "956bf285-a4b2-47f1-eed2-af4bdc59ac4a"
      },
      "source": [
        "# 3차원 ndarray 생성\n",
        "data = [[[1, 2, 3],\n",
        "         [4, 5, 6]],\n",
        "        [[3, 2, 1],\n",
        "         [4, 5, 6]]]\n",
        "arr = np.array(data, dtype=float)\n",
        "print('\\nCreate 3D Array')\n",
        "print(arr)\n",
        "print('type = ', type(arr))\n",
        "print(\"shape: {}, size: {}, dtype: {}, dimension: {}\"\n",
        ".format(arr.shape, arr.size, arr.dtype, arr.ndim))"
      ],
      "execution_count": null,
      "outputs": [
        {
          "output_type": "stream",
          "text": [
            "\n",
            "Create 3D Array\n",
            "[[[1 2 3]\n",
            "  [4 5 6]]\n",
            "\n",
            " [[3 2 1]\n",
            "  [4 5 6]]]\n",
            "type =  <class 'numpy.ndarray'>\n",
            "shape: (2, 2, 3), size: 12, dtype: int64, dimension: 3\n"
          ],
          "name": "stdout"
        }
      ]
    }
  ]
}