{
  "nbformat": 4,
  "nbformat_minor": 0,
  "metadata": {
    "colab": {
      "name": "Kaggle 연습.ipynb",
      "private_outputs": true,
      "provenance": [],
      "collapsed_sections": [],
      "authorship_tag": "ABX9TyPRlnOPbU8WnVKHLSZCPvJZ",
      "include_colab_link": true
    },
    "kernelspec": {
      "name": "python3",
      "display_name": "Python 3"
    },
    "language_info": {
      "name": "python"
    }
  },
  "cells": [
    {
      "cell_type": "markdown",
      "metadata": {
        "id": "view-in-github",
        "colab_type": "text"
      },
      "source": [
        "<a href=\"https://colab.research.google.com/github/shinjangwoon/jangwoonshin/blob/practice/Kaggle_%EC%97%B0%EC%8A%B5.ipynb\" target=\"_parent\"><img src=\"https://colab.research.google.com/assets/colab-badge.svg\" alt=\"Open In Colab\"/></a>"
      ]
    },
    {
      "cell_type": "markdown",
      "metadata": {
        "id": "l9VzBONb6qbs"
      },
      "source": [
        "#Titanic"
      ]
    },
    {
      "cell_type": "markdown",
      "metadata": {
        "id": "nN94CCZV1DfN"
      },
      "source": [
        "##Kaggle titanic data 불러오기"
      ]
    },
    {
      "cell_type": "code",
      "metadata": {
        "id": "Z7f65YCuwDut"
      },
      "source": [
        "!pip install kaggle\n",
        "from google.colab import files\n",
        "files.upload()"
      ],
      "execution_count": null,
      "outputs": []
    },
    {
      "cell_type": "code",
      "metadata": {
        "id": "MQ48WwLIwXwH"
      },
      "source": [
        "!ls -1ha kaggle.json"
      ],
      "execution_count": null,
      "outputs": []
    },
    {
      "cell_type": "code",
      "metadata": {
        "id": "xk3wt7Tmwnvv"
      },
      "source": [
        "!mkdir -p ~/.kaggle\n",
        "!cp kaggle.json ~/.kaggle/\n",
        "!chmod 600 ~/.kaggle/kaggle.json"
      ],
      "execution_count": null,
      "outputs": []
    },
    {
      "cell_type": "code",
      "metadata": {
        "id": "1Bm5lhlrwntp"
      },
      "source": [
        "!kaggle competitions download -c titanic"
      ],
      "execution_count": null,
      "outputs": []
    },
    {
      "cell_type": "markdown",
      "metadata": {
        "id": "Kil8sW0G1Hnm"
      },
      "source": [
        "##시작"
      ]
    },
    {
      "cell_type": "code",
      "metadata": {
        "id": "xGh4h3lO1Wz0"
      },
      "source": [
        "import pandas as pd\n",
        "import numpy as np\n",
        "from sklearn.feature_extraction import DictVectorizer\n",
        "import matplotlib.pyplot as plt\n",
        "from sklearn.tree import DecisionTreeClassifier\n",
        "from sklearn.model_selection import cross_val_score\n"
      ],
      "execution_count": null,
      "outputs": []
    },
    {
      "cell_type": "code",
      "metadata": {
        "id": "pMF3zY8S1XJ5"
      },
      "source": [
        "# Load data\n",
        "train_data = pd.read_csv('/content/train.csv')\n",
        "test_data = pd.read_csv('/content/test.csv')\n",
        "\n",
        "print(train_data.info())\n",
        "print(test_data.info())"
      ],
      "execution_count": null,
      "outputs": []
    },
    {
      "cell_type": "code",
      "metadata": {
        "id": "3b3VmK831XHy"
      },
      "source": [
        "train_data['Age'].fillna(train_data['Age'].mean(), inplace=True)\n",
        "test_data['Age'].fillna(test_data['Age'].mean(), inplace=True)\n",
        "\n",
        "train_data['Fare'].fillna(train_data['Fare'].mean(), inplace=True)\n",
        "test_data['Fare'].fillna(test_data['Fare'].mean(), inplace=True)\n",
        "\n",
        "print(train_data['Embarked'].value_counts())\n",
        "train_data['Embarked'].fillna('S', inplace = True)\n",
        "test_data['Embarked'].fillna('S', inplace = True)\n"
      ],
      "execution_count": null,
      "outputs": []
    },
    {
      "cell_type": "code",
      "metadata": {
        "id": "XCCKzpyS1XB0"
      },
      "source": [
        "def bar_chart(feature):\n",
        "    survived = train_data[train_data['Survived'] == 1][feature].value_counts()\n",
        "    dead = train_data[train_data['Survived'] == 0][feature].value_counts()\n",
        "    df = pd.DataFrame([survived, dead])\n",
        "    df.index = ['Survived', 'Dead']\n",
        "    df.plot(kind='bar', stacked=True, figsize=(10,5))"
      ],
      "execution_count": null,
      "outputs": []
    },
    {
      "cell_type": "code",
      "metadata": {
        "id": "2zw0SGcn6hTE"
      },
      "source": [
        "bar_chart('Pclass')"
      ],
      "execution_count": null,
      "outputs": []
    },
    {
      "cell_type": "code",
      "metadata": {
        "id": "cqQqoaTN1W_u"
      },
      "source": [
        "bar_chart('Sex')"
      ],
      "execution_count": null,
      "outputs": []
    },
    {
      "cell_type": "code",
      "metadata": {
        "id": "Z5_9X2cK1W4g"
      },
      "source": [
        "bar_chart('SibSp')"
      ],
      "execution_count": null,
      "outputs": []
    },
    {
      "cell_type": "code",
      "metadata": {
        "id": "46Rs0xOX1W2A"
      },
      "source": [
        "bar_chart('Parch')"
      ],
      "execution_count": null,
      "outputs": []
    },
    {
      "cell_type": "code",
      "metadata": {
        "id": "Wa00DYJB7K6F"
      },
      "source": [
        "bar_chart('Embarked')"
      ],
      "execution_count": null,
      "outputs": []
    },
    {
      "cell_type": "code",
      "metadata": {
        "id": "Y62aXxt17K3_"
      },
      "source": [
        "features = ['Pclass', 'Sex', 'Age', 'SibSp', 'Parch', 'Fare', 'Embarked']\n",
        "train_features = train_data[features]\n",
        "train_labels = train_data['Survived']\n",
        "test_features = test_data[features]"
      ],
      "execution_count": null,
      "outputs": []
    },
    {
      "cell_type": "code",
      "metadata": {
        "id": "vb5ogMzj7K1y"
      },
      "source": [
        "dvec = DictVectorizer(sparse=False)\n",
        "train_features = dvec.fit_transform(train_features.to_dict(orient='records'))\n",
        "print(dvec.feature_names_)"
      ],
      "execution_count": null,
      "outputs": []
    },
    {
      "cell_type": "code",
      "metadata": {
        "id": "36Gc24ZG7T9w"
      },
      "source": [
        "## Create Mode\n",
        "# DecisionTreeClassifier\n",
        "clf = DecisionTreeClassifier(criterion='entropy')\n",
        "# Training\n",
        "clf.fit(train_features, train_labels)\n",
        "# Prediction\n",
        "test_features = dvec.fit_transform(test_features.to_dict(orient='records'))\n",
        "prediction = clf.predict(test_features)\n",
        "# Calculation accuracy\n",
        "acc_decision_tree = round(clf.score(train_features, train_labels), 6)\n",
        "print(u'score is %.4lf' % acc_decision_tree)\n",
        "\n",
        "# Verification accuracy\n",
        "print(u'cross_val_score is %.4lf' % np.mean(cross_val_score(clf, train_features, train_labels, cv=10)))"
      ],
      "execution_count": null,
      "outputs": []
    },
    {
      "cell_type": "code",
      "metadata": {
        "id": "vnc5aGOW7T7R"
      },
      "source": [
        "submission = pd.DataFrame({\n",
        "    \"PassengerId\": test_data[\"PassengerId\"],\n",
        "    \"Survived\": prediction\n",
        "})\n",
        "\n",
        "submission.to_csv('submission.csv', index=False)\n",
        "submission = pd.read_csv('submission.csv')\n",
        "submission.head()"
      ],
      "execution_count": null,
      "outputs": []
    },
    {
      "cell_type": "code",
      "metadata": {
        "id": "XZZX9aW-7T1n"
      },
      "source": [
        ""
      ],
      "execution_count": null,
      "outputs": []
    },
    {
      "cell_type": "code",
      "metadata": {
        "id": "zXJiSsn27TzK"
      },
      "source": [
        ""
      ],
      "execution_count": null,
      "outputs": []
    }
  ]
}